{
 "cells": [
  {
   "cell_type": "markdown",
   "id": "d66badf2",
   "metadata": {},
   "source": [
    "- [Video Recording (2 minutes)](https://ub.hosted.panopto.com/Panopto/Pages/Viewer.aspx?id=698387e6-f38b-401c-b3fc-afa90059a21b)\n",
    "- [Jupyter Notebook](https://github.com/mkzia/eas503-book-notes/blob/main/05/lists.ipynb)\n",
    "\n",
    "\n",
    "\n",
    "# Tuples\n",
    "- Tuples just like lists except that they are immutable. Once you have created a tuple, you cannot modify it. \n",
    "- Why use them?\n",
    "  - Faster than lists\n",
    "  - Make code safer -- because you cannot change it\n",
    "  - Valid keys in a dictionary\n",
    "\n",
    "\n",
    "## Actually you can modify a tuple"
   ]
  },
  {
   "cell_type": "code",
   "execution_count": 1,
   "id": "6579b7bd",
   "metadata": {},
   "outputs": [
    {
     "name": "stdout",
     "output_type": "stream",
     "text": [
      "(1, 2, 3, [4, 5, 6, 7])\n"
     ]
    }
   ],
   "source": [
    "my_tuple = (1, 2, 3, [4, 5, 6])\n",
    "my_tuple[3].append(7)\n",
    "print(my_tuple)"
   ]
  }
 ],
 "metadata": {
  "jupytext": {
   "formats": "md:myst",
   "text_representation": {
    "extension": ".md",
    "format_name": "myst"
   }
  },
  "kernelspec": {
   "display_name": "Python 3",
   "language": "python",
   "name": "python3"
  },
  "language_info": {
   "codemirror_mode": {
    "name": "ipython",
    "version": 3
   },
   "file_extension": ".py",
   "mimetype": "text/x-python",
   "name": "python",
   "nbconvert_exporter": "python",
   "pygments_lexer": "ipython3",
   "version": "3.10.9"
  },
  "source_map": [
   11,
   28
  ]
 },
 "nbformat": 4,
 "nbformat_minor": 5
}