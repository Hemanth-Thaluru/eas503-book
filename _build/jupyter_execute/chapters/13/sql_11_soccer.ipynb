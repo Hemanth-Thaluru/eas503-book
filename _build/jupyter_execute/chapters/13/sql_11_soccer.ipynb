{
 "cells": [
  {
   "cell_type": "markdown",
   "id": "19a4929d",
   "metadata": {},
   "source": [
    "# Soccer Database"
   ]
  },
  {
   "cell_type": "code",
   "execution_count": 1,
   "id": "e7701241",
   "metadata": {},
   "outputs": [
    {
     "data": {
      "text/plain": [
       "5493"
      ]
     },
     "execution_count": 1,
     "metadata": {},
     "output_type": "execute_result"
    }
   ],
   "source": [
    "import pandas as pd\n",
    "import sqlite3\n",
    "\n",
    "\n",
    "df = pd.read_csv('all_players.csv')\n",
    "df['Club'].isna().sum()\n"
   ]
  },
  {
   "cell_type": "code",
   "execution_count": 2,
   "id": "9ee97163",
   "metadata": {},
   "outputs": [],
   "source": [
    "conn = sqlite3.connect('all_players.db')\n",
    "cur = conn.cursor()\n",
    "df.to_sql('players', conn, if_exists='replace', index=False) # - writes the all_players.df to SQLIte DB\n",
    "conn.commit()\n",
    "conn.close()"
   ]
  },
  {
   "cell_type": "code",
   "execution_count": 3,
   "id": "d779ebe2",
   "metadata": {},
   "outputs": [],
   "source": [
    "import pandas as pd\n",
    "import sqlite3\n",
    "from sqlite3 import Error\n",
    "\n",
    "\n",
    "def create_connection(db_file, delete_db=False):\n",
    "    import os\n",
    "    if delete_db and os.path.exists(db_file):\n",
    "        os.remove(db_file)\n",
    "\n",
    "    conn = None\n",
    "    try:\n",
    "        conn = sqlite3.connect(db_file)\n",
    "        conn.execute(\"PRAGMA foreign_keys = 1\")\n",
    "    except Error as e:\n",
    "        print(e)\n",
    "\n",
    "    return conn\n",
    "\n",
    "\n",
    "def create_table(conn, create_table_sql):\n",
    "    try:\n",
    "        c = conn.cursor()\n",
    "        c.execute(create_table_sql)\n",
    "    except Error as e:\n",
    "        print(e)\n",
    "        \n",
    "def execute_sql_statement(sql_statement, conn):\n",
    "    cur = conn.cursor()\n",
    "    cur.execute(sql_statement)\n",
    "    rows = cur.fetchall()\n",
    "\n",
    "    return rows\n"
   ]
  },
  {
   "cell_type": "code",
   "execution_count": 4,
   "id": "0fb4b5cb",
   "metadata": {},
   "outputs": [
    {
     "data": {
      "text/html": [
       "<div>\n",
       "<style scoped>\n",
       "    .dataframe tbody tr th:only-of-type {\n",
       "        vertical-align: middle;\n",
       "    }\n",
       "\n",
       "    .dataframe tbody tr th {\n",
       "        vertical-align: top;\n",
       "    }\n",
       "\n",
       "    .dataframe thead th {\n",
       "        text-align: right;\n",
       "    }\n",
       "</style>\n",
       "<table border=\"1\" class=\"dataframe\">\n",
       "  <thead>\n",
       "    <tr style=\"text-align: right;\">\n",
       "      <th></th>\n",
       "      <th>Player</th>\n",
       "      <th>Club</th>\n",
       "      <th>POS</th>\n",
       "      <th>GP</th>\n",
       "      <th>GS</th>\n",
       "      <th>MINS</th>\n",
       "      <th>Year</th>\n",
       "      <th>Season</th>\n",
       "    </tr>\n",
       "  </thead>\n",
       "  <tbody>\n",
       "    <tr>\n",
       "      <th>0</th>\n",
       "      <td>Roy Lassiter</td>\n",
       "      <td>TB</td>\n",
       "      <td>F</td>\n",
       "      <td>30</td>\n",
       "      <td>30</td>\n",
       "      <td>2580</td>\n",
       "      <td>1996</td>\n",
       "      <td>reg</td>\n",
       "    </tr>\n",
       "    <tr>\n",
       "      <th>1</th>\n",
       "      <td>Raul Diaz Arce</td>\n",
       "      <td>DC</td>\n",
       "      <td>F</td>\n",
       "      <td>28</td>\n",
       "      <td>28</td>\n",
       "      <td>2351</td>\n",
       "      <td>1996</td>\n",
       "      <td>reg</td>\n",
       "    </tr>\n",
       "    <tr>\n",
       "      <th>2</th>\n",
       "      <td>Eduardo Hurtado</td>\n",
       "      <td>LA</td>\n",
       "      <td>F</td>\n",
       "      <td>26</td>\n",
       "      <td>26</td>\n",
       "      <td>2323</td>\n",
       "      <td>1996</td>\n",
       "      <td>reg</td>\n",
       "    </tr>\n",
       "    <tr>\n",
       "      <th>3</th>\n",
       "      <td>Preki</td>\n",
       "      <td>KC</td>\n",
       "      <td>M</td>\n",
       "      <td>32</td>\n",
       "      <td>32</td>\n",
       "      <td>2880</td>\n",
       "      <td>1996</td>\n",
       "      <td>reg</td>\n",
       "    </tr>\n",
       "    <tr>\n",
       "      <th>4</th>\n",
       "      <td>Brian McBride</td>\n",
       "      <td>CLB</td>\n",
       "      <td>F</td>\n",
       "      <td>28</td>\n",
       "      <td>28</td>\n",
       "      <td>2307</td>\n",
       "      <td>1996</td>\n",
       "      <td>reg</td>\n",
       "    </tr>\n",
       "    <tr>\n",
       "      <th>...</th>\n",
       "      <td>...</td>\n",
       "      <td>...</td>\n",
       "      <td>...</td>\n",
       "      <td>...</td>\n",
       "      <td>...</td>\n",
       "      <td>...</td>\n",
       "      <td>...</td>\n",
       "      <td>...</td>\n",
       "    </tr>\n",
       "    <tr>\n",
       "      <th>15762</th>\n",
       "      <td>Alejandro Pozuelo</td>\n",
       "      <td>NaN</td>\n",
       "      <td>M</td>\n",
       "      <td>1</td>\n",
       "      <td>1</td>\n",
       "      <td>120</td>\n",
       "      <td>2020</td>\n",
       "      <td>post</td>\n",
       "    </tr>\n",
       "    <tr>\n",
       "      <th>15763</th>\n",
       "      <td>Franco Jara</td>\n",
       "      <td>NaN</td>\n",
       "      <td>F</td>\n",
       "      <td>2</td>\n",
       "      <td>2</td>\n",
       "      <td>210</td>\n",
       "      <td>2020</td>\n",
       "      <td>post</td>\n",
       "    </tr>\n",
       "    <tr>\n",
       "      <th>15764</th>\n",
       "      <td>Andy Polo</td>\n",
       "      <td>NaN</td>\n",
       "      <td>M</td>\n",
       "      <td>1</td>\n",
       "      <td>1</td>\n",
       "      <td>105</td>\n",
       "      <td>2020</td>\n",
       "      <td>post</td>\n",
       "    </tr>\n",
       "    <tr>\n",
       "      <th>15765</th>\n",
       "      <td>Cristian Roldan</td>\n",
       "      <td>NaN</td>\n",
       "      <td>M</td>\n",
       "      <td>4</td>\n",
       "      <td>4</td>\n",
       "      <td>360</td>\n",
       "      <td>2020</td>\n",
       "      <td>post</td>\n",
       "    </tr>\n",
       "    <tr>\n",
       "      <th>15766</th>\n",
       "      <td>Joevin Jones</td>\n",
       "      <td>NaN</td>\n",
       "      <td>D-M</td>\n",
       "      <td>4</td>\n",
       "      <td>4</td>\n",
       "      <td>260</td>\n",
       "      <td>2020</td>\n",
       "      <td>post</td>\n",
       "    </tr>\n",
       "  </tbody>\n",
       "</table>\n",
       "<p>15767 rows × 8 columns</p>\n",
       "</div>"
      ],
      "text/plain": [
       "                  Player Club  POS  GP  GS  MINS  Year Season\n",
       "0           Roy Lassiter  TB     F  30  30  2580  1996    reg\n",
       "1         Raul Diaz Arce  DC     F  28  28  2351  1996    reg\n",
       "2        Eduardo Hurtado  LA     F  26  26  2323  1996    reg\n",
       "3                  Preki  KC     M  32  32  2880  1996    reg\n",
       "4          Brian McBride  CLB    F  28  28  2307  1996    reg\n",
       "...                  ...  ...  ...  ..  ..   ...   ...    ...\n",
       "15762  Alejandro Pozuelo  NaN    M   1   1   120  2020   post\n",
       "15763        Franco Jara  NaN    F   2   2   210  2020   post\n",
       "15764          Andy Polo  NaN    M   1   1   105  2020   post\n",
       "15765    Cristian Roldan  NaN    M   4   4   360  2020   post\n",
       "15766       Joevin Jones  NaN  D-M   4   4   260  2020   post\n",
       "\n",
       "[15767 rows x 8 columns]"
      ]
     },
     "metadata": {},
     "output_type": "display_data"
    }
   ],
   "source": [
    "display(df)"
   ]
  },
  {
   "cell_type": "markdown",
   "id": "be2e16b5",
   "metadata": {},
   "source": [
    "# Tables\n",
    "\n",
    "- Club\n",
    "- Position\n",
    "- Year\n",
    "- Season\n",
    "- Player\n",
    "- PlayerStats\n"
   ]
  },
  {
   "cell_type": "code",
   "execution_count": 5,
   "id": "2bce0d0a",
   "metadata": {},
   "outputs": [],
   "source": [
    "conn = sqlite3.connect('all_players.db')"
   ]
  },
  {
   "cell_type": "code",
   "execution_count": 6,
   "id": "9d556f35",
   "metadata": {},
   "outputs": [],
   "source": [
    "sql_statement = \"SELECT DISTINCT CLUB FROM players\"\n",
    "rows = execute_sql_statement(sql_statement, conn)\n",
    "rows = filter(lambda row: row[0], rows)\n",
    "clubs = list(map(lambda row: row[0].strip(), rows))\n",
    "clubs = list(set(clubs))"
   ]
  },
  {
   "cell_type": "code",
   "execution_count": 7,
   "id": "9de8bffa",
   "metadata": {},
   "outputs": [
    {
     "name": "stdout",
     "output_type": "stream",
     "text": [
      "Counter({'KC': 1, 'CIV': 1, 'DC': 1, 'CHI': 1, 'TOR': 1, 'MTL': 1, 'CHV': 1, 'SLV': 1, 'MTQ': 1, 'ATL': 1, 'RBNY': 1, 'MIA': 1, 'RSL': 1, 'JAM': 1, 'SEA': 1, 'COL': 1, 'NYR': 1, 'HON': 1, 'NYC': 1, 'POR': 1, 'SKC': 1, 'USA': 1, 'LFC': 1, 'ROC': 1, 'GHA': 1, 'PAN': 1, 'CLB': 1, 'HOU': 1, 'LAFC': 1, 'HAI': 1, 'ECU': 1, 'TB': 1, 'MET': 1, 'PHI': 1, 'NSH': 1, 'LA': 1, 'NY': 1, 'MIN': 1, 'CIN': 1, 'MCF': 1, 'VAN': 1, 'DAL': 1, 'CAN': 1, 'ORL': 1, 'SJ': 1, 'NE': 1})\n"
     ]
    }
   ],
   "source": [
    "from collections import Counter\n",
    "\n",
    "counter = Counter(clubs)\n",
    "print(counter)"
   ]
  },
  {
   "cell_type": "code",
   "execution_count": 8,
   "id": "d7c9d9bc",
   "metadata": {},
   "outputs": [],
   "source": [
    "# write create statement\n",
    "# execute create statement\n",
    "# fetch unique values\n",
    "# write insert function\n",
    "# feed unique values into insert function\n"
   ]
  },
  {
   "cell_type": "code",
   "execution_count": 9,
   "id": "e15f2e4f",
   "metadata": {},
   "outputs": [
    {
     "ename": "NameError",
     "evalue": "name 'conn_norm' is not defined",
     "output_type": "error",
     "traceback": [
      "\u001b[0;31m---------------------------------------------------------------------------\u001b[0m",
      "\u001b[0;31mNameError\u001b[0m                                 Traceback (most recent call last)",
      "Cell \u001b[0;32mIn[9], line 1\u001b[0m\n\u001b[0;32m----> 1\u001b[0m \u001b[43mconn_norm\u001b[49m\u001b[38;5;241m.\u001b[39mclose()\n",
      "\u001b[0;31mNameError\u001b[0m: name 'conn_norm' is not defined"
     ]
    }
   ],
   "source": [
    "conn_norm.close()"
   ]
  },
  {
   "cell_type": "code",
   "execution_count": 10,
   "id": "12de3e20",
   "metadata": {},
   "outputs": [],
   "source": [
    "conn_norm = create_connection('players_norm.db', True)"
   ]
  },
  {
   "cell_type": "code",
   "execution_count": 11,
   "id": "4cfb14a8",
   "metadata": {},
   "outputs": [],
   "source": [
    "create_table_sql = \"\"\"CREATE TABLE IF NOT EXISTS[Clubs] (\n",
    "    [Club] TEXT NOT NULL PRIMARY KEY\n",
    ");\n",
    "\"\"\"\n",
    "\n",
    "create_table(conn_norm, create_table_sql) # doesn't require commit\n"
   ]
  },
  {
   "cell_type": "code",
   "execution_count": 12,
   "id": "f1302d0b",
   "metadata": {},
   "outputs": [],
   "source": [
    "def insert_club(conn, values):\n",
    "    sql = \"\"\"INSERT INTO Clubs(Club)\n",
    "                VALUES(?)\"\"\"\n",
    "    cur = conn.cursor()\n",
    "    cur.execute(sql, values)\n",
    "    return cur.lastrowid\n",
    "\n",
    "\n",
    "with conn_norm:\n",
    "    for club in clubs:\n",
    "        insert_club(conn_norm, (club,))\n",
    "\n"
   ]
  },
  {
   "cell_type": "code",
   "execution_count": 13,
   "id": "979fdfb8",
   "metadata": {},
   "outputs": [
    {
     "name": "stdout",
     "output_type": "stream",
     "text": [
      "[('KC',), ('CIV',), ('DC',), ('CHI',), ('TOR',), ('MTL',), ('CHV',), ('SLV',), ('MTQ',), ('ATL',), ('RBNY',), ('MIA',), ('RSL',), ('JAM',), ('SEA',), ('COL',), ('NYR',), ('HON',), ('NYC',), ('POR',), ('SKC',), ('USA',), ('LFC',), ('ROC',), ('GHA',), ('PAN',), ('CLB',), ('HOU',), ('LAFC',), ('HAI',), ('ECU',), ('TB',), ('MET',), ('PHI',), ('NSH',), ('LA',), ('NY',), ('MIN',), ('CIN',), ('MCF',), ('VAN',), ('DAL',), ('CAN',), ('ORL',), ('SJ',), ('NE',)]\n"
     ]
    }
   ],
   "source": [
    "sql_statement = \"SELECT DISTINCT CLUB FROM Clubs\"\n",
    "rows = execute_sql_statement(sql_statement, conn_norm)\n",
    "print(rows)"
   ]
  },
  {
   "cell_type": "code",
   "execution_count": 14,
   "id": "1568c02a",
   "metadata": {},
   "outputs": [],
   "source": [
    "sql_statement = \"SELECT DISTINCT POS FROM players\"\n",
    "rows = execute_sql_statement(sql_statement, conn)\n",
    "rows = filter(lambda row: row[0], rows)\n",
    "positions = list(map(lambda row: row[0].strip(), rows))\n",
    "positions = list(set(positions))"
   ]
  },
  {
   "cell_type": "code",
   "execution_count": 15,
   "id": "0046380c",
   "metadata": {},
   "outputs": [],
   "source": [
    "create_table_sql = \"\"\"CREATE TABLE IF NOT EXISTS[Positions] (\n",
    "    [Position] TEXT NOT NULL PRIMARY KEY\n",
    ");\n",
    "\"\"\"\n",
    "\n",
    "create_table(conn_norm, create_table_sql) # doesn't require commit\n"
   ]
  },
  {
   "cell_type": "code",
   "execution_count": 16,
   "id": "5f39e5ae",
   "metadata": {},
   "outputs": [],
   "source": [
    "def insert_position(conn, values):\n",
    "    sql = \"\"\"INSERT INTO Positions(Position)\n",
    "                VALUES(?)\"\"\"\n",
    "    cur = conn.cursor()\n",
    "    cur.execute(sql, values)\n",
    "    return cur.lastrowid\n",
    "\n",
    "\n",
    "with conn_norm:\n",
    "    for position in positions:\n",
    "        insert_position(conn_norm, (position,))\n",
    "\n"
   ]
  },
  {
   "cell_type": "code",
   "execution_count": 17,
   "id": "a596c42b",
   "metadata": {},
   "outputs": [],
   "source": [
    "sql_statement = \"SELECT DISTINCT Year FROM players\"\n",
    "rows = execute_sql_statement(sql_statement, conn)\n",
    "rows = filter(lambda row: row[0], rows)\n",
    "years = list(map(lambda row: int(row[0]), rows))\n",
    "years = list(set(years))"
   ]
  },
  {
   "cell_type": "code",
   "execution_count": 18,
   "id": "6f63a750",
   "metadata": {},
   "outputs": [],
   "source": [
    "create_table_sql = \"\"\"CREATE TABLE IF NOT EXISTS[Years] (\n",
    "    [Year] INTEGER NOT NULL PRIMARY KEY\n",
    ");\n",
    "\"\"\"\n",
    "\n",
    "create_table(conn_norm, create_table_sql) # doesn't require commit\n"
   ]
  },
  {
   "cell_type": "code",
   "execution_count": 19,
   "id": "4c97febd",
   "metadata": {},
   "outputs": [],
   "source": [
    "def insert_year(conn, values):\n",
    "    sql = \"\"\"INSERT INTO Years(Year)\n",
    "                VALUES(?)\"\"\"\n",
    "    cur = conn.cursor()\n",
    "    cur.execute(sql, values)\n",
    "    return cur.lastrowid\n",
    "\n",
    "\n",
    "with conn_norm:\n",
    "    for year in years:\n",
    "        insert_year(conn_norm, (year,))\n",
    "\n"
   ]
  },
  {
   "cell_type": "code",
   "execution_count": 20,
   "id": "5e079cef",
   "metadata": {},
   "outputs": [],
   "source": [
    "sql_statement = \"SELECT DISTINCT season FROM players\"\n",
    "rows = execute_sql_statement(sql_statement, conn)\n",
    "rows = filter(lambda row: row[0], rows)\n",
    "seasons = list(map(lambda row: row[0].strip(), rows))\n",
    "seasons = list(set(seasons))"
   ]
  },
  {
   "cell_type": "code",
   "execution_count": 21,
   "id": "214d46ab",
   "metadata": {},
   "outputs": [],
   "source": [
    "create_table_sql = \"\"\"CREATE TABLE IF NOT EXISTS[Seasons] (\n",
    "    [Season] TEXT NOT NULL PRIMARY KEY\n",
    ");\n",
    "\"\"\"\n",
    "\n",
    "create_table(conn_norm, create_table_sql) # doesn't require commit\n"
   ]
  },
  {
   "cell_type": "code",
   "execution_count": 22,
   "id": "7607867d",
   "metadata": {},
   "outputs": [],
   "source": [
    "def insert_season(conn, values):\n",
    "    sql = \"\"\"INSERT INTO Seasons(season)\n",
    "                VALUES(?)\"\"\"\n",
    "    cur = conn.cursor()\n",
    "    cur.execute(sql, values)\n",
    "    return cur.lastrowid\n",
    "\n",
    "\n",
    "with conn_norm:\n",
    "    for season in seasons:\n",
    "        insert_season(conn_norm, (season,))\n",
    "\n"
   ]
  },
  {
   "cell_type": "code",
   "execution_count": 23,
   "id": "13684d39",
   "metadata": {},
   "outputs": [],
   "source": [
    "sql_statement = \"SELECT DISTINCT player FROM players\"\n",
    "rows = execute_sql_statement(sql_statement, conn)\n",
    "players = []\n",
    "for row in rows:\n",
    "    row = row[0].strip()\n",
    "    name = row.split(' ', 1)\n",
    "    if len(name) == 2:\n",
    "        first, last = name\n",
    "        first = first.strip()\n",
    "        last = last.strip()\n",
    "        players.append((first, last))\n",
    "    elif len(name) == 1:\n",
    "        first = name[0]\n",
    "        players.append((first, None))\n"
   ]
  },
  {
   "cell_type": "code",
   "execution_count": 24,
   "id": "351e42d1",
   "metadata": {},
   "outputs": [],
   "source": [
    "create_table_sql = \"\"\"CREATE TABLE IF NOT EXISTS[Players] (\n",
    "    [PlayerID] INTEGER NOT NULL PRIMARY KEY,\n",
    "    [FirstName] TEXT NOT NULL,\n",
    "    [LastName] TEXT\n",
    ");\n",
    "\"\"\"\n",
    "\n",
    "create_table(conn_norm, create_table_sql) # doesn't require commit\n"
   ]
  },
  {
   "cell_type": "code",
   "execution_count": 25,
   "id": "619730b0",
   "metadata": {},
   "outputs": [],
   "source": [
    "def insert_player(conn, values):\n",
    "    sql = \"\"\"INSERT INTO Players(FirstName, LastName)\n",
    "                VALUES(?, ?)\"\"\"\n",
    "    cur = conn.cursor()\n",
    "    cur.execute(sql, values)\n",
    "    return cur.lastrowid\n",
    "\n",
    "\n",
    "with conn_norm:\n",
    "    for player in players:\n",
    "        insert_player(conn_norm, player)"
   ]
  },
  {
   "cell_type": "code",
   "execution_count": 26,
   "id": "abe6c4f6",
   "metadata": {},
   "outputs": [
    {
     "ename": "OperationalError",
     "evalue": "no such table: PlayerStats",
     "output_type": "error",
     "traceback": [
      "\u001b[0;31m---------------------------------------------------------------------------\u001b[0m",
      "\u001b[0;31mOperationalError\u001b[0m                          Traceback (most recent call last)",
      "Cell \u001b[0;32mIn[26], line 2\u001b[0m\n\u001b[1;32m      1\u001b[0m cur \u001b[38;5;241m=\u001b[39m conn_norm\u001b[38;5;241m.\u001b[39mcursor()\n\u001b[0;32m----> 2\u001b[0m \u001b[43mcur\u001b[49m\u001b[38;5;241;43m.\u001b[39;49m\u001b[43mexecute\u001b[49m\u001b[43m(\u001b[49m\u001b[38;5;124;43m'\u001b[39;49m\u001b[38;5;124;43mDROP TABLE PlayerStats\u001b[39;49m\u001b[38;5;124;43m'\u001b[39;49m\u001b[43m)\u001b[49m\n",
      "\u001b[0;31mOperationalError\u001b[0m: no such table: PlayerStats"
     ]
    }
   ],
   "source": [
    "cur = conn_norm.cursor()\n",
    "cur.execute('DROP TABLE PlayerStats')"
   ]
  },
  {
   "cell_type": "code",
   "execution_count": 27,
   "id": "3717b553",
   "metadata": {},
   "outputs": [],
   "source": [
    "create_table_sql = \"\"\"CREATE TABLE IF NOT EXISTS[PlayerStats] (\n",
    "    [StatID] INTEGER NOT NULL PRIMARY KEY,\n",
    "    [PlayerID] INTEGER NOT NULL,\n",
    "    [Club] TEXT,\n",
    "    [Position] TEXT NOT NULL,\n",
    "    [GP] INTEGER NOT NULL,\n",
    "    [GS] INTEGER NOT NULL,\n",
    "    [MIN] INTEGER NOT NULL,\n",
    "    [Year] INTEGER NOT NULL,\n",
    "    [Season] TEXT NOT NULL,\n",
    "    FOREIGN KEY(PlayerID) REFERENCES Players(PlayerID),\n",
    "    FOREIGN KEY(Club) REFERENCES Clubs(Club),\n",
    "    FOREIGN KEY(Year) REFERENCES Years(Year),\n",
    "    FOREIGN KEY(Season) REFERENCES Seasons(Season)     \n",
    ");\n",
    "\"\"\"\n",
    "\n",
    "create_table(conn_norm, create_table_sql) # doesn't require commit\n"
   ]
  },
  {
   "cell_type": "code",
   "execution_count": 28,
   "id": "6dcd00a7",
   "metadata": {},
   "outputs": [
    {
     "data": {
      "text/plain": [
       "[('Roy Lassiter', 'TB ', 'F', 30, 30, 2580, 1996, 'reg'),\n",
       " ('Raul Diaz Arce', 'DC ', 'F', 28, 28, 2351, 1996, 'reg'),\n",
       " ('Eduardo Hurtado', 'LA ', 'F', 26, 26, 2323, 1996, 'reg'),\n",
       " ('Preki', 'KC ', 'M', 32, 32, 2880, 1996, 'reg'),\n",
       " ('Brian McBride', 'CLB', 'F', 28, 28, 2307, 1996, 'reg'),\n",
       " ('Steve Rammel', 'DC ', 'F', 26, 20, 1649, 1996, 'reg'),\n",
       " ('Vitalis Takawira', 'KC ', 'F', 28, 25, 2233, 1996, 'reg'),\n",
       " ('Paul Bravo', 'SJ ', 'M', 31, 31, 2654, 1996, 'reg'),\n",
       " ('Jason Kreis', 'DAL', 'M', 31, 29, 2564, 1996, 'reg'),\n",
       " ('Giovanni Savarese', 'MET', 'F', 26, 15, 1576, 1996, 'reg')]"
      ]
     },
     "execution_count": 28,
     "metadata": {},
     "output_type": "execute_result"
    }
   ],
   "source": [
    "sql_statement = \"SELECT DISTINCT * FROM players\"\n",
    "rows = execute_sql_statement(sql_statement, conn)\n",
    "rows[:10]\n"
   ]
  },
  {
   "cell_type": "code",
   "execution_count": 29,
   "id": "22f22d29",
   "metadata": {},
   "outputs": [],
   "source": [
    "sql_statement = \"SELECT * FROM players\"\n",
    "rows = execute_sql_statement(sql_statement, conn_norm)\n",
    "player_lookup_dict = {}\n",
    "for row in rows:\n",
    "    pid, first, last = row\n",
    "    if last:\n",
    "        name = f'{first} {last}'\n",
    "        player_lookup_dict[name] = pid\n",
    "    else:\n",
    "        player_lookup_dict[first] = pid\n",
    "        \n"
   ]
  },
  {
   "cell_type": "code",
   "execution_count": 30,
   "id": "4e863da1",
   "metadata": {},
   "outputs": [],
   "source": [
    "sql_statement = \"SELECT DISTINCT * FROM players\"\n",
    "rows = execute_sql_statement(sql_statement, conn)\n",
    "\n",
    "\n",
    "def insert_playerstats(conn, values):\n",
    "    sql = \"\"\"INSERT INTO PlayerStats(PlayerID, Club, position, gp, gs, min, year, season)\n",
    "                VALUES(?, ?, ?, ?, ?, ?, ?,?)\"\"\"\n",
    "    cur = conn.cursor()\n",
    "    cur.execute(sql, values)\n",
    "    return cur.lastrowid\n",
    "\n",
    "with conn_norm:\n",
    "    for row in rows:\n",
    "        row = list(row)\n",
    "        pid = player_lookup_dict[row[0].strip()]            \n",
    "        row[0] = pid\n",
    "        if not row[1]:\n",
    "            continue\n",
    "        row[1] = row[1].strip()\n",
    "        insert_playerstats(conn_norm, row)\n"
   ]
  },
  {
   "cell_type": "code",
   "execution_count": null,
   "id": "7fc520ff",
   "metadata": {},
   "outputs": [],
   "source": []
  }
 ],
 "metadata": {
  "kernelspec": {
   "display_name": "Python 3.9.13 64-bit (microsoft store)",
   "language": "python",
   "name": "python3"
  },
  "language_info": {
   "codemirror_mode": {
    "name": "ipython",
    "version": 3
   },
   "file_extension": ".py",
   "mimetype": "text/x-python",
   "name": "python",
   "nbconvert_exporter": "python",
   "pygments_lexer": "ipython3",
   "version": "3.10.9"
  },
  "vscode": {
   "interpreter": {
    "hash": "839d5e7a3d08487204770b09e6dcdebb4dd3a26e1f5e5e896f994175d3aeecee"
   }
  }
 },
 "nbformat": 4,
 "nbformat_minor": 5
}