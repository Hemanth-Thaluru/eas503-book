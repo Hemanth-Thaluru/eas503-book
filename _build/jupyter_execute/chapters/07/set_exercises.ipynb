{
 "cells": [
  {
   "cell_type": "markdown",
   "id": "0f63b72f",
   "metadata": {},
   "source": [
    "# Set Exercises\n",
    " \n",
    "## Exercise 1\n",
    "Write a function that takes name of two gene files, \n",
    "reads them, and returns which genes are:\n",
    "1. In first file but not in second file\n",
    "2. In second file but not in first file"
   ]
  },
  {
   "cell_type": "code",
   "execution_count": 1,
   "id": "6a016513",
   "metadata": {
    "tags": [
     "hide-input",
     "output_scroll"
    ]
   },
   "outputs": [
    {
     "name": "stdout",
     "output_type": "stream",
     "text": [
      "(['AARSD1', 'ABCD4', 'ABCB6', 'ACSL6', 'ACY3', 'AAMDC', 'ACE', 'ACSM2B', 'ABHD10', 'AADACL4', 'ACOT4', 'ABCA12', 'ABCB10', 'AARD', 'AAK1', 'ACTBL2', 'ACOT2', 'ACTA1', 'ACTRT1', 'ABCB11', 'ACVR2A', 'ABCC6', 'ABCF1', 'ACOT9', 'ABCC2', 'ACOD1', 'ACP2', 'ACYP1', 'ACSBG2', 'ACER2', 'ACVR1', 'ABCA10', 'ABHD2', 'ABHD8', 'ACTR2', 'ACVR1B', 'ABCG4', 'ABCD1', 'ABCC5', 'ACTL9', 'ACTA2', 'ABCD3', 'ABCG2', 'ACSF3', 'ABCB9', 'ACYP2', 'ABHD3', 'ACSS2', 'ABCA2', 'ACTRT2', 'ABCB5', 'ACOT7', 'ACOT13', 'ACOT8', 'ACOT11', 'ACSM3', 'ACTL6B', 'ABCC9', 'ACO1', 'ABCA4', 'A1CF', 'ACKR1', 'ACTR5', 'ABHD4', 'ACSM6', 'ACTR8', 'ACOT12', 'ACTRT3', 'A1BG', 'ACP7', 'ACTR3B', 'AADAT', 'ABCB8', 'ACTR10', 'ACSL5', 'AASS', 'ABHD1', 'A4GALT', 'ACOX1', 'AARS1', 'ACO2', 'ABCC11', 'ACOT1', 'ACSM2A', 'ACY1', 'ACTN3', 'ACKR4', 'ACIN1', 'ACMSD', 'ABCC10', 'AARS2', 'ACTR3C', 'ACRBP', 'ACKR3', 'ABCF2', 'ACP3', 'ACER1', 'ACTG2', 'ABCC1', 'ACSM1', 'ACTL6A', 'ACLY', 'ABCD2', 'ACSBG1', 'ACOXL', 'ABCC12', 'AADACL3', 'AASDH', 'ABCA7', 'ACTC1', 'ACP5', 'ACTG1', 'ACOX3', 'ABCA3', 'A2M', 'ABCC8', 'ABHD5', 'ACOT6', 'AATK', 'ACSS1', 'ABCC3', 'ACSL4', 'ACER3', 'ACSM4', 'ADA', 'ACTL10', 'ACKR2', 'AACS', 'AADAC', 'ACOX2', 'ACP4', 'ACTR6', 'ABCG5', 'ACP6', 'ABCG8', 'ACVR1C', 'ACE2', 'ACTR1A', 'ABCA1', 'ABHD6', 'ABCA5', 'ACSM5', 'ACTL8', 'ABCB1', 'AAMP', 'ACTL7A', 'ACTL7B', 'ACP1', 'ACTR1B', 'AADACL2', 'ABCB4', 'ABCE1', 'ABCB7', 'A4GNT', 'ABCA8', 'ACSL3', 'AANAT', 'ABCC4', 'AAGAB', 'ACRV1', 'AAAS', 'ACVRL1', 'ACTN2', 'ABAT', 'ACTN1', 'ABCG1', 'ACD', 'AATF', 'A2ML1', 'A3GALT2', 'ACHE', 'ABCF3', 'AASDHPPT', 'ABCA9', 'ACTR3', 'ACTN4', 'ACVR2B', 'ACSF2', 'ACSL1', 'ACR', 'AAR2', 'ABCA6', 'ABCA13', 'ACTB', 'ACSS3'], ['ZNF764', 'ZNF784', 'ZNF879', 'ZNF852', 'ZNF740', 'ZNF808', 'ZNF761', 'ZSWIM1', 'ZNF771', 'ZNF770', 'ZP3', 'ZNF804B', 'ZNF726', 'ZNRD1', 'ZRSR2', 'ZNF730', 'ZNRF2', 'ZNFX1', 'ZUP1', 'ZNF799', 'ZNF800', 'ZSCAN10', 'ZNF777', 'ZNRF4', 'ZNF827', 'ZSCAN2', 'ZNF841', 'ZNF772', 'ZRANB1', 'ZSCAN5B', 'ZNF845', 'ZSCAN18', 'ZSCAN31', 'ZSCAN25', 'ZSWIM4', 'ZSWIM9', 'ZNF765', 'ZNF813', 'ZNF721', 'ZNF717', 'ZNF732', 'ZNF792', 'ZSCAN5C', 'ZNF774', 'ZNF727', 'ZRANB2', 'ZNHIT3', 'ZNF853', 'ZPLD1', 'ZNHIT6', 'ZNF821', 'ZNF837', 'ZNF768', 'ZSCAN22', 'ZNF839', 'ZNF875', 'ZNF766', 'ZPBP', 'ZNF729', 'ZNF728', 'ZNF750', 'ZNF736', 'ZPBP2', 'ZSCAN32', 'ZNF780A', 'ZNF780B', 'ZPR1', 'ZNF860', 'ZNRF1', 'ZNF778', 'ZNF789', 'ZNF829', 'ZNF737', 'ZNF804A', 'ZSCAN21', 'ZNF843', 'ZSCAN20', 'ZNF783', 'ZNF714', 'ZNF831', 'ZNF836', 'ZSWIM6', 'ZSCAN4', 'ZNF865', 'ZSCAN23', 'ZP2', 'ZNF720', 'ZNF844', 'ZNHIT2', 'ZNF781', 'ZSCAN29', 'ZNF785', 'ZNF787', 'ZNF880', 'ZSCAN26', 'ZNF878', 'ZSCAN30', 'ZNF862', 'ZNF786', 'ZNRF3', 'ZSWIM5', 'ZSWIM7', 'ZNF747', 'ZNF791', 'ZNF830', 'ZNF738', 'ZNF724', 'ZNF850', 'ZNF888', 'ZNF793', 'ZSCAN5A', 'ZSCAN16', 'ZNF835', 'ZNF814', 'ZP4', 'ZNF773', 'ZNF763', 'ZSWIM3', 'ZNHIT1', 'ZNF718', 'ZNF723', 'ZNF775', 'ZNF790', 'ZP1', 'ZNF846', 'ZNF716', 'ZRANB3', 'ZNF782', 'ZNF823', 'ZSCAN12', 'ZNF776', 'ZNF746', 'ZNF749', 'ZNRD2', 'ZSCAN1', 'ZSWIM2', 'ZNF883', 'ZNF805', 'ZNF816', 'ZNF735', 'ZNF891', 'ZSWIM8', 'ZSCAN9'])\n"
     ]
    }
   ],
   "source": [
    "def get_list_from_file(filename):\n",
    "    lst = []\n",
    "    with open(filename) as file:\n",
    "        for line in file:\n",
    "            if not line.strip():\n",
    "                continue\n",
    "\n",
    "            lst.append(line.strip())\n",
    "\n",
    "    return lst\n",
    "\n",
    "\n",
    "def compare_two_lists(filename1, filename2):\n",
    "\n",
    "    list1 = get_list_from_file(filename1)\n",
    "    list2 = get_list_from_file(filename2)\n",
    "\n",
    "    return (list(set(list1)-set(list2)), list(set(list2)-set(list1)))\n",
    "\n",
    "\n",
    "print(compare_two_lists('gene_list1.txt', 'gene_list2.txt'))"
   ]
  }
 ],
 "metadata": {
  "jupytext": {
   "formats": "md:myst",
   "text_representation": {
    "extension": ".md",
    "format_name": "myst"
   }
  },
  "kernelspec": {
   "display_name": "Python 3",
   "language": "python",
   "name": "python3"
  },
  "language_info": {
   "codemirror_mode": {
    "name": "ipython",
    "version": 3
   },
   "file_extension": ".py",
   "mimetype": "text/x-python",
   "name": "python",
   "nbconvert_exporter": "python",
   "pygments_lexer": "ipython3",
   "version": "3.10.9"
  },
  "source_map": [
   11,
   22
  ]
 },
 "nbformat": 4,
 "nbformat_minor": 5
}