{
 "cells": [
  {
   "cell_type": "markdown",
   "id": "9660a644",
   "metadata": {},
   "source": [
    "# Set Exercises\n",
    " \n",
    "## Exercise 1\n",
    "Write a function that takes name of two gene files, \n",
    "reads them, and returns which genes are:\n",
    "1. In first file but not in second file\n",
    "2. In second file but not in first file"
   ]
  },
  {
   "cell_type": "code",
   "execution_count": 1,
   "id": "ec690ca5",
   "metadata": {
    "tags": [
     "hide-input",
     "output_scroll"
    ]
   },
   "outputs": [
    {
     "name": "stdout",
     "output_type": "stream",
     "text": [
      "(['ACYP2', 'ABCB10', 'ACMSD', 'ACTRT3', 'ACOX1', 'ACSS2', 'ACTL6B', 'A1CF', 'ABCA3', 'AAAS', 'ABCB7', 'ABCB4', 'AACS', 'ABCF3', 'ACOT1', 'ACOD1', 'ABCD4', 'ABCA5', 'ABCA2', 'ACY3', 'ACIN1', 'AAMDC', 'ABCB9', 'ACRV1', 'ACTL7A', 'ACTR1A', 'ABAT', 'ACTR1B', 'ACTRT1', 'ACOT6', 'ACSM4', 'ABHD5', 'ABHD6', 'ABHD2', 'ACSBG2', 'ACSL3', 'ACOT11', 'ACY1', 'A4GNT', 'A4GALT', 'ABCA10', 'ACVR1C', 'ACSM6', 'AARS2', 'ACE', 'AADAC', 'ABCD3', 'ACLY', 'ABHD10', 'ACHE', 'ACP2', 'ACVR2A', 'ACTA1', 'ABCA6', 'ABHD1', 'ACP7', 'ACTBL2', 'ACTL7B', 'ABCC1', 'AASDHPPT', 'ACTL10', 'AATK', 'AANAT', 'AADACL4', 'AADACL2', 'ACTR6', 'ACOT13', 'ABCC10', 'ACO2', 'ACSL4', 'ACE2', 'ACKR1', 'ABCB1', 'ACTB', 'ABCD1', 'ABCC9', 'AARSD1', 'ACSBG1', 'ABCG4', 'AARD', 'ACP1', 'ABCG1', 'ABCC4', 'ABCG5', 'ACP5', 'ACOT4', 'ACSL6', 'ABCG2', 'ACTC1', 'ACVRL1', 'ACOT8', 'ABCB11', 'ABCA9', 'AAR2', 'ABCC12', 'ACTR5', 'ABCC6', 'A2M', 'ABCA7', 'ACER2', 'ABCA1', 'ACTR8', 'ACOT7', 'ACSM2A', 'AARS1', 'ACSM3', 'ABCC5', 'ABCC2', 'A1BG', 'ABCF2', 'ACTR2', 'ABHD3', 'AASS', 'ACOT9', 'ACTN4', 'AAK1', 'ACVR1', 'ACP3', 'ACTN2', 'ACTR3', 'ACSF2', 'ABCB5', 'AADAT', 'ABCF1', 'ABCA4', 'ACKR4', 'ACTRT2', 'ABCA8', 'ABHD8', 'ACTL8', 'ACTR10', 'ACTL9', 'ADA', 'ABCA12', 'ACP6', 'A3GALT2', 'ACD', 'ACKR2', 'ACO1', 'ACVR2B', 'A2ML1', 'ABHD4', 'ACER3', 'ACTR3C', 'ABCA13', 'ACKR3', 'AATF', 'ABCC8', 'ACOXL', 'ACP4', 'ABCE1', 'ACR', 'ACTG2', 'ABCC11', 'ABCD2', 'ABCG8', 'ACSF3', 'ACSM5', 'ACOX3', 'ACSL5', 'ACOT2', 'ACVR1B', 'ACTN3', 'AAMP', 'ACSM2B', 'ABCB6', 'ACSM1', 'ACTG1', 'AAGAB', 'ACER1', 'ABCC3', 'ACRBP', 'ACTN1', 'ACSS3', 'ACSL1', 'ACSS1', 'ACTL6A', 'ACOX2', 'ABCB8', 'ACOT12', 'ACYP1', 'ACTR3B', 'AASDH', 'AADACL3', 'ACTA2'], ['ZSCAN9', 'ZNF776', 'ZSCAN29', 'ZNF837', 'ZNRD1', 'ZNF891', 'ZRANB2', 'ZNF783', 'ZNF865', 'ZNF747', 'ZSCAN5A', 'ZNF790', 'ZNF827', 'ZNF850', 'ZNF805', 'ZNF804B', 'ZSCAN23', 'ZSCAN31', 'ZNF875', 'ZNF816', 'ZNF763', 'ZNF726', 'ZNF777', 'ZPBP2', 'ZSCAN26', 'ZNF782', 'ZSCAN5B', 'ZNF730', 'ZNF789', 'ZNF727', 'ZNF729', 'ZP2', 'ZNF844', 'ZNRF3', 'ZNF735', 'ZSCAN4', 'ZNF781', 'ZSWIM9', 'ZSCAN16', 'ZSWIM3', 'ZNF804A', 'ZNF785', 'ZNF773', 'ZNHIT1', 'ZNF768', 'ZPR1', 'ZNF793', 'ZNF879', 'ZNF883', 'ZRANB3', 'ZNF720', 'ZNF813', 'ZNRF2', 'ZNF784', 'ZNF775', 'ZNF888', 'ZSWIM2', 'ZNF724', 'ZNF787', 'ZNRF4', 'ZSCAN18', 'ZNF792', 'ZNHIT3', 'ZSCAN30', 'ZNF749', 'ZNF830', 'ZNF738', 'ZSWIM8', 'ZSCAN25', 'ZNF766', 'ZNF799', 'ZNF732', 'ZNF721', 'ZSCAN10', 'ZNF770', 'ZNF728', 'ZSCAN21', 'ZNF717', 'ZNF740', 'ZNF746', 'ZNF778', 'ZNF831', 'ZSCAN32', 'ZP3', 'ZNFX1', 'ZSWIM5', 'ZNF880', 'ZNF765', 'ZSWIM4', 'ZNF780B', 'ZPBP', 'ZNF718', 'ZNF808', 'ZNF860', 'ZSWIM7', 'ZNF761', 'ZNF714', 'ZNF800', 'ZNF846', 'ZNHIT6', 'ZSCAN2', 'ZSCAN12', 'ZNF771', 'ZNF791', 'ZSWIM1', 'ZRANB1', 'ZNF774', 'ZSCAN5C', 'ZNF841', 'ZNF737', 'ZNRD2', 'ZNF843', 'ZNF772', 'ZNF823', 'ZSCAN22', 'ZNRF1', 'ZNF786', 'ZNF852', 'ZNF836', 'ZP4', 'ZNF839', 'ZNHIT2', 'ZNF750', 'ZP1', 'ZNF878', 'ZNF862', 'ZNF829', 'ZNF736', 'ZNF764', 'ZNF845', 'ZSCAN20', 'ZNF821', 'ZSCAN1', 'ZNF814', 'ZNF716', 'ZNF780A', 'ZPLD1', 'ZUP1', 'ZSWIM6', 'ZRSR2', 'ZNF853', 'ZNF723', 'ZNF835'])\n"
     ]
    }
   ],
   "source": [
    "def get_list_from_file(filename):\n",
    "    lst = []\n",
    "    with open(filename) as file:\n",
    "        for line in file:\n",
    "            if not line.strip():\n",
    "                continue\n",
    "\n",
    "            lst.append(line.strip())\n",
    "\n",
    "    return lst\n",
    "\n",
    "\n",
    "def compare_two_lists(filename1, filename2):\n",
    "\n",
    "    list1 = get_list_from_file(filename1)\n",
    "    list2 = get_list_from_file(filename2)\n",
    "\n",
    "    return (list(set(list1)-set(list2)), list(set(list2)-set(list1)))\n",
    "\n",
    "\n",
    "print(compare_two_lists('gene_list1.txt', 'gene_list2.txt'))"
   ]
  }
 ],
 "metadata": {
  "jupytext": {
   "formats": "md:myst",
   "text_representation": {
    "extension": ".md",
    "format_name": "myst"
   }
  },
  "kernelspec": {
   "display_name": "Python 3",
   "language": "python",
   "name": "python3"
  },
  "language_info": {
   "codemirror_mode": {
    "name": "ipython",
    "version": 3
   },
   "file_extension": ".py",
   "mimetype": "text/x-python",
   "name": "python",
   "nbconvert_exporter": "python",
   "pygments_lexer": "ipython3",
   "version": "3.10.9"
  },
  "source_map": [
   11,
   22
  ]
 },
 "nbformat": 4,
 "nbformat_minor": 5
}