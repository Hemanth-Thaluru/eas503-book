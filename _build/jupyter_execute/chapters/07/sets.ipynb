{
 "cells": [
  {
   "cell_type": "markdown",
   "id": "accf8cc5",
   "metadata": {},
   "source": [
    "# Sets\n",
    "\n",
    "- Formal mathematical sets\n",
    "- **Do not have duplicate values**\n",
    "- Are not ordered\n",
    "- Cannot access via index. \n",
    "- Useful for doing set operations\n",
    "- Can have different data types"
   ]
  },
  {
   "cell_type": "code",
   "execution_count": 1,
   "id": "94e9df0d",
   "metadata": {},
   "outputs": [],
   "source": [
    "A = {0, 2, 4, 6, 8}\n",
    "B = {1, 2, 3, 4, 5}"
   ]
  },
  {
   "cell_type": "markdown",
   "id": "74bd1c6f",
   "metadata": {},
   "source": [
    "## Check if a value belongs"
   ]
  },
  {
   "cell_type": "code",
   "execution_count": 2,
   "id": "f338bc2e",
   "metadata": {},
   "outputs": [
    {
     "data": {
      "text/plain": [
       "True"
      ]
     },
     "execution_count": 2,
     "metadata": {},
     "output_type": "execute_result"
    }
   ],
   "source": [
    "2 in A"
   ]
  },
  {
   "cell_type": "markdown",
   "id": "f7b82ab1",
   "metadata": {},
   "source": [
    "## Union -- all values"
   ]
  },
  {
   "cell_type": "code",
   "execution_count": 3,
   "id": "3cb6f067",
   "metadata": {},
   "outputs": [
    {
     "data": {
      "text/plain": [
       "{0, 1, 2, 3, 4, 5, 6, 8}"
      ]
     },
     "execution_count": 3,
     "metadata": {},
     "output_type": "execute_result"
    }
   ],
   "source": [
    "A | B"
   ]
  },
  {
   "cell_type": "markdown",
   "id": "3af7042e",
   "metadata": {},
   "source": [
    "## Intersection -- shared values"
   ]
  },
  {
   "cell_type": "code",
   "execution_count": 4,
   "id": "7fbdfdfd",
   "metadata": {},
   "outputs": [
    {
     "data": {
      "text/plain": [
       "{2, 4}"
      ]
     },
     "execution_count": 4,
     "metadata": {},
     "output_type": "execute_result"
    }
   ],
   "source": [
    "A & B"
   ]
  },
  {
   "cell_type": "markdown",
   "id": "8b1e8da9",
   "metadata": {},
   "source": [
    "## Difference -- order matters\n",
    "```python\n",
    "A - B\n",
    "B - A\n",
    "```\n",
    "\n",
    "## Check Subset"
   ]
  },
  {
   "cell_type": "code",
   "execution_count": 5,
   "id": "6e934997",
   "metadata": {},
   "outputs": [
    {
     "data": {
      "text/plain": [
       "True"
      ]
     },
     "execution_count": 5,
     "metadata": {},
     "output_type": "execute_result"
    }
   ],
   "source": [
    "A = {1, 2, 3, 4, 5}\n",
    "B = {3, 4}\n",
    "B < A"
   ]
  },
  {
   "cell_type": "code",
   "execution_count": 6,
   "id": "7a0e3dbd",
   "metadata": {},
   "outputs": [
    {
     "data": {
      "text/plain": [
       "True"
      ]
     },
     "execution_count": 6,
     "metadata": {},
     "output_type": "execute_result"
    }
   ],
   "source": [
    "A = {1, 2, 3, 4, 5}\n",
    "B = {3, 4}\n",
    "B <= A"
   ]
  },
  {
   "cell_type": "code",
   "execution_count": 7,
   "id": "e932ea99",
   "metadata": {},
   "outputs": [
    {
     "data": {
      "text/plain": [
       "False"
      ]
     },
     "execution_count": 7,
     "metadata": {},
     "output_type": "execute_result"
    }
   ],
   "source": [
    "A = {1, 2, 3, 4, 5}\n",
    "B = {3, 4}\n",
    "B > A"
   ]
  },
  {
   "cell_type": "markdown",
   "id": "4cab6093",
   "metadata": {},
   "source": [
    "## Adding a single element"
   ]
  },
  {
   "cell_type": "code",
   "execution_count": 8,
   "id": "9a34e14d",
   "metadata": {},
   "outputs": [
    {
     "name": "stdout",
     "output_type": "stream",
     "text": [
      "{1, 2, 3, 4, 5, 6}\n"
     ]
    }
   ],
   "source": [
    "A = {1, 2, 3, 4, 5}\n",
    "A.add(6)\n",
    "print(A)"
   ]
  },
  {
   "cell_type": "code",
   "execution_count": 9,
   "id": "9a0d2389",
   "metadata": {},
   "outputs": [
    {
     "name": "stdout",
     "output_type": "stream",
     "text": [
      "{1, 2, 3, 4, 5}\n"
     ]
    }
   ],
   "source": [
    "A = {1, 2, 3, 4, 5}\n",
    "A.add(1)\n",
    "print(A)"
   ]
  },
  {
   "cell_type": "markdown",
   "id": "2e104e2b",
   "metadata": {},
   "source": [
    "## Removing an element\n",
    "- Three ways\n",
    "\n",
    "### Discard \n",
    "- Will **NOT** raise an error if the element being remove is not in set."
   ]
  },
  {
   "cell_type": "code",
   "execution_count": 10,
   "id": "060ce2d9",
   "metadata": {},
   "outputs": [
    {
     "name": "stdout",
     "output_type": "stream",
     "text": [
      "{2, 3, 4, 5}\n"
     ]
    }
   ],
   "source": [
    "A = {1, 2, 3, 4, 5}\n",
    "A.discard(1)\n",
    "print(A)\n",
    "A.discard('P')"
   ]
  },
  {
   "cell_type": "markdown",
   "id": "d959dd3d",
   "metadata": {},
   "source": [
    "### Remove \n",
    "- Will raise an error if the element being remove is not in set."
   ]
  },
  {
   "cell_type": "code",
   "execution_count": 11,
   "id": "8d0af50f",
   "metadata": {},
   "outputs": [
    {
     "name": "stdout",
     "output_type": "stream",
     "text": [
      "{2, 3, 4, 5}\n"
     ]
    },
    {
     "ename": "KeyError",
     "evalue": "'P'",
     "output_type": "error",
     "traceback": [
      "\u001b[0;31m---------------------------------------------------------------------------\u001b[0m",
      "\u001b[0;31mKeyError\u001b[0m                                  Traceback (most recent call last)",
      "Cell \u001b[0;32mIn[11], line 4\u001b[0m\n\u001b[1;32m      2\u001b[0m A\u001b[38;5;241m.\u001b[39mremove(\u001b[38;5;241m1\u001b[39m)\n\u001b[1;32m      3\u001b[0m \u001b[38;5;28mprint\u001b[39m(A)\n\u001b[0;32m----> 4\u001b[0m \u001b[43mA\u001b[49m\u001b[38;5;241;43m.\u001b[39;49m\u001b[43mremove\u001b[49m\u001b[43m(\u001b[49m\u001b[38;5;124;43m'\u001b[39;49m\u001b[38;5;124;43mP\u001b[39;49m\u001b[38;5;124;43m'\u001b[39;49m\u001b[43m)\u001b[49m\n",
      "\u001b[0;31mKeyError\u001b[0m: 'P'"
     ]
    }
   ],
   "source": [
    "A = {1, 2, 3, 4, 5}\n",
    "A.remove(1)\n",
    "print(A)\n",
    "A.remove('P')"
   ]
  },
  {
   "cell_type": "markdown",
   "id": "663dff87",
   "metadata": {},
   "source": [
    "### Pop \n",
    "- Will remove an element"
   ]
  },
  {
   "cell_type": "code",
   "execution_count": 12,
   "id": "ee63cb7e",
   "metadata": {},
   "outputs": [
    {
     "data": {
      "text/plain": [
       "1"
      ]
     },
     "execution_count": 12,
     "metadata": {},
     "output_type": "execute_result"
    }
   ],
   "source": [
    "A = {1, 2, 3, 4, 5}\n",
    "A.pop()"
   ]
  },
  {
   "cell_type": "markdown",
   "id": "52b52a87",
   "metadata": {},
   "source": [
    "## Checking if multiple dictionary keys exist"
   ]
  },
  {
   "cell_type": "code",
   "execution_count": 13,
   "id": "ee2b2998",
   "metadata": {},
   "outputs": [
    {
     "data": {
      "text/plain": [
       "{'b', 'd'}"
      ]
     },
     "execution_count": 13,
     "metadata": {},
     "output_type": "execute_result"
    }
   ],
   "source": [
    "d1 = dict(a=1, b=2, c=3, d=4)\n",
    "d2 = dict(b=20, d=40, e=50)\n",
    "d1.keys() & d2.keys() # this works because dict.keys() returns \"set-like\" view rather than a list\n",
    "{'b', 'd'}"
   ]
  },
  {
   "cell_type": "code",
   "execution_count": 14,
   "id": "0926dca5",
   "metadata": {},
   "outputs": [
    {
     "data": {
      "text/plain": [
       "True"
      ]
     },
     "execution_count": 14,
     "metadata": {},
     "output_type": "execute_result"
    }
   ],
   "source": [
    "d1 = dict(a=1, b=2, c=3, d=4)\n",
    "d2 = dict(b=20, d=40, e=50)\n",
    "d1.keys() <= {'a', 'b', 'c', 'd'}"
   ]
  },
  {
   "cell_type": "markdown",
   "id": "6fcdaec2",
   "metadata": {},
   "source": [
    "## Symmetric difference  \n",
    "https://en.wikipedia.org/wiki/Symmetric_difference"
   ]
  },
  {
   "cell_type": "code",
   "execution_count": 15,
   "id": "ed8200ff",
   "metadata": {},
   "outputs": [
    {
     "data": {
      "text/plain": [
       "{1, 2, 5}"
      ]
     },
     "execution_count": 15,
     "metadata": {},
     "output_type": "execute_result"
    }
   ],
   "source": [
    "A = {1, 2, 3, 4, 5}\n",
    "B = {3, 4}\n",
    "A ^ B"
   ]
  }
 ],
 "metadata": {
  "jupytext": {
   "formats": "md:myst",
   "text_representation": {
    "extension": ".md",
    "format_name": "myst"
   }
  },
  "kernelspec": {
   "display_name": "Python 3",
   "language": "python",
   "name": "python3"
  },
  "language_info": {
   "codemirror_mode": {
    "name": "ipython",
    "version": 3
   },
   "file_extension": ".py",
   "mimetype": "text/x-python",
   "name": "python",
   "nbconvert_exporter": "python",
   "pygments_lexer": "ipython3",
   "version": "3.10.9"
  },
  "source_map": [
   11,
   22,
   25,
   28,
   30,
   33,
   35,
   37,
   39,
   49,
   55,
   61,
   65,
   69,
   75,
   79,
   87,
   92,
   97,
   102,
   108,
   111,
   115,
   123,
   127,
   134
  ]
 },
 "nbformat": 4,
 "nbformat_minor": 5
}