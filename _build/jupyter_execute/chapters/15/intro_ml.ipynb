{
 "cells": [
  {
   "cell_type": "markdown",
   "id": "cb6603b9",
   "metadata": {},
   "source": [
    "# Introduction to Machine Learning\n",
    "\n",
    "## General Machine Learning Concept\n",
    "- Simplified: in machine learning, a computer is trained to classify new data. Think of it as an input-output device that takes in a number of inputs, and based on the pattern of these inputs, determine the most likely class associated with that data. There two main types of learning strategies. 1) Supervised learning where you train the machine using data for which the correct class is known. 2) Unsupervised learning where the classifier itself tries to find patterns within the input data itself. (Biosignal and Medical Image Processing John Semmlow) \n",
    "- Classification (determine `label`) vs Regression (predict a `numerical value`) \n",
    "\n",
    "## General Outline of Machine Learning\n",
    "\n",
    "1. Loading Data\n",
    "   - Load toy data included in sklearn\n",
    "   - Download published/annotated data from online\n",
    "   - Generate data with specific statistics to learn how algorithms work\n",
    "2. Preprocessing Data\n",
    "   - Make data zero mean\n",
    "   - Make data unit variance\n",
    "   - Fix range of values\n",
    "   - Deal with missing values\n",
    "   - Map text labels to integer labels (if applicable) -- ML algorithms require the data be numeric\n",
    "3. Dimensionality Reduction of data\n",
    "   - If you use too many features and do not have enough samples, you could over fit.\n",
    "   - So you have to choose the most discriminating few features\n",
    "4. Applying algorithms\n",
    "   - Labeled Data - Supervised \n",
    "   - Non-labeled Data - Unsupervised \n",
    "5. Evaluation \n",
    "   - Receiver Operator Curve\n",
    "     - Sensitivity\n",
    "     - Specificity\n",
    "   - Imbalanced Data\n",
    "    - Example: 95 % one class, 5% another class\n",
    "\n",
    "- REF: Scikit-learn Essentials: Mastering the scikit-learn Machine Learning Library for Python by Dhiraj Kumar\n",
    "\n",
    "## Various Python Libraries: When to use what\n",
    "  - ref:https://www.quora.com/What-is-the-relationship-among-NumPy-SciPy-Pandas-and-Scikit-learn-and-when-should-I-use-each-one-of-them\n",
    "  - Numpy -- provides efficient array computation via vectorization and broadcasting\n",
    "      - Vectorization -- no need for explicit looping -- example, vector multiplication or squaring\n",
    "      - Broadcasting -- manipulate multiple values at once\n",
    "  - Pandas - Uses Numpy arrays as the underlying structure. Good for analyzing tabular data\n",
    "  - Scipy (scientific python)- provides libraries for scientific computing, including: integration, interpolation, signal processing, linear algebra, statistics. Also uses Numpy infrastructure\n",
    "  - Scikit-learn - provides a collection of machine-learning algorithms that use Numy and Scipy \n",
    "    - Most used Python library for machine-learning\n",
    "      - regression\n",
    "      - classification\n",
    "      - clustering\n",
    "\n",
    "## Topics Covered\n",
    "  - Introduction to Scikit-learn\n",
    "  - Loading Dataset using Scikit-learn\n",
    "  - Preprocessing data using scikit-learn\n",
    "  - Train Test split using scikit-learn\n",
    "  - Linear regression using scikit-learn\n",
    "  - Naive Bays using Scikit learn\n",
    "  - SVM using Scikit learn\n",
    "  - k-Nearest neighbor using Scikit-learn"
   ]
  }
 ],
 "metadata": {
  "jupytext": {
   "formats": "md:myst",
   "text_representation": {
    "extension": ".md",
    "format_name": "myst"
   }
  },
  "kernelspec": {
   "display_name": "Python 3",
   "language": "python",
   "name": "python3"
  },
  "language_info": {
   "codemirror_mode": {
    "name": "ipython",
    "version": 3
   },
   "file_extension": ".py",
   "mimetype": "text/x-python",
   "name": "python",
   "nbconvert_exporter": "python",
   "pygments_lexer": "ipython3",
   "version": "3.10.9"
  },
  "source_map": [
   11
  ]
 },
 "nbformat": 4,
 "nbformat_minor": 5
}