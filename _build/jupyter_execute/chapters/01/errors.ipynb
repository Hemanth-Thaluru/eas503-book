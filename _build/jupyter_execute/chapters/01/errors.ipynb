{
 "cells": [
  {
   "cell_type": "markdown",
   "id": "9dbb38ac",
   "metadata": {},
   "source": [
    "# Errors in Python\n",
    "\n",
    "When an error occurs in your code, Python give you a meaningful explanation that you can use to fix your code. This section introduces you to three common errors that you will encounter at this stage. More error types will be introduced when needed. \n",
    "\n",
    "\n",
    "## NameError\n",
    "\n",
    "A **NameError** occurs when you refer to a variable that has not been declared."
   ]
  },
  {
   "cell_type": "code",
   "execution_count": 1,
   "id": "e235ccdb",
   "metadata": {},
   "outputs": [
    {
     "ename": "NameError",
     "evalue": "name 'moogah' is not defined",
     "output_type": "error",
     "traceback": [
      "\u001b[0;31m---------------------------------------------------------------------------\u001b[0m",
      "\u001b[0;31mNameError\u001b[0m                                 Traceback (most recent call last)",
      "Cell \u001b[0;32mIn[1], line 1\u001b[0m\n\u001b[0;32m----> 1\u001b[0m \u001b[38;5;241m3\u001b[39m \u001b[38;5;241m+\u001b[39m \u001b[43mmoogah\u001b[49m\n",
      "\u001b[0;31mNameError\u001b[0m: name 'moogah' is not defined"
     ]
    }
   ],
   "source": [
    "3 + moogah"
   ]
  },
  {
   "cell_type": "markdown",
   "id": "0eb5a844",
   "metadata": {},
   "source": [
    "## SyntaxError\n",
    "\n",
    "A **SyntaxError** occurs when you arrange the operators and operands in an illegal arrangement."
   ]
  },
  {
   "cell_type": "code",
   "execution_count": 2,
   "id": "9b838577",
   "metadata": {},
   "outputs": [
    {
     "ename": "SyntaxError",
     "evalue": "invalid syntax (4087983127.py, line 1)",
     "output_type": "error",
     "traceback": [
      "\u001b[0;36m  Cell \u001b[0;32mIn[2], line 1\u001b[0;36m\u001b[0m\n\u001b[0;31m    2 +\u001b[0m\n\u001b[0m        ^\u001b[0m\n\u001b[0;31mSyntaxError\u001b[0m\u001b[0;31m:\u001b[0m invalid syntax\n"
     ]
    }
   ],
   "source": [
    "2 + "
   ]
  },
  {
   "cell_type": "code",
   "execution_count": 3,
   "id": "9fff3a63",
   "metadata": {},
   "outputs": [
    {
     "ename": "SyntaxError",
     "evalue": "cannot assign to literal here. Maybe you meant '==' instead of '='? (3541004665.py, line 1)",
     "output_type": "error",
     "traceback": [
      "\u001b[0;36m  Cell \u001b[0;32mIn[3], line 1\u001b[0;36m\u001b[0m\n\u001b[0;31m    12 = x\u001b[0m\n\u001b[0m    ^\u001b[0m\n\u001b[0;31mSyntaxError\u001b[0m\u001b[0;31m:\u001b[0m cannot assign to literal here. Maybe you meant '==' instead of '='?\n"
     ]
    }
   ],
   "source": [
    "12 = x"
   ]
  },
  {
   "cell_type": "markdown",
   "id": "7d845a65",
   "metadata": {},
   "source": [
    "## ZeroDivisionError\n",
    "\n",
    "A **ZeroDivisionError** occurs when you try to divide by zero."
   ]
  },
  {
   "cell_type": "code",
   "execution_count": 4,
   "id": "c9f5f7f4",
   "metadata": {},
   "outputs": [
    {
     "ename": "ZeroDivisionError",
     "evalue": "division by zero",
     "output_type": "error",
     "traceback": [
      "\u001b[0;31m---------------------------------------------------------------------------\u001b[0m",
      "\u001b[0;31mZeroDivisionError\u001b[0m                         Traceback (most recent call last)",
      "Cell \u001b[0;32mIn[4], line 1\u001b[0m\n\u001b[0;32m----> 1\u001b[0m \u001b[38;5;241;43m3\u001b[39;49m\u001b[43m \u001b[49m\u001b[38;5;241;43m/\u001b[39;49m\u001b[43m \u001b[49m\u001b[38;5;241;43m0\u001b[39;49m\n",
      "\u001b[0;31mZeroDivisionError\u001b[0m: division by zero"
     ]
    }
   ],
   "source": [
    "3 / 0"
   ]
  }
 ],
 "metadata": {
  "jupytext": {
   "formats": "md:myst",
   "text_representation": {
    "extension": ".md",
    "format_name": "myst"
   }
  },
  "kernelspec": {
   "display_name": "Python 3",
   "language": "python",
   "name": "python3"
  },
  "language_info": {
   "codemirror_mode": {
    "name": "ipython",
    "version": 3
   },
   "file_extension": ".py",
   "mimetype": "text/x-python",
   "name": "python",
   "nbconvert_exporter": "python",
   "pygments_lexer": "ipython3",
   "version": "3.10.9"
  },
  "source_map": [
   11,
   22,
   24,
   31,
   35,
   37,
   43
  ]
 },
 "nbformat": 4,
 "nbformat_minor": 5
}