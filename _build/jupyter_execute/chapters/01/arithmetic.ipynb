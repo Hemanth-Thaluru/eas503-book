{
 "cells": [
  {
   "cell_type": "markdown",
   "id": "78de9def",
   "metadata": {},
   "source": [
    "# Arithmetic Operators\n",
    "\n",
    "{numref}`arithmetic-operators` lists the arithmetic operators. \n",
    "\n",
    "\n",
    "```{table} Arithmetic operators\n",
    ":name: arithmetic-operators\n",
    "| **Symbol** \t| **Operator**     \t| **Example** \t| **Result** \t|\n",
    "|------------\t|------------------\t|-------------\t|------------\t|\n",
    "| -          \t| Negation         \t| -5          \t| -5         \t|\n",
    "| +          \t| Addition         \t| 11 + 3.1    \t| 14.1       \t|\n",
    "| -          \t| Subtraction      \t| 5 - 19      \t| -14        \t|\n",
    "| *          \t| Multiplication   \t| 8.5 * 4     \t| 34.0       \t|\n",
    "| /          \t| Division         \t| 11 / 2      \t| 5.5        \t|\n",
    "| //         \t| Integer Division \t| 16 // 5     \t| 3          \t|\n",
    "| %          \t| Modulus/Remainder | 31 % 24   \t  | 7        \t  |\n",
    "| **         \t| Exponentiation   \t| 2 ** 5      \t| 32         \t|\n",
    "```\n",
    "\n",
    "\n",
    "Operators that have two operands are called **binary operators**. Negation is a **unary** operator because it applies to one operand. \n",
    "\n",
    "## Negation\n",
    "The negation operator simply negates the value."
   ]
  },
  {
   "cell_type": "code",
   "execution_count": 1,
   "id": "827b81de",
   "metadata": {},
   "outputs": [
    {
     "data": {
      "text/plain": [
       "-5"
      ]
     },
     "execution_count": 1,
     "metadata": {},
     "output_type": "execute_result"
    }
   ],
   "source": [
    "-5"
   ]
  },
  {
   "cell_type": "code",
   "execution_count": 2,
   "id": "6a326f55",
   "metadata": {},
   "outputs": [
    {
     "data": {
      "text/plain": [
       "5"
      ]
     },
     "execution_count": 2,
     "metadata": {},
     "output_type": "execute_result"
    }
   ],
   "source": [
    "--5"
   ]
  },
  {
   "cell_type": "code",
   "execution_count": null,
   "id": "c93eaf92",
   "metadata": {},
   "outputs": [],
   "source": []
  },
  {
   "cell_type": "markdown",
   "id": "135dbe07",
   "metadata": {},
   "source": [
    "## Addition, Subtraction, Multiplication, and Division\n",
    "- The addition, subtraction, multiplication, and division operators are the familiar mathematical operators. \n",
    "\n",
    ":::{warning}\n",
    "When the operands are of mixed data type, meaning `int` and `float`, the resulting value will be type `float`. \n",
    ":::\n",
    "\n",
    "## Integer Division, Modulo, and Exponentiation \n",
    "To know the integer part of a division result, use the integer division operator. For example, to know how many 24-hour days there are in 53 hours."
   ]
  },
  {
   "cell_type": "code",
   "execution_count": 3,
   "id": "ab946a2c",
   "metadata": {},
   "outputs": [
    {
     "data": {
      "text/plain": [
       "2"
      ]
     },
     "execution_count": 3,
     "metadata": {},
     "output_type": "execute_result"
    }
   ],
   "source": [
    "53 // 24"
   ]
  },
  {
   "cell_type": "markdown",
   "id": "2493d953",
   "metadata": {},
   "source": [
    "To find out how many hours are left over, you can use the modulo operator, which gives the remainder of the division:"
   ]
  },
  {
   "cell_type": "code",
   "execution_count": 4,
   "id": "bfde63eb",
   "metadata": {},
   "outputs": [
    {
     "data": {
      "text/plain": [
       "5"
      ]
     },
     "execution_count": 4,
     "metadata": {},
     "output_type": "execute_result"
    }
   ],
   "source": [
    "53 % 24 "
   ]
  },
  {
   "cell_type": "markdown",
   "id": "26f09c28",
   "metadata": {},
   "source": [
    ":::{warning}\n",
    "Python integer division rounds towards negative infinity. This is different from truncation. Truncation would just drop the digits after the decimal. So, be careful with negative operands! \n",
    ":::"
   ]
  },
  {
   "cell_type": "code",
   "execution_count": 5,
   "id": "5833266a",
   "metadata": {},
   "outputs": [
    {
     "data": {
      "text/plain": [
       "1"
      ]
     },
     "execution_count": 5,
     "metadata": {},
     "output_type": "execute_result"
    }
   ],
   "source": [
    "17 // 10"
   ]
  },
  {
   "cell_type": "code",
   "execution_count": 6,
   "id": "46dd2a03",
   "metadata": {},
   "outputs": [
    {
     "data": {
      "text/plain": [
       "-2"
      ]
     },
     "execution_count": 6,
     "metadata": {},
     "output_type": "execute_result"
    }
   ],
   "source": [
    "-17 // 10"
   ]
  },
  {
   "cell_type": "markdown",
   "id": "28bf9648",
   "metadata": {},
   "source": [
    "`-1.7` rounded towards negative infinity is `-2`. \n",
    "\n",
    "For the modulo operator, the sign of the result matches the sign of the divisors (the second operand)"
   ]
  },
  {
   "cell_type": "code",
   "execution_count": 7,
   "id": "46afaf5c",
   "metadata": {},
   "outputs": [
    {
     "data": {
      "text/plain": [
       "3"
      ]
     },
     "execution_count": 7,
     "metadata": {},
     "output_type": "execute_result"
    }
   ],
   "source": [
    "-17 % 10"
   ]
  },
  {
   "cell_type": "code",
   "execution_count": 8,
   "id": "374f8282",
   "metadata": {},
   "outputs": [
    {
     "data": {
      "text/plain": [
       "7"
      ]
     },
     "execution_count": 8,
     "metadata": {},
     "output_type": "execute_result"
    }
   ],
   "source": [
    "17 % 10"
   ]
  },
  {
   "cell_type": "markdown",
   "id": "7664ab3d",
   "metadata": {},
   "source": [
    "The following expression calculates 3 raised to the 6th power:"
   ]
  },
  {
   "cell_type": "code",
   "execution_count": 9,
   "id": "29f55c50",
   "metadata": {},
   "outputs": [
    {
     "data": {
      "text/plain": [
       "729"
      ]
     },
     "execution_count": 9,
     "metadata": {},
     "output_type": "execute_result"
    }
   ],
   "source": [
    "3 ** 6"
   ]
  }
 ],
 "metadata": {
  "jupytext": {
   "formats": "md:myst",
   "text_representation": {
    "extension": ".md",
    "format_name": "myst"
   }
  },
  "kernelspec": {
   "display_name": "Python 3",
   "language": "python",
   "name": "python3"
  },
  "language_info": {
   "codemirror_mode": {
    "name": "ipython",
    "version": 3
   },
   "file_extension": ".py",
   "mimetype": "text/x-python",
   "name": "python",
   "nbconvert_exporter": "python",
   "pygments_lexer": "ipython3",
   "version": "3.10.9"
  },
  "source_map": [
   11,
   38,
   42,
   46,
   48,
   60,
   62,
   66,
   68,
   74,
   78,
   80,
   85,
   89,
   91,
   95
  ]
 },
 "nbformat": 4,
 "nbformat_minor": 5
}