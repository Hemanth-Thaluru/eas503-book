{
 "cells": [
  {
   "cell_type": "markdown",
   "id": "935c1682",
   "metadata": {},
   "source": [
    "# Grouping and Aggregates\n",
    "\n",
    "The `GROUP BY` allows you to group values together and then apply one of the following five functions\n",
    "1. `MAX()`\n",
    "2. `MIN()`\n",
    "3. `AVG()`\n",
    "4. `SUM()`\n",
    "5. `COUNT()`\n",
    "\n",
    "The `HAVING` keyword, which follows the `GROUP BY` keyword allows you to filter the aggregated results. \n",
    "\n",
    "## A Simple Grouping Examples\n",
    "\n",
    "Find the total number of lab results for each patients\n",
    "\n",
    "```SQL\n",
    "SELECT PatientID, Count(LabName) LabCount\n",
    "FROM LabsCorePopulatedTable \n",
    "GROUP BY PatientID\n",
    "ORDER BY -LabCount\n",
    "```"
   ]
  },
  {
   "cell_type": "code",
   "execution_count": 1,
   "id": "5ebc1e28",
   "metadata": {
    "tags": [
     "hide-input",
     "output_scroll"
    ]
   },
   "outputs": [
    {
     "ename": "ModuleNotFoundError",
     "evalue": "No module named 'pandas'",
     "output_type": "error",
     "traceback": [
      "\u001b[0;31m---------------------------------------------------------------------------\u001b[0m",
      "\u001b[0;31mModuleNotFoundError\u001b[0m                       Traceback (most recent call last)",
      "Cell \u001b[0;32mIn[1], line 2\u001b[0m\n\u001b[1;32m      1\u001b[0m \u001b[38;5;28;01mimport\u001b[39;00m \u001b[38;5;21;01msqlite3\u001b[39;00m\n\u001b[0;32m----> 2\u001b[0m \u001b[38;5;28;01mimport\u001b[39;00m \u001b[38;5;21;01mpandas\u001b[39;00m \u001b[38;5;28;01mas\u001b[39;00m \u001b[38;5;21;01mpd\u001b[39;00m\n\u001b[1;32m      4\u001b[0m conn \u001b[38;5;241m=\u001b[39m sqlite3\u001b[38;5;241m.\u001b[39mconnect(\u001b[38;5;124m'\u001b[39m\u001b[38;5;124m100_patients.db\u001b[39m\u001b[38;5;124m'\u001b[39m)\n\u001b[1;32m      6\u001b[0m sql_statement \u001b[38;5;241m=\u001b[39m \u001b[38;5;124m\"\"\"\u001b[39m\n\u001b[1;32m      7\u001b[0m \u001b[38;5;124mSELECT PatientID, Count(LabName) LabCount\u001b[39m\n\u001b[1;32m      8\u001b[0m \u001b[38;5;124mFROM LabsCorePopulatedTable \u001b[39m\n\u001b[1;32m      9\u001b[0m \u001b[38;5;124mGROUP BY PatientID\u001b[39m\n\u001b[1;32m     10\u001b[0m \u001b[38;5;124mORDER BY -LabCount\u001b[39m\n\u001b[1;32m     11\u001b[0m \u001b[38;5;124m\"\"\"\u001b[39m\n",
      "\u001b[0;31mModuleNotFoundError\u001b[0m: No module named 'pandas'"
     ]
    }
   ],
   "source": [
    "import sqlite3\n",
    "import pandas as pd\n",
    "\n",
    "conn = sqlite3.connect('100_patients.db')\n",
    "\n",
    "sql_statement = \"\"\"\n",
    "SELECT PatientID, Count(LabName) LabCount\n",
    "FROM LabsCorePopulatedTable \n",
    "GROUP BY PatientID\n",
    "ORDER BY -LabCount\n",
    "\"\"\"\n",
    "df = pd.read_sql_query(sql_statement, conn)\n",
    "df.style.set_table_attributes('style=\"font-size: 12px\"')"
   ]
  },
  {
   "cell_type": "markdown",
   "id": "b46d8066",
   "metadata": {},
   "source": [
    "```SQL\n",
    "SELECT PatientID, Count(LabName) LabCount\n",
    "FROM LabsCorePopulatedTable \n",
    "GROUP BY PatientID\n",
    "HAVING LabCount > 2000\n",
    "ORDER BY -LabCount\n",
    "```"
   ]
  },
  {
   "cell_type": "code",
   "execution_count": 2,
   "id": "9a3491b5",
   "metadata": {
    "tags": [
     "hide-input",
     "output_scroll"
    ]
   },
   "outputs": [
    {
     "ename": "ModuleNotFoundError",
     "evalue": "No module named 'pandas'",
     "output_type": "error",
     "traceback": [
      "\u001b[0;31m---------------------------------------------------------------------------\u001b[0m",
      "\u001b[0;31mModuleNotFoundError\u001b[0m                       Traceback (most recent call last)",
      "Cell \u001b[0;32mIn[2], line 2\u001b[0m\n\u001b[1;32m      1\u001b[0m \u001b[38;5;28;01mimport\u001b[39;00m \u001b[38;5;21;01msqlite3\u001b[39;00m\n\u001b[0;32m----> 2\u001b[0m \u001b[38;5;28;01mimport\u001b[39;00m \u001b[38;5;21;01mpandas\u001b[39;00m \u001b[38;5;28;01mas\u001b[39;00m \u001b[38;5;21;01mpd\u001b[39;00m\n\u001b[1;32m      4\u001b[0m conn \u001b[38;5;241m=\u001b[39m sqlite3\u001b[38;5;241m.\u001b[39mconnect(\u001b[38;5;124m'\u001b[39m\u001b[38;5;124m100_patients.db\u001b[39m\u001b[38;5;124m'\u001b[39m)\n\u001b[1;32m      6\u001b[0m sql_statement \u001b[38;5;241m=\u001b[39m \u001b[38;5;124m\"\"\"\u001b[39m\n\u001b[1;32m      7\u001b[0m \u001b[38;5;124mSELECT PatientID, Count(LabName) LabCount\u001b[39m\n\u001b[1;32m      8\u001b[0m \u001b[38;5;124mFROM LabsCorePopulatedTable \u001b[39m\n\u001b[0;32m   (...)\u001b[0m\n\u001b[1;32m     11\u001b[0m \u001b[38;5;124mORDER BY -LabCount\u001b[39m\n\u001b[1;32m     12\u001b[0m \u001b[38;5;124m\"\"\"\u001b[39m\n",
      "\u001b[0;31mModuleNotFoundError\u001b[0m: No module named 'pandas'"
     ]
    }
   ],
   "source": [
    "import sqlite3\n",
    "import pandas as pd\n",
    "\n",
    "conn = sqlite3.connect('100_patients.db')\n",
    "\n",
    "sql_statement = \"\"\"\n",
    "SELECT PatientID, Count(LabName) LabCount\n",
    "FROM LabsCorePopulatedTable \n",
    "GROUP BY PatientID\n",
    "HAVING LabCount > 2000\n",
    "ORDER BY -LabCount\n",
    "\"\"\"\n",
    "df = pd.read_sql_query(sql_statement, conn)\n",
    "df.style.set_table_attributes('style=\"font-size: 12px\"')"
   ]
  },
  {
   "cell_type": "markdown",
   "id": "c43502ae",
   "metadata": {},
   "source": [
    "```SQL\n",
    "SELECT PatientID, Count(LabName) LabCount, Max(LabValue),  Min(LabValue),  SUM(LabValue), ROUND(AVG(LabValue),2) AVERAGE\n",
    "FROM LabsCorePopulatedTable \n",
    "WHERE LabName = 'URINALYSIS: RED BLOOD CELLS'\n",
    "GROUP BY PatientID\n",
    "ORDER BY -AVERAGE\n",
    "```"
   ]
  },
  {
   "cell_type": "code",
   "execution_count": 3,
   "id": "50c93c68",
   "metadata": {
    "tags": [
     "hide-input",
     "output_scroll"
    ]
   },
   "outputs": [
    {
     "ename": "ModuleNotFoundError",
     "evalue": "No module named 'pandas'",
     "output_type": "error",
     "traceback": [
      "\u001b[0;31m---------------------------------------------------------------------------\u001b[0m",
      "\u001b[0;31mModuleNotFoundError\u001b[0m                       Traceback (most recent call last)",
      "Cell \u001b[0;32mIn[3], line 2\u001b[0m\n\u001b[1;32m      1\u001b[0m \u001b[38;5;28;01mimport\u001b[39;00m \u001b[38;5;21;01msqlite3\u001b[39;00m\n\u001b[0;32m----> 2\u001b[0m \u001b[38;5;28;01mimport\u001b[39;00m \u001b[38;5;21;01mpandas\u001b[39;00m \u001b[38;5;28;01mas\u001b[39;00m \u001b[38;5;21;01mpd\u001b[39;00m\n\u001b[1;32m      4\u001b[0m conn \u001b[38;5;241m=\u001b[39m sqlite3\u001b[38;5;241m.\u001b[39mconnect(\u001b[38;5;124m'\u001b[39m\u001b[38;5;124m100_patients.db\u001b[39m\u001b[38;5;124m'\u001b[39m)\n\u001b[1;32m      6\u001b[0m sql_statement \u001b[38;5;241m=\u001b[39m \u001b[38;5;124m\"\"\"\u001b[39m\n\u001b[1;32m      7\u001b[0m \u001b[38;5;124mSELECT PatientID, Count(LabName) LabCount, Max(LabValue),  Min(LabValue),  SUM(LabValue), ROUND(AVG(LabValue),2) AVERAGE\u001b[39m\n\u001b[1;32m      8\u001b[0m \u001b[38;5;124mFROM LabsCorePopulatedTable \u001b[39m\n\u001b[0;32m   (...)\u001b[0m\n\u001b[1;32m     11\u001b[0m \u001b[38;5;124mORDER BY -AVERAGE\u001b[39m\n\u001b[1;32m     12\u001b[0m \u001b[38;5;124m\"\"\"\u001b[39m\n",
      "\u001b[0;31mModuleNotFoundError\u001b[0m: No module named 'pandas'"
     ]
    }
   ],
   "source": [
    "import sqlite3\n",
    "import pandas as pd\n",
    "\n",
    "conn = sqlite3.connect('100_patients.db')\n",
    "\n",
    "sql_statement = \"\"\"\n",
    "SELECT PatientID, Count(LabName) LabCount, Max(LabValue),  Min(LabValue),  SUM(LabValue), ROUND(AVG(LabValue),2) AVERAGE\n",
    "FROM LabsCorePopulatedTable \n",
    "WHERE LabName = 'URINALYSIS: RED BLOOD CELLS'\n",
    "GROUP BY PatientID\n",
    "ORDER BY -AVERAGE\n",
    "\"\"\"\n",
    "df = pd.read_sql_query(sql_statement, conn)\n",
    "df.style.set_table_attributes('style=\"font-size: 12px\"')"
   ]
  },
  {
   "cell_type": "markdown",
   "id": "a071951d",
   "metadata": {},
   "source": [
    "## Multicolumn Grouping\n",
    "\n",
    "```SQL\n",
    "SELECT PatientID, LabName, Count(LabName) LabCount, Max(LabValue),  Min(LabValue),  SUM(LabValue), ROUND(AVG(LabValue),2) AVERAGE\n",
    "FROM LabsCorePopulatedTable \n",
    "GROUP BY PatientID, LabName\n",
    "ORDER BY -PatientID, -LabCount\n",
    "```"
   ]
  },
  {
   "cell_type": "code",
   "execution_count": 4,
   "id": "ef553cd5",
   "metadata": {
    "tags": [
     "hide-input",
     "output_scroll"
    ]
   },
   "outputs": [
    {
     "ename": "ModuleNotFoundError",
     "evalue": "No module named 'pandas'",
     "output_type": "error",
     "traceback": [
      "\u001b[0;31m---------------------------------------------------------------------------\u001b[0m",
      "\u001b[0;31mModuleNotFoundError\u001b[0m                       Traceback (most recent call last)",
      "Cell \u001b[0;32mIn[4], line 2\u001b[0m\n\u001b[1;32m      1\u001b[0m \u001b[38;5;28;01mimport\u001b[39;00m \u001b[38;5;21;01msqlite3\u001b[39;00m\n\u001b[0;32m----> 2\u001b[0m \u001b[38;5;28;01mimport\u001b[39;00m \u001b[38;5;21;01mpandas\u001b[39;00m \u001b[38;5;28;01mas\u001b[39;00m \u001b[38;5;21;01mpd\u001b[39;00m\n\u001b[1;32m      4\u001b[0m conn \u001b[38;5;241m=\u001b[39m sqlite3\u001b[38;5;241m.\u001b[39mconnect(\u001b[38;5;124m'\u001b[39m\u001b[38;5;124m100_patients.db\u001b[39m\u001b[38;5;124m'\u001b[39m)\n\u001b[1;32m      6\u001b[0m sql_statement \u001b[38;5;241m=\u001b[39m \u001b[38;5;124m\"\"\"\u001b[39m\n\u001b[1;32m      7\u001b[0m \u001b[38;5;124mSELECT PatientID, LabName, Count(LabName) LabCount, Max(LabValue),  Min(LabValue),  SUM(LabValue), ROUND(AVG(LabValue),2) AVERAGE\u001b[39m\n\u001b[1;32m      8\u001b[0m \u001b[38;5;124mFROM LabsCorePopulatedTable \u001b[39m\n\u001b[1;32m      9\u001b[0m \u001b[38;5;124mGROUP BY PatientID, LabName\u001b[39m\n\u001b[1;32m     10\u001b[0m \u001b[38;5;124mORDER BY -PatientID, -LabCount\u001b[39m\n\u001b[1;32m     11\u001b[0m \u001b[38;5;124m\"\"\"\u001b[39m\n",
      "\u001b[0;31mModuleNotFoundError\u001b[0m: No module named 'pandas'"
     ]
    }
   ],
   "source": [
    "import sqlite3\n",
    "import pandas as pd\n",
    "\n",
    "conn = sqlite3.connect('100_patients.db')\n",
    "\n",
    "sql_statement = \"\"\"\n",
    "SELECT PatientID, LabName, Count(LabName) LabCount, Max(LabValue),  Min(LabValue),  SUM(LabValue), ROUND(AVG(LabValue),2) AVERAGE\n",
    "FROM LabsCorePopulatedTable \n",
    "GROUP BY PatientID, LabName\n",
    "ORDER BY -PatientID, -LabCount\n",
    "\"\"\"\n",
    "df = pd.read_sql_query(sql_statement, conn)\n",
    "df.style.set_table_attributes('style=\"font-size: 12px\"')"
   ]
  },
  {
   "cell_type": "markdown",
   "id": "b227345b",
   "metadata": {},
   "source": [
    "## Date Difference\n",
    "\n",
    "```SQL\n",
    "SELECT PatientID, ROUND(MAX(julianday(AdmissionEndDate)-julianday(AdmissionStartDate))) MAX_STAY\n",
    "FROM AdmissionsCorePopulatedTable \n",
    "GROUP BY PatientID\n",
    "HAVING MAX_STAY >= 20\n",
    "ORDER BY -MAX_STAY\n",
    "```"
   ]
  },
  {
   "cell_type": "code",
   "execution_count": 5,
   "id": "61fbba07",
   "metadata": {
    "tags": [
     "hide-input",
     "output_scroll"
    ]
   },
   "outputs": [
    {
     "ename": "ModuleNotFoundError",
     "evalue": "No module named 'pandas'",
     "output_type": "error",
     "traceback": [
      "\u001b[0;31m---------------------------------------------------------------------------\u001b[0m",
      "\u001b[0;31mModuleNotFoundError\u001b[0m                       Traceback (most recent call last)",
      "Cell \u001b[0;32mIn[5], line 2\u001b[0m\n\u001b[1;32m      1\u001b[0m \u001b[38;5;28;01mimport\u001b[39;00m \u001b[38;5;21;01msqlite3\u001b[39;00m\n\u001b[0;32m----> 2\u001b[0m \u001b[38;5;28;01mimport\u001b[39;00m \u001b[38;5;21;01mpandas\u001b[39;00m \u001b[38;5;28;01mas\u001b[39;00m \u001b[38;5;21;01mpd\u001b[39;00m\n\u001b[1;32m      4\u001b[0m conn \u001b[38;5;241m=\u001b[39m sqlite3\u001b[38;5;241m.\u001b[39mconnect(\u001b[38;5;124m'\u001b[39m\u001b[38;5;124m100_patients.db\u001b[39m\u001b[38;5;124m'\u001b[39m)\n\u001b[1;32m      6\u001b[0m sql_statement \u001b[38;5;241m=\u001b[39m \u001b[38;5;124m\"\"\"\u001b[39m\n\u001b[1;32m      7\u001b[0m \u001b[38;5;124mSELECT PatientID, ROUND(MAX(julianday(AdmissionEndDate)-julianday(AdmissionStartDate))) MAX_STAY\u001b[39m\n\u001b[1;32m      8\u001b[0m \u001b[38;5;124mFROM AdmissionsCorePopulatedTable \u001b[39m\n\u001b[0;32m   (...)\u001b[0m\n\u001b[1;32m     11\u001b[0m \u001b[38;5;124mORDER BY -MAX_STAY\u001b[39m\n\u001b[1;32m     12\u001b[0m \u001b[38;5;124m\"\"\"\u001b[39m\n",
      "\u001b[0;31mModuleNotFoundError\u001b[0m: No module named 'pandas'"
     ]
    }
   ],
   "source": [
    "import sqlite3\n",
    "import pandas as pd\n",
    "\n",
    "conn = sqlite3.connect('100_patients.db')\n",
    "\n",
    "sql_statement = \"\"\"\n",
    "SELECT PatientID, ROUND(MAX(julianday(AdmissionEndDate)-julianday(AdmissionStartDate))) MAX_STAY\n",
    "FROM AdmissionsCorePopulatedTable \n",
    "GROUP BY PatientID\n",
    "HAVING MAX_STAY >= 20\n",
    "ORDER BY -MAX_STAY\n",
    "\"\"\"\n",
    "df = pd.read_sql_query(sql_statement, conn)\n",
    "df.style.set_table_attributes('style=\"font-size: 12px\"')"
   ]
  }
 ],
 "metadata": {
  "jupytext": {
   "formats": "md:myst",
   "text_representation": {
    "extension": ".md",
    "format_name": "myst"
   }
  },
  "kernelspec": {
   "display_name": "Python 3",
   "language": "python",
   "name": "python3"
  },
  "language_info": {
   "codemirror_mode": {
    "name": "ipython",
    "version": 3
   },
   "file_extension": ".py",
   "mimetype": "text/x-python",
   "name": "python",
   "nbconvert_exporter": "python",
   "pygments_lexer": "ipython3",
   "version": "3.10.9"
  },
  "source_map": [
   11,
   35,
   50,
   60,
   76,
   87,
   103,
   114,
   129,
   143
  ]
 },
 "nbformat": 4,
 "nbformat_minor": 5
}