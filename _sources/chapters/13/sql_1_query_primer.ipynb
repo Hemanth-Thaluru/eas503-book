{
 "cells": [
  {
   "cell_type": "markdown",
   "id": "9bf03d3d",
   "metadata": {},
   "source": [
    "# SQL Query Primer\n",
    "\n",
    "## Query Clauses\n",
    "SQL offers six clauses ({ref}`query-clauses`) to query your data. All SQL queries will use at least two clauses, i.e., `SELECT` and `FROM`. \n",
    "\n",
    "```{table} Query Clauses\n",
    ":name: query-clauses\n",
    "| **Clause Name** \t| **Purpose**                                                                           \t|\n",
    "|-----------------\t|---------------------------------------------------------------------------------------\t|\n",
    "| SELECT          \t| Determines which columns to include in the query's result set                         \t|\n",
    "| FROM            \t| Identifies the tables from which to retrieve data and how the tables should be joined \t|\n",
    "| WHERE           \t| Filters out unwanted data                                                             \t|\n",
    "| GROUP BY        \t| Used to group rows together by common column values                                   \t|\n",
    "| HAVING          \t| Filters out unwanted groups                                                           \t|\n",
    "| ORDER BY        \t| Sorts the rows of the final result set by one or more columns                         \t|\n",
    "```\n",
    "\n",
    "(sql:primer:basic)=\n",
    "### Basic query\n",
    "The most basic SQL query will have a `SELECT` and `FROM` clause. Select lets you choose the columns\n",
    "you want. In case you want all the columns, you can use `*`, which indicates to SQL you want all the columns. \n",
    "The `FROM` clause lets you specify the table you want to query. The following is the most basic SQL query:\n",
    "You can select all the columns by using `*` after the `SELECT`. Note all SQL queries are terminated \n",
    "by a semicolon (`;`). You can format your SQL with as many spaces and tabs as you like. To indicate to SQL\n",
    "that your query statement is complete, terminate it with a semicolon. \n",
    "\n",
    "Query: Select all columns and all rows from the `PatientCorePopulatedTable` table. \n",
    "\n",
    "```sql\n",
    "SELECT\n",
    "    *\n",
    "FROM\n",
    "    PatientCorePopulatedTable;\n",
    "```\n",
    "\n",
    "By default all the rows are selected since no filtering is applied."
   ]
  },
  {
   "cell_type": "code",
   "execution_count": 1,
   "id": "0ce5b257",
   "metadata": {
    "tags": [
     "hide-input",
     "output_scroll"
    ]
   },
   "outputs": [
    {
     "ename": "ModuleNotFoundError",
     "evalue": "No module named 'pandas'",
     "output_type": "error",
     "traceback": [
      "\u001b[0;31m---------------------------------------------------------------------------\u001b[0m",
      "\u001b[0;31mModuleNotFoundError\u001b[0m                       Traceback (most recent call last)",
      "Cell \u001b[0;32mIn[1], line 2\u001b[0m\n\u001b[1;32m      1\u001b[0m \u001b[38;5;28;01mimport\u001b[39;00m \u001b[38;5;21;01msqlite3\u001b[39;00m\n\u001b[0;32m----> 2\u001b[0m \u001b[38;5;28;01mimport\u001b[39;00m \u001b[38;5;21;01mpandas\u001b[39;00m \u001b[38;5;28;01mas\u001b[39;00m \u001b[38;5;21;01mpd\u001b[39;00m\n\u001b[1;32m      4\u001b[0m conn \u001b[38;5;241m=\u001b[39m sqlite3\u001b[38;5;241m.\u001b[39mconnect(\u001b[38;5;124m'\u001b[39m\u001b[38;5;124m100_patients.db\u001b[39m\u001b[38;5;124m'\u001b[39m)\n\u001b[1;32m      6\u001b[0m sql_statement \u001b[38;5;241m=\u001b[39m \u001b[38;5;124m\"\"\"\u001b[39m\n\u001b[1;32m      7\u001b[0m \u001b[38;5;124mSELECT\u001b[39m\n\u001b[1;32m      8\u001b[0m \u001b[38;5;124m    *\u001b[39m\n\u001b[1;32m      9\u001b[0m \u001b[38;5;124mFROM\u001b[39m\n\u001b[1;32m     10\u001b[0m \u001b[38;5;124m    PatientCorePopulatedTable;\u001b[39m\n\u001b[1;32m     11\u001b[0m \u001b[38;5;124m\"\"\"\u001b[39m\n",
      "\u001b[0;31mModuleNotFoundError\u001b[0m: No module named 'pandas'"
     ]
    }
   ],
   "source": [
    "import sqlite3\n",
    "import pandas as pd\n",
    "\n",
    "conn = sqlite3.connect('100_patients.db')\n",
    "\n",
    "sql_statement = \"\"\"\n",
    "SELECT\n",
    "    *\n",
    "FROM\n",
    "    PatientCorePopulatedTable;\n",
    "\"\"\"\n",
    "df = pd.read_sql_query(sql_statement, conn)\n",
    "df.style.set_table_attributes('style=\"font-size: 12px\"')"
   ]
  },
  {
   "cell_type": "markdown",
   "id": "4a67d947",
   "metadata": {},
   "source": [
    "(sql:primer:limit_rows)=\n",
    "### Limit rows\n",
    "You can limit the number of rows to 10 by adding `LIMIT 10` after the `FROM` clause. \n",
    "\n",
    "**Query:** Select all columns and from the `PatientCorePopulatedTable` table and limit to 10 rows. \n",
    "\n",
    "```sql\n",
    "SELECT\n",
    "    *\n",
    "FROM\n",
    "    PatientCorePopulatedTable\n",
    "LIMIT 10;\n",
    "```"
   ]
  },
  {
   "cell_type": "code",
   "execution_count": 2,
   "id": "09ab12a1",
   "metadata": {
    "tags": [
     "hide-input"
    ]
   },
   "outputs": [
    {
     "ename": "ModuleNotFoundError",
     "evalue": "No module named 'pandas'",
     "output_type": "error",
     "traceback": [
      "\u001b[0;31m---------------------------------------------------------------------------\u001b[0m",
      "\u001b[0;31mModuleNotFoundError\u001b[0m                       Traceback (most recent call last)",
      "Cell \u001b[0;32mIn[2], line 2\u001b[0m\n\u001b[1;32m      1\u001b[0m \u001b[38;5;28;01mimport\u001b[39;00m \u001b[38;5;21;01msqlite3\u001b[39;00m\n\u001b[0;32m----> 2\u001b[0m \u001b[38;5;28;01mimport\u001b[39;00m \u001b[38;5;21;01mpandas\u001b[39;00m \u001b[38;5;28;01mas\u001b[39;00m \u001b[38;5;21;01mpd\u001b[39;00m\n\u001b[1;32m      4\u001b[0m conn \u001b[38;5;241m=\u001b[39m sqlite3\u001b[38;5;241m.\u001b[39mconnect(\u001b[38;5;124m'\u001b[39m\u001b[38;5;124m100_patients.db\u001b[39m\u001b[38;5;124m'\u001b[39m)\n\u001b[1;32m      6\u001b[0m sql_statement \u001b[38;5;241m=\u001b[39m \u001b[38;5;124m\"\"\"\u001b[39m\n\u001b[1;32m      7\u001b[0m \u001b[38;5;124mSELECT\u001b[39m\n\u001b[1;32m      8\u001b[0m \u001b[38;5;124m    *\u001b[39m\n\u001b[0;32m   (...)\u001b[0m\n\u001b[1;32m     11\u001b[0m \u001b[38;5;124mLIMIT 10;\u001b[39m\n\u001b[1;32m     12\u001b[0m \u001b[38;5;124m\"\"\"\u001b[39m\n",
      "\u001b[0;31mModuleNotFoundError\u001b[0m: No module named 'pandas'"
     ]
    }
   ],
   "source": [
    "import sqlite3\n",
    "import pandas as pd\n",
    "\n",
    "conn = sqlite3.connect('100_patients.db')\n",
    "\n",
    "sql_statement = \"\"\"\n",
    "SELECT\n",
    "    *\n",
    "FROM\n",
    "    PatientCorePopulatedTable\n",
    "LIMIT 10;\n",
    "\"\"\"\n",
    "df = pd.read_sql_query(sql_statement, conn)\n",
    "df.style.set_table_attributes('style=\"font-size: 12px\"')"
   ]
  },
  {
   "cell_type": "markdown",
   "id": "bf126519",
   "metadata": {},
   "source": [
    "(sql:primer:select_some_columns)=\n",
    "### Select some columns\n",
    "You can select columns from a table by specifying them after the `SELECT` clause. Multiple\n",
    "columns are separated by a comma (`,`). \n",
    "\n",
    "**Query**: Select the PatientID and PatientDateOfBirth columns and limit to 10 rows.\n",
    "\n",
    "```sql\n",
    "SELECT\n",
    "    PatientID,\n",
    "    PatientDateOfBirth\n",
    "FROM\n",
    "    PatientCorePopulatedTable\n",
    "LIMIT 10;\n",
    "```"
   ]
  },
  {
   "cell_type": "code",
   "execution_count": 3,
   "id": "15ba34b8",
   "metadata": {
    "tags": [
     "hide-input"
    ]
   },
   "outputs": [
    {
     "ename": "ModuleNotFoundError",
     "evalue": "No module named 'pandas'",
     "output_type": "error",
     "traceback": [
      "\u001b[0;31m---------------------------------------------------------------------------\u001b[0m",
      "\u001b[0;31mModuleNotFoundError\u001b[0m                       Traceback (most recent call last)",
      "Cell \u001b[0;32mIn[3], line 2\u001b[0m\n\u001b[1;32m      1\u001b[0m \u001b[38;5;28;01mimport\u001b[39;00m \u001b[38;5;21;01msqlite3\u001b[39;00m\n\u001b[0;32m----> 2\u001b[0m \u001b[38;5;28;01mimport\u001b[39;00m \u001b[38;5;21;01mpandas\u001b[39;00m \u001b[38;5;28;01mas\u001b[39;00m \u001b[38;5;21;01mpd\u001b[39;00m\n\u001b[1;32m      4\u001b[0m conn \u001b[38;5;241m=\u001b[39m sqlite3\u001b[38;5;241m.\u001b[39mconnect(\u001b[38;5;124m'\u001b[39m\u001b[38;5;124m100_patients.db\u001b[39m\u001b[38;5;124m'\u001b[39m)\n\u001b[1;32m      6\u001b[0m sql_statement \u001b[38;5;241m=\u001b[39m \u001b[38;5;124m\"\"\"\u001b[39m\n\u001b[1;32m      7\u001b[0m \u001b[38;5;124mSELECT\u001b[39m\n\u001b[1;32m      8\u001b[0m \u001b[38;5;124m    PatientID,\u001b[39m\n\u001b[0;32m   (...)\u001b[0m\n\u001b[1;32m     12\u001b[0m \u001b[38;5;124mLIMIT 10;\u001b[39m\n\u001b[1;32m     13\u001b[0m \u001b[38;5;124m\"\"\"\u001b[39m\n",
      "\u001b[0;31mModuleNotFoundError\u001b[0m: No module named 'pandas'"
     ]
    }
   ],
   "source": [
    "import sqlite3\n",
    "import pandas as pd\n",
    "\n",
    "conn = sqlite3.connect('100_patients.db')\n",
    "\n",
    "sql_statement = \"\"\"\n",
    "SELECT\n",
    "    PatientID,\n",
    "    PatientDateOfBirth\n",
    "FROM\n",
    "    PatientCorePopulatedTable\n",
    "LIMIT 10;\n",
    "\"\"\"\n",
    "df = pd.read_sql_query(sql_statement, conn)\n",
    "df.style.set_table_attributes('style=\"font-size: 12px\"')"
   ]
  },
  {
   "cell_type": "markdown",
   "id": "848d486d",
   "metadata": {},
   "source": [
    "(sql:primer:using_column_alias)=\n",
    "### Using column alias\n",
    "Notice that all the column names are prefixed by `Patient`. You can give columns a different name, meaning an alias. \n",
    "There are two ways to do alias. You can put the alias name right after the actual column name, e.g., `PatientID PTID`\n",
    "or you can use the `AS` keyword to indicate explicitly that you are aliasing a column name, e.g., `PatientID AS PTID`.\n",
    "Note that if the alias has a space, then it should be in quotes. \n",
    "\n",
    "**Query**: Select the PatientID and PatientDateOfBirth columns, but alias PatientID to PTID and PatientDateOfBirth \n",
    "to \"Date of Birth\" and limit to 10 rows.\n",
    "\n",
    "```sql\n",
    "SELECT\n",
    "    PatientID PTID, \n",
    "    PatientDateOfBirth AS \"Date of Birth\"\n",
    "FROM\n",
    "    PatientCorePopulatedTable\n",
    "LIMIT 10;\n",
    "```"
   ]
  },
  {
   "cell_type": "code",
   "execution_count": 4,
   "id": "39583f61",
   "metadata": {
    "tags": [
     "hide-input"
    ]
   },
   "outputs": [
    {
     "ename": "ModuleNotFoundError",
     "evalue": "No module named 'pandas'",
     "output_type": "error",
     "traceback": [
      "\u001b[0;31m---------------------------------------------------------------------------\u001b[0m",
      "\u001b[0;31mModuleNotFoundError\u001b[0m                       Traceback (most recent call last)",
      "Cell \u001b[0;32mIn[4], line 2\u001b[0m\n\u001b[1;32m      1\u001b[0m \u001b[38;5;28;01mimport\u001b[39;00m \u001b[38;5;21;01msqlite3\u001b[39;00m\n\u001b[0;32m----> 2\u001b[0m \u001b[38;5;28;01mimport\u001b[39;00m \u001b[38;5;21;01mpandas\u001b[39;00m \u001b[38;5;28;01mas\u001b[39;00m \u001b[38;5;21;01mpd\u001b[39;00m\n\u001b[1;32m      4\u001b[0m conn \u001b[38;5;241m=\u001b[39m sqlite3\u001b[38;5;241m.\u001b[39mconnect(\u001b[38;5;124m'\u001b[39m\u001b[38;5;124m100_patients.db\u001b[39m\u001b[38;5;124m'\u001b[39m)\n\u001b[1;32m      6\u001b[0m sql_statement \u001b[38;5;241m=\u001b[39m \u001b[38;5;124m\"\"\"\u001b[39m\n\u001b[1;32m      7\u001b[0m \u001b[38;5;124mSELECT\u001b[39m\n\u001b[1;32m      8\u001b[0m \u001b[38;5;124m    PatientID PTID, \u001b[39m\n\u001b[0;32m   (...)\u001b[0m\n\u001b[1;32m     12\u001b[0m \u001b[38;5;124mLIMIT 10;\u001b[39m\n\u001b[1;32m     13\u001b[0m \u001b[38;5;124m\"\"\"\u001b[39m\n",
      "\u001b[0;31mModuleNotFoundError\u001b[0m: No module named 'pandas'"
     ]
    }
   ],
   "source": [
    "import sqlite3\n",
    "import pandas as pd\n",
    "\n",
    "conn = sqlite3.connect('100_patients.db')\n",
    "\n",
    "sql_statement = \"\"\"\n",
    "SELECT\n",
    "    PatientID PTID, \n",
    "    PatientDateOfBirth AS \"Date of Birth\"\n",
    "FROM\n",
    "    PatientCorePopulatedTable\n",
    "LIMIT 10;\n",
    "\"\"\"\n",
    "df = pd.read_sql_query(sql_statement, conn)\n",
    "df.style.set_table_attributes('style=\"font-size: 12px\"')"
   ]
  },
  {
   "cell_type": "markdown",
   "id": "3a9f5bb3",
   "metadata": {},
   "source": [
    "(sql:primer:adding_column)=\n",
    "### Adding columns not from the table\n",
    "Besides selecting columns in the table, you can also add the following columns to your query:\n",
    "1. literals such as numbers or strings\n",
    "1. Math expressions such as `PatientPopulationPercentageBelowPoverty + 1`, or `PatientPopulationPercentageBelowPoverty * 100`\n",
    "\n",
    "**Query**: Select the PatientID, Hospital, and PatientPopulationPercentageBelowPoverty columns, alias PatientID to PTID, \n",
    "make the `Hospital` column 'Buffalo General', multiply `PatientPopulationPercentageBelowPoverty` by 10 and alias it to\n",
    "`Poverty Level`, and limit to 10 rows. Note that if the alias name has a space, then the name needs to inside of quotes. \n",
    "\n",
    "```sql\n",
    "SELECT\n",
    "    PatientID PTID, \n",
    "    'Buffalo General' Hospital,\n",
    "    PatientPopulationPercentageBelowPoverty * 10 \"Poverty Level\"\n",
    "FROM\n",
    "    PatientCorePopulatedTable\n",
    "LIMIT 10;\n",
    "```"
   ]
  },
  {
   "cell_type": "code",
   "execution_count": 5,
   "id": "01bd994c",
   "metadata": {
    "tags": [
     "hide-input"
    ]
   },
   "outputs": [
    {
     "ename": "ModuleNotFoundError",
     "evalue": "No module named 'pandas'",
     "output_type": "error",
     "traceback": [
      "\u001b[0;31m---------------------------------------------------------------------------\u001b[0m",
      "\u001b[0;31mModuleNotFoundError\u001b[0m                       Traceback (most recent call last)",
      "Cell \u001b[0;32mIn[5], line 2\u001b[0m\n\u001b[1;32m      1\u001b[0m \u001b[38;5;28;01mimport\u001b[39;00m \u001b[38;5;21;01msqlite3\u001b[39;00m\n\u001b[0;32m----> 2\u001b[0m \u001b[38;5;28;01mimport\u001b[39;00m \u001b[38;5;21;01mpandas\u001b[39;00m \u001b[38;5;28;01mas\u001b[39;00m \u001b[38;5;21;01mpd\u001b[39;00m\n\u001b[1;32m      4\u001b[0m conn \u001b[38;5;241m=\u001b[39m sqlite3\u001b[38;5;241m.\u001b[39mconnect(\u001b[38;5;124m'\u001b[39m\u001b[38;5;124m100_patients.db\u001b[39m\u001b[38;5;124m'\u001b[39m)\n\u001b[1;32m      6\u001b[0m sql_statement \u001b[38;5;241m=\u001b[39m \u001b[38;5;124m\"\"\"\u001b[39m\n\u001b[1;32m      7\u001b[0m \u001b[38;5;124mSELECT\u001b[39m\n\u001b[1;32m      8\u001b[0m \u001b[38;5;124m    PatientID PTID, \u001b[39m\n\u001b[0;32m   (...)\u001b[0m\n\u001b[1;32m     13\u001b[0m \u001b[38;5;124mLIMIT 10;\u001b[39m\n\u001b[1;32m     14\u001b[0m \u001b[38;5;124m\"\"\"\u001b[39m\n",
      "\u001b[0;31mModuleNotFoundError\u001b[0m: No module named 'pandas'"
     ]
    }
   ],
   "source": [
    "import sqlite3\n",
    "import pandas as pd\n",
    "\n",
    "conn = sqlite3.connect('100_patients.db')\n",
    "\n",
    "sql_statement = \"\"\"\n",
    "SELECT\n",
    "    PatientID PTID, \n",
    "    'Buffalo General' Hospital,\n",
    "    PatientPopulationPercentageBelowPoverty * 10 \"Poverty Level\"\n",
    "FROM\n",
    "    PatientCorePopulatedTable\n",
    "LIMIT 10;\n",
    "\"\"\"\n",
    "df = pd.read_sql_query(sql_statement, conn)\n",
    "df.style.set_table_attributes('style=\"font-size: 12px\"')"
   ]
  },
  {
   "cell_type": "markdown",
   "id": "cb36c68b",
   "metadata": {},
   "source": [
    "(sql:primer:removing_duplicates)=\n",
    "### Removing duplicates\n",
    "In some cases you might get duplicate rows. You remove these duplicate rows by putting the `DISTINCT` keyword\n",
    "after the `SELECT` keyword. One use of this is to get distinct values of a given column. \n",
    "\n",
    "Query: Select only the `PatientMaritalStatus` column from the `PatientCorePopulatedTable` table.\n",
    "\n",
    "```sql\n",
    "SELECT\n",
    "    PatientMaritalStatus\n",
    "FROM\n",
    "    PatientCorePopulatedTable;\n",
    "```"
   ]
  },
  {
   "cell_type": "code",
   "execution_count": 6,
   "id": "6ad68605",
   "metadata": {
    "tags": [
     "hide-input",
     "output_scroll"
    ]
   },
   "outputs": [
    {
     "ename": "ModuleNotFoundError",
     "evalue": "No module named 'pandas'",
     "output_type": "error",
     "traceback": [
      "\u001b[0;31m---------------------------------------------------------------------------\u001b[0m",
      "\u001b[0;31mModuleNotFoundError\u001b[0m                       Traceback (most recent call last)",
      "Cell \u001b[0;32mIn[6], line 2\u001b[0m\n\u001b[1;32m      1\u001b[0m \u001b[38;5;28;01mimport\u001b[39;00m \u001b[38;5;21;01msqlite3\u001b[39;00m\n\u001b[0;32m----> 2\u001b[0m \u001b[38;5;28;01mimport\u001b[39;00m \u001b[38;5;21;01mpandas\u001b[39;00m \u001b[38;5;28;01mas\u001b[39;00m \u001b[38;5;21;01mpd\u001b[39;00m\n\u001b[1;32m      4\u001b[0m conn \u001b[38;5;241m=\u001b[39m sqlite3\u001b[38;5;241m.\u001b[39mconnect(\u001b[38;5;124m'\u001b[39m\u001b[38;5;124m100_patients.db\u001b[39m\u001b[38;5;124m'\u001b[39m)\n\u001b[1;32m      6\u001b[0m sql_statement \u001b[38;5;241m=\u001b[39m \u001b[38;5;124m\"\"\"\u001b[39m\n\u001b[1;32m      7\u001b[0m \u001b[38;5;124mSELECT\u001b[39m\n\u001b[1;32m      8\u001b[0m \u001b[38;5;124m    PatientMaritalStatus\u001b[39m\n\u001b[1;32m      9\u001b[0m \u001b[38;5;124mFROM\u001b[39m\n\u001b[1;32m     10\u001b[0m \u001b[38;5;124m    PatientCorePopulatedTable;\u001b[39m\n\u001b[1;32m     11\u001b[0m \u001b[38;5;124m\"\"\"\u001b[39m\n",
      "\u001b[0;31mModuleNotFoundError\u001b[0m: No module named 'pandas'"
     ]
    }
   ],
   "source": [
    "import sqlite3\n",
    "import pandas as pd\n",
    "\n",
    "conn = sqlite3.connect('100_patients.db')\n",
    "\n",
    "sql_statement = \"\"\"\n",
    "SELECT\n",
    "    PatientMaritalStatus\n",
    "FROM\n",
    "    PatientCorePopulatedTable;\n",
    "\"\"\"\n",
    "df = pd.read_sql_query(sql_statement, conn)\n",
    "df.style.set_table_attributes('style=\"font-size: 12px\"')"
   ]
  },
  {
   "cell_type": "markdown",
   "id": "b05564cb",
   "metadata": {},
   "source": [
    "**Query:** Select the `PatientMaritalStatus` column from the `PatientCorePopulatedTable` table but\n",
    "only select distinct values. \n",
    "\n",
    "```sql\n",
    "SELECT DISTINCT\n",
    "    PatientMaritalStatus\n",
    "FROM\n",
    "    PatientCorePopulatedTable;\n",
    "```"
   ]
  },
  {
   "cell_type": "code",
   "execution_count": 7,
   "id": "159a1135",
   "metadata": {
    "tags": [
     "hide-input",
     "output_scroll"
    ]
   },
   "outputs": [
    {
     "ename": "ModuleNotFoundError",
     "evalue": "No module named 'pandas'",
     "output_type": "error",
     "traceback": [
      "\u001b[0;31m---------------------------------------------------------------------------\u001b[0m",
      "\u001b[0;31mModuleNotFoundError\u001b[0m                       Traceback (most recent call last)",
      "Cell \u001b[0;32mIn[7], line 2\u001b[0m\n\u001b[1;32m      1\u001b[0m \u001b[38;5;28;01mimport\u001b[39;00m \u001b[38;5;21;01msqlite3\u001b[39;00m\n\u001b[0;32m----> 2\u001b[0m \u001b[38;5;28;01mimport\u001b[39;00m \u001b[38;5;21;01mpandas\u001b[39;00m \u001b[38;5;28;01mas\u001b[39;00m \u001b[38;5;21;01mpd\u001b[39;00m\n\u001b[1;32m      4\u001b[0m conn \u001b[38;5;241m=\u001b[39m sqlite3\u001b[38;5;241m.\u001b[39mconnect(\u001b[38;5;124m'\u001b[39m\u001b[38;5;124m100_patients.db\u001b[39m\u001b[38;5;124m'\u001b[39m)\n\u001b[1;32m      6\u001b[0m sql_statement \u001b[38;5;241m=\u001b[39m \u001b[38;5;124m\"\"\"\u001b[39m\n\u001b[1;32m      7\u001b[0m \u001b[38;5;124mSELECT DISTINCT\u001b[39m\n\u001b[1;32m      8\u001b[0m \u001b[38;5;124m    PatientMaritalStatus\u001b[39m\n\u001b[1;32m      9\u001b[0m \u001b[38;5;124mFROM\u001b[39m\n\u001b[1;32m     10\u001b[0m \u001b[38;5;124m    PatientCorePopulatedTable;\u001b[39m\n\u001b[1;32m     11\u001b[0m \u001b[38;5;124m\"\"\"\u001b[39m\n",
      "\u001b[0;31mModuleNotFoundError\u001b[0m: No module named 'pandas'"
     ]
    }
   ],
   "source": [
    "import sqlite3\n",
    "import pandas as pd\n",
    "\n",
    "conn = sqlite3.connect('100_patients.db')\n",
    "\n",
    "sql_statement = \"\"\"\n",
    "SELECT DISTINCT\n",
    "    PatientMaritalStatus\n",
    "FROM\n",
    "    PatientCorePopulatedTable;\n",
    "\"\"\"\n",
    "df = pd.read_sql_query(sql_statement, conn)\n",
    "df.style.set_table_attributes('style=\"font-size: 12px\"')"
   ]
  },
  {
   "cell_type": "markdown",
   "id": "e2f75717",
   "metadata": {},
   "source": [
    "(sql:primer:removing_duplicates_2)=\n",
    "### Removing duplicates with multiple columns\n",
    "The `DISTINCT` keyword can also be used to find distinct combination of columns. **It is also used sometimes with joins\n",
    "to remove duplicate rows.**\n",
    "\n",
    "**Query:** Select  `PatientRace` and `PatientMaritalStatus` columns from the `PatientCorePopulatedTable` table but\n",
    "only select distinct values. This query finds the distinct combinations of race and martial status. \n",
    "\n",
    "```sql\n",
    "SELECT DISTINCT\n",
    "    PatientRace,\n",
    "    PatientMaritalStatus\n",
    "FROM\n",
    "    PatientCorePopulatedTable\n",
    "ORDER BY PatientRace, PatientMaritalStatus\n",
    "```"
   ]
  },
  {
   "cell_type": "code",
   "execution_count": 8,
   "id": "05fe87ff",
   "metadata": {
    "tags": [
     "hide-input",
     "output_scroll"
    ]
   },
   "outputs": [
    {
     "ename": "ModuleNotFoundError",
     "evalue": "No module named 'pandas'",
     "output_type": "error",
     "traceback": [
      "\u001b[0;31m---------------------------------------------------------------------------\u001b[0m",
      "\u001b[0;31mModuleNotFoundError\u001b[0m                       Traceback (most recent call last)",
      "Cell \u001b[0;32mIn[8], line 2\u001b[0m\n\u001b[1;32m      1\u001b[0m \u001b[38;5;28;01mimport\u001b[39;00m \u001b[38;5;21;01msqlite3\u001b[39;00m\n\u001b[0;32m----> 2\u001b[0m \u001b[38;5;28;01mimport\u001b[39;00m \u001b[38;5;21;01mpandas\u001b[39;00m \u001b[38;5;28;01mas\u001b[39;00m \u001b[38;5;21;01mpd\u001b[39;00m\n\u001b[1;32m      4\u001b[0m conn \u001b[38;5;241m=\u001b[39m sqlite3\u001b[38;5;241m.\u001b[39mconnect(\u001b[38;5;124m'\u001b[39m\u001b[38;5;124m100_patients.db\u001b[39m\u001b[38;5;124m'\u001b[39m)\n\u001b[1;32m      6\u001b[0m sql_statement \u001b[38;5;241m=\u001b[39m \u001b[38;5;124m\"\"\"\u001b[39m\n\u001b[1;32m      7\u001b[0m \u001b[38;5;124mSELECT DISTINCT\u001b[39m\n\u001b[1;32m      8\u001b[0m \u001b[38;5;124m    PatientRace,\u001b[39m\n\u001b[0;32m   (...)\u001b[0m\n\u001b[1;32m     12\u001b[0m \u001b[38;5;124mORDER BY PatientRace, PatientMaritalStatus\u001b[39m\n\u001b[1;32m     13\u001b[0m \u001b[38;5;124m\"\"\"\u001b[39m\n",
      "\u001b[0;31mModuleNotFoundError\u001b[0m: No module named 'pandas'"
     ]
    }
   ],
   "source": [
    "import sqlite3\n",
    "import pandas as pd\n",
    "\n",
    "conn = sqlite3.connect('100_patients.db')\n",
    "\n",
    "sql_statement = \"\"\"\n",
    "SELECT DISTINCT\n",
    "    PatientRace,\n",
    "    PatientMaritalStatus\n",
    "FROM\n",
    "    PatientCorePopulatedTable\n",
    "ORDER BY PatientRace, PatientMaritalStatus\n",
    "\"\"\"\n",
    "df = pd.read_sql_query(sql_statement, conn)\n",
    "df.style.set_table_attributes('style=\"font-size: 12px\"')"
   ]
  },
  {
   "cell_type": "markdown",
   "id": "6494c9d9",
   "metadata": {},
   "source": [
    "### `FROM` multiple tables\n",
    "The power of SQL lies in the fact that you can combine tables together based on some shared column between\n",
    "tables. The `FROM` clause allows you to select from multiple tables. \n",
    "\n",
    "You should now that there are four types of tables in SQL:\n",
    "1. Permanent tables (i.e., created using the `CREATE TABLE` statement)\n",
    "2. Derived tables (i.e., rows returned by a subquery and held in memory)\n",
    "3. Temporary tables (i.e., volatile data held in memory)\n",
    "4. Virtual tables (i.e, created using the `CREATE VIEW` statement)\n",
    "\n",
    "We have been using permanent tables so far. Temporary and virtual tables will be covered later. The following\n",
    "is an example a derived table. \n",
    "\n",
    "(sql:primer:derived_table)=\n",
    "#### Derived table\n",
    "A derived query is a query held in memory. You surround it a pair of parenthesis and give it a name. \n",
    "\n",
    "**Query**: Create a subquery called `dx_codes` which selects the `PrimaryDiagnosisCode` and `PrimaryDiagnosisDescription`\n",
    "columns from the `AdmissionsDiagnosesCorePopulatedTable` where the `AdmissionID` is equal to `1`. Then use this derived query in another query that concatenates the diagnosis code and diagnosis description, e.g., \"(M01.X) Direct infection of joint in infectious and parasitic diseases classified elsewhere\". Fields and string literals can be concatenated in SQLite using `||`. \n",
    "\n",
    "```sql\n",
    "SELECT '(' || dx_codes.code || ') ' || dx_codes.description AS CodeWDescription\n",
    "FROM\n",
    "   (\n",
    "     SELECT\n",
    "       PrimaryDiagnosisCode code,\n",
    "       PrimaryDiagnosisDescription description \n",
    "     FROM\n",
    "       AdmissionsDiagnosesCorePopulatedTable\n",
    "      WHERE AdmissionID = 1\n",
    "   ) dx_codes\n",
    "```"
   ]
  },
  {
   "cell_type": "code",
   "execution_count": 9,
   "id": "4fa1c8c3",
   "metadata": {
    "tags": [
     "hide-input",
     "output_scroll"
    ]
   },
   "outputs": [
    {
     "ename": "ModuleNotFoundError",
     "evalue": "No module named 'pandas'",
     "output_type": "error",
     "traceback": [
      "\u001b[0;31m---------------------------------------------------------------------------\u001b[0m",
      "\u001b[0;31mModuleNotFoundError\u001b[0m                       Traceback (most recent call last)",
      "Cell \u001b[0;32mIn[9], line 2\u001b[0m\n\u001b[1;32m      1\u001b[0m \u001b[38;5;28;01mimport\u001b[39;00m \u001b[38;5;21;01msqlite3\u001b[39;00m\n\u001b[0;32m----> 2\u001b[0m \u001b[38;5;28;01mimport\u001b[39;00m \u001b[38;5;21;01mpandas\u001b[39;00m \u001b[38;5;28;01mas\u001b[39;00m \u001b[38;5;21;01mpd\u001b[39;00m\n\u001b[1;32m      4\u001b[0m conn \u001b[38;5;241m=\u001b[39m sqlite3\u001b[38;5;241m.\u001b[39mconnect(\u001b[38;5;124m'\u001b[39m\u001b[38;5;124m100_patients.db\u001b[39m\u001b[38;5;124m'\u001b[39m)\n\u001b[1;32m      6\u001b[0m sql_statement \u001b[38;5;241m=\u001b[39m \u001b[38;5;124m\"\"\"\u001b[39m\n\u001b[1;32m      7\u001b[0m \u001b[38;5;124mSELECT \u001b[39m\u001b[38;5;124m'\u001b[39m\u001b[38;5;124m(\u001b[39m\u001b[38;5;124m'\u001b[39m\u001b[38;5;124m || dx_codes.code || \u001b[39m\u001b[38;5;124m'\u001b[39m\u001b[38;5;124m) \u001b[39m\u001b[38;5;124m'\u001b[39m\u001b[38;5;124m || dx_codes.description AS CodeWDescription\u001b[39m\n\u001b[1;32m      8\u001b[0m \u001b[38;5;124mFROM\u001b[39m\n\u001b[0;32m   (...)\u001b[0m\n\u001b[1;32m     16\u001b[0m \u001b[38;5;124m   ) dx_codes\u001b[39m\n\u001b[1;32m     17\u001b[0m \u001b[38;5;124m\"\"\"\u001b[39m\n",
      "\u001b[0;31mModuleNotFoundError\u001b[0m: No module named 'pandas'"
     ]
    }
   ],
   "source": [
    "import sqlite3\n",
    "import pandas as pd\n",
    "\n",
    "conn = sqlite3.connect('100_patients.db')\n",
    "\n",
    "sql_statement = \"\"\"\n",
    "SELECT '(' || dx_codes.code || ') ' || dx_codes.description AS CodeWDescription\n",
    "FROM\n",
    "   (\n",
    "     SELECT\n",
    "       PrimaryDiagnosisCode code,\n",
    "       PrimaryDiagnosisDescription description \n",
    "     FROM\n",
    "       AdmissionsDiagnosesCorePopulatedTable\n",
    "      WHERE AdmissionID = 1\n",
    "   ) dx_codes\n",
    "\"\"\"\n",
    "df = pd.read_sql_query(sql_statement, conn)\n",
    "df.style.set_table_attributes('style=\"font-size: 12px\"')"
   ]
  },
  {
   "cell_type": "markdown",
   "id": "85ce2126",
   "metadata": {},
   "source": [
    "(sql:primer:where_clause)=\n",
    "### The `WHERE` Clause\n",
    "The `WHERE` clause allows you to filter out unwanted rows. For string fields, you can use the equality operator (`=`) or \n",
    "the `LIKE` operator. For numerical and date fields, you can use all the usually operators such as greater than, less than, etc. \n",
    "`WHERE` clauses can be combined using `AND` and `OR`. Parenthesis can be used to clarify grouping of the clauses. The\n",
    "`WHERE` clauses are put after the `FROM` clause. \n",
    "\n",
    "**Query:** Select all patients from `PatientCorePopulatedTable` table that are either married and african american or married and white and \n",
    "the `PatientPopulationPercentageBelowPoverty` is above 15. Select the following columns: PatientID, PatientRace, PatientMaritalStatus and\n",
    "PatientPopulationPercentageBelowPoverty. \n",
    "\n",
    "```sql\n",
    "SELECT \n",
    "  PatientID, \n",
    "  PatientRace, \n",
    "  PatientMaritalStatus,\n",
    "  PatientPopulationPercentageBelowPoverty\n",
    "FROM\n",
    "  PatientCorePopulatedTable\n",
    "WHERE ((PatientRace = 'White' AND PatientMaritalStatus\t= 'Married') OR (PatientRace = 'African American' AND PatientMaritalStatus = 'Married'))\n",
    "  AND PatientPopulationPercentageBelowPoverty > 15\n",
    "```"
   ]
  },
  {
   "cell_type": "code",
   "execution_count": 10,
   "id": "ea318af8",
   "metadata": {
    "tags": [
     "hide-input",
     "output_scroll"
    ]
   },
   "outputs": [
    {
     "ename": "ModuleNotFoundError",
     "evalue": "No module named 'pandas'",
     "output_type": "error",
     "traceback": [
      "\u001b[0;31m---------------------------------------------------------------------------\u001b[0m",
      "\u001b[0;31mModuleNotFoundError\u001b[0m                       Traceback (most recent call last)",
      "Cell \u001b[0;32mIn[10], line 2\u001b[0m\n\u001b[1;32m      1\u001b[0m \u001b[38;5;28;01mimport\u001b[39;00m \u001b[38;5;21;01msqlite3\u001b[39;00m\n\u001b[0;32m----> 2\u001b[0m \u001b[38;5;28;01mimport\u001b[39;00m \u001b[38;5;21;01mpandas\u001b[39;00m \u001b[38;5;28;01mas\u001b[39;00m \u001b[38;5;21;01mpd\u001b[39;00m\n\u001b[1;32m      4\u001b[0m conn \u001b[38;5;241m=\u001b[39m sqlite3\u001b[38;5;241m.\u001b[39mconnect(\u001b[38;5;124m'\u001b[39m\u001b[38;5;124m100_patients.db\u001b[39m\u001b[38;5;124m'\u001b[39m)\n\u001b[1;32m      6\u001b[0m sql_statement \u001b[38;5;241m=\u001b[39m \u001b[38;5;124m\"\"\"\u001b[39m\n\u001b[1;32m      7\u001b[0m \u001b[38;5;124mSELECT \u001b[39m\n\u001b[1;32m      8\u001b[0m \u001b[38;5;124m  PatientID, \u001b[39m\n\u001b[0;32m   (...)\u001b[0m\n\u001b[1;32m     19\u001b[0m \u001b[38;5;124m  AND PatientPopulationPercentageBelowPoverty > 15\u001b[39m\n\u001b[1;32m     20\u001b[0m \u001b[38;5;124m\"\"\"\u001b[39m\n",
      "\u001b[0;31mModuleNotFoundError\u001b[0m: No module named 'pandas'"
     ]
    }
   ],
   "source": [
    "import sqlite3\n",
    "import pandas as pd\n",
    "\n",
    "conn = sqlite3.connect('100_patients.db')\n",
    "\n",
    "sql_statement = \"\"\"\n",
    "SELECT \n",
    "  PatientID, \n",
    "  PatientRace, \n",
    "  PatientMaritalStatus,\n",
    "  PatientPopulationPercentageBelowPoverty\n",
    "FROM\n",
    "  PatientCorePopulatedTable\n",
    "WHERE (\n",
    "\t(\n",
    "\t\tPatientRace = 'White' AND PatientMaritalStatus\t= 'Married') \n",
    "\t\tOR (PatientRace = 'African American' AND PatientMaritalStatus\t= 'Married')\n",
    "\t)\n",
    "  AND PatientPopulationPercentageBelowPoverty > 15\n",
    "\"\"\"\n",
    "df = pd.read_sql_query(sql_statement, conn)\n",
    "df.style.set_table_attributes('style=\"font-size: 12px\"')"
   ]
  },
  {
   "cell_type": "markdown",
   "id": "8be7e3af",
   "metadata": {},
   "source": [
    "(sql:primer:order_by_clause)=\n",
    "### The `ORDER BY` Clauses \n",
    "You can order the the rows by column(s) using the `ORDER BY` clause. This clause is put after the `WHERE` clause. You can specify\n",
    "multiple columns separated by comma. You can also specify ascending order using the `ASC` keyword after the column name \n",
    "and descending order by using the `DESC` keyword. The default sorting order is ascending. A shortcut for descending is putting `-` before the column name. Finally\n",
    "you can sort the columns by its numerical position. \n",
    "\n",
    "#### Sort by columns\n",
    "\n",
    "**Query:** Select the `PatientMaritalStatus` and `PatientPopulationPercentageBelowPoverty` columns from \n",
    "the `PatientCorePopulatedTable` table and sort by `PatientPopulationPercentageBelowPoverty`.\n",
    "\n",
    "```sql\n",
    "SELECT \n",
    "  PatientMaritalStatus, \n",
    "  PatientPopulationPercentageBelowPoverty\n",
    "FROM\n",
    "  PatientCorePopulatedTable\n",
    "ORDER BY PatientPopulationPercentageBelowPoverty;\n",
    "```"
   ]
  },
  {
   "cell_type": "code",
   "execution_count": 11,
   "id": "e3d8d028",
   "metadata": {
    "tags": [
     "hide-input",
     "output_scroll"
    ]
   },
   "outputs": [
    {
     "ename": "ModuleNotFoundError",
     "evalue": "No module named 'pandas'",
     "output_type": "error",
     "traceback": [
      "\u001b[0;31m---------------------------------------------------------------------------\u001b[0m",
      "\u001b[0;31mModuleNotFoundError\u001b[0m                       Traceback (most recent call last)",
      "Cell \u001b[0;32mIn[11], line 2\u001b[0m\n\u001b[1;32m      1\u001b[0m \u001b[38;5;28;01mimport\u001b[39;00m \u001b[38;5;21;01msqlite3\u001b[39;00m\n\u001b[0;32m----> 2\u001b[0m \u001b[38;5;28;01mimport\u001b[39;00m \u001b[38;5;21;01mpandas\u001b[39;00m \u001b[38;5;28;01mas\u001b[39;00m \u001b[38;5;21;01mpd\u001b[39;00m\n\u001b[1;32m      4\u001b[0m conn \u001b[38;5;241m=\u001b[39m sqlite3\u001b[38;5;241m.\u001b[39mconnect(\u001b[38;5;124m'\u001b[39m\u001b[38;5;124m100_patients.db\u001b[39m\u001b[38;5;124m'\u001b[39m)\n\u001b[1;32m      6\u001b[0m sql_statement \u001b[38;5;241m=\u001b[39m \u001b[38;5;124m\"\"\"\u001b[39m\n\u001b[1;32m      7\u001b[0m \u001b[38;5;124mSELECT \u001b[39m\n\u001b[1;32m      8\u001b[0m \u001b[38;5;124m  PatientMaritalStatus, \u001b[39m\n\u001b[0;32m   (...)\u001b[0m\n\u001b[1;32m     12\u001b[0m \u001b[38;5;124mORDER BY PatientPopulationPercentageBelowPoverty;\u001b[39m\n\u001b[1;32m     13\u001b[0m \u001b[38;5;124m\"\"\"\u001b[39m\n",
      "\u001b[0;31mModuleNotFoundError\u001b[0m: No module named 'pandas'"
     ]
    }
   ],
   "source": [
    "import sqlite3\n",
    "import pandas as pd\n",
    "\n",
    "conn = sqlite3.connect('100_patients.db')\n",
    "\n",
    "sql_statement = \"\"\"\n",
    "SELECT \n",
    "  PatientMaritalStatus, \n",
    "  PatientPopulationPercentageBelowPoverty\n",
    "FROM\n",
    "  PatientCorePopulatedTable\n",
    "ORDER BY PatientPopulationPercentageBelowPoverty;\n",
    "\"\"\"\n",
    "df = pd.read_sql_query(sql_statement, conn)\n",
    "df.style.set_table_attributes('style=\"font-size: 12px\"')"
   ]
  },
  {
   "cell_type": "markdown",
   "id": "9a074438",
   "metadata": {},
   "source": [
    "**Query:** Select the `PatientMaritalStatus` and `PatientPopulationPercentageBelowPoverty` columns from \n",
    "the `PatientCorePopulatedTable` table and sort by `PatientMaritalStatus` and `PatientPopulationPercentageBelowPoverty`.\n",
    "\n",
    "```sql\n",
    "SELECT \n",
    "  PatientMaritalStatus, \n",
    "  PatientPopulationPercentageBelowPoverty\n",
    "FROM\n",
    "  PatientCorePopulatedTable\n",
    "ORDER BY PatientMaritalStatus, PatientPopulationPercentageBelowPoverty;\n",
    "```"
   ]
  },
  {
   "cell_type": "code",
   "execution_count": 12,
   "id": "2af46f8e",
   "metadata": {
    "tags": [
     "hide-input",
     "output_scroll"
    ]
   },
   "outputs": [
    {
     "ename": "ModuleNotFoundError",
     "evalue": "No module named 'pandas'",
     "output_type": "error",
     "traceback": [
      "\u001b[0;31m---------------------------------------------------------------------------\u001b[0m",
      "\u001b[0;31mModuleNotFoundError\u001b[0m                       Traceback (most recent call last)",
      "Cell \u001b[0;32mIn[12], line 2\u001b[0m\n\u001b[1;32m      1\u001b[0m \u001b[38;5;28;01mimport\u001b[39;00m \u001b[38;5;21;01msqlite3\u001b[39;00m\n\u001b[0;32m----> 2\u001b[0m \u001b[38;5;28;01mimport\u001b[39;00m \u001b[38;5;21;01mpandas\u001b[39;00m \u001b[38;5;28;01mas\u001b[39;00m \u001b[38;5;21;01mpd\u001b[39;00m\n\u001b[1;32m      4\u001b[0m conn \u001b[38;5;241m=\u001b[39m sqlite3\u001b[38;5;241m.\u001b[39mconnect(\u001b[38;5;124m'\u001b[39m\u001b[38;5;124m100_patients.db\u001b[39m\u001b[38;5;124m'\u001b[39m)\n\u001b[1;32m      6\u001b[0m sql_statement \u001b[38;5;241m=\u001b[39m \u001b[38;5;124m\"\"\"\u001b[39m\n\u001b[1;32m      7\u001b[0m \u001b[38;5;124mSELECT \u001b[39m\n\u001b[1;32m      8\u001b[0m \u001b[38;5;124m  PatientMaritalStatus, \u001b[39m\n\u001b[0;32m   (...)\u001b[0m\n\u001b[1;32m     12\u001b[0m \u001b[38;5;124mORDER BY PatientMaritalStatus, PatientPopulationPercentageBelowPoverty;\u001b[39m\n\u001b[1;32m     13\u001b[0m \u001b[38;5;124m\"\"\"\u001b[39m\n",
      "\u001b[0;31mModuleNotFoundError\u001b[0m: No module named 'pandas'"
     ]
    }
   ],
   "source": [
    "import sqlite3\n",
    "import pandas as pd\n",
    "\n",
    "conn = sqlite3.connect('100_patients.db')\n",
    "\n",
    "sql_statement = \"\"\"\n",
    "SELECT \n",
    "  PatientMaritalStatus, \n",
    "  PatientPopulationPercentageBelowPoverty\n",
    "FROM\n",
    "  PatientCorePopulatedTable\n",
    "ORDER BY PatientMaritalStatus, PatientPopulationPercentageBelowPoverty;\n",
    "\"\"\"\n",
    "df = pd.read_sql_query(sql_statement, conn)\n",
    "df.style.set_table_attributes('style=\"font-size: 12px\"')"
   ]
  },
  {
   "cell_type": "markdown",
   "id": "47ef5036",
   "metadata": {},
   "source": [
    "#### Ascending versus Descending Sort Order\n",
    "\n",
    "**Query:** Select the `PatientMaritalStatus` and `PatientPopulationPercentageBelowPoverty` columns from \n",
    "the `PatientCorePopulatedTable` table and sort by `PatientMaritalStatus` and `PatientPopulationPercentageBelowPoverty` by descending order\n",
    "using the keyword `DESC`.\n",
    "\n",
    "```sql\n",
    "SELECT \n",
    "  PatientMaritalStatus, \n",
    "  PatientPopulationPercentageBelowPoverty\n",
    "FROM\n",
    "  PatientCorePopulatedTable\n",
    "ORDER BY PatientMaritalStatus, PatientPopulationPercentageBelowPoverty DESC;\n",
    "```"
   ]
  },
  {
   "cell_type": "code",
   "execution_count": 13,
   "id": "c3d1e45d",
   "metadata": {
    "tags": [
     "hide-input",
     "output_scroll"
    ]
   },
   "outputs": [
    {
     "ename": "ModuleNotFoundError",
     "evalue": "No module named 'pandas'",
     "output_type": "error",
     "traceback": [
      "\u001b[0;31m---------------------------------------------------------------------------\u001b[0m",
      "\u001b[0;31mModuleNotFoundError\u001b[0m                       Traceback (most recent call last)",
      "Cell \u001b[0;32mIn[13], line 2\u001b[0m\n\u001b[1;32m      1\u001b[0m \u001b[38;5;28;01mimport\u001b[39;00m \u001b[38;5;21;01msqlite3\u001b[39;00m\n\u001b[0;32m----> 2\u001b[0m \u001b[38;5;28;01mimport\u001b[39;00m \u001b[38;5;21;01mpandas\u001b[39;00m \u001b[38;5;28;01mas\u001b[39;00m \u001b[38;5;21;01mpd\u001b[39;00m\n\u001b[1;32m      4\u001b[0m conn \u001b[38;5;241m=\u001b[39m sqlite3\u001b[38;5;241m.\u001b[39mconnect(\u001b[38;5;124m'\u001b[39m\u001b[38;5;124m100_patients.db\u001b[39m\u001b[38;5;124m'\u001b[39m)\n\u001b[1;32m      6\u001b[0m sql_statement \u001b[38;5;241m=\u001b[39m \u001b[38;5;124m\"\"\"\u001b[39m\n\u001b[1;32m      7\u001b[0m \u001b[38;5;124mSELECT \u001b[39m\n\u001b[1;32m      8\u001b[0m \u001b[38;5;124m  PatientMaritalStatus, \u001b[39m\n\u001b[0;32m   (...)\u001b[0m\n\u001b[1;32m     12\u001b[0m \u001b[38;5;124mORDER BY PatientMaritalStatus, PatientPopulationPercentageBelowPoverty DESC;\u001b[39m\n\u001b[1;32m     13\u001b[0m \u001b[38;5;124m\"\"\"\u001b[39m\n",
      "\u001b[0;31mModuleNotFoundError\u001b[0m: No module named 'pandas'"
     ]
    }
   ],
   "source": [
    "import sqlite3\n",
    "import pandas as pd\n",
    "\n",
    "conn = sqlite3.connect('100_patients.db')\n",
    "\n",
    "sql_statement = \"\"\"\n",
    "SELECT \n",
    "  PatientMaritalStatus, \n",
    "  PatientPopulationPercentageBelowPoverty\n",
    "FROM\n",
    "  PatientCorePopulatedTable\n",
    "ORDER BY PatientMaritalStatus, PatientPopulationPercentageBelowPoverty DESC;\n",
    "\"\"\"\n",
    "df = pd.read_sql_query(sql_statement, conn)\n",
    "df.style.set_table_attributes('style=\"font-size: 12px\"')"
   ]
  },
  {
   "cell_type": "markdown",
   "id": "dfd80f99",
   "metadata": {},
   "source": [
    "**Query:** Select the `PatientMaritalStatus` and `PatientPopulationPercentageBelowPoverty` columns from \n",
    "the `PatientCorePopulatedTable` table and sort by `PatientMaritalStatus` and `PatientPopulationPercentageBelowPoverty` by descending order\n",
    "using the `-`.\n",
    "\n",
    "```sql\n",
    "SELECT \n",
    "  PatientMaritalStatus, \n",
    "  PatientPopulationPercentageBelowPoverty\n",
    "FROM\n",
    "  PatientCorePopulatedTable\n",
    "ORDER BY PatientMaritalStatus, -PatientPopulationPercentageBelowPoverty;\n",
    "```"
   ]
  },
  {
   "cell_type": "code",
   "execution_count": 14,
   "id": "130dd160",
   "metadata": {
    "tags": [
     "hide-input",
     "output_scroll"
    ]
   },
   "outputs": [
    {
     "ename": "ModuleNotFoundError",
     "evalue": "No module named 'pandas'",
     "output_type": "error",
     "traceback": [
      "\u001b[0;31m---------------------------------------------------------------------------\u001b[0m",
      "\u001b[0;31mModuleNotFoundError\u001b[0m                       Traceback (most recent call last)",
      "Cell \u001b[0;32mIn[14], line 2\u001b[0m\n\u001b[1;32m      1\u001b[0m \u001b[38;5;28;01mimport\u001b[39;00m \u001b[38;5;21;01msqlite3\u001b[39;00m\n\u001b[0;32m----> 2\u001b[0m \u001b[38;5;28;01mimport\u001b[39;00m \u001b[38;5;21;01mpandas\u001b[39;00m \u001b[38;5;28;01mas\u001b[39;00m \u001b[38;5;21;01mpd\u001b[39;00m\n\u001b[1;32m      4\u001b[0m conn \u001b[38;5;241m=\u001b[39m sqlite3\u001b[38;5;241m.\u001b[39mconnect(\u001b[38;5;124m'\u001b[39m\u001b[38;5;124m100_patients.db\u001b[39m\u001b[38;5;124m'\u001b[39m)\n\u001b[1;32m      6\u001b[0m sql_statement \u001b[38;5;241m=\u001b[39m \u001b[38;5;124m\"\"\"\u001b[39m\n\u001b[1;32m      7\u001b[0m \u001b[38;5;124mSELECT \u001b[39m\n\u001b[1;32m      8\u001b[0m \u001b[38;5;124m  PatientMaritalStatus, \u001b[39m\n\u001b[0;32m   (...)\u001b[0m\n\u001b[1;32m     12\u001b[0m \u001b[38;5;124mORDER BY PatientMaritalStatus, -PatientPopulationPercentageBelowPoverty;\u001b[39m\n\u001b[1;32m     13\u001b[0m \u001b[38;5;124m\"\"\"\u001b[39m\n",
      "\u001b[0;31mModuleNotFoundError\u001b[0m: No module named 'pandas'"
     ]
    }
   ],
   "source": [
    "import sqlite3\n",
    "import pandas as pd\n",
    "\n",
    "conn = sqlite3.connect('100_patients.db')\n",
    "\n",
    "sql_statement = \"\"\"\n",
    "SELECT \n",
    "  PatientMaritalStatus, \n",
    "  PatientPopulationPercentageBelowPoverty\n",
    "FROM\n",
    "  PatientCorePopulatedTable\n",
    "ORDER BY PatientMaritalStatus, -PatientPopulationPercentageBelowPoverty;\n",
    "\"\"\"\n",
    "df = pd.read_sql_query(sql_statement, conn)\n",
    "df.style.set_table_attributes('style=\"font-size: 12px\"')"
   ]
  },
  {
   "cell_type": "markdown",
   "id": "5af57527",
   "metadata": {},
   "source": [
    "#### Sorting using numerical position\n",
    "When sorting by numerical position, you cannot use `-`. You must use the keyword `DESC`. Column names make your code more explicit, which you should prefer. \n",
    "\n",
    "**Query:** Select the `PatientMaritalStatus` and `PatientPopulationPercentageBelowPoverty` columns from \n",
    "the `PatientCorePopulatedTable` table and sort by `PatientMaritalStatus` and `PatientPopulationPercentageBelowPoverty` by descending order\n",
    "using the keyword `DESC`, but using the numerical position of `PatientPopulationPercentageBelowPoverty`. \n",
    "\n",
    "```sql\n",
    "SELECT \n",
    "  PatientMaritalStatus, \n",
    "  PatientPopulationPercentageBelowPoverty\n",
    "FROM\n",
    "  PatientCorePopulatedTable\n",
    "ORDER BY PatientMaritalStatus, 2 DESC;\n",
    "```"
   ]
  },
  {
   "cell_type": "code",
   "execution_count": 15,
   "id": "8fbc4e36",
   "metadata": {
    "tags": [
     "hide-input",
     "output_scroll"
    ]
   },
   "outputs": [
    {
     "ename": "ModuleNotFoundError",
     "evalue": "No module named 'pandas'",
     "output_type": "error",
     "traceback": [
      "\u001b[0;31m---------------------------------------------------------------------------\u001b[0m",
      "\u001b[0;31mModuleNotFoundError\u001b[0m                       Traceback (most recent call last)",
      "Cell \u001b[0;32mIn[15], line 2\u001b[0m\n\u001b[1;32m      1\u001b[0m \u001b[38;5;28;01mimport\u001b[39;00m \u001b[38;5;21;01msqlite3\u001b[39;00m\n\u001b[0;32m----> 2\u001b[0m \u001b[38;5;28;01mimport\u001b[39;00m \u001b[38;5;21;01mpandas\u001b[39;00m \u001b[38;5;28;01mas\u001b[39;00m \u001b[38;5;21;01mpd\u001b[39;00m\n\u001b[1;32m      4\u001b[0m conn \u001b[38;5;241m=\u001b[39m sqlite3\u001b[38;5;241m.\u001b[39mconnect(\u001b[38;5;124m'\u001b[39m\u001b[38;5;124m100_patients.db\u001b[39m\u001b[38;5;124m'\u001b[39m)\n\u001b[1;32m      6\u001b[0m sql_statement \u001b[38;5;241m=\u001b[39m \u001b[38;5;124m\"\"\"\u001b[39m\n\u001b[1;32m      7\u001b[0m \u001b[38;5;124mSELECT \u001b[39m\n\u001b[1;32m      8\u001b[0m \u001b[38;5;124m  PatientMaritalStatus, \u001b[39m\n\u001b[0;32m   (...)\u001b[0m\n\u001b[1;32m     12\u001b[0m \u001b[38;5;124mORDER BY PatientMaritalStatus, 2 DESC;\u001b[39m\n\u001b[1;32m     13\u001b[0m \u001b[38;5;124m\"\"\"\u001b[39m\n",
      "\u001b[0;31mModuleNotFoundError\u001b[0m: No module named 'pandas'"
     ]
    }
   ],
   "source": [
    "import sqlite3\n",
    "import pandas as pd\n",
    "\n",
    "conn = sqlite3.connect('100_patients.db')\n",
    "\n",
    "sql_statement = \"\"\"\n",
    "SELECT \n",
    "  PatientMaritalStatus, \n",
    "  PatientPopulationPercentageBelowPoverty\n",
    "FROM\n",
    "  PatientCorePopulatedTable\n",
    "ORDER BY PatientMaritalStatus, 2 DESC;\n",
    "\"\"\"\n",
    "df = pd.read_sql_query(sql_statement, conn)\n",
    "df.style.set_table_attributes('style=\"font-size: 12px\"')\n"
   ]
  }
 ],
 "metadata": {
  "jupytext": {
   "formats": "md:myst",
   "text_representation": {
    "extension": ".md",
    "format_name": "myst"
   }
  },
  "kernelspec": {
   "display_name": "Python 3",
   "language": "python",
   "name": "python3"
  },
  "language_info": {
   "codemirror_mode": {
    "name": "ipython",
    "version": 3
   },
   "file_extension": ".py",
   "mimetype": "text/x-python",
   "name": "python",
   "nbconvert_exporter": "python",
   "pygments_lexer": "ipython3",
   "version": "3.10.9"
  },
  "source_map": [
   11,
   51,
   66,
   82,
   98,
   116,
   133,
   154,
   171,
   192,
   210,
   226,
   241,
   253,
   268,
   287,
   304,
   339,
   360,
   385,
   409,
   432,
   449,
   463,
   480,
   498,
   515,
   530,
   547,
   566
  ]
 },
 "nbformat": 4,
 "nbformat_minor": 5
}