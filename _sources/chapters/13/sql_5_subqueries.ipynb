{
 "cells": [
  {
   "cell_type": "markdown",
   "id": "a77f6c5b",
   "metadata": {},
   "source": [
    "# Subqueries\n",
    "\n",
    "## Using value from a subquery\n",
    "\n",
    "```SQL\n",
    "SELECT p.*, m.max_stay\n",
    "FROM  PatientCorePopulatedTable  p\n",
    "INNER JOIN \n",
    "(SELECT PatientID, ROUND(MAX(julianday(AdmissionEndDate)-julianday(AdmissionStartDate))) MAX_STAY\n",
    "FROM AdmissionsCorePopulatedTable \n",
    "GROUP BY PatientID\n",
    "HAVING MAX_STAY >= 15\n",
    ") m\n",
    "ON p.PatientID = m.PatientID\n",
    "```"
   ]
  },
  {
   "cell_type": "code",
   "execution_count": 1,
   "id": "086d9fec",
   "metadata": {
    "tags": [
     "hide-input",
     "output_scroll"
    ]
   },
   "outputs": [
    {
     "ename": "ModuleNotFoundError",
     "evalue": "No module named 'pandas'",
     "output_type": "error",
     "traceback": [
      "\u001b[0;31m---------------------------------------------------------------------------\u001b[0m",
      "\u001b[0;31mModuleNotFoundError\u001b[0m                       Traceback (most recent call last)",
      "Cell \u001b[0;32mIn[1], line 2\u001b[0m\n\u001b[1;32m      1\u001b[0m \u001b[38;5;28;01mimport\u001b[39;00m \u001b[38;5;21;01msqlite3\u001b[39;00m\n\u001b[0;32m----> 2\u001b[0m \u001b[38;5;28;01mimport\u001b[39;00m \u001b[38;5;21;01mpandas\u001b[39;00m \u001b[38;5;28;01mas\u001b[39;00m \u001b[38;5;21;01mpd\u001b[39;00m\n\u001b[1;32m      4\u001b[0m conn \u001b[38;5;241m=\u001b[39m sqlite3\u001b[38;5;241m.\u001b[39mconnect(\u001b[38;5;124m'\u001b[39m\u001b[38;5;124m100_patients.db\u001b[39m\u001b[38;5;124m'\u001b[39m)\n\u001b[1;32m      6\u001b[0m sql_statement \u001b[38;5;241m=\u001b[39m \u001b[38;5;124m\"\"\"\u001b[39m\n\u001b[1;32m      7\u001b[0m \u001b[38;5;124mSELECT p.*, m.max_stay\u001b[39m\n\u001b[1;32m      8\u001b[0m \u001b[38;5;124mFROM  PatientCorePopulatedTable  p\u001b[39m\n\u001b[0;32m   (...)\u001b[0m\n\u001b[1;32m     15\u001b[0m \u001b[38;5;124mON p.PatientID = m.PatientID\u001b[39m\n\u001b[1;32m     16\u001b[0m \u001b[38;5;124m\"\"\"\u001b[39m\n",
      "\u001b[0;31mModuleNotFoundError\u001b[0m: No module named 'pandas'"
     ]
    }
   ],
   "source": [
    "import sqlite3\n",
    "import pandas as pd\n",
    "\n",
    "conn = sqlite3.connect('100_patients.db')\n",
    "\n",
    "sql_statement = \"\"\"\n",
    "SELECT p.*, m.max_stay\n",
    "FROM  PatientCorePopulatedTable  p\n",
    "INNER JOIN \n",
    "(SELECT PatientID, ROUND(MAX(julianday(AdmissionEndDate)-julianday(AdmissionStartDate))) MAX_STAY\n",
    "FROM AdmissionsCorePopulatedTable \n",
    "GROUP BY PatientID\n",
    "HAVING MAX_STAY >= 15\n",
    ") m\n",
    "ON p.PatientID = m.PatientID\n",
    "\"\"\"\n",
    "df = pd.read_sql_query(sql_statement, conn)\n",
    "df.style.set_table_attributes('style=\"font-size: 12px\"')"
   ]
  },
  {
   "cell_type": "markdown",
   "id": "46938f1c",
   "metadata": {},
   "source": [
    "## `IN` and `NOT IN` examples\n",
    "\n",
    "```SQL\n",
    "SELECT *\n",
    "FROM  LabsCorePopulatedTable \n",
    "WHERE PatientID IN (\n",
    "    SELECT PatientID \n",
    "    FROM PatientCorePopulatedTable \n",
    "    WHERE PatientLanguage IN ('Icelandic', 'Spanish')\n",
    ")\n",
    "LIMIT 100;\n",
    "```"
   ]
  },
  {
   "cell_type": "code",
   "execution_count": 2,
   "id": "fa5e35d5",
   "metadata": {
    "tags": [
     "hide-input",
     "output_scroll"
    ]
   },
   "outputs": [
    {
     "ename": "ModuleNotFoundError",
     "evalue": "No module named 'pandas'",
     "output_type": "error",
     "traceback": [
      "\u001b[0;31m---------------------------------------------------------------------------\u001b[0m",
      "\u001b[0;31mModuleNotFoundError\u001b[0m                       Traceback (most recent call last)",
      "Cell \u001b[0;32mIn[2], line 2\u001b[0m\n\u001b[1;32m      1\u001b[0m \u001b[38;5;28;01mimport\u001b[39;00m \u001b[38;5;21;01msqlite3\u001b[39;00m\n\u001b[0;32m----> 2\u001b[0m \u001b[38;5;28;01mimport\u001b[39;00m \u001b[38;5;21;01mpandas\u001b[39;00m \u001b[38;5;28;01mas\u001b[39;00m \u001b[38;5;21;01mpd\u001b[39;00m\n\u001b[1;32m      4\u001b[0m conn \u001b[38;5;241m=\u001b[39m sqlite3\u001b[38;5;241m.\u001b[39mconnect(\u001b[38;5;124m'\u001b[39m\u001b[38;5;124m100_patients.db\u001b[39m\u001b[38;5;124m'\u001b[39m)\n\u001b[1;32m      6\u001b[0m sql_statement \u001b[38;5;241m=\u001b[39m \u001b[38;5;124m\"\"\"\u001b[39m\n\u001b[1;32m      7\u001b[0m \u001b[38;5;124mSELECT *\u001b[39m\n\u001b[1;32m      8\u001b[0m \u001b[38;5;124mFROM  LabsCorePopulatedTable \u001b[39m\n\u001b[0;32m   (...)\u001b[0m\n\u001b[1;32m     14\u001b[0m \u001b[38;5;124mLIMIT 100;\u001b[39m\n\u001b[1;32m     15\u001b[0m \u001b[38;5;124m\"\"\"\u001b[39m\n",
      "\u001b[0;31mModuleNotFoundError\u001b[0m: No module named 'pandas'"
     ]
    }
   ],
   "source": [
    "import sqlite3\n",
    "import pandas as pd\n",
    "\n",
    "conn = sqlite3.connect('100_patients.db')\n",
    "\n",
    "sql_statement = \"\"\"\n",
    "SELECT *\n",
    "FROM  LabsCorePopulatedTable \n",
    "WHERE PatientID IN (\n",
    "    SELECT PatientID \n",
    "    FROM PatientCorePopulatedTable \n",
    "    WHERE PatientLanguage IN ('Icelandic', 'Spanish')\n",
    ")\n",
    "LIMIT 100;\n",
    "\"\"\"\n",
    "df = pd.read_sql_query(sql_statement, conn)\n",
    "df.style.set_table_attributes('style=\"font-size: 12px\"')"
   ]
  },
  {
   "cell_type": "markdown",
   "id": "039e6a83",
   "metadata": {},
   "source": [
    "```SQL\n",
    "SELECT *\n",
    "FROM  LabsCorePopulatedTable \n",
    "WHERE PatientID IN (\n",
    "    SELECT PatientID \n",
    "    FROM PatientCorePopulatedTable \n",
    "    WHERE PatientLanguage NOT IN ('Icelandic', 'Spanish')\n",
    ")\n",
    "LIMIT 100;\n",
    "```"
   ]
  },
  {
   "cell_type": "code",
   "execution_count": 3,
   "id": "191c1111",
   "metadata": {
    "tags": [
     "hide-input",
     "output_scroll"
    ]
   },
   "outputs": [
    {
     "ename": "ModuleNotFoundError",
     "evalue": "No module named 'pandas'",
     "output_type": "error",
     "traceback": [
      "\u001b[0;31m---------------------------------------------------------------------------\u001b[0m",
      "\u001b[0;31mModuleNotFoundError\u001b[0m                       Traceback (most recent call last)",
      "Cell \u001b[0;32mIn[3], line 2\u001b[0m\n\u001b[1;32m      1\u001b[0m \u001b[38;5;28;01mimport\u001b[39;00m \u001b[38;5;21;01msqlite3\u001b[39;00m\n\u001b[0;32m----> 2\u001b[0m \u001b[38;5;28;01mimport\u001b[39;00m \u001b[38;5;21;01mpandas\u001b[39;00m \u001b[38;5;28;01mas\u001b[39;00m \u001b[38;5;21;01mpd\u001b[39;00m\n\u001b[1;32m      4\u001b[0m conn \u001b[38;5;241m=\u001b[39m sqlite3\u001b[38;5;241m.\u001b[39mconnect(\u001b[38;5;124m'\u001b[39m\u001b[38;5;124m100_patients.db\u001b[39m\u001b[38;5;124m'\u001b[39m)\n\u001b[1;32m      6\u001b[0m sql_statement \u001b[38;5;241m=\u001b[39m \u001b[38;5;124m\"\"\"\u001b[39m\n\u001b[1;32m      7\u001b[0m \u001b[38;5;124mSELECT *\u001b[39m\n\u001b[1;32m      8\u001b[0m \u001b[38;5;124mFROM  LabsCorePopulatedTable \u001b[39m\n\u001b[0;32m   (...)\u001b[0m\n\u001b[1;32m     14\u001b[0m \u001b[38;5;124mLIMIT 100;\u001b[39m\n\u001b[1;32m     15\u001b[0m \u001b[38;5;124m\"\"\"\u001b[39m\n",
      "\u001b[0;31mModuleNotFoundError\u001b[0m: No module named 'pandas'"
     ]
    }
   ],
   "source": [
    "import sqlite3\n",
    "import pandas as pd\n",
    "\n",
    "conn = sqlite3.connect('100_patients.db')\n",
    "\n",
    "sql_statement = \"\"\"\n",
    "SELECT *\n",
    "FROM  LabsCorePopulatedTable \n",
    "WHERE PatientID IN (\n",
    "    SELECT PatientID \n",
    "    FROM PatientCorePopulatedTable \n",
    "    WHERE PatientLanguage NOT IN ('Icelandic', 'Spanish')\n",
    ")\n",
    "LIMIT 100;\n",
    "\"\"\"\n",
    "df = pd.read_sql_query(sql_statement, conn)\n",
    "df.style.set_table_attributes('style=\"font-size: 12px\"')"
   ]
  }
 ],
 "metadata": {
  "jupytext": {
   "formats": "md:myst",
   "text_representation": {
    "extension": ".md",
    "format_name": "myst"
   }
  },
  "kernelspec": {
   "display_name": "Python 3",
   "language": "python",
   "name": "python3"
  },
  "language_info": {
   "codemirror_mode": {
    "name": "ipython",
    "version": 3
   },
   "file_extension": ".py",
   "mimetype": "text/x-python",
   "name": "python",
   "nbconvert_exporter": "python",
   "pygments_lexer": "ipython3",
   "version": "3.10.9"
  },
  "source_map": [
   11,
   29,
   49,
   65,
   84,
   98
  ]
 },
 "nbformat": 4,
 "nbformat_minor": 5
}