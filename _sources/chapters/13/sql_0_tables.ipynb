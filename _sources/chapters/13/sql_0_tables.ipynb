{
 "cells": [
  {
   "cell_type": "markdown",
   "id": "5cc2aeae",
   "metadata": {},
   "source": [
    "# Creating Tables\n",
    "\n",
    "## Basic\n",
    "A database is made up of tables. Tables are made up of columns and rows. A database can be considered like an Excel file\n",
    "and the sheets in your Excel file are like tables. The power of database comes from joining different tables based on\n",
    "shared column information/name between tables and filtering and aggregating rows. SQL is the language that allows\n",
    "you to create, update, delete, filter, and aggregate tables. Often the first step in data wrangling is to extract the\n",
    "data you need from an SQL table. Sometimes you might even have to parse data and populate into a database before you can\n",
    "start using it. \n",
    "\n",
    "\n",
    "## SQLite3 \n",
    "- SQLite3 supports three primitive data types: INTEGER, REAL, TEXT, and BLOB. \n",
    "\n",
    "```{warning}\n",
    "SQLite3 is dynamically typed. This means that even if you specify a column to be data type real or integer, you can insert\n",
    "a string type into it. If the string type can be cast into a numeric type, it will be, otherwise it will be left as is. \n",
    "If you apply a sum or other math function to a column with mixed data types, only the numerical values will be used. \n",
    "```\n",
    "\n",
    "## Creating a table\n",
    "Tables are created using the `CREATE TABLE <name_of_table>` directive followed by a pair of parenthesis inside\n",
    "which is a definition of each of the columns, meaning column names, their respective data type, and if they \n",
    "allow `NULL` values or not, default is to allow `NULL` values, and if they are a `PRIMARY KEY`. In addition, create statements can link a table column to another\n",
    "column using the `REFERENCES` keyword.\n",
    "\n",
    "### A simple table\n",
    "The following SQL command creates a students table with six columns \n",
    "\n",
    "```SQL\n",
    "CREATE TABLE Students (\n",
    "    last_name TEXT, \n",
    "    first_name TEXT, \n",
    "    username TEXT, \n",
    "    exam1 REAL, \n",
    "    exam2 REAL, \n",
    "    exam3 REAL\n",
    ");\n",
    "```\n",
    "\n",
    "### Inserting some values into a table\n",
    "You can insert values into a table using the `INSERT INTO <name_of_table> (<name_of_column_1>, <name_of_column_2>, ....)\n",
    "VALUES (<value_of_column_1>, <value_of_column_1>, ...);` The following SQL statements insert some values into a table with some\n",
    "variations.\n",
    "\n",
    "\n",
    "#### Valid Insert statements\n",
    "```SQL\n",
    "INSERT INTO Students (last_name, first_name, username, exam1, exam2, exam3) VALUES ('Doe', 'John', 'johndoe', 98, 76, 89);\n",
    "INSERT INTO Students (first_name, last_name, username, exam1, exam2, exam3) VALUES ('Emily', 'Shepard', 'eshepard', 88, 96, 90);\n",
    "INSERT INTO Students VALUES ('Doe', 'Jane', 'janedoe', 89, 64, 39);\n",
    "INSERT INTO Students (last_name, first_name, username) VALUES ('Smith', 'John', 'johnsmith');\n",
    "INSERT INTO Students (exam1, exam2, exam3) VALUES (78, 99, 83);\n",
    "INSERT INTO Students (exam1, exam2, exam3) VALUES ('25', '33', '45');\n",
    "INSERT INTO Students  VALUES (56, 32, 33, 'Eaglestone', 'Ken', 'keagle');\n",
    "```\n",
    "1. In the first insert statement all columns names and their corresponding values are supplied in the order of create table statement. \n",
    "2. In the second insert statement, the order of the columns names are changed (first and last name), but SQLite3 will put them in the correct column. \n",
    "3. In the third insert statement, if all the number of values supplied correspond to the number of rows, then SQLite3 will insert them into the table in the order of the create statement. \n",
    "4. In the fourth insert statement, it is possible to only supply some values since by default all columns allow null values. \n",
    "5. In the fifth insert statement, only the names exams values a provided. This is allowed because by default all columns allow null values, but his is poor database design. \n",
    "6. In the sixth insert statement, only exams values are provided, but they are type string. SQLite3 will convert them to `REAL` before inserting them into the table. \n",
    "7. In the seventh insert statement, all the values are inserted into the wrong column, which is allowed by SQLite3 since it is dynamically types, so be very careful!\n",
    "\n",
    "\n",
    "#### Invalid Insert Statement\n",
    "\n",
    "```SQL\n",
    "INSERT INTO Students  VALUES ('Smith', 'John', 'johnsmith');\n",
    "```\n",
    "\n",
    "```SQL\n",
    "Execution finished with errors.\n",
    "Result: table Students has 6 columns but 3 values were supplied\n",
    "At line 1:\n",
    "INSERT INTO Students  VALUES ('Smith', 'Jake', 'johnsmith');\n",
    "```\n",
    "\n",
    "1. If fewer values are provided without explicitly mentioning the column names, SQLite3 will raise an error. \n",
    "\n",
    "\n",
    "### Adding `NOT NULL` constraint\n",
    "In the previous table we highlighted a poor database design where you could insert exams scores without a student. \n",
    "We fix this by making the student fields `NOT NULL`, meaning they have to be specified. \n",
    "\n",
    "Note you can drop a table using `DROP TABLE <name_of_table>`. \n",
    "\n",
    "```SQL\n",
    "DROP TABLE Students;\n",
    "CREATE TABLE Students (\n",
    "    last_name TEXT NOT NULL, \n",
    "    first_name TEXT NOT NULL, \n",
    "    username TEXT NOT NULL, \n",
    "    exam1 REAL, \n",
    "    exam2 REAL, \n",
    "    exam3 REAL\n",
    ");\n",
    "```\n",
    "\n",
    "- Note that the two separate SQL statements are separated by `;`. \n",
    "\n",
    "If we know attempt to enter a student exam score without the name fields, SQLite3 will raise an error. \n",
    "\n",
    "```SQL\n",
    "INSERT INTO Students('exam1') VALUES ('52');\n",
    "```\n",
    "\n",
    "```SQL\n",
    "Execution finished with errors.\n",
    "Result: NOT NULL constraint failed: Students.last_name\n",
    "At line 10:\n",
    "INSERT INTO Students('exam1') VALUES ('52');\n",
    "```\n",
    "\n",
    "## Primary Keys\n",
    "When you create any table, SQLite3 adds a hidden column called `rowid`. \n",
    "\n",
    "```SQL\n",
    "DROP TABLE IF EXISTS Teachers;\n",
    "CREATE TABLE Teachers(\n",
    "  TeacherName  TEXT NOT NULL\n",
    ");\n",
    "\n",
    "INSERT INTO Teachers ('TeacherName') VALUES ('John Smith');\n",
    "INSERT INTO Teachers ('TeacherName') VALUES ('John Smith');\n",
    "SELECT rowid, * FROM Teachers;\n",
    "```"
   ]
  },
  {
   "cell_type": "code",
   "execution_count": 1,
   "id": "7257afb7",
   "metadata": {
    "tags": [
     "hide-input",
     "output_scroll"
    ]
   },
   "outputs": [
    {
     "ename": "ModuleNotFoundError",
     "evalue": "No module named 'pandas'",
     "output_type": "error",
     "traceback": [
      "\u001b[0;31m---------------------------------------------------------------------------\u001b[0m",
      "\u001b[0;31mModuleNotFoundError\u001b[0m                       Traceback (most recent call last)",
      "Cell \u001b[0;32mIn[1], line 2\u001b[0m\n\u001b[1;32m      1\u001b[0m \u001b[38;5;28;01mimport\u001b[39;00m \u001b[38;5;21;01msqlite3\u001b[39;00m\n\u001b[0;32m----> 2\u001b[0m \u001b[38;5;28;01mimport\u001b[39;00m \u001b[38;5;21;01mpandas\u001b[39;00m \u001b[38;5;28;01mas\u001b[39;00m \u001b[38;5;21;01mpd\u001b[39;00m\n\u001b[1;32m      4\u001b[0m conn \u001b[38;5;241m=\u001b[39m sqlite3\u001b[38;5;241m.\u001b[39mconnect(\u001b[38;5;124m'\u001b[39m\u001b[38;5;124mprimary_key_example.db\u001b[39m\u001b[38;5;124m'\u001b[39m)\n\u001b[1;32m      6\u001b[0m sql_statements \u001b[38;5;241m=\u001b[39m \u001b[38;5;124m\"\"\"\u001b[39m\n\u001b[1;32m      7\u001b[0m \u001b[38;5;124mDROP TABLE IF EXISTS Teachers;\u001b[39m\n\u001b[1;32m      8\u001b[0m \u001b[38;5;124mCREATE TABLE Teachers(\u001b[39m\n\u001b[0;32m   (...)\u001b[0m\n\u001b[1;32m     14\u001b[0m \u001b[38;5;124mSELECT rowid, * FROM Teachers;\u001b[39m\n\u001b[1;32m     15\u001b[0m \u001b[38;5;124m\"\"\"\u001b[39m\n",
      "\u001b[0;31mModuleNotFoundError\u001b[0m: No module named 'pandas'"
     ]
    }
   ],
   "source": [
    "import sqlite3\n",
    "import pandas as pd\n",
    "\n",
    "conn = sqlite3.connect('primary_key_example.db')\n",
    "\n",
    "sql_statements = \"\"\"\n",
    "DROP TABLE IF EXISTS Teachers;\n",
    "CREATE TABLE Teachers(\n",
    "  TeacherName  TEXT NOT NULL\n",
    ");\n",
    "\n",
    "INSERT INTO Teachers ('TeacherName') VALUES ('John Smith');\n",
    "INSERT INTO Teachers ('TeacherName') VALUES ('John Smith');\n",
    "SELECT rowid, * FROM Teachers;\n",
    "\"\"\"\n",
    "\n",
    "with conn:\n",
    "    cur = conn.cursor()\n",
    "    cur.executescript(sql_statements)\n",
    "\n",
    "\n",
    "sql_statement = \"\"\"\n",
    "SELECT * FROM Teachers;\n",
    "\"\"\"\n",
    "df = pd.read_sql_query(sql_statement, conn)\n",
    "df.style.set_table_attributes('style=\"font-size: 12px\"')\n",
    "display(df)\n",
    "\n",
    "sql_statement = \"\"\"\n",
    "SELECT rowid, * FROM Teachers;\n",
    "\"\"\"\n",
    "df = pd.read_sql_query(sql_statement, conn)\n",
    "df.style.set_table_attributes('style=\"font-size: 12px\"')\n",
    "display(df)"
   ]
  },
  {
   "cell_type": "markdown",
   "id": "18dd0a8f",
   "metadata": {},
   "source": [
    "1. Note: `DROP TABLE IF EXISTS Teachers;` is used to drop the table if it exists. This is useful if you want to run the create statement over and over again with changes. \n",
    "\n",
    "\n",
    "When you create a table that has an INTEGER NOT NULL PRIMARY KEY column, this column is the alias of the rowid column.\n",
    "\n",
    "```{note}\n",
    "It uniquely identifies a row in a table. Primary keys have the following properties:\n",
    "1. Primary keys can consist of one or more columns, meaning multiple columns combined can uniquely define a row. \n",
    "2. Primary keys cannot be duplicated since they uniquely identify a row in a table. \n",
    "3. Primary keys cannot be NULL since a blank value cannot identify a row in a table. \n",
    "4. There can only be one primary key per table. Note that this is different from a primary key being made up of multiple tables. \n",
    "5. Primary keys are indexed automatically. \n",
    "6. INTEGER primary keys are auto-increment fields starting at 1. \n",
    "```\n",
    "\n",
    "```SQL\n",
    "DROP TABLE Teachers;\n",
    "CREATE TABLE Teachers (\n",
    "   TeacherId INTEGER NOT NULL PRIMARY KEY,\n",
    "   TeacherName  TEXT NOT NULL\n",
    ");\n",
    "INSERT INTO Teachers ('TeacherName') VALUES ('John Smith');\n",
    "INSERT INTO Teachers ('TeacherName') VALUES ('John Smith');\n",
    "SELECT * FROM Teachers;\n",
    "```"
   ]
  },
  {
   "cell_type": "code",
   "execution_count": 2,
   "id": "82c05368",
   "metadata": {
    "tags": [
     "hide-input",
     "output_scroll"
    ]
   },
   "outputs": [
    {
     "ename": "ModuleNotFoundError",
     "evalue": "No module named 'pandas'",
     "output_type": "error",
     "traceback": [
      "\u001b[0;31m---------------------------------------------------------------------------\u001b[0m",
      "\u001b[0;31mModuleNotFoundError\u001b[0m                       Traceback (most recent call last)",
      "Cell \u001b[0;32mIn[2], line 2\u001b[0m\n\u001b[1;32m      1\u001b[0m \u001b[38;5;28;01mimport\u001b[39;00m \u001b[38;5;21;01msqlite3\u001b[39;00m\n\u001b[0;32m----> 2\u001b[0m \u001b[38;5;28;01mimport\u001b[39;00m \u001b[38;5;21;01mpandas\u001b[39;00m \u001b[38;5;28;01mas\u001b[39;00m \u001b[38;5;21;01mpd\u001b[39;00m\n\u001b[1;32m      4\u001b[0m conn \u001b[38;5;241m=\u001b[39m sqlite3\u001b[38;5;241m.\u001b[39mconnect(\u001b[38;5;124m'\u001b[39m\u001b[38;5;124mprimary_key_example.db\u001b[39m\u001b[38;5;124m'\u001b[39m)\n\u001b[1;32m      6\u001b[0m sql_statements \u001b[38;5;241m=\u001b[39m \u001b[38;5;124m\"\"\"\u001b[39m\n\u001b[1;32m      7\u001b[0m \u001b[38;5;124mDROP TABLE Teachers;\u001b[39m\n\u001b[1;32m      8\u001b[0m \u001b[38;5;124mCREATE TABLE Teachers (\u001b[39m\n\u001b[0;32m   (...)\u001b[0m\n\u001b[1;32m     14\u001b[0m \u001b[38;5;124mSELECT * FROM Teachers;\u001b[39m\n\u001b[1;32m     15\u001b[0m \u001b[38;5;124m\"\"\"\u001b[39m\n",
      "\u001b[0;31mModuleNotFoundError\u001b[0m: No module named 'pandas'"
     ]
    }
   ],
   "source": [
    "import sqlite3\n",
    "import pandas as pd\n",
    "\n",
    "conn = sqlite3.connect('primary_key_example.db')\n",
    "\n",
    "sql_statements = \"\"\"\n",
    "DROP TABLE Teachers;\n",
    "CREATE TABLE Teachers (\n",
    "   TeacherId INTEGER NOT NULL PRIMARY KEY,\n",
    "   TeacherName  TEXT NOT NULL\n",
    ");\n",
    "INSERT INTO Teachers ('TeacherName') VALUES ('John Smith');\n",
    "INSERT INTO Teachers ('TeacherName') VALUES ('John Smith');\n",
    "SELECT * FROM Teachers;\n",
    "\"\"\"\n",
    "\n",
    "with conn:\n",
    "    cur = conn.cursor()\n",
    "    cur.executescript(sql_statements)\n",
    "\n",
    "\n",
    "sql_statement = \"\"\"\n",
    "SELECT * FROM Teachers;\n",
    "\"\"\"\n",
    "df = pd.read_sql_query(sql_statement, conn)\n",
    "df.style.set_table_attributes('style=\"font-size: 12px\"')"
   ]
  },
  {
   "cell_type": "markdown",
   "id": "254dc3bf",
   "metadata": {},
   "source": [
    "## Adding a unique constraint\n",
    "In the previous examples teachers table, it is possible to add multiple John Smiths. How can you identify one John Smith\n",
    "from another John Smith. One way would be to assign teachers unique IDs that cannot be reused. A column can be made unique\n",
    "by using the `UNIQUE` keyword. \n",
    "\n",
    "```\n",
    "DROP TABLE Teachers;\n",
    "CREATE TABLE Teachers (\n",
    "   TeacherId INTEGER NOT NULL PRIMARY KEY,\n",
    "   TeacherName  TEXT NOT NULL,\n",
    "   TeacherEmployeeID INTEGER NOT NULL,\n",
    "   UNIQUE (TeacherEmployeeID)\n",
    ");\n",
    "INSERT INTO Teachers ('TeacherName', 'TeacherEmployeeID') VALUES ('John Smith', 100001);\n",
    "INSERT INTO Teachers ('TeacherName', 'TeacherEmployeeID') VALUES ('John Smith', 100002);\n",
    "SELECT * FROM Teachers;\n",
    "```"
   ]
  },
  {
   "cell_type": "code",
   "execution_count": 3,
   "id": "f1544c92",
   "metadata": {
    "tags": [
     "hide-input",
     "output_scroll"
    ]
   },
   "outputs": [
    {
     "ename": "ModuleNotFoundError",
     "evalue": "No module named 'pandas'",
     "output_type": "error",
     "traceback": [
      "\u001b[0;31m---------------------------------------------------------------------------\u001b[0m",
      "\u001b[0;31mModuleNotFoundError\u001b[0m                       Traceback (most recent call last)",
      "Cell \u001b[0;32mIn[3], line 2\u001b[0m\n\u001b[1;32m      1\u001b[0m \u001b[38;5;28;01mimport\u001b[39;00m \u001b[38;5;21;01msqlite3\u001b[39;00m\n\u001b[0;32m----> 2\u001b[0m \u001b[38;5;28;01mimport\u001b[39;00m \u001b[38;5;21;01mpandas\u001b[39;00m \u001b[38;5;28;01mas\u001b[39;00m \u001b[38;5;21;01mpd\u001b[39;00m\n\u001b[1;32m      4\u001b[0m conn \u001b[38;5;241m=\u001b[39m sqlite3\u001b[38;5;241m.\u001b[39mconnect(\u001b[38;5;124m'\u001b[39m\u001b[38;5;124mprimary_key_example.db\u001b[39m\u001b[38;5;124m'\u001b[39m)\n\u001b[1;32m      6\u001b[0m sql_statements \u001b[38;5;241m=\u001b[39m \u001b[38;5;124m\"\"\"\u001b[39m\n\u001b[1;32m      7\u001b[0m \u001b[38;5;124mDROP TABLE Teachers;\u001b[39m\n\u001b[1;32m      8\u001b[0m \u001b[38;5;124mCREATE TABLE Teachers (\u001b[39m\n\u001b[0;32m   (...)\u001b[0m\n\u001b[1;32m     15\u001b[0m \u001b[38;5;124mINSERT INTO Teachers (\u001b[39m\u001b[38;5;124m'\u001b[39m\u001b[38;5;124mTeacherName\u001b[39m\u001b[38;5;124m'\u001b[39m\u001b[38;5;124m, \u001b[39m\u001b[38;5;124m'\u001b[39m\u001b[38;5;124mTeacherEmployeeID\u001b[39m\u001b[38;5;124m'\u001b[39m\u001b[38;5;124m) VALUES (\u001b[39m\u001b[38;5;124m'\u001b[39m\u001b[38;5;124mJohn Smith\u001b[39m\u001b[38;5;124m'\u001b[39m\u001b[38;5;124m, 100002);\u001b[39m\n\u001b[1;32m     16\u001b[0m \u001b[38;5;124m\"\"\"\u001b[39m\n",
      "\u001b[0;31mModuleNotFoundError\u001b[0m: No module named 'pandas'"
     ]
    }
   ],
   "source": [
    "import sqlite3\n",
    "import pandas as pd\n",
    "\n",
    "conn = sqlite3.connect('primary_key_example.db')\n",
    "\n",
    "sql_statements = \"\"\"\n",
    "DROP TABLE Teachers;\n",
    "CREATE TABLE Teachers (\n",
    "   TeacherId INTEGER NOT NULL PRIMARY KEY,\n",
    "   TeacherName  TEXT NOT NULL,\n",
    "   TeacherEmployeeID INTEGER NOT NULL,\n",
    "   UNIQUE (TeacherEmployeeID)\n",
    ");\n",
    "INSERT INTO Teachers ('TeacherName', 'TeacherEmployeeID') VALUES ('John Smith', 100001);\n",
    "INSERT INTO Teachers ('TeacherName', 'TeacherEmployeeID') VALUES ('John Smith', 100002);\n",
    "\"\"\"\n",
    "\n",
    "with conn:\n",
    "    cur = conn.cursor()\n",
    "    cur.executescript(sql_statements)\n",
    "\n",
    "sql_statement = \"\"\"\n",
    "SELECT * FROM Teachers;\n",
    "\"\"\"\n",
    "df = pd.read_sql_query(sql_statement, conn)\n",
    "df.style.set_table_attributes('style=\"font-size: 12px\"')"
   ]
  },
  {
   "cell_type": "markdown",
   "id": "6cd0f91b",
   "metadata": {},
   "source": [
    "## Foreign Keys\n",
    "What is a foreign key? In a relational database, you can relate one table to another table. \n",
    "The two tables can be related if and only if both tables have one column in common. \n",
    "This column has to be declared as a INTEGER/TEXT data type that cannot be NULL and has the PRIMARY KEY constraint, e.g., \n",
    "`<name_of_column> INTEGER NOT NULL PRIMARY KEY`.It seems INTEGER foreign keys are preferred over TEXT ones. See the following\n",
    "references:\n",
    "   - https://stackoverflow.com/questions/3162202/sql-primary-key-integer-vs-varchar\n",
    "   - https://stackoverflow.com/questions/9206391/int-vs-varchar-datatype-for-primary-keys\n",
    "\n",
    "\n",
    "```{warning}\n",
    "Foreign key constraint are NOT enabled by default in SQLite. Execute `PRAGMA foreign_keys = ON;` to enable foreign\n",
    "key constraint. \n",
    "```\n",
    "\n",
    "### Creating a relationship\n",
    "\n",
    "```SQL\n",
    "PRAGMA foreign_keys = ON;\n",
    "DROP TABLE IF EXISTS  Courses;\n",
    "DROP TABLE IF EXISTS Teachers;\n",
    "CREATE TABLE Teachers (\n",
    "   TeacherId INTEGER NOT NULL PRIMARY KEY,\n",
    "   TeacherName  TEXT NOT NULL,\n",
    "   TeacherEmployeeID INTEGER NOT NULL,\n",
    "   UNIQUE (TeacherEmployeeID)\n",
    ");\n",
    "\n",
    "CREATE TABLE Courses(\n",
    "  CourseId     INTEGER NOT NULL PRIMARY KEY, \n",
    "  CourseName   TEXT NOT NULL,\n",
    "  CourseShortID   TEXT NOT NULL,\n",
    "  TeacherId INTEGER NOT NULL,\n",
    "  FOREIGN KEY(TeacherId) REFERENCES Teachers(TeacherId),\n",
    "  UNIQUE (CourseName, CourseShortID)\n",
    ");\n",
    "\n",
    "INSERT INTO Teachers (TeacherName, TeacherEmployeeID)\n",
    "VALUES ('Melissa Larson', 10001);\n",
    "\n",
    "INSERT INTO Teachers (TeacherName,TeacherEmployeeID)\n",
    "VALUES ('Christopher Smith', 10002);\n",
    "\n",
    "INSERT INTO Courses (CourseName, CourseShortID, TeacherId)\n",
    "VALUES ('Introduction to Python', 'EAS503', 1);\n",
    "\n",
    "INSERT INTO Courses (CourseName, CourseShortID, TeacherId)\n",
    "VALUES ('Introduction to Probability', 'EAS506', 2);\n",
    "```"
   ]
  },
  {
   "cell_type": "code",
   "execution_count": 4,
   "id": "4b9281aa",
   "metadata": {
    "tags": [
     "hide-input",
     "output_scroll"
    ]
   },
   "outputs": [
    {
     "ename": "ModuleNotFoundError",
     "evalue": "No module named 'pandas'",
     "output_type": "error",
     "traceback": [
      "\u001b[0;31m---------------------------------------------------------------------------\u001b[0m",
      "\u001b[0;31mModuleNotFoundError\u001b[0m                       Traceback (most recent call last)",
      "Cell \u001b[0;32mIn[4], line 2\u001b[0m\n\u001b[1;32m      1\u001b[0m \u001b[38;5;28;01mimport\u001b[39;00m \u001b[38;5;21;01msqlite3\u001b[39;00m\n\u001b[0;32m----> 2\u001b[0m \u001b[38;5;28;01mimport\u001b[39;00m \u001b[38;5;21;01mpandas\u001b[39;00m \u001b[38;5;28;01mas\u001b[39;00m \u001b[38;5;21;01mpd\u001b[39;00m\n\u001b[1;32m      4\u001b[0m conn \u001b[38;5;241m=\u001b[39m sqlite3\u001b[38;5;241m.\u001b[39mconnect(\u001b[38;5;124m'\u001b[39m\u001b[38;5;124mteachers_courses.db\u001b[39m\u001b[38;5;124m'\u001b[39m)\n\u001b[1;32m      6\u001b[0m sql_statements \u001b[38;5;241m=\u001b[39m \u001b[38;5;124m\"\"\"\u001b[39m\n\u001b[1;32m      7\u001b[0m \u001b[38;5;124mPRAGMA foreign_keys = ON;\u001b[39m\n\u001b[1;32m      8\u001b[0m \u001b[38;5;124mDROP TABLE IF EXISTS  Courses;\u001b[39m\n\u001b[0;32m   (...)\u001b[0m\n\u001b[1;32m     36\u001b[0m \u001b[38;5;124mVALUES (\u001b[39m\u001b[38;5;124m'\u001b[39m\u001b[38;5;124mIntroduction to Probability\u001b[39m\u001b[38;5;124m'\u001b[39m\u001b[38;5;124m, \u001b[39m\u001b[38;5;124m'\u001b[39m\u001b[38;5;124mEAS506\u001b[39m\u001b[38;5;124m'\u001b[39m\u001b[38;5;124m, 2);\u001b[39m\n\u001b[1;32m     37\u001b[0m \u001b[38;5;124m\"\"\"\u001b[39m\n",
      "\u001b[0;31mModuleNotFoundError\u001b[0m: No module named 'pandas'"
     ]
    }
   ],
   "source": [
    "import sqlite3\n",
    "import pandas as pd\n",
    "\n",
    "conn = sqlite3.connect('teachers_courses.db')\n",
    "\n",
    "sql_statements = \"\"\"\n",
    "PRAGMA foreign_keys = ON;\n",
    "DROP TABLE IF EXISTS  Courses;\n",
    "DROP TABLE IF EXISTS Teachers;\n",
    "CREATE TABLE Teachers (\n",
    "   TeacherId INTEGER NOT NULL PRIMARY KEY,\n",
    "   TeacherName  TEXT NOT NULL,\n",
    "   TeacherEmployeeID INTEGER NOT NULL,\n",
    "   UNIQUE (TeacherEmployeeID)\n",
    ");\n",
    "\n",
    "CREATE TABLE Courses(\n",
    "  CourseId     INTEGER NOT NULL PRIMARY KEY, \n",
    "  CourseName   TEXT NOT NULL,\n",
    "  CourseShortID   TEXT NOT NULL,\n",
    "  TeacherId INTEGER NOT NULL,\n",
    "  FOREIGN KEY(TeacherId) REFERENCES Teachers(TeacherId),\n",
    "  UNIQUE (CourseName, CourseShortID)\n",
    ");\n",
    "\n",
    "INSERT INTO Teachers (TeacherName, TeacherEmployeeID)\n",
    "VALUES ('Melissa Larson', 10001);\n",
    "\n",
    "INSERT INTO Teachers (TeacherName,TeacherEmployeeID)\n",
    "VALUES ('Christopher Smith', 10002);\n",
    "\n",
    "INSERT INTO Courses (CourseName, CourseShortID, TeacherId)\n",
    "VALUES ('Introduction to Python', 'EAS503', 1);\n",
    "\n",
    "INSERT INTO Courses (CourseName, CourseShortID, TeacherId)\n",
    "VALUES ('Introduction to Probability', 'EAS506', 2);\n",
    "\"\"\"\n",
    "\n",
    "with conn:\n",
    "    cur = conn.cursor()\n",
    "    cur.executescript(sql_statements)"
   ]
  },
  {
   "cell_type": "markdown",
   "id": "1dffd10d",
   "metadata": {},
   "source": [
    "### Using the relationship\n",
    "\n",
    "Method 1 -- explicitly link two tables\n",
    "- Note this method will result in duplicated TeacherID fields if you select all the columns using '*'.\n",
    "\n",
    "\n",
    "```SQL\n",
    "SELECT \n",
    "    *\n",
    "FROM \n",
    "    Teachers t\n",
    "INNER JOIN \n",
    "    Courses c ON t.TeacherId = c.TeacherId;\n",
    "```"
   ]
  },
  {
   "cell_type": "code",
   "execution_count": 5,
   "id": "648d52b0",
   "metadata": {
    "tags": [
     "hide-input",
     "output_scroll"
    ]
   },
   "outputs": [
    {
     "ename": "ModuleNotFoundError",
     "evalue": "No module named 'pandas'",
     "output_type": "error",
     "traceback": [
      "\u001b[0;31m---------------------------------------------------------------------------\u001b[0m",
      "\u001b[0;31mModuleNotFoundError\u001b[0m                       Traceback (most recent call last)",
      "Cell \u001b[0;32mIn[5], line 2\u001b[0m\n\u001b[1;32m      1\u001b[0m \u001b[38;5;28;01mimport\u001b[39;00m \u001b[38;5;21;01msqlite3\u001b[39;00m\n\u001b[0;32m----> 2\u001b[0m \u001b[38;5;28;01mimport\u001b[39;00m \u001b[38;5;21;01mpandas\u001b[39;00m \u001b[38;5;28;01mas\u001b[39;00m \u001b[38;5;21;01mpd\u001b[39;00m\n\u001b[1;32m      4\u001b[0m conn \u001b[38;5;241m=\u001b[39m sqlite3\u001b[38;5;241m.\u001b[39mconnect(\u001b[38;5;124m'\u001b[39m\u001b[38;5;124mteachers_courses.db\u001b[39m\u001b[38;5;124m'\u001b[39m)\n\u001b[1;32m      6\u001b[0m sql_statement \u001b[38;5;241m=\u001b[39m \u001b[38;5;124m\"\"\"\u001b[39m\n\u001b[1;32m      7\u001b[0m \u001b[38;5;124mSELECT \u001b[39m\n\u001b[1;32m      8\u001b[0m \u001b[38;5;124m    *\u001b[39m\n\u001b[0;32m   (...)\u001b[0m\n\u001b[1;32m     12\u001b[0m \u001b[38;5;124m    Courses c ON t.TeacherId = c.TeacherId;\u001b[39m\n\u001b[1;32m     13\u001b[0m \u001b[38;5;124m\"\"\"\u001b[39m\n",
      "\u001b[0;31mModuleNotFoundError\u001b[0m: No module named 'pandas'"
     ]
    }
   ],
   "source": [
    "import sqlite3\n",
    "import pandas as pd\n",
    "\n",
    "conn = sqlite3.connect('teachers_courses.db')\n",
    "\n",
    "sql_statement = \"\"\"\n",
    "SELECT \n",
    "    *\n",
    "FROM \n",
    "    Teachers t\n",
    "INNER JOIN \n",
    "    Courses c ON t.TeacherId = c.TeacherId;\n",
    "\"\"\"\n",
    "\n",
    "df = pd.read_sql_query(sql_statement, conn)\n",
    "df.style.set_table_attributes('style=\"font-size: 12px\"')\n",
    "display(df)"
   ]
  },
  {
   "cell_type": "markdown",
   "id": "2a9014e7",
   "metadata": {},
   "source": [
    "```SQL\n",
    "SELECT \n",
    "    t.TeacherName, \n",
    "    c.CourseName, \n",
    "    c.CourseShortID\n",
    "FROM \n",
    "    Teachers t\n",
    "INNER JOIN \n",
    "    Courses c ON t.TeacherId = c.TeacherId;\n",
    "```"
   ]
  },
  {
   "cell_type": "code",
   "execution_count": 6,
   "id": "2bb4d6cd",
   "metadata": {
    "tags": [
     "hide-input",
     "output_scroll"
    ]
   },
   "outputs": [
    {
     "ename": "ModuleNotFoundError",
     "evalue": "No module named 'pandas'",
     "output_type": "error",
     "traceback": [
      "\u001b[0;31m---------------------------------------------------------------------------\u001b[0m",
      "\u001b[0;31mModuleNotFoundError\u001b[0m                       Traceback (most recent call last)",
      "Cell \u001b[0;32mIn[6], line 2\u001b[0m\n\u001b[1;32m      1\u001b[0m \u001b[38;5;28;01mimport\u001b[39;00m \u001b[38;5;21;01msqlite3\u001b[39;00m\n\u001b[0;32m----> 2\u001b[0m \u001b[38;5;28;01mimport\u001b[39;00m \u001b[38;5;21;01mpandas\u001b[39;00m \u001b[38;5;28;01mas\u001b[39;00m \u001b[38;5;21;01mpd\u001b[39;00m\n\u001b[1;32m      4\u001b[0m conn \u001b[38;5;241m=\u001b[39m sqlite3\u001b[38;5;241m.\u001b[39mconnect(\u001b[38;5;124m'\u001b[39m\u001b[38;5;124mteachers_courses.db\u001b[39m\u001b[38;5;124m'\u001b[39m)\n\u001b[1;32m      6\u001b[0m sql_statement \u001b[38;5;241m=\u001b[39m \u001b[38;5;124m\"\"\"\u001b[39m\n\u001b[1;32m      7\u001b[0m \u001b[38;5;124mSELECT \u001b[39m\n\u001b[1;32m      8\u001b[0m \u001b[38;5;124m    t.TeacherName, \u001b[39m\n\u001b[0;32m   (...)\u001b[0m\n\u001b[1;32m     14\u001b[0m \u001b[38;5;124m    Courses c ON t.TeacherId = c.TeacherId;\u001b[39m\n\u001b[1;32m     15\u001b[0m \u001b[38;5;124m\"\"\"\u001b[39m\n",
      "\u001b[0;31mModuleNotFoundError\u001b[0m: No module named 'pandas'"
     ]
    }
   ],
   "source": [
    "import sqlite3\n",
    "import pandas as pd\n",
    "\n",
    "conn = sqlite3.connect('teachers_courses.db')\n",
    "\n",
    "sql_statement = \"\"\"\n",
    "SELECT \n",
    "    t.TeacherName, \n",
    "    c.CourseName, \n",
    "    c.CourseShortID\n",
    "FROM \n",
    "    Teachers t\n",
    "INNER JOIN \n",
    "    Courses c ON t.TeacherId = c.TeacherId;\n",
    "\"\"\"\n",
    "\n",
    "df = pd.read_sql_query(sql_statement, conn)\n",
    "df.style.set_table_attributes('style=\"font-size: 12px\"')\n",
    "display(df)"
   ]
  },
  {
   "cell_type": "markdown",
   "id": "5ed18503",
   "metadata": {},
   "source": [
    "Method 2 -- let SQLite infers join condition -- but you specify the shared column name\n",
    "- Note this method will NOT result in duplicated TeacherID fields if you select all the columns using '*'.\n",
    "\n",
    "```SQL\n",
    "SELECT \n",
    "    *\n",
    "FROM \n",
    "    Teachers t\n",
    "INNER JOIN Courses c USING(TeacherId);\n",
    "```"
   ]
  },
  {
   "cell_type": "code",
   "execution_count": 7,
   "id": "62cddc0d",
   "metadata": {
    "tags": [
     "hide-input",
     "output_scroll"
    ]
   },
   "outputs": [
    {
     "ename": "ModuleNotFoundError",
     "evalue": "No module named 'pandas'",
     "output_type": "error",
     "traceback": [
      "\u001b[0;31m---------------------------------------------------------------------------\u001b[0m",
      "\u001b[0;31mModuleNotFoundError\u001b[0m                       Traceback (most recent call last)",
      "Cell \u001b[0;32mIn[7], line 2\u001b[0m\n\u001b[1;32m      1\u001b[0m \u001b[38;5;28;01mimport\u001b[39;00m \u001b[38;5;21;01msqlite3\u001b[39;00m\n\u001b[0;32m----> 2\u001b[0m \u001b[38;5;28;01mimport\u001b[39;00m \u001b[38;5;21;01mpandas\u001b[39;00m \u001b[38;5;28;01mas\u001b[39;00m \u001b[38;5;21;01mpd\u001b[39;00m\n\u001b[1;32m      4\u001b[0m conn \u001b[38;5;241m=\u001b[39m sqlite3\u001b[38;5;241m.\u001b[39mconnect(\u001b[38;5;124m'\u001b[39m\u001b[38;5;124mteachers_courses.db\u001b[39m\u001b[38;5;124m'\u001b[39m)\n\u001b[1;32m      6\u001b[0m sql_statement \u001b[38;5;241m=\u001b[39m \u001b[38;5;124m\"\"\"\u001b[39m\n\u001b[1;32m      7\u001b[0m \u001b[38;5;124mSELECT  \u001b[39m\n\u001b[1;32m      8\u001b[0m \u001b[38;5;124m    *\u001b[39m\n\u001b[0;32m   (...)\u001b[0m\n\u001b[1;32m     11\u001b[0m \u001b[38;5;124mINNER JOIN Courses c USING(TeacherId);\u001b[39m\n\u001b[1;32m     12\u001b[0m \u001b[38;5;124m\"\"\"\u001b[39m\n",
      "\u001b[0;31mModuleNotFoundError\u001b[0m: No module named 'pandas'"
     ]
    }
   ],
   "source": [
    "import sqlite3\n",
    "import pandas as pd\n",
    "\n",
    "conn = sqlite3.connect('teachers_courses.db')\n",
    "\n",
    "sql_statement = \"\"\"\n",
    "SELECT  \n",
    "    *\n",
    "FROM \n",
    "    Teachers t\n",
    "INNER JOIN Courses c USING(TeacherId);\n",
    "\"\"\"\n",
    "\n",
    "df = pd.read_sql_query(sql_statement, conn)\n",
    "df.style.set_table_attributes('style=\"font-size: 12px\"')\n",
    "display(df)"
   ]
  },
  {
   "cell_type": "markdown",
   "id": "d21b475b",
   "metadata": {},
   "source": [
    "```SQL\n",
    "SELECT \n",
    "    t.TeacherName, \n",
    "    c.CourseName, \n",
    "    c.CourseShortID\n",
    "FROM \n",
    "    Teachers t\n",
    "INNER JOIN Courses c USING(TeacherId);\n",
    "```"
   ]
  },
  {
   "cell_type": "code",
   "execution_count": 8,
   "id": "75202327",
   "metadata": {
    "tags": [
     "hide-input",
     "output_scroll"
    ]
   },
   "outputs": [
    {
     "ename": "ModuleNotFoundError",
     "evalue": "No module named 'pandas'",
     "output_type": "error",
     "traceback": [
      "\u001b[0;31m---------------------------------------------------------------------------\u001b[0m",
      "\u001b[0;31mModuleNotFoundError\u001b[0m                       Traceback (most recent call last)",
      "Cell \u001b[0;32mIn[8], line 2\u001b[0m\n\u001b[1;32m      1\u001b[0m \u001b[38;5;28;01mimport\u001b[39;00m \u001b[38;5;21;01msqlite3\u001b[39;00m\n\u001b[0;32m----> 2\u001b[0m \u001b[38;5;28;01mimport\u001b[39;00m \u001b[38;5;21;01mpandas\u001b[39;00m \u001b[38;5;28;01mas\u001b[39;00m \u001b[38;5;21;01mpd\u001b[39;00m\n\u001b[1;32m      4\u001b[0m conn \u001b[38;5;241m=\u001b[39m sqlite3\u001b[38;5;241m.\u001b[39mconnect(\u001b[38;5;124m'\u001b[39m\u001b[38;5;124mteachers_courses.db\u001b[39m\u001b[38;5;124m'\u001b[39m)\n\u001b[1;32m      6\u001b[0m sql_statement \u001b[38;5;241m=\u001b[39m \u001b[38;5;124m\"\"\"\u001b[39m\n\u001b[1;32m      7\u001b[0m \u001b[38;5;124mSELECT \u001b[39m\n\u001b[1;32m      8\u001b[0m \u001b[38;5;124m    t.TeacherName, \u001b[39m\n\u001b[0;32m   (...)\u001b[0m\n\u001b[1;32m     13\u001b[0m \u001b[38;5;124mINNER JOIN Courses c USING(TeacherId);\u001b[39m\n\u001b[1;32m     14\u001b[0m \u001b[38;5;124m\"\"\"\u001b[39m\n",
      "\u001b[0;31mModuleNotFoundError\u001b[0m: No module named 'pandas'"
     ]
    }
   ],
   "source": [
    "import sqlite3\n",
    "import pandas as pd\n",
    "\n",
    "conn = sqlite3.connect('teachers_courses.db')\n",
    "\n",
    "sql_statement = \"\"\"\n",
    "SELECT \n",
    "    t.TeacherName, \n",
    "    c.CourseName, \n",
    "    c.CourseShortID\n",
    "FROM \n",
    "    Teachers t\n",
    "INNER JOIN Courses c USING(TeacherId);\n",
    "\"\"\"\n",
    "df = pd.read_sql_query(sql_statement, conn)\n",
    "df.style.set_table_attributes('style=\"font-size: 12px\"')\n",
    "display(df)"
   ]
  },
  {
   "cell_type": "markdown",
   "id": "896bcb21",
   "metadata": {},
   "source": [
    "## Joining Tables\n",
    "There are two types of joins\n",
    "- Inner Join\n",
    "- Outer Join\n",
    "    - Left Outer Join (or Left Join)\n",
    "    - Right Outer Join (or Right Join)\n",
    "    - Full Outer Join (or Full Join)\n",
    "Example database: `join_example_database.db`\n",
    "    - Ref: https://www.diffen.com/difference/Inner_Join_vs_Outer_Join"
   ]
  },
  {
   "cell_type": "code",
   "execution_count": 9,
   "id": "65e4563b",
   "metadata": {
    "tags": [
     "hide-input",
     "output_scroll"
    ]
   },
   "outputs": [
    {
     "ename": "ModuleNotFoundError",
     "evalue": "No module named 'pandas'",
     "output_type": "error",
     "traceback": [
      "\u001b[0;31m---------------------------------------------------------------------------\u001b[0m",
      "\u001b[0;31mModuleNotFoundError\u001b[0m                       Traceback (most recent call last)",
      "Cell \u001b[0;32mIn[9], line 2\u001b[0m\n\u001b[1;32m      1\u001b[0m \u001b[38;5;28;01mimport\u001b[39;00m \u001b[38;5;21;01msqlite3\u001b[39;00m\n\u001b[0;32m----> 2\u001b[0m \u001b[38;5;28;01mimport\u001b[39;00m \u001b[38;5;21;01mpandas\u001b[39;00m \u001b[38;5;28;01mas\u001b[39;00m \u001b[38;5;21;01mpd\u001b[39;00m\n\u001b[1;32m      4\u001b[0m conn \u001b[38;5;241m=\u001b[39m sqlite3\u001b[38;5;241m.\u001b[39mconnect(\u001b[38;5;124m'\u001b[39m\u001b[38;5;124mjoin_example_database.db\u001b[39m\u001b[38;5;124m'\u001b[39m)\n\u001b[1;32m      6\u001b[0m sql_statement \u001b[38;5;241m=\u001b[39m \u001b[38;5;124m\"\"\"\u001b[39m\n\u001b[1;32m      7\u001b[0m \u001b[38;5;124mSELECT\u001b[39m\n\u001b[1;32m      8\u001b[0m \u001b[38;5;124m    *\u001b[39m\n\u001b[1;32m      9\u001b[0m \u001b[38;5;124mFROM Prices \u001b[39m\n\u001b[1;32m     10\u001b[0m \u001b[38;5;124m\"\"\"\u001b[39m\n",
      "\u001b[0;31mModuleNotFoundError\u001b[0m: No module named 'pandas'"
     ]
    }
   ],
   "source": [
    "import sqlite3\n",
    "import pandas as pd\n",
    "\n",
    "conn = sqlite3.connect('join_example_database.db')\n",
    "\n",
    "sql_statement = \"\"\"\n",
    "SELECT\n",
    "    *\n",
    "FROM Prices \n",
    "\"\"\"\n",
    "df = pd.read_sql_query(sql_statement, conn)\n",
    "df.style.set_table_attributes('style=\"font-size: 12px\"')\n",
    "display(df)\n",
    "\n",
    "sql_statement = \"\"\"\n",
    "SELECT\n",
    "    *\n",
    "FROM Quantities \n",
    "\"\"\"\n",
    "df = pd.read_sql_query(sql_statement, conn)\n",
    "df.style.set_table_attributes('style=\"font-size: 12px\"')\n",
    "display(df)"
   ]
  },
  {
   "cell_type": "markdown",
   "id": "884b8dba",
   "metadata": {},
   "source": [
    "### Inner Join\n",
    "\n",
    "```SQL\n",
    "SELECT \n",
    "    Prices.Product, \n",
    "    Prices.Price, \n",
    "    Quantities.Quantity\n",
    "FROM Prices \n",
    "INNER JOIN Quantities ON Prices.Product = Quantities.Product;\n",
    "```"
   ]
  },
  {
   "cell_type": "code",
   "execution_count": 10,
   "id": "0f061a79",
   "metadata": {
    "tags": [
     "hide-input",
     "output_scroll"
    ]
   },
   "outputs": [
    {
     "ename": "ModuleNotFoundError",
     "evalue": "No module named 'pandas'",
     "output_type": "error",
     "traceback": [
      "\u001b[0;31m---------------------------------------------------------------------------\u001b[0m",
      "\u001b[0;31mModuleNotFoundError\u001b[0m                       Traceback (most recent call last)",
      "Cell \u001b[0;32mIn[10], line 2\u001b[0m\n\u001b[1;32m      1\u001b[0m \u001b[38;5;28;01mimport\u001b[39;00m \u001b[38;5;21;01msqlite3\u001b[39;00m\n\u001b[0;32m----> 2\u001b[0m \u001b[38;5;28;01mimport\u001b[39;00m \u001b[38;5;21;01mpandas\u001b[39;00m \u001b[38;5;28;01mas\u001b[39;00m \u001b[38;5;21;01mpd\u001b[39;00m\n\u001b[1;32m      4\u001b[0m conn \u001b[38;5;241m=\u001b[39m sqlite3\u001b[38;5;241m.\u001b[39mconnect(\u001b[38;5;124m'\u001b[39m\u001b[38;5;124mjoin_example_database.db\u001b[39m\u001b[38;5;124m'\u001b[39m)\n\u001b[1;32m      6\u001b[0m sql_statement \u001b[38;5;241m=\u001b[39m \u001b[38;5;124m\"\"\"\u001b[39m\n\u001b[1;32m      7\u001b[0m \u001b[38;5;124mSELECT \u001b[39m\n\u001b[1;32m      8\u001b[0m \u001b[38;5;124m    Prices.Product, \u001b[39m\n\u001b[0;32m   (...)\u001b[0m\n\u001b[1;32m     12\u001b[0m \u001b[38;5;124mINNER JOIN Quantities ON Prices.Product = Quantities.Product;\u001b[39m\n\u001b[1;32m     13\u001b[0m \u001b[38;5;124m\"\"\"\u001b[39m\n",
      "\u001b[0;31mModuleNotFoundError\u001b[0m: No module named 'pandas'"
     ]
    }
   ],
   "source": [
    "import sqlite3\n",
    "import pandas as pd\n",
    "\n",
    "conn = sqlite3.connect('join_example_database.db')\n",
    "\n",
    "sql_statement = \"\"\"\n",
    "SELECT \n",
    "    Prices.Product, \n",
    "    Prices.Price, \n",
    "    Quantities.Quantity\n",
    "FROM Prices \n",
    "INNER JOIN Quantities ON Prices.Product = Quantities.Product;\n",
    "\"\"\"\n",
    "df = pd.read_sql_query(sql_statement, conn)\n",
    "df.style.set_table_attributes('style=\"font-size: 12px\"')"
   ]
  },
  {
   "cell_type": "markdown",
   "id": "b7319134",
   "metadata": {},
   "source": [
    "### Left Join\n",
    "\n",
    "```SQL\n",
    "SELECT \n",
    "    Prices.Product, \n",
    "    Prices.Price, \n",
    "    Quantities.Quantity\n",
    "FROM \n",
    "    Prices\n",
    "LEFT OUTER JOIN Quantities ON Prices.Product = Quantities.Product;\n",
    "```"
   ]
  },
  {
   "cell_type": "code",
   "execution_count": 11,
   "id": "0bd35318",
   "metadata": {
    "tags": [
     "hide-input",
     "output_scroll"
    ]
   },
   "outputs": [
    {
     "ename": "ModuleNotFoundError",
     "evalue": "No module named 'pandas'",
     "output_type": "error",
     "traceback": [
      "\u001b[0;31m---------------------------------------------------------------------------\u001b[0m",
      "\u001b[0;31mModuleNotFoundError\u001b[0m                       Traceback (most recent call last)",
      "Cell \u001b[0;32mIn[11], line 2\u001b[0m\n\u001b[1;32m      1\u001b[0m \u001b[38;5;28;01mimport\u001b[39;00m \u001b[38;5;21;01msqlite3\u001b[39;00m\n\u001b[0;32m----> 2\u001b[0m \u001b[38;5;28;01mimport\u001b[39;00m \u001b[38;5;21;01mpandas\u001b[39;00m \u001b[38;5;28;01mas\u001b[39;00m \u001b[38;5;21;01mpd\u001b[39;00m\n\u001b[1;32m      4\u001b[0m conn \u001b[38;5;241m=\u001b[39m sqlite3\u001b[38;5;241m.\u001b[39mconnect(\u001b[38;5;124m'\u001b[39m\u001b[38;5;124mjoin_example_database.db\u001b[39m\u001b[38;5;124m'\u001b[39m)\n\u001b[1;32m      6\u001b[0m sql_statement \u001b[38;5;241m=\u001b[39m \u001b[38;5;124m\"\"\"\u001b[39m\n\u001b[1;32m      7\u001b[0m \u001b[38;5;124mSELECT \u001b[39m\n\u001b[1;32m      8\u001b[0m \u001b[38;5;124m    Prices.Product, \u001b[39m\n\u001b[0;32m   (...)\u001b[0m\n\u001b[1;32m     13\u001b[0m \u001b[38;5;124mLEFT OUTER JOIN Quantities ON Prices.Product = Quantities.Product;\u001b[39m\n\u001b[1;32m     14\u001b[0m \u001b[38;5;124m\"\"\"\u001b[39m\n",
      "\u001b[0;31mModuleNotFoundError\u001b[0m: No module named 'pandas'"
     ]
    }
   ],
   "source": [
    "import sqlite3\n",
    "import pandas as pd\n",
    "\n",
    "conn = sqlite3.connect('join_example_database.db')\n",
    "\n",
    "sql_statement = \"\"\"\n",
    "SELECT \n",
    "    Prices.Product, \n",
    "    Prices.Price, \n",
    "    Quantities.Quantity\n",
    "FROM \n",
    "    Prices\n",
    "LEFT OUTER JOIN Quantities ON Prices.Product = Quantities.Product;\n",
    "\"\"\"\n",
    "df = pd.read_sql_query(sql_statement, conn)\n",
    "df.style.set_table_attributes('style=\"font-size: 12px\"')"
   ]
  },
  {
   "cell_type": "markdown",
   "id": "227028bf",
   "metadata": {},
   "source": [
    "### Right Join -- Doesn't work in SQLITE3\n",
    "\n",
    "```SQL\n",
    "SELECT \n",
    "    Prices.Product, \n",
    "    Prices.Price, \n",
    "    Quantities.Quantity\n",
    "FROM \n",
    "    Prices \n",
    "RIGHT OUTER JOIN Quantities ON Prices.Product = Quantities.Product;\n",
    "```\n",
    "\n",
    "```SQL\n",
    "Execution finished with errors.\n",
    "Result: RIGHT and FULL OUTER JOINs are not currently supported\n",
    "At line 1:\n",
    "SELECT \n",
    "    Prices.Product, \n",
    "    Prices.Price, \n",
    "    Quantities.Quantity\n",
    "FROM \n",
    "    Prices \n",
    "RIGHT OUTER JOIN Quantities\n",
    "```\n",
    "\n",
    "### Right Join by doing Left Join \n",
    "Change the order of the tables to emulate right join!\n",
    "\n",
    "```SQL\n",
    "SELECT \n",
    "    Quantities.Product, \n",
    "    Prices.Price, \n",
    "    Quantities.Quantity\n",
    "FROM \n",
    "    Quantities \n",
    "LEFT OUTER JOIN Prices ON Quantities.Product = Prices.Product;\n",
    "```"
   ]
  },
  {
   "cell_type": "code",
   "execution_count": 12,
   "id": "8252c4ca",
   "metadata": {
    "tags": [
     "hide-input",
     "output_scroll"
    ]
   },
   "outputs": [
    {
     "ename": "ModuleNotFoundError",
     "evalue": "No module named 'pandas'",
     "output_type": "error",
     "traceback": [
      "\u001b[0;31m---------------------------------------------------------------------------\u001b[0m",
      "\u001b[0;31mModuleNotFoundError\u001b[0m                       Traceback (most recent call last)",
      "Cell \u001b[0;32mIn[12], line 2\u001b[0m\n\u001b[1;32m      1\u001b[0m \u001b[38;5;28;01mimport\u001b[39;00m \u001b[38;5;21;01msqlite3\u001b[39;00m\n\u001b[0;32m----> 2\u001b[0m \u001b[38;5;28;01mimport\u001b[39;00m \u001b[38;5;21;01mpandas\u001b[39;00m \u001b[38;5;28;01mas\u001b[39;00m \u001b[38;5;21;01mpd\u001b[39;00m\n\u001b[1;32m      4\u001b[0m conn \u001b[38;5;241m=\u001b[39m sqlite3\u001b[38;5;241m.\u001b[39mconnect(\u001b[38;5;124m'\u001b[39m\u001b[38;5;124mjoin_example_database.db\u001b[39m\u001b[38;5;124m'\u001b[39m)\n\u001b[1;32m      6\u001b[0m sql_statement \u001b[38;5;241m=\u001b[39m \u001b[38;5;124m\"\"\"\u001b[39m\n\u001b[1;32m      7\u001b[0m \u001b[38;5;124mSELECT \u001b[39m\n\u001b[1;32m      8\u001b[0m \u001b[38;5;124m    Quantities.Product, \u001b[39m\n\u001b[0;32m   (...)\u001b[0m\n\u001b[1;32m     13\u001b[0m \u001b[38;5;124mLEFT OUTER JOIN Prices ON Quantities.Product = Prices.Product;\u001b[39m\n\u001b[1;32m     14\u001b[0m \u001b[38;5;124m\"\"\"\u001b[39m\n",
      "\u001b[0;31mModuleNotFoundError\u001b[0m: No module named 'pandas'"
     ]
    }
   ],
   "source": [
    "import sqlite3\n",
    "import pandas as pd\n",
    "\n",
    "conn = sqlite3.connect('join_example_database.db')\n",
    "\n",
    "sql_statement = \"\"\"\n",
    "SELECT \n",
    "    Quantities.Product, \n",
    "    Prices.Price, \n",
    "    Quantities.Quantity\n",
    "FROM \n",
    "    Quantities \n",
    "LEFT OUTER JOIN Prices ON Quantities.Product = Prices.Product;\n",
    "\"\"\"\n",
    "df = pd.read_sql_query(sql_statement, conn)\n",
    "df.style.set_table_attributes('style=\"font-size: 12px\"')"
   ]
  },
  {
   "cell_type": "markdown",
   "id": "990d9d98",
   "metadata": {},
   "source": [
    "### Full Outer join -- does not work in SQLite3\n",
    "\n",
    "```SQL\n",
    "SELECT Prices.Product, Prices.Price, Quantities.Quantity\n",
    "FROM Prices FULL OUTER JOIN Quantities\n",
    "ON Prices.Product = Quantities.Product;\n",
    "```\n",
    "\n",
    "```SQL\n",
    "Execution finished with errors.\n",
    "Result: RIGHT and FULL OUTER JOINs are not currently supported\n",
    "At line 1:\n",
    "SELECT Prices.Product, Prices.Price, Quantities.Quantity\n",
    "FROM Prices FULL OUTER JOIN Quantities\n",
    "```\n",
    "\n",
    "### Emulate Full outer join\n",
    "You can use unions to emulate full outer join\n",
    "Ref: https://www.sqlitetutorial.net/sqlite-full-outer-join/\n",
    "\n",
    "\n",
    "```SQL\n",
    "SELECT Prices.Product, Prices.Price,  Quantities.Product, Quantities.Quantity\n",
    "FROM Prices \n",
    "LEFT OUTER JOIN Quantities\n",
    "ON Prices.Product = Quantities.Product\n",
    "UNION ALL\n",
    "SELECT Prices.Product, Prices.Price, Quantities.Product, Quantities.Quantity\n",
    "FROM Quantities \n",
    "LEFT OUTER JOIN Prices\n",
    "ON Quantities.Product = Prices.Product;\n",
    "```"
   ]
  },
  {
   "cell_type": "code",
   "execution_count": 13,
   "id": "6a5c54b7",
   "metadata": {
    "tags": [
     "hide-input",
     "output_scroll"
    ]
   },
   "outputs": [
    {
     "ename": "ModuleNotFoundError",
     "evalue": "No module named 'pandas'",
     "output_type": "error",
     "traceback": [
      "\u001b[0;31m---------------------------------------------------------------------------\u001b[0m",
      "\u001b[0;31mModuleNotFoundError\u001b[0m                       Traceback (most recent call last)",
      "Cell \u001b[0;32mIn[13], line 2\u001b[0m\n\u001b[1;32m      1\u001b[0m \u001b[38;5;28;01mimport\u001b[39;00m \u001b[38;5;21;01msqlite3\u001b[39;00m\n\u001b[0;32m----> 2\u001b[0m \u001b[38;5;28;01mimport\u001b[39;00m \u001b[38;5;21;01mpandas\u001b[39;00m \u001b[38;5;28;01mas\u001b[39;00m \u001b[38;5;21;01mpd\u001b[39;00m\n\u001b[1;32m      4\u001b[0m conn \u001b[38;5;241m=\u001b[39m sqlite3\u001b[38;5;241m.\u001b[39mconnect(\u001b[38;5;124m'\u001b[39m\u001b[38;5;124mjoin_example_database.db\u001b[39m\u001b[38;5;124m'\u001b[39m)\n\u001b[1;32m      6\u001b[0m sql_statement \u001b[38;5;241m=\u001b[39m \u001b[38;5;124m\"\"\"\u001b[39m\n\u001b[1;32m      7\u001b[0m \u001b[38;5;124mSELECT Prices.Product, Prices.Price,  Quantities.Product, Quantities.Quantity\u001b[39m\n\u001b[1;32m      8\u001b[0m \u001b[38;5;124mFROM Prices \u001b[39m\n\u001b[0;32m   (...)\u001b[0m\n\u001b[1;32m     15\u001b[0m \u001b[38;5;124mON Quantities.Product = Prices.Product;\u001b[39m\n\u001b[1;32m     16\u001b[0m \u001b[38;5;124m\"\"\"\u001b[39m\n",
      "\u001b[0;31mModuleNotFoundError\u001b[0m: No module named 'pandas'"
     ]
    }
   ],
   "source": [
    "import sqlite3\n",
    "import pandas as pd\n",
    "\n",
    "conn = sqlite3.connect('join_example_database.db')\n",
    "\n",
    "sql_statement = \"\"\"\n",
    "SELECT Prices.Product, Prices.Price,  Quantities.Product, Quantities.Quantity\n",
    "FROM Prices \n",
    "LEFT OUTER JOIN Quantities\n",
    "ON Prices.Product = Quantities.Product\n",
    "UNION ALL\n",
    "SELECT Prices.Product, Prices.Price, Quantities.Product, Quantities.Quantity\n",
    "FROM Quantities \n",
    "LEFT OUTER JOIN Prices\n",
    "ON Quantities.Product = Prices.Product;\n",
    "\"\"\"\n",
    "df = pd.read_sql_query(sql_statement, conn)\n",
    "df.style.set_table_attributes('style=\"font-size: 12px\"')"
   ]
  },
  {
   "cell_type": "markdown",
   "id": "1577c0aa",
   "metadata": {},
   "source": [
    "## Joining Multiple Tables\n",
    "\n",
    "```SQL\n",
    "PRAGMA foreign_keys = ON;\n",
    "DROP TABLE IF EXISTS Cars;\n",
    "DROP TABLE IF EXISTS MakeModels;\n",
    "DROP TABLE IF EXISTS Colors;\n",
    "\n",
    "\n",
    "CREATE TABLE Colors (\n",
    "   color_id INTEGER NOT NULL PRIMARY KEY,\n",
    "   color  TEXT NOT NULL,\n",
    "   UNIQUE (color)\n",
    ");\n",
    "\n",
    "CREATE TABLE MakeModels (\n",
    "  make_model_id     INTEGER NOT NULL PRIMARY KEY, \n",
    "  Make   TEXT NOT NULL,\n",
    "  Model   TEXT NOT NULL,\n",
    "  Year INTEGER NOT NULL,\n",
    "  UNIQUE (Make, Model, Year)\n",
    ");\n",
    "\n",
    "CREATE TABLE Cars (\n",
    "   car_id INTEGER NOT NULL PRIMARY KEY,\n",
    "   make_model_id INTEGER NOT NULL,\n",
    "   color_id INTEGER NOT NULL,\n",
    "   available INTEGER NOT NULL,\n",
    "   FOREIGN KEY(make_model_id) REFERENCES MakeModels(make_model_id),\n",
    "   FOREIGN KEY(color_id) REFERENCES Colors(color_id)\n",
    ");\n",
    "\n",
    "INSERT INTO Colors (color) VALUES ('Red');\n",
    "INSERT INTO Colors (color) VALUES ('Blue');\n",
    "INSERT INTO Colors (color) VALUES ('Green');\n",
    "\n",
    "INSERT INTO MakeModels (Make, Model, Year) VALUES ('Ford', 'Explorer', 2019);\n",
    "INSERT INTO MakeModels (Make, Model, Year) VALUES ('Toyota', 'Camry', 2010);\n",
    "INSERT INTO MakeModels (Make, Model, Year) VALUES ('Honda', 'Accord', 2015);\n",
    "\n",
    "INSERT INTO Cars (make_model_id, color_id, available) VALUES (1, 1, 1);\n",
    "INSERT INTO Cars (make_model_id, color_id, available) VALUES (2, 1, 1);\n",
    "INSERT INTO Cars (make_model_id, color_id, available) VALUES (3, 1, 1);\n",
    "INSERT INTO Cars (make_model_id, color_id, available) VALUES (1, 2, 0);\n",
    "INSERT INTO Cars (make_model_id, color_id, available) VALUES (1, 2, 0);\n",
    "INSERT INTO Cars (make_model_id, color_id, available) VALUES (3, 3, 0);\n",
    "```"
   ]
  },
  {
   "cell_type": "code",
   "execution_count": 14,
   "id": "917b368d",
   "metadata": {
    "tags": [
     "hide-input",
     "output_scroll"
    ]
   },
   "outputs": [
    {
     "ename": "ModuleNotFoundError",
     "evalue": "No module named 'pandas'",
     "output_type": "error",
     "traceback": [
      "\u001b[0;31m---------------------------------------------------------------------------\u001b[0m",
      "\u001b[0;31mModuleNotFoundError\u001b[0m                       Traceback (most recent call last)",
      "Cell \u001b[0;32mIn[14], line 2\u001b[0m\n\u001b[1;32m      1\u001b[0m \u001b[38;5;28;01mimport\u001b[39;00m \u001b[38;5;21;01msqlite3\u001b[39;00m\n\u001b[0;32m----> 2\u001b[0m \u001b[38;5;28;01mimport\u001b[39;00m \u001b[38;5;21;01mpandas\u001b[39;00m \u001b[38;5;28;01mas\u001b[39;00m \u001b[38;5;21;01mpd\u001b[39;00m\n\u001b[1;32m      4\u001b[0m conn \u001b[38;5;241m=\u001b[39m sqlite3\u001b[38;5;241m.\u001b[39mconnect(\u001b[38;5;124m'\u001b[39m\u001b[38;5;124mcars.db\u001b[39m\u001b[38;5;124m'\u001b[39m)\n\u001b[1;32m      6\u001b[0m sql_statements \u001b[38;5;241m=\u001b[39m \u001b[38;5;124m\"\"\"\u001b[39m\n\u001b[1;32m      7\u001b[0m \u001b[38;5;124mPRAGMA foreign_keys = ON;\u001b[39m\n\u001b[1;32m      8\u001b[0m \u001b[38;5;124mDROP TABLE IF EXISTS Cars;\u001b[39m\n\u001b[0;32m   (...)\u001b[0m\n\u001b[1;32m     48\u001b[0m \u001b[38;5;124mINSERT INTO Cars (make_model_id, color_id, available) VALUES (3, 3, 0);\u001b[39m\n\u001b[1;32m     49\u001b[0m \u001b[38;5;124m\"\"\"\u001b[39m\n",
      "\u001b[0;31mModuleNotFoundError\u001b[0m: No module named 'pandas'"
     ]
    }
   ],
   "source": [
    "import sqlite3\n",
    "import pandas as pd\n",
    "\n",
    "conn = sqlite3.connect('cars.db')\n",
    "\n",
    "sql_statements = \"\"\"\n",
    "PRAGMA foreign_keys = ON;\n",
    "DROP TABLE IF EXISTS Cars;\n",
    "DROP TABLE IF EXISTS MakeModels;\n",
    "DROP TABLE IF EXISTS Colors;\n",
    "\n",
    "CREATE TABLE Colors (\n",
    "   color_id INTEGER NOT NULL PRIMARY KEY,\n",
    "   color  TEXT NOT NULL,\n",
    "   UNIQUE (color)\n",
    ");\n",
    "\n",
    "CREATE TABLE MakeModels (\n",
    "  make_model_id     INTEGER NOT NULL PRIMARY KEY, \n",
    "  Make   TEXT NOT NULL,\n",
    "  Model   TEXT NOT NULL,\n",
    "  Year INTEGER NOT NULL,\n",
    "  UNIQUE (Make, Model, Year)\n",
    ");\n",
    "\n",
    "CREATE TABLE Cars (\n",
    "   car_id INTEGER NOT NULL PRIMARY KEY,\n",
    "   make_model_id INTEGER NOT NULL,\n",
    "   color_id INTEGER NOT NULL,\n",
    "   available INTEGER NOT NULL,\n",
    "   FOREIGN KEY(make_model_id) REFERENCES MakeModels(make_model_id),\n",
    "   FOREIGN KEY(color_id) REFERENCES Colors(color_id)\n",
    ");\n",
    "\n",
    "INSERT INTO Colors (color) VALUES ('Red');\n",
    "INSERT INTO Colors (color) VALUES ('Blue');\n",
    "INSERT INTO Colors (color) VALUES ('Green');\n",
    "\n",
    "INSERT INTO MakeModels (Make, Model, Year) VALUES ('Ford', 'Explorer', 2019);\n",
    "INSERT INTO MakeModels (Make, Model, Year) VALUES ('Toyota', 'Camry', 2010);\n",
    "INSERT INTO MakeModels (Make, Model, Year) VALUES ('Honda', 'Accord', 2015);\n",
    "\n",
    "INSERT INTO Cars (make_model_id, color_id, available) VALUES (1, 1, 1);\n",
    "INSERT INTO Cars (make_model_id, color_id, available) VALUES (2, 1, 1);\n",
    "INSERT INTO Cars (make_model_id, color_id, available) VALUES (3, 1, 1);\n",
    "INSERT INTO Cars (make_model_id, color_id, available) VALUES (1, 2, 0);\n",
    "INSERT INTO Cars (make_model_id, color_id, available) VALUES (1, 2, 0);\n",
    "INSERT INTO Cars (make_model_id, color_id, available) VALUES (3, 3, 0);\n",
    "\"\"\"\n",
    "\n",
    "with conn:\n",
    "    cur = conn.cursor()\n",
    "    cur.executescript(sql_statements)"
   ]
  },
  {
   "cell_type": "markdown",
   "id": "b859d766",
   "metadata": {},
   "source": [
    "```SQL\n",
    "SELECT * FROM Colors;\n",
    "```"
   ]
  },
  {
   "cell_type": "code",
   "execution_count": 15,
   "id": "9b0928ca",
   "metadata": {
    "tags": [
     "hide-input",
     "output_scroll"
    ]
   },
   "outputs": [
    {
     "ename": "ModuleNotFoundError",
     "evalue": "No module named 'pandas'",
     "output_type": "error",
     "traceback": [
      "\u001b[0;31m---------------------------------------------------------------------------\u001b[0m",
      "\u001b[0;31mModuleNotFoundError\u001b[0m                       Traceback (most recent call last)",
      "Cell \u001b[0;32mIn[15], line 2\u001b[0m\n\u001b[1;32m      1\u001b[0m \u001b[38;5;28;01mimport\u001b[39;00m \u001b[38;5;21;01msqlite3\u001b[39;00m\n\u001b[0;32m----> 2\u001b[0m \u001b[38;5;28;01mimport\u001b[39;00m \u001b[38;5;21;01mpandas\u001b[39;00m \u001b[38;5;28;01mas\u001b[39;00m \u001b[38;5;21;01mpd\u001b[39;00m\n\u001b[1;32m      4\u001b[0m conn \u001b[38;5;241m=\u001b[39m sqlite3\u001b[38;5;241m.\u001b[39mconnect(\u001b[38;5;124m'\u001b[39m\u001b[38;5;124mcars.db\u001b[39m\u001b[38;5;124m'\u001b[39m)\n\u001b[1;32m      6\u001b[0m sql_statement \u001b[38;5;241m=\u001b[39m \u001b[38;5;124m\"\"\"\u001b[39m\n\u001b[1;32m      7\u001b[0m \u001b[38;5;124mSELECT * FROM Colors;\u001b[39m\n\u001b[1;32m      8\u001b[0m \u001b[38;5;124m\"\"\"\u001b[39m\n",
      "\u001b[0;31mModuleNotFoundError\u001b[0m: No module named 'pandas'"
     ]
    }
   ],
   "source": [
    "import sqlite3\n",
    "import pandas as pd\n",
    "\n",
    "conn = sqlite3.connect('cars.db')\n",
    "\n",
    "sql_statement = \"\"\"\n",
    "SELECT * FROM Colors;\n",
    "\"\"\"\n",
    "df = pd.read_sql_query(sql_statement, conn)\n",
    "df.style.set_table_attributes('style=\"font-size: 12px\"')"
   ]
  },
  {
   "cell_type": "markdown",
   "id": "d681e8f1",
   "metadata": {},
   "source": [
    "```SQL\n",
    "SELECT * FROM MakeModels;\n",
    "```"
   ]
  },
  {
   "cell_type": "code",
   "execution_count": 16,
   "id": "8b03680e",
   "metadata": {
    "tags": [
     "hide-input",
     "output_scroll"
    ]
   },
   "outputs": [
    {
     "ename": "ModuleNotFoundError",
     "evalue": "No module named 'pandas'",
     "output_type": "error",
     "traceback": [
      "\u001b[0;31m---------------------------------------------------------------------------\u001b[0m",
      "\u001b[0;31mModuleNotFoundError\u001b[0m                       Traceback (most recent call last)",
      "Cell \u001b[0;32mIn[16], line 2\u001b[0m\n\u001b[1;32m      1\u001b[0m \u001b[38;5;28;01mimport\u001b[39;00m \u001b[38;5;21;01msqlite3\u001b[39;00m\n\u001b[0;32m----> 2\u001b[0m \u001b[38;5;28;01mimport\u001b[39;00m \u001b[38;5;21;01mpandas\u001b[39;00m \u001b[38;5;28;01mas\u001b[39;00m \u001b[38;5;21;01mpd\u001b[39;00m\n\u001b[1;32m      4\u001b[0m conn \u001b[38;5;241m=\u001b[39m sqlite3\u001b[38;5;241m.\u001b[39mconnect(\u001b[38;5;124m'\u001b[39m\u001b[38;5;124mcars.db\u001b[39m\u001b[38;5;124m'\u001b[39m)\n\u001b[1;32m      6\u001b[0m sql_statement \u001b[38;5;241m=\u001b[39m \u001b[38;5;124m\"\"\"\u001b[39m\n\u001b[1;32m      7\u001b[0m \u001b[38;5;124mSELECT * FROM MakeModels;\u001b[39m\n\u001b[1;32m      8\u001b[0m \u001b[38;5;124m\"\"\"\u001b[39m\n",
      "\u001b[0;31mModuleNotFoundError\u001b[0m: No module named 'pandas'"
     ]
    }
   ],
   "source": [
    "import sqlite3\n",
    "import pandas as pd\n",
    "\n",
    "conn = sqlite3.connect('cars.db')\n",
    "\n",
    "sql_statement = \"\"\"\n",
    "SELECT * FROM MakeModels;\n",
    "\"\"\"\n",
    "df = pd.read_sql_query(sql_statement, conn)\n",
    "df.style.set_table_attributes('style=\"font-size: 12px\"')"
   ]
  },
  {
   "cell_type": "markdown",
   "id": "3de6938a",
   "metadata": {},
   "source": [
    "```SQL\n",
    "SELECT * FROM Cars;\n",
    "```"
   ]
  },
  {
   "cell_type": "code",
   "execution_count": 17,
   "id": "3ec0b0a2",
   "metadata": {
    "tags": [
     "hide-input",
     "output_scroll"
    ]
   },
   "outputs": [
    {
     "ename": "ModuleNotFoundError",
     "evalue": "No module named 'pandas'",
     "output_type": "error",
     "traceback": [
      "\u001b[0;31m---------------------------------------------------------------------------\u001b[0m",
      "\u001b[0;31mModuleNotFoundError\u001b[0m                       Traceback (most recent call last)",
      "Cell \u001b[0;32mIn[17], line 2\u001b[0m\n\u001b[1;32m      1\u001b[0m \u001b[38;5;28;01mimport\u001b[39;00m \u001b[38;5;21;01msqlite3\u001b[39;00m\n\u001b[0;32m----> 2\u001b[0m \u001b[38;5;28;01mimport\u001b[39;00m \u001b[38;5;21;01mpandas\u001b[39;00m \u001b[38;5;28;01mas\u001b[39;00m \u001b[38;5;21;01mpd\u001b[39;00m\n\u001b[1;32m      4\u001b[0m conn \u001b[38;5;241m=\u001b[39m sqlite3\u001b[38;5;241m.\u001b[39mconnect(\u001b[38;5;124m'\u001b[39m\u001b[38;5;124mcars.db\u001b[39m\u001b[38;5;124m'\u001b[39m)\n\u001b[1;32m      6\u001b[0m sql_statement \u001b[38;5;241m=\u001b[39m \u001b[38;5;124m\"\"\"\u001b[39m\n\u001b[1;32m      7\u001b[0m \u001b[38;5;124mSELECT * FROM Cars;\u001b[39m\n\u001b[1;32m      8\u001b[0m \u001b[38;5;124m\"\"\"\u001b[39m\n",
      "\u001b[0;31mModuleNotFoundError\u001b[0m: No module named 'pandas'"
     ]
    }
   ],
   "source": [
    "import sqlite3\n",
    "import pandas as pd\n",
    "\n",
    "conn = sqlite3.connect('cars.db')\n",
    "\n",
    "sql_statement = \"\"\"\n",
    "SELECT * FROM Cars;\n",
    "\"\"\"\n",
    "df = pd.read_sql_query(sql_statement, conn)\n",
    "df.style.set_table_attributes('style=\"font-size: 12px\"')"
   ]
  },
  {
   "cell_type": "markdown",
   "id": "f8865877",
   "metadata": {},
   "source": [
    "```SQL\n",
    "SELECT Cars.car_id, MakeModels.Make, MakeModels.model, MakeModels.year, Colors.color, Cars.available\n",
    "FROM Cars\n",
    "    INNER JOIN MakeModels ON MakeModels.make_model_id = Cars.make_model_id\n",
    "    INNER JOIN Colors ON Colors.color_id = Cars.color_id;\n",
    "```"
   ]
  },
  {
   "cell_type": "code",
   "execution_count": 18,
   "id": "b05613ae",
   "metadata": {
    "tags": [
     "hide-input",
     "output_scroll"
    ]
   },
   "outputs": [
    {
     "ename": "ModuleNotFoundError",
     "evalue": "No module named 'pandas'",
     "output_type": "error",
     "traceback": [
      "\u001b[0;31m---------------------------------------------------------------------------\u001b[0m",
      "\u001b[0;31mModuleNotFoundError\u001b[0m                       Traceback (most recent call last)",
      "Cell \u001b[0;32mIn[18], line 2\u001b[0m\n\u001b[1;32m      1\u001b[0m \u001b[38;5;28;01mimport\u001b[39;00m \u001b[38;5;21;01msqlite3\u001b[39;00m\n\u001b[0;32m----> 2\u001b[0m \u001b[38;5;28;01mimport\u001b[39;00m \u001b[38;5;21;01mpandas\u001b[39;00m \u001b[38;5;28;01mas\u001b[39;00m \u001b[38;5;21;01mpd\u001b[39;00m\n\u001b[1;32m      4\u001b[0m conn \u001b[38;5;241m=\u001b[39m sqlite3\u001b[38;5;241m.\u001b[39mconnect(\u001b[38;5;124m'\u001b[39m\u001b[38;5;124mcars.db\u001b[39m\u001b[38;5;124m'\u001b[39m)\n\u001b[1;32m      6\u001b[0m sql_statement \u001b[38;5;241m=\u001b[39m \u001b[38;5;124m\"\"\"\u001b[39m\n\u001b[1;32m      7\u001b[0m \u001b[38;5;124mSELECT Cars.car_id, MakeModels.Make, MakeModels.model, MakeModels.year, Colors.color, Cars.available\u001b[39m\n\u001b[1;32m      8\u001b[0m \u001b[38;5;124mFROM Cars\u001b[39m\n\u001b[1;32m      9\u001b[0m \u001b[38;5;124m    INNER JOIN MakeModels ON MakeModels.make_model_id = Cars.make_model_id\u001b[39m\n\u001b[1;32m     10\u001b[0m \u001b[38;5;124m    INNER JOIN Colors ON Colors.color_id = Cars.color_id;\u001b[39m\n\u001b[1;32m     11\u001b[0m \u001b[38;5;124m\"\"\"\u001b[39m\n",
      "\u001b[0;31mModuleNotFoundError\u001b[0m: No module named 'pandas'"
     ]
    }
   ],
   "source": [
    "import sqlite3\n",
    "import pandas as pd\n",
    "\n",
    "conn = sqlite3.connect('cars.db')\n",
    "\n",
    "sql_statement = \"\"\"\n",
    "SELECT Cars.car_id, MakeModels.Make, MakeModels.model, MakeModels.year, Colors.color, Cars.available\n",
    "FROM Cars\n",
    "    INNER JOIN MakeModels ON MakeModels.make_model_id = Cars.make_model_id\n",
    "    INNER JOIN Colors ON Colors.color_id = Cars.color_id;\n",
    "\"\"\"\n",
    "df = pd.read_sql_query(sql_statement, conn)\n",
    "df.style.set_table_attributes('style=\"font-size: 12px\"')"
   ]
  },
  {
   "cell_type": "markdown",
   "id": "eb7fc8be",
   "metadata": {},
   "source": [
    "## Updating Tables\n",
    "The following tables have typos in them!\n",
    "\n",
    "```SQL\n",
    "PRAGMA foreign_keys = ON;\n",
    "DROP TABLE IF EXISTS Cars;\n",
    "DROP TABLE IF EXISTS MakeModels;\n",
    "DROP TABLE IF EXISTS Colors;\n",
    "\n",
    "\n",
    "CREATE TABLE Colors (\n",
    "   color_id INTEGER NOT NULL PRIMARY KEY,\n",
    "   color  TEXT NOT NULL,\n",
    "   UNIQUE (color)\n",
    ");\n",
    "\n",
    "CREATE TABLE MakeModels (\n",
    "  make_model_id     INTEGER NOT NULL PRIMARY KEY, \n",
    "  Make   TEXT NOT NULL,\n",
    "  Model   TEXT NOT NULL,\n",
    "  Year INTEGER NOT NULL,\n",
    "  UNIQUE (Make, Model, Year)\n",
    ");\n",
    "\n",
    "CREATE TABLE Cars (\n",
    "   car_id INTEGER NOT NULL PRIMARY KEY,\n",
    "   make_model_id INTEGER NOT NULL,\n",
    "   color_id INTEGER NOT NULL,\n",
    "   available INTEGER NOT NULL,\n",
    "   FOREIGN KEY(make_model_id) REFERENCES MakeModels(make_model_id),\n",
    "   FOREIGN KEY(color_id) REFERENCES Colors(color_id)\n",
    ");\n",
    "\n",
    "INSERT INTO Colors (color) VALUES ('Red');\n",
    "INSERT INTO Colors (color) VALUES ('Blue');\n",
    "INSERT INTO Colors (color) VALUES ('Greene'); -- TYPO!!!\n",
    "\n",
    "INSERT INTO MakeModels (Make, Model, Year) VALUES ('Frd', 'Explorer', 2019); -- TYPO!!!\n",
    "INSERT INTO MakeModels (Make, Model, Year) VALUES ('Toyota', 'Camrey', 2010); -- TYPO!!!\n",
    "INSERT INTO MakeModels (Make, Model, Year) VALUES ('Honda', 'Accord', 2015);\n",
    "\n",
    "INSERT INTO Cars (make_model_id, color_id, available) VALUES (1, 1, 1);\n",
    "INSERT INTO Cars (make_model_id, color_id, available) VALUES (2, 1, 1);\n",
    "INSERT INTO Cars (make_model_id, color_id, available) VALUES (3, 1, 1);\n",
    "INSERT INTO Cars (make_model_id, color_id, available) VALUES (1, 2, 0);\n",
    "INSERT INTO Cars (make_model_id, color_id, available) VALUES (1, 2, 0);\n",
    "INSERT INTO Cars (make_model_id, color_id, available) VALUES (3, 3, 0);\n",
    "```"
   ]
  },
  {
   "cell_type": "code",
   "execution_count": 19,
   "id": "e3966c99",
   "metadata": {
    "tags": [
     "hide-input",
     "output_scroll"
    ]
   },
   "outputs": [
    {
     "ename": "ModuleNotFoundError",
     "evalue": "No module named 'pandas'",
     "output_type": "error",
     "traceback": [
      "\u001b[0;31m---------------------------------------------------------------------------\u001b[0m",
      "\u001b[0;31mModuleNotFoundError\u001b[0m                       Traceback (most recent call last)",
      "Cell \u001b[0;32mIn[19], line 2\u001b[0m\n\u001b[1;32m      1\u001b[0m \u001b[38;5;28;01mimport\u001b[39;00m \u001b[38;5;21;01msqlite3\u001b[39;00m\n\u001b[0;32m----> 2\u001b[0m \u001b[38;5;28;01mimport\u001b[39;00m \u001b[38;5;21;01mpandas\u001b[39;00m \u001b[38;5;28;01mas\u001b[39;00m \u001b[38;5;21;01mpd\u001b[39;00m\n\u001b[1;32m      4\u001b[0m conn \u001b[38;5;241m=\u001b[39m sqlite3\u001b[38;5;241m.\u001b[39mconnect(\u001b[38;5;124m'\u001b[39m\u001b[38;5;124mcars.db\u001b[39m\u001b[38;5;124m'\u001b[39m)\n\u001b[1;32m      6\u001b[0m sql_statements \u001b[38;5;241m=\u001b[39m \u001b[38;5;124m\"\"\"\u001b[39m\n\u001b[1;32m      7\u001b[0m \u001b[38;5;124mPRAGMA foreign_keys = ON;\u001b[39m\n\u001b[1;32m      8\u001b[0m \u001b[38;5;124mDROP TABLE IF EXISTS Cars;\u001b[39m\n\u001b[0;32m   (...)\u001b[0m\n\u001b[1;32m     48\u001b[0m \u001b[38;5;124mINSERT INTO Cars (make_model_id, color_id, available) VALUES (3, 3, 0);\u001b[39m\n\u001b[1;32m     49\u001b[0m \u001b[38;5;124m\"\"\"\u001b[39m\n",
      "\u001b[0;31mModuleNotFoundError\u001b[0m: No module named 'pandas'"
     ]
    }
   ],
   "source": [
    "import sqlite3\n",
    "import pandas as pd\n",
    "\n",
    "conn = sqlite3.connect('cars.db')\n",
    "\n",
    "sql_statements = \"\"\"\n",
    "PRAGMA foreign_keys = ON;\n",
    "DROP TABLE IF EXISTS Cars;\n",
    "DROP TABLE IF EXISTS MakeModels;\n",
    "DROP TABLE IF EXISTS Colors;\n",
    "\n",
    "CREATE TABLE Colors (\n",
    "   color_id INTEGER NOT NULL PRIMARY KEY,\n",
    "   color  TEXT NOT NULL,\n",
    "   UNIQUE (color)\n",
    ");\n",
    "\n",
    "CREATE TABLE MakeModels (\n",
    "  make_model_id     INTEGER NOT NULL PRIMARY KEY, \n",
    "  Make   TEXT NOT NULL,\n",
    "  Model   TEXT NOT NULL,\n",
    "  Year INTEGER NOT NULL,\n",
    "  UNIQUE (Make, Model, Year)\n",
    ");\n",
    "\n",
    "CREATE TABLE Cars (\n",
    "   car_id INTEGER NOT NULL PRIMARY KEY,\n",
    "   make_model_id INTEGER NOT NULL,\n",
    "   color_id INTEGER NOT NULL,\n",
    "   available INTEGER NOT NULL,\n",
    "   FOREIGN KEY(make_model_id) REFERENCES MakeModels(make_model_id),\n",
    "   FOREIGN KEY(color_id) REFERENCES Colors(color_id)\n",
    ");\n",
    "\n",
    "INSERT INTO Colors (color) VALUES ('Red');\n",
    "INSERT INTO Colors (color) VALUES ('Blue');\n",
    "INSERT INTO Colors (color) VALUES ('Greene'); -- TYPO!!!\n",
    "\n",
    "INSERT INTO MakeModels (Make, Model, Year) VALUES ('Frd', 'Explorer', 2019); -- TYPO!!!\n",
    "INSERT INTO MakeModels (Make, Model, Year) VALUES ('Toyota', 'Camrey', 2010); -- TYPO!!!\n",
    "INSERT INTO MakeModels (Make, Model, Year) VALUES ('Honda', 'Accord', 2015);\n",
    "\n",
    "INSERT INTO Cars (make_model_id, color_id, available) VALUES (1, 1, 1);\n",
    "INSERT INTO Cars (make_model_id, color_id, available) VALUES (2, 1, 1);\n",
    "INSERT INTO Cars (make_model_id, color_id, available) VALUES (3, 1, 1);\n",
    "INSERT INTO Cars (make_model_id, color_id, available) VALUES (1, 2, 0);\n",
    "INSERT INTO Cars (make_model_id, color_id, available) VALUES (1, 2, 0);\n",
    "INSERT INTO Cars (make_model_id, color_id, available) VALUES (3, 3, 0);\n",
    "\"\"\"\n",
    "\n",
    "with conn:\n",
    "    cur = conn.cursor()\n",
    "    cur.executescript(sql_statements)\n",
    "\n",
    "sql_statement = \"\"\"\n",
    "SELECT Cars.car_id, MakeModels.Make, MakeModels.Model, MakeModels.year, Colors.color, Cars.available\n",
    "FROM Cars\n",
    "    INNER JOIN MakeModels ON MakeModels.make_model_id = Cars.make_model_id\n",
    "    INNER JOIN Colors ON Colors.color_id = Cars.color_id;\n",
    "\"\"\"\n",
    "df = pd.read_sql_query(sql_statement, conn)\n",
    "df.style.set_table_attributes('style=\"font-size: 12px\"')"
   ]
  },
  {
   "cell_type": "markdown",
   "id": "a188353b",
   "metadata": {},
   "source": [
    "### Update Color\n",
    "\n",
    "```SQL\n",
    "UPDATE Colors\n",
    "SET color = 'Green'\n",
    "WHERE color = \"Greene\";\n",
    "```"
   ]
  },
  {
   "cell_type": "code",
   "execution_count": 20,
   "id": "27348722",
   "metadata": {
    "tags": [
     "hide-input",
     "output_scroll"
    ]
   },
   "outputs": [
    {
     "ename": "ModuleNotFoundError",
     "evalue": "No module named 'pandas'",
     "output_type": "error",
     "traceback": [
      "\u001b[0;31m---------------------------------------------------------------------------\u001b[0m",
      "\u001b[0;31mModuleNotFoundError\u001b[0m                       Traceback (most recent call last)",
      "Cell \u001b[0;32mIn[20], line 2\u001b[0m\n\u001b[1;32m      1\u001b[0m \u001b[38;5;28;01mimport\u001b[39;00m \u001b[38;5;21;01msqlite3\u001b[39;00m\n\u001b[0;32m----> 2\u001b[0m \u001b[38;5;28;01mimport\u001b[39;00m \u001b[38;5;21;01mpandas\u001b[39;00m \u001b[38;5;28;01mas\u001b[39;00m \u001b[38;5;21;01mpd\u001b[39;00m\n\u001b[1;32m      4\u001b[0m conn \u001b[38;5;241m=\u001b[39m sqlite3\u001b[38;5;241m.\u001b[39mconnect(\u001b[38;5;124m'\u001b[39m\u001b[38;5;124mcars.db\u001b[39m\u001b[38;5;124m'\u001b[39m)\n\u001b[1;32m      6\u001b[0m sql_statement \u001b[38;5;241m=\u001b[39m \u001b[38;5;124m\"\"\"\u001b[39m\n\u001b[1;32m      7\u001b[0m \u001b[38;5;124mUPDATE Colors\u001b[39m\n\u001b[1;32m      8\u001b[0m \u001b[38;5;124mSET color = \u001b[39m\u001b[38;5;124m'\u001b[39m\u001b[38;5;124mGreen\u001b[39m\u001b[38;5;124m'\u001b[39m\n\u001b[1;32m      9\u001b[0m \u001b[38;5;124mWHERE color = \u001b[39m\u001b[38;5;124m\"\u001b[39m\u001b[38;5;124mGreene\u001b[39m\u001b[38;5;124m\"\u001b[39m\u001b[38;5;124m;\u001b[39m\n\u001b[1;32m     10\u001b[0m \u001b[38;5;124m\"\"\"\u001b[39m\n",
      "\u001b[0;31mModuleNotFoundError\u001b[0m: No module named 'pandas'"
     ]
    }
   ],
   "source": [
    "import sqlite3\n",
    "import pandas as pd\n",
    "\n",
    "conn = sqlite3.connect('cars.db')\n",
    "\n",
    "sql_statement = \"\"\"\n",
    "UPDATE Colors\n",
    "SET color = 'Green'\n",
    "WHERE color = \"Greene\";\n",
    "\"\"\"\n",
    "with conn:\n",
    "    cur = conn.cursor()\n",
    "    cur.execute(sql_statement)"
   ]
  },
  {
   "cell_type": "markdown",
   "id": "1ad412fa",
   "metadata": {},
   "source": [
    "```SQL\n",
    "SELECT Cars.car_id, MakeModels.Make, MakeModels.Model, MakeModels.year, Colors.color, Cars.available\n",
    "FROM Cars\n",
    "    INNER JOIN MakeModels ON MakeModels.make_model_id = Cars.make_model_id\n",
    "    INNER JOIN Colors ON Colors.color_id = Cars.color_id;\n",
    "```"
   ]
  },
  {
   "cell_type": "code",
   "execution_count": 21,
   "id": "4e432a7a",
   "metadata": {
    "tags": [
     "hide-input",
     "output_scroll"
    ]
   },
   "outputs": [
    {
     "ename": "ModuleNotFoundError",
     "evalue": "No module named 'pandas'",
     "output_type": "error",
     "traceback": [
      "\u001b[0;31m---------------------------------------------------------------------------\u001b[0m",
      "\u001b[0;31mModuleNotFoundError\u001b[0m                       Traceback (most recent call last)",
      "Cell \u001b[0;32mIn[21], line 2\u001b[0m\n\u001b[1;32m      1\u001b[0m \u001b[38;5;28;01mimport\u001b[39;00m \u001b[38;5;21;01msqlite3\u001b[39;00m\n\u001b[0;32m----> 2\u001b[0m \u001b[38;5;28;01mimport\u001b[39;00m \u001b[38;5;21;01mpandas\u001b[39;00m \u001b[38;5;28;01mas\u001b[39;00m \u001b[38;5;21;01mpd\u001b[39;00m\n\u001b[1;32m      4\u001b[0m conn \u001b[38;5;241m=\u001b[39m sqlite3\u001b[38;5;241m.\u001b[39mconnect(\u001b[38;5;124m'\u001b[39m\u001b[38;5;124mcars.db\u001b[39m\u001b[38;5;124m'\u001b[39m)\n\u001b[1;32m      6\u001b[0m sql_statement \u001b[38;5;241m=\u001b[39m \u001b[38;5;124m\"\"\"\u001b[39m\n\u001b[1;32m      7\u001b[0m \u001b[38;5;124mSELECT Cars.car_id, MakeModels.Make, MakeModels.Model, MakeModels.year, Colors.color, Cars.available\u001b[39m\n\u001b[1;32m      8\u001b[0m \u001b[38;5;124mFROM Cars\u001b[39m\n\u001b[1;32m      9\u001b[0m \u001b[38;5;124m    INNER JOIN MakeModels ON MakeModels.make_model_id = Cars.make_model_id\u001b[39m\n\u001b[1;32m     10\u001b[0m \u001b[38;5;124m    INNER JOIN Colors ON Colors.color_id = Cars.color_id;\u001b[39m\n\u001b[1;32m     11\u001b[0m \u001b[38;5;124m\"\"\"\u001b[39m\n",
      "\u001b[0;31mModuleNotFoundError\u001b[0m: No module named 'pandas'"
     ]
    }
   ],
   "source": [
    "import sqlite3\n",
    "import pandas as pd\n",
    "\n",
    "conn = sqlite3.connect('cars.db')\n",
    "\n",
    "sql_statement = \"\"\"\n",
    "SELECT Cars.car_id, MakeModels.Make, MakeModels.Model, MakeModels.year, Colors.color, Cars.available\n",
    "FROM Cars\n",
    "    INNER JOIN MakeModels ON MakeModels.make_model_id = Cars.make_model_id\n",
    "    INNER JOIN Colors ON Colors.color_id = Cars.color_id;\n",
    "\"\"\"\n",
    "df = pd.read_sql_query(sql_statement, conn)\n",
    "df.style.set_table_attributes('style=\"font-size: 12px\"')"
   ]
  },
  {
   "cell_type": "markdown",
   "id": "1d6a1033",
   "metadata": {},
   "source": [
    "### Update MakeModel\n",
    "\n",
    "```SQL\n",
    "UPDATE MakeModels\n",
    "SET Make = 'Ford'\n",
    "WHERE Make = \"Frd\";\n",
    "\n",
    "UPDATE MakeModels\n",
    "SET Model = 'Camry'\n",
    "WHERE Model = \"Camrey\";\n",
    "```"
   ]
  },
  {
   "cell_type": "code",
   "execution_count": 22,
   "id": "b5d71c09",
   "metadata": {
    "tags": [
     "hide-input",
     "output_scroll"
    ]
   },
   "outputs": [
    {
     "ename": "ModuleNotFoundError",
     "evalue": "No module named 'pandas'",
     "output_type": "error",
     "traceback": [
      "\u001b[0;31m---------------------------------------------------------------------------\u001b[0m",
      "\u001b[0;31mModuleNotFoundError\u001b[0m                       Traceback (most recent call last)",
      "Cell \u001b[0;32mIn[22], line 2\u001b[0m\n\u001b[1;32m      1\u001b[0m \u001b[38;5;28;01mimport\u001b[39;00m \u001b[38;5;21;01msqlite3\u001b[39;00m\n\u001b[0;32m----> 2\u001b[0m \u001b[38;5;28;01mimport\u001b[39;00m \u001b[38;5;21;01mpandas\u001b[39;00m \u001b[38;5;28;01mas\u001b[39;00m \u001b[38;5;21;01mpd\u001b[39;00m\n\u001b[1;32m      4\u001b[0m conn \u001b[38;5;241m=\u001b[39m sqlite3\u001b[38;5;241m.\u001b[39mconnect(\u001b[38;5;124m'\u001b[39m\u001b[38;5;124mcars.db\u001b[39m\u001b[38;5;124m'\u001b[39m)\n\u001b[1;32m      6\u001b[0m sql_statements \u001b[38;5;241m=\u001b[39m \u001b[38;5;124m\"\"\"\u001b[39m\n\u001b[1;32m      7\u001b[0m \u001b[38;5;124mUPDATE MakeModels\u001b[39m\n\u001b[1;32m      8\u001b[0m \u001b[38;5;124mSET Make = \u001b[39m\u001b[38;5;124m'\u001b[39m\u001b[38;5;124mFord\u001b[39m\u001b[38;5;124m'\u001b[39m\n\u001b[0;32m   (...)\u001b[0m\n\u001b[1;32m     13\u001b[0m \u001b[38;5;124mWHERE Model = \u001b[39m\u001b[38;5;124m\"\u001b[39m\u001b[38;5;124mCamrey\u001b[39m\u001b[38;5;124m\"\u001b[39m\u001b[38;5;124m;\u001b[39m\n\u001b[1;32m     14\u001b[0m \u001b[38;5;124m\"\"\"\u001b[39m\n",
      "\u001b[0;31mModuleNotFoundError\u001b[0m: No module named 'pandas'"
     ]
    }
   ],
   "source": [
    "import sqlite3\n",
    "import pandas as pd\n",
    "\n",
    "conn = sqlite3.connect('cars.db')\n",
    "\n",
    "sql_statements = \"\"\"\n",
    "UPDATE MakeModels\n",
    "SET Make = 'Ford'\n",
    "WHERE Make = \"Frd\";\n",
    "\n",
    "UPDATE MakeModels\n",
    "SET Model = 'Camry'\n",
    "WHERE Model = \"Camrey\";\n",
    "\"\"\"\n",
    "with conn:\n",
    "    cur = conn.cursor()\n",
    "    cur.executescript(sql_statements)"
   ]
  },
  {
   "cell_type": "markdown",
   "id": "071574e0",
   "metadata": {},
   "source": [
    "```SQL\n",
    "SELECT Cars.car_id, MakeModels.Make, MakeModels.Model, MakeModels.year, Colors.color, Cars.available\n",
    "FROM Cars\n",
    "    INNER JOIN MakeModels ON MakeModels.make_model_id = Cars.make_model_id\n",
    "    INNER JOIN Colors ON Colors.color_id = Cars.color_id;\n",
    "```"
   ]
  },
  {
   "cell_type": "code",
   "execution_count": 23,
   "id": "6d06079b",
   "metadata": {
    "tags": [
     "hide-input",
     "output_scroll"
    ]
   },
   "outputs": [
    {
     "ename": "ModuleNotFoundError",
     "evalue": "No module named 'pandas'",
     "output_type": "error",
     "traceback": [
      "\u001b[0;31m---------------------------------------------------------------------------\u001b[0m",
      "\u001b[0;31mModuleNotFoundError\u001b[0m                       Traceback (most recent call last)",
      "Cell \u001b[0;32mIn[23], line 2\u001b[0m\n\u001b[1;32m      1\u001b[0m \u001b[38;5;28;01mimport\u001b[39;00m \u001b[38;5;21;01msqlite3\u001b[39;00m\n\u001b[0;32m----> 2\u001b[0m \u001b[38;5;28;01mimport\u001b[39;00m \u001b[38;5;21;01mpandas\u001b[39;00m \u001b[38;5;28;01mas\u001b[39;00m \u001b[38;5;21;01mpd\u001b[39;00m\n\u001b[1;32m      4\u001b[0m conn \u001b[38;5;241m=\u001b[39m sqlite3\u001b[38;5;241m.\u001b[39mconnect(\u001b[38;5;124m'\u001b[39m\u001b[38;5;124mcars.db\u001b[39m\u001b[38;5;124m'\u001b[39m)\n\u001b[1;32m      6\u001b[0m sql_statement \u001b[38;5;241m=\u001b[39m \u001b[38;5;124m\"\"\"\u001b[39m\n\u001b[1;32m      7\u001b[0m \u001b[38;5;124mSELECT Cars.car_id, MakeModels.Make, MakeModels.Model, MakeModels.year, Colors.color, Cars.available\u001b[39m\n\u001b[1;32m      8\u001b[0m \u001b[38;5;124mFROM Cars\u001b[39m\n\u001b[1;32m      9\u001b[0m \u001b[38;5;124m    INNER JOIN MakeModels ON MakeModels.make_model_id = Cars.make_model_id\u001b[39m\n\u001b[1;32m     10\u001b[0m \u001b[38;5;124m    INNER JOIN Colors ON Colors.color_id = Cars.color_id;\u001b[39m\n\u001b[1;32m     11\u001b[0m \u001b[38;5;124m\"\"\"\u001b[39m\n",
      "\u001b[0;31mModuleNotFoundError\u001b[0m: No module named 'pandas'"
     ]
    }
   ],
   "source": [
    "import sqlite3\n",
    "import pandas as pd\n",
    "\n",
    "conn = sqlite3.connect('cars.db')\n",
    "\n",
    "sql_statement = \"\"\"\n",
    "SELECT Cars.car_id, MakeModels.Make, MakeModels.Model, MakeModels.year, Colors.color, Cars.available\n",
    "FROM Cars\n",
    "    INNER JOIN MakeModels ON MakeModels.make_model_id = Cars.make_model_id\n",
    "    INNER JOIN Colors ON Colors.color_id = Cars.color_id;\n",
    "\"\"\"\n",
    "df = pd.read_sql_query(sql_statement, conn)\n",
    "df.style.set_table_attributes('style=\"font-size: 12px\"')"
   ]
  },
  {
   "cell_type": "markdown",
   "id": "492eead5",
   "metadata": {},
   "source": [
    "### Update Car\n",
    "\n",
    "```SQL\n",
    "UPDATE Cars\n",
    "SET available = 1\n",
    "WHERE car_id = 6;\n",
    "```"
   ]
  },
  {
   "cell_type": "code",
   "execution_count": 24,
   "id": "01cdc9e7",
   "metadata": {
    "tags": [
     "hide-input",
     "output_scroll"
    ]
   },
   "outputs": [
    {
     "ename": "ModuleNotFoundError",
     "evalue": "No module named 'pandas'",
     "output_type": "error",
     "traceback": [
      "\u001b[0;31m---------------------------------------------------------------------------\u001b[0m",
      "\u001b[0;31mModuleNotFoundError\u001b[0m                       Traceback (most recent call last)",
      "Cell \u001b[0;32mIn[24], line 2\u001b[0m\n\u001b[1;32m      1\u001b[0m \u001b[38;5;28;01mimport\u001b[39;00m \u001b[38;5;21;01msqlite3\u001b[39;00m\n\u001b[0;32m----> 2\u001b[0m \u001b[38;5;28;01mimport\u001b[39;00m \u001b[38;5;21;01mpandas\u001b[39;00m \u001b[38;5;28;01mas\u001b[39;00m \u001b[38;5;21;01mpd\u001b[39;00m\n\u001b[1;32m      4\u001b[0m conn \u001b[38;5;241m=\u001b[39m sqlite3\u001b[38;5;241m.\u001b[39mconnect(\u001b[38;5;124m'\u001b[39m\u001b[38;5;124mcars.db\u001b[39m\u001b[38;5;124m'\u001b[39m)\n\u001b[1;32m      6\u001b[0m sql_statement \u001b[38;5;241m=\u001b[39m \u001b[38;5;124m\"\"\"\u001b[39m\n\u001b[1;32m      7\u001b[0m \u001b[38;5;124mUPDATE Cars\u001b[39m\n\u001b[1;32m      8\u001b[0m \u001b[38;5;124mSET available = 1\u001b[39m\n\u001b[1;32m      9\u001b[0m \u001b[38;5;124mWHERE car_id = 6;\u001b[39m\n\u001b[1;32m     10\u001b[0m \u001b[38;5;124m\"\"\"\u001b[39m\n",
      "\u001b[0;31mModuleNotFoundError\u001b[0m: No module named 'pandas'"
     ]
    }
   ],
   "source": [
    "import sqlite3\n",
    "import pandas as pd\n",
    "\n",
    "conn = sqlite3.connect('cars.db')\n",
    "\n",
    "sql_statement = \"\"\"\n",
    "UPDATE Cars\n",
    "SET available = 1\n",
    "WHERE car_id = 6;\n",
    "\"\"\"\n",
    "with conn:\n",
    "    cur = conn.cursor()\n",
    "    cur.execute(sql_statement)"
   ]
  },
  {
   "cell_type": "markdown",
   "id": "e8b68f56",
   "metadata": {},
   "source": [
    "```SQL\n",
    "SELECT Cars.car_id, MakeModels.Make, MakeModels.Model, MakeModels.year, Colors.color, Cars.available\n",
    "FROM Cars\n",
    "    INNER JOIN MakeModels ON MakeModels.make_model_id = Cars.make_model_id\n",
    "    INNER JOIN Colors ON Colors.color_id = Cars.color_id;\n",
    "```"
   ]
  },
  {
   "cell_type": "code",
   "execution_count": 25,
   "id": "2031aaa2",
   "metadata": {
    "tags": [
     "hide-input",
     "output_scroll"
    ]
   },
   "outputs": [
    {
     "ename": "ModuleNotFoundError",
     "evalue": "No module named 'pandas'",
     "output_type": "error",
     "traceback": [
      "\u001b[0;31m---------------------------------------------------------------------------\u001b[0m",
      "\u001b[0;31mModuleNotFoundError\u001b[0m                       Traceback (most recent call last)",
      "Cell \u001b[0;32mIn[25], line 2\u001b[0m\n\u001b[1;32m      1\u001b[0m \u001b[38;5;28;01mimport\u001b[39;00m \u001b[38;5;21;01msqlite3\u001b[39;00m\n\u001b[0;32m----> 2\u001b[0m \u001b[38;5;28;01mimport\u001b[39;00m \u001b[38;5;21;01mpandas\u001b[39;00m \u001b[38;5;28;01mas\u001b[39;00m \u001b[38;5;21;01mpd\u001b[39;00m\n\u001b[1;32m      4\u001b[0m conn \u001b[38;5;241m=\u001b[39m sqlite3\u001b[38;5;241m.\u001b[39mconnect(\u001b[38;5;124m'\u001b[39m\u001b[38;5;124mcars.db\u001b[39m\u001b[38;5;124m'\u001b[39m)\n\u001b[1;32m      6\u001b[0m sql_statement \u001b[38;5;241m=\u001b[39m \u001b[38;5;124m\"\"\"\u001b[39m\n\u001b[1;32m      7\u001b[0m \u001b[38;5;124mSELECT Cars.car_id, MakeModels.Make, MakeModels.Model, MakeModels.year, Colors.color, Cars.available\u001b[39m\n\u001b[1;32m      8\u001b[0m \u001b[38;5;124mFROM Cars\u001b[39m\n\u001b[1;32m      9\u001b[0m \u001b[38;5;124m    INNER JOIN MakeModels ON MakeModels.make_model_id = Cars.make_model_id\u001b[39m\n\u001b[1;32m     10\u001b[0m \u001b[38;5;124m    INNER JOIN Colors ON Colors.color_id = Cars.color_id;\u001b[39m\n\u001b[1;32m     11\u001b[0m \u001b[38;5;124m\"\"\"\u001b[39m\n",
      "\u001b[0;31mModuleNotFoundError\u001b[0m: No module named 'pandas'"
     ]
    }
   ],
   "source": [
    "import sqlite3\n",
    "import pandas as pd\n",
    "\n",
    "conn = sqlite3.connect('cars.db')\n",
    "\n",
    "sql_statement = \"\"\"\n",
    "SELECT Cars.car_id, MakeModels.Make, MakeModels.Model, MakeModels.year, Colors.color, Cars.available\n",
    "FROM Cars\n",
    "    INNER JOIN MakeModels ON MakeModels.make_model_id = Cars.make_model_id\n",
    "    INNER JOIN Colors ON Colors.color_id = Cars.color_id;\n",
    "\"\"\"\n",
    "df = pd.read_sql_query(sql_statement, conn)\n",
    "df.style.set_table_attributes('style=\"font-size: 12px\"')"
   ]
  },
  {
   "cell_type": "markdown",
   "id": "8d188c7e",
   "metadata": {},
   "source": [
    "## Simple Delete\n",
    "You can easily delete a non-referenced row.\n",
    "\n",
    "```SQL\n",
    "DELETE FROM Cars\n",
    "WHERE available = 0;\n",
    "```"
   ]
  },
  {
   "cell_type": "code",
   "execution_count": 26,
   "id": "370fa029",
   "metadata": {
    "tags": [
     "hide-input",
     "output_scroll"
    ]
   },
   "outputs": [
    {
     "ename": "ModuleNotFoundError",
     "evalue": "No module named 'pandas'",
     "output_type": "error",
     "traceback": [
      "\u001b[0;31m---------------------------------------------------------------------------\u001b[0m",
      "\u001b[0;31mModuleNotFoundError\u001b[0m                       Traceback (most recent call last)",
      "Cell \u001b[0;32mIn[26], line 2\u001b[0m\n\u001b[1;32m      1\u001b[0m \u001b[38;5;28;01mimport\u001b[39;00m \u001b[38;5;21;01msqlite3\u001b[39;00m\n\u001b[0;32m----> 2\u001b[0m \u001b[38;5;28;01mimport\u001b[39;00m \u001b[38;5;21;01mpandas\u001b[39;00m \u001b[38;5;28;01mas\u001b[39;00m \u001b[38;5;21;01mpd\u001b[39;00m\n\u001b[1;32m      4\u001b[0m conn \u001b[38;5;241m=\u001b[39m sqlite3\u001b[38;5;241m.\u001b[39mconnect(\u001b[38;5;124m'\u001b[39m\u001b[38;5;124mcars.db\u001b[39m\u001b[38;5;124m'\u001b[39m)\n\u001b[1;32m      6\u001b[0m sql_statement \u001b[38;5;241m=\u001b[39m \u001b[38;5;124m\"\"\"\u001b[39m\n\u001b[1;32m      7\u001b[0m \u001b[38;5;124mDELETE FROM Cars\u001b[39m\n\u001b[1;32m      8\u001b[0m \u001b[38;5;124mWHERE available = 0;\u001b[39m\n\u001b[1;32m      9\u001b[0m \u001b[38;5;124m\"\"\"\u001b[39m\n",
      "\u001b[0;31mModuleNotFoundError\u001b[0m: No module named 'pandas'"
     ]
    }
   ],
   "source": [
    "import sqlite3\n",
    "import pandas as pd\n",
    "\n",
    "conn = sqlite3.connect('cars.db')\n",
    "\n",
    "sql_statement = \"\"\"\n",
    "DELETE FROM Cars\n",
    "WHERE available = 0;\n",
    "\"\"\"\n",
    "with conn:\n",
    "    cur = conn.cursor()\n",
    "    cur.execute(sql_statement)"
   ]
  },
  {
   "cell_type": "code",
   "execution_count": 27,
   "id": "2ac8cd0d",
   "metadata": {
    "tags": [
     "hide-input",
     "output_scroll"
    ]
   },
   "outputs": [
    {
     "ename": "ModuleNotFoundError",
     "evalue": "No module named 'pandas'",
     "output_type": "error",
     "traceback": [
      "\u001b[0;31m---------------------------------------------------------------------------\u001b[0m",
      "\u001b[0;31mModuleNotFoundError\u001b[0m                       Traceback (most recent call last)",
      "Cell \u001b[0;32mIn[27], line 2\u001b[0m\n\u001b[1;32m      1\u001b[0m \u001b[38;5;28;01mimport\u001b[39;00m \u001b[38;5;21;01msqlite3\u001b[39;00m\n\u001b[0;32m----> 2\u001b[0m \u001b[38;5;28;01mimport\u001b[39;00m \u001b[38;5;21;01mpandas\u001b[39;00m \u001b[38;5;28;01mas\u001b[39;00m \u001b[38;5;21;01mpd\u001b[39;00m\n\u001b[1;32m      4\u001b[0m conn \u001b[38;5;241m=\u001b[39m sqlite3\u001b[38;5;241m.\u001b[39mconnect(\u001b[38;5;124m'\u001b[39m\u001b[38;5;124mcars.db\u001b[39m\u001b[38;5;124m'\u001b[39m)\n\u001b[1;32m      6\u001b[0m sql_statement \u001b[38;5;241m=\u001b[39m \u001b[38;5;124m\"\"\"\u001b[39m\n\u001b[1;32m      7\u001b[0m \u001b[38;5;124mSELECT Cars.car_id, MakeModels.Make, MakeModels.Model, MakeModels.year, Colors.color, Cars.available\u001b[39m\n\u001b[1;32m      8\u001b[0m \u001b[38;5;124mFROM Cars\u001b[39m\n\u001b[1;32m      9\u001b[0m \u001b[38;5;124m    INNER JOIN MakeModels ON MakeModels.make_model_id = Cars.make_model_id\u001b[39m\n\u001b[1;32m     10\u001b[0m \u001b[38;5;124m    INNER JOIN Colors ON Colors.color_id = Cars.color_id;\u001b[39m\n\u001b[1;32m     11\u001b[0m \u001b[38;5;124m\"\"\"\u001b[39m\n",
      "\u001b[0;31mModuleNotFoundError\u001b[0m: No module named 'pandas'"
     ]
    }
   ],
   "source": [
    "import sqlite3\n",
    "import pandas as pd\n",
    "\n",
    "conn = sqlite3.connect('cars.db')\n",
    "\n",
    "sql_statement = \"\"\"\n",
    "SELECT Cars.car_id, MakeModels.Make, MakeModels.Model, MakeModels.year, Colors.color, Cars.available\n",
    "FROM Cars\n",
    "    INNER JOIN MakeModels ON MakeModels.make_model_id = Cars.make_model_id\n",
    "    INNER JOIN Colors ON Colors.color_id = Cars.color_id;\n",
    "\"\"\"\n",
    "df = pd.read_sql_query(sql_statement, conn)\n",
    "df.style.set_table_attributes('style=\"font-size: 12px\"')"
   ]
  },
  {
   "cell_type": "markdown",
   "id": "c557c61a",
   "metadata": {},
   "source": [
    "## Deleting a referenced row\n",
    "A referenced row can be deleted or not depending on how the table was defined. By default, a referenced\n",
    "row cannot be deleted. This default behavior can be changed. You can either set the foreign key to\n",
    "`ON DELETE SET NULL` or `ON DELETE SET CASCADE`. In the former case, the references to the row being deleted \n",
    "is set to `NULL`. In the latter case, the anything that references the row being deleted is also deleted. \n",
    "\n",
    "```SQL\n",
    "DELETE FROM Colors\n",
    "WHERE color = \"Red\";\n",
    "```\n",
    "\n",
    "```SQL\n",
    "Execution finished with errors.\n",
    "Result: FOREIGN KEY constraint failed\n",
    "At line 1:\n",
    "DELETE FROM Colors\n",
    "WHERE color = \"Red\";\n",
    "```\n",
    "\n",
    "```SQL\n",
    "DELETE FROM Cars\n",
    "WHERE car_id IN (SELECT car_id from Cars INNER JOIN Colors clr USING(color_id ) WHERE clr.color='Red');\n",
    "DELETE FROM Colors\n",
    "WHERE color = \"Red\";\n",
    "```"
   ]
  },
  {
   "cell_type": "code",
   "execution_count": 28,
   "id": "bcb697d0",
   "metadata": {
    "tags": [
     "hide-input",
     "output_scroll"
    ]
   },
   "outputs": [
    {
     "ename": "ModuleNotFoundError",
     "evalue": "No module named 'pandas'",
     "output_type": "error",
     "traceback": [
      "\u001b[0;31m---------------------------------------------------------------------------\u001b[0m",
      "\u001b[0;31mModuleNotFoundError\u001b[0m                       Traceback (most recent call last)",
      "Cell \u001b[0;32mIn[28], line 2\u001b[0m\n\u001b[1;32m      1\u001b[0m \u001b[38;5;28;01mimport\u001b[39;00m \u001b[38;5;21;01msqlite3\u001b[39;00m\n\u001b[0;32m----> 2\u001b[0m \u001b[38;5;28;01mimport\u001b[39;00m \u001b[38;5;21;01mpandas\u001b[39;00m \u001b[38;5;28;01mas\u001b[39;00m \u001b[38;5;21;01mpd\u001b[39;00m\n\u001b[1;32m      4\u001b[0m conn \u001b[38;5;241m=\u001b[39m sqlite3\u001b[38;5;241m.\u001b[39mconnect(\u001b[38;5;124m'\u001b[39m\u001b[38;5;124mcars.db\u001b[39m\u001b[38;5;124m'\u001b[39m)\n\u001b[1;32m      6\u001b[0m sql_statements \u001b[38;5;241m=\u001b[39m \u001b[38;5;124m\"\"\"\u001b[39m\n\u001b[1;32m      7\u001b[0m \u001b[38;5;124mDELETE FROM Cars\u001b[39m\n\u001b[1;32m      8\u001b[0m \u001b[38;5;124mWHERE car_id IN (SELECT car_id from Cars INNER JOIN Colors clr USING(color_id ) WHERE clr.color=\u001b[39m\u001b[38;5;124m'\u001b[39m\u001b[38;5;124mRed\u001b[39m\u001b[38;5;124m'\u001b[39m\u001b[38;5;124m);\u001b[39m\n\u001b[1;32m      9\u001b[0m \u001b[38;5;124mDELETE FROM Colors\u001b[39m\n\u001b[1;32m     10\u001b[0m \u001b[38;5;124mWHERE color = \u001b[39m\u001b[38;5;124m\"\u001b[39m\u001b[38;5;124mRed\u001b[39m\u001b[38;5;124m\"\u001b[39m\u001b[38;5;124m;\u001b[39m\n\u001b[1;32m     11\u001b[0m \u001b[38;5;124m\"\"\"\u001b[39m\n",
      "\u001b[0;31mModuleNotFoundError\u001b[0m: No module named 'pandas'"
     ]
    }
   ],
   "source": [
    "import sqlite3\n",
    "import pandas as pd\n",
    "\n",
    "conn = sqlite3.connect('cars.db')\n",
    "\n",
    "sql_statements = \"\"\"\n",
    "DELETE FROM Cars\n",
    "WHERE car_id IN (SELECT car_id from Cars INNER JOIN Colors clr USING(color_id ) WHERE clr.color='Red');\n",
    "DELETE FROM Colors\n",
    "WHERE color = \"Red\";\n",
    "\"\"\"\n",
    "with conn:\n",
    "    cur = conn.cursor()\n",
    "    cur.executescript(sql_statements)"
   ]
  },
  {
   "cell_type": "markdown",
   "id": "bccc24bf",
   "metadata": {},
   "source": [
    "```SQL\n",
    "SELECT Cars.car_id, MakeModels.Make, MakeModels.Model, MakeModels.year, Colors.color, Cars.available\n",
    "FROM Cars\n",
    "    INNER JOIN MakeModels ON MakeModels.make_model_id = Cars.make_model_id\n",
    "    INNER JOIN Colors ON Colors.color_id = Cars.color_id;\n",
    "```"
   ]
  },
  {
   "cell_type": "code",
   "execution_count": 29,
   "id": "4c305c13",
   "metadata": {
    "tags": [
     "hide-input",
     "output_scroll"
    ]
   },
   "outputs": [
    {
     "ename": "ModuleNotFoundError",
     "evalue": "No module named 'pandas'",
     "output_type": "error",
     "traceback": [
      "\u001b[0;31m---------------------------------------------------------------------------\u001b[0m",
      "\u001b[0;31mModuleNotFoundError\u001b[0m                       Traceback (most recent call last)",
      "Cell \u001b[0;32mIn[29], line 2\u001b[0m\n\u001b[1;32m      1\u001b[0m \u001b[38;5;28;01mimport\u001b[39;00m \u001b[38;5;21;01msqlite3\u001b[39;00m\n\u001b[0;32m----> 2\u001b[0m \u001b[38;5;28;01mimport\u001b[39;00m \u001b[38;5;21;01mpandas\u001b[39;00m \u001b[38;5;28;01mas\u001b[39;00m \u001b[38;5;21;01mpd\u001b[39;00m\n\u001b[1;32m      4\u001b[0m conn \u001b[38;5;241m=\u001b[39m sqlite3\u001b[38;5;241m.\u001b[39mconnect(\u001b[38;5;124m'\u001b[39m\u001b[38;5;124mcars.db\u001b[39m\u001b[38;5;124m'\u001b[39m)\n\u001b[1;32m      6\u001b[0m sql_statement \u001b[38;5;241m=\u001b[39m \u001b[38;5;124m\"\"\"\u001b[39m\n\u001b[1;32m      7\u001b[0m \u001b[38;5;124mSELECT Cars.car_id, MakeModels.Make, MakeModels.Model, MakeModels.year, Colors.color, Cars.available\u001b[39m\n\u001b[1;32m      8\u001b[0m \u001b[38;5;124mFROM Cars\u001b[39m\n\u001b[1;32m      9\u001b[0m \u001b[38;5;124m    INNER JOIN MakeModels ON MakeModels.make_model_id = Cars.make_model_id\u001b[39m\n\u001b[1;32m     10\u001b[0m \u001b[38;5;124m    INNER JOIN Colors ON Colors.color_id = Cars.color_id;\u001b[39m\n\u001b[1;32m     11\u001b[0m \u001b[38;5;124m\"\"\"\u001b[39m\n",
      "\u001b[0;31mModuleNotFoundError\u001b[0m: No module named 'pandas'"
     ]
    }
   ],
   "source": [
    "import sqlite3\n",
    "import pandas as pd\n",
    "\n",
    "conn = sqlite3.connect('cars.db')\n",
    "\n",
    "sql_statement = \"\"\"\n",
    "SELECT Cars.car_id, MakeModels.Make, MakeModels.Model, MakeModels.year, Colors.color, Cars.available\n",
    "FROM Cars\n",
    "    INNER JOIN MakeModels ON MakeModels.make_model_id = Cars.make_model_id\n",
    "    INNER JOIN Colors ON Colors.color_id = Cars.color_id;\n",
    "\"\"\"\n",
    "df = pd.read_sql_query(sql_statement, conn)\n",
    "df.style.set_table_attributes('style=\"font-size: 12px\"')"
   ]
  },
  {
   "cell_type": "markdown",
   "id": "3e9b44fe",
   "metadata": {},
   "source": [
    "### `ON DELETE`\n",
    "\n",
    "```SQL\n",
    "PRAGMA foreign_keys = ON;\n",
    "DROP TABLE IF EXISTS Cars;\n",
    "DROP TABLE IF EXISTS MakeModels;\n",
    "DROP TABLE IF EXISTS Colors;\n",
    "\n",
    "\n",
    "CREATE TABLE Colors (\n",
    "   color_id INTEGER NOT NULL PRIMARY KEY,\n",
    "   color  TEXT NOT NULL,\n",
    "   UNIQUE (color)\n",
    "   \n",
    ");\n",
    "\n",
    "CREATE TABLE MakeModels (\n",
    "  make_model_id     INTEGER NOT NULL PRIMARY KEY, \n",
    "  Make   TEXT NOT NULL,\n",
    "  Model   TEXT NOT NULL,\n",
    "  Year INTEGER NOT NULL,\n",
    "  UNIQUE (Make, Model, Year)\n",
    ");\n",
    "\n",
    "CREATE TABLE Cars (\n",
    "   car_id INTEGER NOT NULL PRIMARY KEY,\n",
    "   make_model_id INTEGER NOT NULL,\n",
    "   color_id INTEGER, --> Have to allow for NULL values for ON DELETE SET NULL to work!!!!\n",
    "   available INTEGER NOT NULL,\n",
    "   FOREIGN KEY(make_model_id) REFERENCES MakeModels(make_model_id) ON DELETE CASCADE,\n",
    "   FOREIGN KEY(color_id) REFERENCES Colors(color_id) ON DELETE SET NULL\n",
    ");\n",
    "\n",
    "INSERT INTO Colors (color) VALUES ('Red');\n",
    "INSERT INTO Colors (color) VALUES ('Blue');\n",
    "INSERT INTO Colors (color) VALUES ('Green');\n",
    "\n",
    "INSERT INTO MakeModels (Make, Model, Year) VALUES ('Ford', 'Explorer', 2019);\n",
    "INSERT INTO MakeModels (Make, Model, Year) VALUES ('Toyota', 'Camry', 2010);\n",
    "INSERT INTO MakeModels (Make, Model, Year) VALUES ('Honda', 'Accord', 2015);\n",
    "\n",
    "INSERT INTO Cars (make_model_id, color_id, available) VALUES (1, 1, 1);\n",
    "INSERT INTO Cars (make_model_id, color_id, available) VALUES (2, 1, 1);\n",
    "INSERT INTO Cars (make_model_id, color_id, available) VALUES (3, 1, 1);\n",
    "INSERT INTO Cars (make_model_id, color_id, available) VALUES (1, 2, 0);\n",
    "INSERT INTO Cars (make_model_id, color_id, available) VALUES (1, 2, 0);\n",
    "INSERT INTO Cars (make_model_id, color_id, available) VALUES (3, 3, 0);\n",
    "```"
   ]
  },
  {
   "cell_type": "code",
   "execution_count": 30,
   "id": "2324a478",
   "metadata": {
    "tags": [
     "hide-input",
     "output_scroll"
    ]
   },
   "outputs": [
    {
     "ename": "ModuleNotFoundError",
     "evalue": "No module named 'pandas'",
     "output_type": "error",
     "traceback": [
      "\u001b[0;31m---------------------------------------------------------------------------\u001b[0m",
      "\u001b[0;31mModuleNotFoundError\u001b[0m                       Traceback (most recent call last)",
      "Cell \u001b[0;32mIn[30], line 2\u001b[0m\n\u001b[1;32m      1\u001b[0m \u001b[38;5;28;01mimport\u001b[39;00m \u001b[38;5;21;01msqlite3\u001b[39;00m\n\u001b[0;32m----> 2\u001b[0m \u001b[38;5;28;01mimport\u001b[39;00m \u001b[38;5;21;01mpandas\u001b[39;00m \u001b[38;5;28;01mas\u001b[39;00m \u001b[38;5;21;01mpd\u001b[39;00m\n\u001b[1;32m      4\u001b[0m conn \u001b[38;5;241m=\u001b[39m sqlite3\u001b[38;5;241m.\u001b[39mconnect(\u001b[38;5;124m'\u001b[39m\u001b[38;5;124mcars.db\u001b[39m\u001b[38;5;124m'\u001b[39m)\n\u001b[1;32m      6\u001b[0m sql_statements \u001b[38;5;241m=\u001b[39m \u001b[38;5;124m\"\"\"\u001b[39m\n\u001b[1;32m      7\u001b[0m \u001b[38;5;124mPRAGMA foreign_keys = ON;\u001b[39m\n\u001b[1;32m      8\u001b[0m \u001b[38;5;124mDROP TABLE IF EXISTS Cars;\u001b[39m\n\u001b[0;32m   (...)\u001b[0m\n\u001b[1;32m     50\u001b[0m \u001b[38;5;124mINSERT INTO Cars (make_model_id, color_id, available) VALUES (3, 3, 0);\u001b[39m\n\u001b[1;32m     51\u001b[0m \u001b[38;5;124m\"\"\"\u001b[39m\n",
      "\u001b[0;31mModuleNotFoundError\u001b[0m: No module named 'pandas'"
     ]
    }
   ],
   "source": [
    "import sqlite3\n",
    "import pandas as pd\n",
    "\n",
    "conn = sqlite3.connect('cars.db')\n",
    "\n",
    "sql_statements = \"\"\"\n",
    "PRAGMA foreign_keys = ON;\n",
    "DROP TABLE IF EXISTS Cars;\n",
    "DROP TABLE IF EXISTS MakeModels;\n",
    "DROP TABLE IF EXISTS Colors;\n",
    "\n",
    "\n",
    "CREATE TABLE Colors (\n",
    "   color_id INTEGER NOT NULL PRIMARY KEY,\n",
    "   color  TEXT NOT NULL,\n",
    "   UNIQUE (color)\n",
    "   \n",
    ");\n",
    "\n",
    "CREATE TABLE MakeModels (\n",
    "  make_model_id     INTEGER NOT NULL PRIMARY KEY, \n",
    "  Make   TEXT NOT NULL,\n",
    "  Model   TEXT NOT NULL,\n",
    "  Year INTEGER NOT NULL,\n",
    "  UNIQUE (Make, Model, Year)\n",
    ");\n",
    "\n",
    "CREATE TABLE Cars (\n",
    "   car_id INTEGER NOT NULL PRIMARY KEY,\n",
    "   make_model_id INTEGER NOT NULL,\n",
    "   color_id INTEGER, --> Have to allow for NULL values for ON DELETE SET NULL to work!!!!\n",
    "   available INTEGER NOT NULL,\n",
    "   FOREIGN KEY(make_model_id) REFERENCES MakeModels(make_model_id) ON DELETE CASCADE,\n",
    "   FOREIGN KEY(color_id) REFERENCES Colors(color_id) ON DELETE SET NULL\n",
    ");\n",
    "\n",
    "INSERT INTO Colors (color) VALUES ('Red');\n",
    "INSERT INTO Colors (color) VALUES ('Blue');\n",
    "INSERT INTO Colors (color) VALUES ('Green');\n",
    "\n",
    "INSERT INTO MakeModels (Make, Model, Year) VALUES ('Ford', 'Explorer', 2019);\n",
    "INSERT INTO MakeModels (Make, Model, Year) VALUES ('Toyota', 'Camry', 2010);\n",
    "INSERT INTO MakeModels (Make, Model, Year) VALUES ('Honda', 'Accord', 2015);\n",
    "\n",
    "INSERT INTO Cars (make_model_id, color_id, available) VALUES (1, 1, 1);\n",
    "INSERT INTO Cars (make_model_id, color_id, available) VALUES (2, 1, 1);\n",
    "INSERT INTO Cars (make_model_id, color_id, available) VALUES (3, 1, 1);\n",
    "INSERT INTO Cars (make_model_id, color_id, available) VALUES (1, 2, 0);\n",
    "INSERT INTO Cars (make_model_id, color_id, available) VALUES (1, 2, 0);\n",
    "INSERT INTO Cars (make_model_id, color_id, available) VALUES (3, 3, 0);\n",
    "\"\"\"\n",
    "\n",
    "with conn:\n",
    "    cur = conn.cursor()\n",
    "    cur.executescript(sql_statements)"
   ]
  },
  {
   "cell_type": "markdown",
   "id": "3812674d",
   "metadata": {},
   "source": [
    "```SQL\n",
    "DELETE FROM Colors\n",
    "WHERE color = \"Red\";\n",
    "\n",
    "DELETE FROM MakeModels\n",
    "WHERE make_model_id = 1;\n",
    "```"
   ]
  },
  {
   "cell_type": "code",
   "execution_count": 31,
   "id": "a17cfb3f",
   "metadata": {
    "tags": [
     "hide-input",
     "output_scroll"
    ]
   },
   "outputs": [
    {
     "ename": "ModuleNotFoundError",
     "evalue": "No module named 'pandas'",
     "output_type": "error",
     "traceback": [
      "\u001b[0;31m---------------------------------------------------------------------------\u001b[0m",
      "\u001b[0;31mModuleNotFoundError\u001b[0m                       Traceback (most recent call last)",
      "Cell \u001b[0;32mIn[31], line 2\u001b[0m\n\u001b[1;32m      1\u001b[0m \u001b[38;5;28;01mimport\u001b[39;00m \u001b[38;5;21;01msqlite3\u001b[39;00m\n\u001b[0;32m----> 2\u001b[0m \u001b[38;5;28;01mimport\u001b[39;00m \u001b[38;5;21;01mpandas\u001b[39;00m \u001b[38;5;28;01mas\u001b[39;00m \u001b[38;5;21;01mpd\u001b[39;00m\n\u001b[1;32m      4\u001b[0m conn \u001b[38;5;241m=\u001b[39m sqlite3\u001b[38;5;241m.\u001b[39mconnect(\u001b[38;5;124m'\u001b[39m\u001b[38;5;124mcars.db\u001b[39m\u001b[38;5;124m'\u001b[39m)\n\u001b[1;32m      6\u001b[0m sql_statements \u001b[38;5;241m=\u001b[39m \u001b[38;5;124m\"\"\"\u001b[39m\n\u001b[1;32m      7\u001b[0m \u001b[38;5;124mDELETE FROM Colors\u001b[39m\n\u001b[1;32m      8\u001b[0m \u001b[38;5;124mWHERE color = \u001b[39m\u001b[38;5;124m\"\u001b[39m\u001b[38;5;124mRed\u001b[39m\u001b[38;5;124m\"\u001b[39m\u001b[38;5;124m;\u001b[39m\n\u001b[0;32m   (...)\u001b[0m\n\u001b[1;32m     11\u001b[0m \u001b[38;5;124mWHERE make_model_id = 1;\u001b[39m\n\u001b[1;32m     12\u001b[0m \u001b[38;5;124m\"\"\"\u001b[39m\n",
      "\u001b[0;31mModuleNotFoundError\u001b[0m: No module named 'pandas'"
     ]
    }
   ],
   "source": [
    "import sqlite3\n",
    "import pandas as pd\n",
    "\n",
    "conn = sqlite3.connect('cars.db')\n",
    "\n",
    "sql_statements = \"\"\"\n",
    "DELETE FROM Colors\n",
    "WHERE color = \"Red\";\n",
    "\n",
    "DELETE FROM MakeModels\n",
    "WHERE make_model_id = 1;\n",
    "\"\"\"\n",
    "\n",
    "with conn:\n",
    "    cur = conn.cursor()\n",
    "    cur.executescript(sql_statements)"
   ]
  },
  {
   "cell_type": "markdown",
   "id": "cec83ddf",
   "metadata": {},
   "source": [
    "```SQL\n",
    "SELECT Cars.car_id, MakeModels.Make, MakeModels.Model, MakeModels.year, Colors.color, Cars.available\n",
    "FROM Cars\n",
    "    INNER JOIN MakeModels ON MakeModels.make_model_id = Cars.make_model_id\n",
    "    INNER JOIN Colors ON Colors.color_id = Cars.color_id;\n",
    "```"
   ]
  },
  {
   "cell_type": "code",
   "execution_count": 32,
   "id": "2e520df3",
   "metadata": {
    "tags": [
     "hide-input",
     "output_scroll"
    ]
   },
   "outputs": [
    {
     "ename": "ModuleNotFoundError",
     "evalue": "No module named 'pandas'",
     "output_type": "error",
     "traceback": [
      "\u001b[0;31m---------------------------------------------------------------------------\u001b[0m",
      "\u001b[0;31mModuleNotFoundError\u001b[0m                       Traceback (most recent call last)",
      "Cell \u001b[0;32mIn[32], line 2\u001b[0m\n\u001b[1;32m      1\u001b[0m \u001b[38;5;28;01mimport\u001b[39;00m \u001b[38;5;21;01msqlite3\u001b[39;00m\n\u001b[0;32m----> 2\u001b[0m \u001b[38;5;28;01mimport\u001b[39;00m \u001b[38;5;21;01mpandas\u001b[39;00m \u001b[38;5;28;01mas\u001b[39;00m \u001b[38;5;21;01mpd\u001b[39;00m\n\u001b[1;32m      4\u001b[0m conn \u001b[38;5;241m=\u001b[39m sqlite3\u001b[38;5;241m.\u001b[39mconnect(\u001b[38;5;124m'\u001b[39m\u001b[38;5;124mcars.db\u001b[39m\u001b[38;5;124m'\u001b[39m)\n\u001b[1;32m      6\u001b[0m sql_statement \u001b[38;5;241m=\u001b[39m \u001b[38;5;124m\"\"\"\u001b[39m\n\u001b[1;32m      7\u001b[0m \u001b[38;5;124mSELECT Cars.car_id, MakeModels.Make, MakeModels.Model, MakeModels.year, Colors.color, Cars.available\u001b[39m\n\u001b[1;32m      8\u001b[0m \u001b[38;5;124mFROM Cars\u001b[39m\n\u001b[1;32m      9\u001b[0m \u001b[38;5;124m    INNER JOIN MakeModels ON MakeModels.make_model_id = Cars.make_model_id\u001b[39m\n\u001b[1;32m     10\u001b[0m \u001b[38;5;124m    INNER JOIN Colors ON Colors.color_id = Cars.color_id;\u001b[39m\n\u001b[1;32m     11\u001b[0m \u001b[38;5;124m\"\"\"\u001b[39m\n",
      "\u001b[0;31mModuleNotFoundError\u001b[0m: No module named 'pandas'"
     ]
    }
   ],
   "source": [
    "import sqlite3\n",
    "import pandas as pd\n",
    "\n",
    "conn = sqlite3.connect('cars.db')\n",
    "\n",
    "sql_statement = \"\"\"\n",
    "SELECT Cars.car_id, MakeModels.Make, MakeModels.Model, MakeModels.year, Colors.color, Cars.available\n",
    "FROM Cars\n",
    "    INNER JOIN MakeModels ON MakeModels.make_model_id = Cars.make_model_id\n",
    "    INNER JOIN Colors ON Colors.color_id = Cars.color_id;\n",
    "\"\"\"\n",
    "df = pd.read_sql_query(sql_statement, conn)\n",
    "df.style.set_table_attributes('style=\"font-size: 12px\"')"
   ]
  },
  {
   "cell_type": "markdown",
   "id": "0359da68",
   "metadata": {},
   "source": [
    "```SQL\n",
    "SELECT Cars.car_id, MakeModels.Make, MakeModels.Model, MakeModels.year, Colors.color, Cars.available\n",
    "FROM Cars\n",
    "    LEFT JOIN MakeModels ON MakeModels.make_model_id = Cars.make_model_id\n",
    "    LEFT JOIN Colors ON Colors.color_id = Cars.color_id;\n",
    "```"
   ]
  },
  {
   "cell_type": "code",
   "execution_count": 33,
   "id": "af4df186",
   "metadata": {
    "tags": [
     "hide-input",
     "output_scroll"
    ]
   },
   "outputs": [
    {
     "ename": "ModuleNotFoundError",
     "evalue": "No module named 'pandas'",
     "output_type": "error",
     "traceback": [
      "\u001b[0;31m---------------------------------------------------------------------------\u001b[0m",
      "\u001b[0;31mModuleNotFoundError\u001b[0m                       Traceback (most recent call last)",
      "Cell \u001b[0;32mIn[33], line 2\u001b[0m\n\u001b[1;32m      1\u001b[0m \u001b[38;5;28;01mimport\u001b[39;00m \u001b[38;5;21;01msqlite3\u001b[39;00m\n\u001b[0;32m----> 2\u001b[0m \u001b[38;5;28;01mimport\u001b[39;00m \u001b[38;5;21;01mpandas\u001b[39;00m \u001b[38;5;28;01mas\u001b[39;00m \u001b[38;5;21;01mpd\u001b[39;00m\n\u001b[1;32m      4\u001b[0m conn \u001b[38;5;241m=\u001b[39m sqlite3\u001b[38;5;241m.\u001b[39mconnect(\u001b[38;5;124m'\u001b[39m\u001b[38;5;124mcars.db\u001b[39m\u001b[38;5;124m'\u001b[39m)\n\u001b[1;32m      6\u001b[0m sql_statement \u001b[38;5;241m=\u001b[39m \u001b[38;5;124m\"\"\"\u001b[39m\n\u001b[1;32m      7\u001b[0m \u001b[38;5;124mSELECT Cars.car_id, MakeModels.Make, MakeModels.Model, MakeModels.year, Colors.color, Cars.available\u001b[39m\n\u001b[1;32m      8\u001b[0m \u001b[38;5;124mFROM Cars\u001b[39m\n\u001b[1;32m      9\u001b[0m \u001b[38;5;124m    LEFT JOIN MakeModels ON MakeModels.make_model_id = Cars.make_model_id\u001b[39m\n\u001b[1;32m     10\u001b[0m \u001b[38;5;124m    LEFT JOIN Colors ON Colors.color_id = Cars.color_id;\u001b[39m\n\u001b[1;32m     11\u001b[0m \u001b[38;5;124m\"\"\"\u001b[39m\n",
      "\u001b[0;31mModuleNotFoundError\u001b[0m: No module named 'pandas'"
     ]
    }
   ],
   "source": [
    "import sqlite3\n",
    "import pandas as pd\n",
    "\n",
    "conn = sqlite3.connect('cars.db')\n",
    "\n",
    "sql_statement = \"\"\"\n",
    "SELECT Cars.car_id, MakeModels.Make, MakeModels.Model, MakeModels.year, Colors.color, Cars.available\n",
    "FROM Cars\n",
    "    LEFT JOIN MakeModels ON MakeModels.make_model_id = Cars.make_model_id\n",
    "    LEFT JOIN Colors ON Colors.color_id = Cars.color_id;\n",
    "\"\"\"\n",
    "df = pd.read_sql_query(sql_statement, conn)\n",
    "df.style.set_table_attributes('style=\"font-size: 12px\"')"
   ]
  }
 ],
 "metadata": {
  "jupytext": {
   "formats": "md:myst",
   "text_representation": {
    "extension": ".md",
    "format_name": "myst"
   }
  },
  "kernelspec": {
   "display_name": "Python 3",
   "language": "python",
   "name": "python3"
  },
  "language_info": {
   "codemirror_mode": {
    "name": "ipython",
    "version": 3
   },
   "file_extension": ".py",
   "mimetype": "text/x-python",
   "name": "python",
   "nbconvert_exporter": "python",
   "pygments_lexer": "ipython3",
   "version": "3.10.9"
  },
  "source_map": [
   11,
   142,
   178,
   206,
   234,
   254,
   282,
   336,
   379,
   397,
   416,
   430,
   451,
   465,
   483,
   495,
   514,
   527,
   551,
   564,
   581,
   596,
   614,
   654,
   672,
   707,
   727,
   778,
   833,
   839,
   851,
   857,
   869,
   876,
   888,
   897,
   912,
   963,
   1027,
   1037,
   1052,
   1062,
   1077,
   1091,
   1110,
   1120,
   1135,
   1145,
   1160,
   1170,
   1185,
   1195,
   1212,
   1227,
   1256,
   1272,
   1281,
   1296,
   1347,
   1404,
   1415,
   1433,
   1443,
   1458,
   1467
  ]
 },
 "nbformat": 4,
 "nbformat_minor": 5
}