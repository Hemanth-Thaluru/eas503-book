{
 "cells": [
  {
   "cell_type": "markdown",
   "id": "8851c759",
   "metadata": {},
   "source": [
    "# Sets\n",
    "\n",
    "## Basics\n",
    "SQL supports four types of operations `UNION`, `UNION ALL`, `INTERSECT`, and `EXCEPT`. The difference between `UNION` and `UNION ALL` is that the latter includes duplicates. \n",
    "Given set A = {L, M, N, O, P} and set B = {P, Q, R, S, T}, the four operations will return\n",
    "1. A UNION B  = {L, M, N, O, P, Q, R, S, T}\n",
    "2. A UNION ALL = {L, M, N, O, P, P, Q, R, S, T} -- Note the two Ps\n",
    "3. A INTERSECT B = {P}\n",
    "4. A EXCEPT B = {L, M N, O}\n",
    "\n",
    "When doing set operations, you should use the same column names so you can order the results. \n",
    "\n",
    "## The `UNION ALL`  and `UNION` Operator\n",
    "\n",
    "```SQL\n",
    "SELECT \n",
    "    'Teacher' typ,\n",
    "    t.first_name\n",
    "FROM Teachers t\n",
    "WHERE t.first_name LIKE 'Jo%'\n",
    "UNION ALL\n",
    "SELECT \n",
    "    'Student' typ,\n",
    "    s.first_name\n",
    "FROM Students s\n",
    "WHERE s.first_name LIKE 'Jo%'\n",
    "```"
   ]
  },
  {
   "cell_type": "code",
   "execution_count": 1,
   "id": "34cd13c4",
   "metadata": {
    "tags": [
     "hide-input",
     "output_scroll"
    ]
   },
   "outputs": [
    {
     "ename": "ModuleNotFoundError",
     "evalue": "No module named 'pandas'",
     "output_type": "error",
     "traceback": [
      "\u001b[0;31m---------------------------------------------------------------------------\u001b[0m",
      "\u001b[0;31mModuleNotFoundError\u001b[0m                       Traceback (most recent call last)",
      "Cell \u001b[0;32mIn[1], line 2\u001b[0m\n\u001b[1;32m      1\u001b[0m \u001b[38;5;28;01mimport\u001b[39;00m \u001b[38;5;21;01msqlite3\u001b[39;00m\n\u001b[0;32m----> 2\u001b[0m \u001b[38;5;28;01mimport\u001b[39;00m \u001b[38;5;21;01mpandas\u001b[39;00m \u001b[38;5;28;01mas\u001b[39;00m \u001b[38;5;21;01mpd\u001b[39;00m\n\u001b[1;32m      4\u001b[0m conn \u001b[38;5;241m=\u001b[39m sqlite3\u001b[38;5;241m.\u001b[39mconnect(\u001b[38;5;124m'\u001b[39m\u001b[38;5;124mstudents_teachers.db\u001b[39m\u001b[38;5;124m'\u001b[39m)\n\u001b[1;32m      6\u001b[0m sql_statement \u001b[38;5;241m=\u001b[39m \u001b[38;5;124m\"\"\"\u001b[39m\n\u001b[1;32m      7\u001b[0m \u001b[38;5;124mSELECT \u001b[39m\n\u001b[1;32m      8\u001b[0m \u001b[38;5;124m    \u001b[39m\u001b[38;5;124m'\u001b[39m\u001b[38;5;124mTeacher\u001b[39m\u001b[38;5;124m'\u001b[39m\u001b[38;5;124m typ,\u001b[39m\n\u001b[0;32m   (...)\u001b[0m\n\u001b[1;32m     17\u001b[0m \u001b[38;5;124mWHERE s.first_name LIKE \u001b[39m\u001b[38;5;124m'\u001b[39m\u001b[38;5;124mJo\u001b[39m\u001b[38;5;124m%\u001b[39m\u001b[38;5;124m'\u001b[39m\n\u001b[1;32m     18\u001b[0m \u001b[38;5;124m\"\"\"\u001b[39m\n",
      "\u001b[0;31mModuleNotFoundError\u001b[0m: No module named 'pandas'"
     ]
    }
   ],
   "source": [
    "import sqlite3\n",
    "import pandas as pd\n",
    "\n",
    "conn = sqlite3.connect('students_teachers.db')\n",
    "\n",
    "sql_statement = \"\"\"\n",
    "SELECT \n",
    "    'Teacher' typ,\n",
    "    t.first_name\n",
    "FROM Teachers t\n",
    "WHERE t.first_name LIKE 'Jo%'\n",
    "UNION ALL\n",
    "SELECT \n",
    "    'Student' typ,\n",
    "    s.first_name\n",
    "FROM Students s\n",
    "WHERE s.first_name LIKE 'Jo%'\n",
    "\"\"\"\n",
    "df = pd.read_sql_query(sql_statement, conn)\n",
    "df.style.set_table_attributes('style=\"font-size: 12px\"')"
   ]
  },
  {
   "cell_type": "markdown",
   "id": "f6612b76",
   "metadata": {},
   "source": [
    "```SQL\n",
    "SELECT \n",
    "    t.first_name\n",
    "FROM Teachers t\n",
    "WHERE t.first_name LIKE 'Jo%'\n",
    "UNION ALL\n",
    "SELECT \n",
    "    s.first_name\n",
    "FROM Students s\n",
    "WHERE s.first_name LIKE 'Jo%'\n",
    "ORDER BY first_name\n",
    "```"
   ]
  },
  {
   "cell_type": "code",
   "execution_count": 2,
   "id": "cf585490",
   "metadata": {
    "tags": [
     "hide-input",
     "output_scroll"
    ]
   },
   "outputs": [
    {
     "ename": "ModuleNotFoundError",
     "evalue": "No module named 'pandas'",
     "output_type": "error",
     "traceback": [
      "\u001b[0;31m---------------------------------------------------------------------------\u001b[0m",
      "\u001b[0;31mModuleNotFoundError\u001b[0m                       Traceback (most recent call last)",
      "Cell \u001b[0;32mIn[2], line 2\u001b[0m\n\u001b[1;32m      1\u001b[0m \u001b[38;5;28;01mimport\u001b[39;00m \u001b[38;5;21;01msqlite3\u001b[39;00m\n\u001b[0;32m----> 2\u001b[0m \u001b[38;5;28;01mimport\u001b[39;00m \u001b[38;5;21;01mpandas\u001b[39;00m \u001b[38;5;28;01mas\u001b[39;00m \u001b[38;5;21;01mpd\u001b[39;00m\n\u001b[1;32m      4\u001b[0m conn \u001b[38;5;241m=\u001b[39m sqlite3\u001b[38;5;241m.\u001b[39mconnect(\u001b[38;5;124m'\u001b[39m\u001b[38;5;124mstudents_teachers.db\u001b[39m\u001b[38;5;124m'\u001b[39m)\n\u001b[1;32m      6\u001b[0m sql_statement \u001b[38;5;241m=\u001b[39m \u001b[38;5;124m\"\"\"\u001b[39m\n\u001b[1;32m      7\u001b[0m \u001b[38;5;124mSELECT \u001b[39m\n\u001b[1;32m      8\u001b[0m \u001b[38;5;124m    t.first_name\u001b[39m\n\u001b[0;32m   (...)\u001b[0m\n\u001b[1;32m     16\u001b[0m \u001b[38;5;124mORDER BY first_name\u001b[39m\n\u001b[1;32m     17\u001b[0m \u001b[38;5;124m\"\"\"\u001b[39m\n",
      "\u001b[0;31mModuleNotFoundError\u001b[0m: No module named 'pandas'"
     ]
    }
   ],
   "source": [
    "import sqlite3\n",
    "import pandas as pd\n",
    "\n",
    "conn = sqlite3.connect('students_teachers.db')\n",
    "\n",
    "sql_statement = \"\"\"\n",
    "SELECT \n",
    "    t.first_name\n",
    "FROM Teachers t\n",
    "WHERE t.first_name LIKE 'Jo%'\n",
    "UNION ALL\n",
    "SELECT \n",
    "    s.first_name\n",
    "FROM Students s\n",
    "WHERE s.first_name LIKE 'Jo%'\n",
    "ORDER BY first_name\n",
    "\"\"\"\n",
    "df = pd.read_sql_query(sql_statement, conn)\n",
    "df.style.set_table_attributes('style=\"font-size: 12px\"')"
   ]
  },
  {
   "cell_type": "markdown",
   "id": "76481284",
   "metadata": {},
   "source": [
    "```SQL\n",
    "SELECT \n",
    "    t.first_name\n",
    "FROM Teachers t\n",
    "WHERE t.first_name LIKE 'Jo%'\n",
    "UNION \n",
    "SELECT \n",
    "    s.first_name\n",
    "FROM Students s\n",
    "WHERE s.first_name LIKE 'Jo%'\n",
    "ORDER BY first_name\n",
    "```"
   ]
  },
  {
   "cell_type": "code",
   "execution_count": 3,
   "id": "9ac022f5",
   "metadata": {
    "tags": [
     "hide-input",
     "output_scroll"
    ]
   },
   "outputs": [
    {
     "ename": "ModuleNotFoundError",
     "evalue": "No module named 'pandas'",
     "output_type": "error",
     "traceback": [
      "\u001b[0;31m---------------------------------------------------------------------------\u001b[0m",
      "\u001b[0;31mModuleNotFoundError\u001b[0m                       Traceback (most recent call last)",
      "Cell \u001b[0;32mIn[3], line 2\u001b[0m\n\u001b[1;32m      1\u001b[0m \u001b[38;5;28;01mimport\u001b[39;00m \u001b[38;5;21;01msqlite3\u001b[39;00m\n\u001b[0;32m----> 2\u001b[0m \u001b[38;5;28;01mimport\u001b[39;00m \u001b[38;5;21;01mpandas\u001b[39;00m \u001b[38;5;28;01mas\u001b[39;00m \u001b[38;5;21;01mpd\u001b[39;00m\n\u001b[1;32m      4\u001b[0m conn \u001b[38;5;241m=\u001b[39m sqlite3\u001b[38;5;241m.\u001b[39mconnect(\u001b[38;5;124m'\u001b[39m\u001b[38;5;124mstudents_teachers.db\u001b[39m\u001b[38;5;124m'\u001b[39m)\n\u001b[1;32m      6\u001b[0m sql_statement \u001b[38;5;241m=\u001b[39m \u001b[38;5;124m\"\"\"\u001b[39m\n\u001b[1;32m      7\u001b[0m \u001b[38;5;124mSELECT \u001b[39m\n\u001b[1;32m      8\u001b[0m \u001b[38;5;124m    t.first_name\u001b[39m\n\u001b[0;32m   (...)\u001b[0m\n\u001b[1;32m     16\u001b[0m \u001b[38;5;124mORDER BY first_name\u001b[39m\n\u001b[1;32m     17\u001b[0m \u001b[38;5;124m\"\"\"\u001b[39m\n",
      "\u001b[0;31mModuleNotFoundError\u001b[0m: No module named 'pandas'"
     ]
    }
   ],
   "source": [
    "import sqlite3\n",
    "import pandas as pd\n",
    "\n",
    "conn = sqlite3.connect('students_teachers.db')\n",
    "\n",
    "sql_statement = \"\"\"\n",
    "SELECT \n",
    "    t.first_name\n",
    "FROM Teachers t\n",
    "WHERE t.first_name LIKE 'Jo%'\n",
    "UNION\n",
    "SELECT \n",
    "    s.first_name\n",
    "FROM Students s\n",
    "WHERE s.first_name LIKE 'Jo%'\n",
    "ORDER BY first_name\n",
    "\"\"\"\n",
    "df = pd.read_sql_query(sql_statement, conn)\n",
    "df.style.set_table_attributes('style=\"font-size: 12px\"')"
   ]
  },
  {
   "cell_type": "markdown",
   "id": "6b065ccb",
   "metadata": {},
   "source": [
    "## The `INTERSECT` Operator\n",
    "\n",
    "```SQL\n",
    "SELECT \n",
    "    t.first_name\n",
    "FROM Teachers t\n",
    "WHERE t.first_name LIKE 'Jo%'\n",
    "INTERSECT \n",
    "SELECT \n",
    "    s.first_name\n",
    "FROM Students s\n",
    "WHERE s.first_name LIKE 'Jo%'\n",
    "ORDER BY first_name\n",
    "```"
   ]
  },
  {
   "cell_type": "code",
   "execution_count": 4,
   "id": "96fcc400",
   "metadata": {
    "tags": [
     "hide-input",
     "output_scroll"
    ]
   },
   "outputs": [
    {
     "ename": "ModuleNotFoundError",
     "evalue": "No module named 'pandas'",
     "output_type": "error",
     "traceback": [
      "\u001b[0;31m---------------------------------------------------------------------------\u001b[0m",
      "\u001b[0;31mModuleNotFoundError\u001b[0m                       Traceback (most recent call last)",
      "Cell \u001b[0;32mIn[4], line 2\u001b[0m\n\u001b[1;32m      1\u001b[0m \u001b[38;5;28;01mimport\u001b[39;00m \u001b[38;5;21;01msqlite3\u001b[39;00m\n\u001b[0;32m----> 2\u001b[0m \u001b[38;5;28;01mimport\u001b[39;00m \u001b[38;5;21;01mpandas\u001b[39;00m \u001b[38;5;28;01mas\u001b[39;00m \u001b[38;5;21;01mpd\u001b[39;00m\n\u001b[1;32m      4\u001b[0m conn \u001b[38;5;241m=\u001b[39m sqlite3\u001b[38;5;241m.\u001b[39mconnect(\u001b[38;5;124m'\u001b[39m\u001b[38;5;124mstudents_teachers.db\u001b[39m\u001b[38;5;124m'\u001b[39m)\n\u001b[1;32m      6\u001b[0m sql_statement \u001b[38;5;241m=\u001b[39m \u001b[38;5;124m\"\"\"\u001b[39m\n\u001b[1;32m      7\u001b[0m \u001b[38;5;124mSELECT \u001b[39m\n\u001b[1;32m      8\u001b[0m \u001b[38;5;124m    t.first_name\u001b[39m\n\u001b[0;32m   (...)\u001b[0m\n\u001b[1;32m     16\u001b[0m \u001b[38;5;124mORDER BY first_name\u001b[39m\n\u001b[1;32m     17\u001b[0m \u001b[38;5;124m\"\"\"\u001b[39m\n",
      "\u001b[0;31mModuleNotFoundError\u001b[0m: No module named 'pandas'"
     ]
    }
   ],
   "source": [
    "import sqlite3\n",
    "import pandas as pd\n",
    "\n",
    "conn = sqlite3.connect('students_teachers.db')\n",
    "\n",
    "sql_statement = \"\"\"\n",
    "SELECT \n",
    "    t.first_name\n",
    "FROM Teachers t\n",
    "WHERE t.first_name LIKE 'Jo%'\n",
    "INTERSECT \n",
    "SELECT \n",
    "    s.first_name\n",
    "FROM Students s\n",
    "WHERE s.first_name LIKE 'Jo%'\n",
    "ORDER BY first_name\n",
    "\"\"\"\n",
    "df = pd.read_sql_query(sql_statement, conn)\n",
    "df.style.set_table_attributes('style=\"font-size: 12px\"')"
   ]
  },
  {
   "cell_type": "markdown",
   "id": "d1358684",
   "metadata": {},
   "source": [
    "## The `EXCEPT` Operator\n",
    "\n",
    "```SQL\n",
    "SELECT \n",
    "    t.first_name\n",
    "FROM Teachers t\n",
    "WHERE t.first_name LIKE 'Jo%'\n",
    "EXCEPT \n",
    "SELECT \n",
    "    s.first_name\n",
    "FROM Students s\n",
    "WHERE s.first_name LIKE 'Jo%'\n",
    "ORDER BY first_name\n",
    "```"
   ]
  },
  {
   "cell_type": "code",
   "execution_count": 5,
   "id": "cf7c824e",
   "metadata": {
    "tags": [
     "hide-input",
     "output_scroll"
    ]
   },
   "outputs": [
    {
     "ename": "ModuleNotFoundError",
     "evalue": "No module named 'pandas'",
     "output_type": "error",
     "traceback": [
      "\u001b[0;31m---------------------------------------------------------------------------\u001b[0m",
      "\u001b[0;31mModuleNotFoundError\u001b[0m                       Traceback (most recent call last)",
      "Cell \u001b[0;32mIn[5], line 2\u001b[0m\n\u001b[1;32m      1\u001b[0m \u001b[38;5;28;01mimport\u001b[39;00m \u001b[38;5;21;01msqlite3\u001b[39;00m\n\u001b[0;32m----> 2\u001b[0m \u001b[38;5;28;01mimport\u001b[39;00m \u001b[38;5;21;01mpandas\u001b[39;00m \u001b[38;5;28;01mas\u001b[39;00m \u001b[38;5;21;01mpd\u001b[39;00m\n\u001b[1;32m      4\u001b[0m conn \u001b[38;5;241m=\u001b[39m sqlite3\u001b[38;5;241m.\u001b[39mconnect(\u001b[38;5;124m'\u001b[39m\u001b[38;5;124mstudents_teachers.db\u001b[39m\u001b[38;5;124m'\u001b[39m)\n\u001b[1;32m      6\u001b[0m sql_statement \u001b[38;5;241m=\u001b[39m \u001b[38;5;124m\"\"\"\u001b[39m\n\u001b[1;32m      7\u001b[0m \u001b[38;5;124mSELECT \u001b[39m\n\u001b[1;32m      8\u001b[0m \u001b[38;5;124m    t.first_name\u001b[39m\n\u001b[0;32m   (...)\u001b[0m\n\u001b[1;32m     16\u001b[0m \u001b[38;5;124mORDER BY first_name\u001b[39m\n\u001b[1;32m     17\u001b[0m \u001b[38;5;124m\"\"\"\u001b[39m\n",
      "\u001b[0;31mModuleNotFoundError\u001b[0m: No module named 'pandas'"
     ]
    }
   ],
   "source": [
    "import sqlite3\n",
    "import pandas as pd\n",
    "\n",
    "conn = sqlite3.connect('students_teachers.db')\n",
    "\n",
    "sql_statement = \"\"\"\n",
    "SELECT \n",
    "    t.first_name\n",
    "FROM Teachers t\n",
    "WHERE t.first_name LIKE 'Jo%'\n",
    "EXCEPT\n",
    "SELECT \n",
    "    s.first_name\n",
    "FROM Students s\n",
    "WHERE s.first_name LIKE 'Jo%'\n",
    "ORDER BY first_name\n",
    "\"\"\"\n",
    "df = pd.read_sql_query(sql_statement, conn)\n",
    "df.style.set_table_attributes('style=\"font-size: 12px\"')"
   ]
  }
 ],
 "metadata": {
  "jupytext": {
   "formats": "md:myst",
   "text_representation": {
    "extension": ".md",
    "format_name": "myst"
   }
  },
  "kernelspec": {
   "display_name": "Python 3",
   "language": "python",
   "name": "python3"
  },
  "language_info": {
   "codemirror_mode": {
    "name": "ipython",
    "version": 3
   },
   "file_extension": ".py",
   "mimetype": "text/x-python",
   "name": "python",
   "nbconvert_exporter": "python",
   "pygments_lexer": "ipython3",
   "version": "3.10.9"
  },
  "source_map": [
   11,
   41,
   63,
   79,
   100,
   117,
   138,
   156,
   177,
   196
  ]
 },
 "nbformat": 4,
 "nbformat_minor": 5
}