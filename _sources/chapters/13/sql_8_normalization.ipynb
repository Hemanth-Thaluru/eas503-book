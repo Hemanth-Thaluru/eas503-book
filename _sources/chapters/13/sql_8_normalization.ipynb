{
 "cells": [
  {
   "cell_type": "markdown",
   "id": "78dfe286",
   "metadata": {},
   "source": [
    "# Normalization\n",
    "\n",
    "What is database normalization?\n",
    "- Ref: https://www.complexsql.com/database-normalization/\n",
    "- Ref: http://www.databasedev.co.uk/1norm_form.html\n",
    "- The purpose of database normalization is to:\n",
    "- eliminate redundant data\n",
    "- reduce complexity of data, making it easier to manage the data and make change\n",
    "- ensure logical data dependencies\n",
    "- How is database normalization achieved?\n",
    "  - By fulfilling five normal forms. Each normal form represents an increasingly stringent set of rules. Usually fulfilling the first three normal forms is sufficient.\n",
    "  - Ref: https://www.1keydata.com/database-normalization/first-normal-form-1nf.php\n",
    "- First Normal Form  (1NF): \n",
    "  1. if there are no repeating groups.\n",
    "  2. all values are atomic, meaning they are the smallest meaningful value\n",
    "- Second Normal Form  (2NF): \n",
    "  1. the table is in first normal form\n",
    "  2. each non-key field is functionally dependent on the entire primary key\n",
    "- Third Normal Form (3NF):\n",
    "  1. the table is in second normal form\n",
    "  2. there are no transitive dependencies\n",
    "- Ref: https://arctype.com/blog/2nf-3nf-normalization-example/\n",
    "- Summary\n",
    "  1. All values must be atomic\n",
    "  2. No redundancy\n",
    "  3. No implicit relationship/dependency\n",
    "  4. No transitive relationship/dependency\n",
    "\n",
    "## Bad Design Examples\n",
    "### Example 1"
   ]
  },
  {
   "cell_type": "code",
   "execution_count": 1,
   "id": "aa7b2337",
   "metadata": {
    "tags": [
     "hide-input",
     "output_scroll"
    ]
   },
   "outputs": [
    {
     "ename": "ModuleNotFoundError",
     "evalue": "No module named 'pandas'",
     "output_type": "error",
     "traceback": [
      "\u001b[0;31m---------------------------------------------------------------------------\u001b[0m",
      "\u001b[0;31mModuleNotFoundError\u001b[0m                       Traceback (most recent call last)",
      "Cell \u001b[0;32mIn[1], line 2\u001b[0m\n\u001b[1;32m      1\u001b[0m \u001b[38;5;28;01mimport\u001b[39;00m \u001b[38;5;21;01msqlite3\u001b[39;00m\n\u001b[0;32m----> 2\u001b[0m \u001b[38;5;28;01mimport\u001b[39;00m \u001b[38;5;21;01mpandas\u001b[39;00m \u001b[38;5;28;01mas\u001b[39;00m \u001b[38;5;21;01mpd\u001b[39;00m\n\u001b[1;32m      4\u001b[0m conn \u001b[38;5;241m=\u001b[39m sqlite3\u001b[38;5;241m.\u001b[39mconnect(\u001b[38;5;124m'\u001b[39m\u001b[38;5;124mexample1.db\u001b[39m\u001b[38;5;124m'\u001b[39m)\n\u001b[1;32m      6\u001b[0m sql_statement \u001b[38;5;241m=\u001b[39m \u001b[38;5;124m\"\u001b[39m\u001b[38;5;124mSELECT * FROM EMPLOYEES_PROJECTS_TIME\u001b[39m\u001b[38;5;124m\"\u001b[39m\n",
      "\u001b[0;31mModuleNotFoundError\u001b[0m: No module named 'pandas'"
     ]
    }
   ],
   "source": [
    "import sqlite3\n",
    "import pandas as pd\n",
    "\n",
    "conn = sqlite3.connect('example1.db')\n",
    "\n",
    "sql_statement = \"SELECT * FROM EMPLOYEES_PROJECTS_TIME\"\n",
    "df = pd.read_sql_query(sql_statement, conn)\n",
    "df.style.set_table_attributes('style=\"font-size: 12px\"')"
   ]
  },
  {
   "cell_type": "markdown",
   "id": "8f28b154",
   "metadata": {},
   "source": [
    "- Problems with example1\n",
    "  - Repeating group of fields\n",
    "  - The project and time fields are not made up of atomic values\n",
    "  - Can't sort by last name\n",
    "  - Can't sort by time because field is type text\n",
    "  - Assumed relationship between project and time\n",
    "\n",
    "### Example 2"
   ]
  },
  {
   "cell_type": "code",
   "execution_count": 2,
   "id": "e0cde394",
   "metadata": {
    "tags": [
     "hide-input",
     "output_scroll"
    ]
   },
   "outputs": [
    {
     "ename": "ModuleNotFoundError",
     "evalue": "No module named 'pandas'",
     "output_type": "error",
     "traceback": [
      "\u001b[0;31m---------------------------------------------------------------------------\u001b[0m",
      "\u001b[0;31mModuleNotFoundError\u001b[0m                       Traceback (most recent call last)",
      "Cell \u001b[0;32mIn[2], line 2\u001b[0m\n\u001b[1;32m      1\u001b[0m \u001b[38;5;28;01mimport\u001b[39;00m \u001b[38;5;21;01msqlite3\u001b[39;00m\n\u001b[0;32m----> 2\u001b[0m \u001b[38;5;28;01mimport\u001b[39;00m \u001b[38;5;21;01mpandas\u001b[39;00m \u001b[38;5;28;01mas\u001b[39;00m \u001b[38;5;21;01mpd\u001b[39;00m\n\u001b[1;32m      4\u001b[0m conn \u001b[38;5;241m=\u001b[39m sqlite3\u001b[38;5;241m.\u001b[39mconnect(\u001b[38;5;124m'\u001b[39m\u001b[38;5;124mexample2.db\u001b[39m\u001b[38;5;124m'\u001b[39m)\n\u001b[1;32m      6\u001b[0m sql_statement \u001b[38;5;241m=\u001b[39m \u001b[38;5;124m\"\u001b[39m\u001b[38;5;124mSELECT * FROM EMPLOYEES_PROJECTS_TIME\u001b[39m\u001b[38;5;124m\"\u001b[39m\n",
      "\u001b[0;31mModuleNotFoundError\u001b[0m: No module named 'pandas'"
     ]
    }
   ],
   "source": [
    "import sqlite3\n",
    "import pandas as pd\n",
    "\n",
    "conn = sqlite3.connect('example2.db')\n",
    "\n",
    "sql_statement = \"SELECT * FROM EMPLOYEES_PROJECTS_TIME\"\n",
    "df = pd.read_sql_query(sql_statement, conn)\n",
    "df.style.set_table_attributes('style=\"font-size: 12px\"')"
   ]
  },
  {
   "cell_type": "markdown",
   "id": "0b9c2228",
   "metadata": {},
   "source": [
    "- Analysis of example2\n",
    "  - Can sort now!\n",
    "  - How can you add another project?\n",
    "\n",
    "### Example 3"
   ]
  },
  {
   "cell_type": "code",
   "execution_count": 3,
   "id": "83d35529",
   "metadata": {
    "tags": [
     "hide-input",
     "output_scroll"
    ]
   },
   "outputs": [
    {
     "ename": "ModuleNotFoundError",
     "evalue": "No module named 'pandas'",
     "output_type": "error",
     "traceback": [
      "\u001b[0;31m---------------------------------------------------------------------------\u001b[0m",
      "\u001b[0;31mModuleNotFoundError\u001b[0m                       Traceback (most recent call last)",
      "Cell \u001b[0;32mIn[3], line 2\u001b[0m\n\u001b[1;32m      1\u001b[0m \u001b[38;5;28;01mimport\u001b[39;00m \u001b[38;5;21;01msqlite3\u001b[39;00m\n\u001b[0;32m----> 2\u001b[0m \u001b[38;5;28;01mimport\u001b[39;00m \u001b[38;5;21;01mpandas\u001b[39;00m \u001b[38;5;28;01mas\u001b[39;00m \u001b[38;5;21;01mpd\u001b[39;00m\n\u001b[1;32m      4\u001b[0m conn \u001b[38;5;241m=\u001b[39m sqlite3\u001b[38;5;241m.\u001b[39mconnect(\u001b[38;5;124m'\u001b[39m\u001b[38;5;124mexample3.db\u001b[39m\u001b[38;5;124m'\u001b[39m)\n\u001b[1;32m      6\u001b[0m sql_statement \u001b[38;5;241m=\u001b[39m \u001b[38;5;124m\"\u001b[39m\u001b[38;5;124mSELECT * FROM EMPLOYEES\u001b[39m\u001b[38;5;124m\"\u001b[39m\n",
      "\u001b[0;31mModuleNotFoundError\u001b[0m: No module named 'pandas'"
     ]
    }
   ],
   "source": [
    "import sqlite3\n",
    "import pandas as pd\n",
    "\n",
    "conn = sqlite3.connect('example3.db')\n",
    "\n",
    "sql_statement = \"SELECT * FROM EMPLOYEES\"\n",
    "df = pd.read_sql_query(sql_statement, conn)\n",
    "df.style.set_table_attributes('style=\"font-size: 12px\"')\n",
    "display(df)\n",
    "\n",
    "sql_statement = \"SELECT * FROM PROJECTS_EMPLOYEES_TIME\"\n",
    "df = pd.read_sql_query(sql_statement, conn)\n",
    "df.style.set_table_attributes('style=\"font-size: 12px\"')"
   ]
  },
  {
   "cell_type": "markdown",
   "id": "03f02345",
   "metadata": {},
   "source": [
    "- Analysis of example3 -- first normal form\n",
    "  - Can do groups by employeeid or projectnum\n",
    "  - Can sort by time\n",
    "  - Can sort by name\n",
    "\n",
    "\n",
    "### Example 4"
   ]
  },
  {
   "cell_type": "code",
   "execution_count": 4,
   "id": "51149bb1",
   "metadata": {
    "tags": [
     "hide-input",
     "output_scroll"
    ]
   },
   "outputs": [
    {
     "ename": "ModuleNotFoundError",
     "evalue": "No module named 'pandas'",
     "output_type": "error",
     "traceback": [
      "\u001b[0;31m---------------------------------------------------------------------------\u001b[0m",
      "\u001b[0;31mModuleNotFoundError\u001b[0m                       Traceback (most recent call last)",
      "Cell \u001b[0;32mIn[4], line 2\u001b[0m\n\u001b[1;32m      1\u001b[0m \u001b[38;5;28;01mimport\u001b[39;00m \u001b[38;5;21;01msqlite3\u001b[39;00m\n\u001b[0;32m----> 2\u001b[0m \u001b[38;5;28;01mimport\u001b[39;00m \u001b[38;5;21;01mpandas\u001b[39;00m \u001b[38;5;28;01mas\u001b[39;00m \u001b[38;5;21;01mpd\u001b[39;00m\n\u001b[1;32m      4\u001b[0m conn \u001b[38;5;241m=\u001b[39m sqlite3\u001b[38;5;241m.\u001b[39mconnect(\u001b[38;5;124m'\u001b[39m\u001b[38;5;124mexample4.db\u001b[39m\u001b[38;5;124m'\u001b[39m)\n\u001b[1;32m      6\u001b[0m sql_statement \u001b[38;5;241m=\u001b[39m \u001b[38;5;124m\"\u001b[39m\u001b[38;5;124mSELECT * FROM EMPLOYEES_PROJECTS\u001b[39m\u001b[38;5;124m\"\u001b[39m\n",
      "\u001b[0;31mModuleNotFoundError\u001b[0m: No module named 'pandas'"
     ]
    }
   ],
   "source": [
    "import sqlite3\n",
    "import pandas as pd\n",
    "\n",
    "conn = sqlite3.connect('example4.db')\n",
    "\n",
    "sql_statement = \"SELECT * FROM EMPLOYEES_PROJECTS\"\n",
    "df = pd.read_sql_query(sql_statement, conn)\n",
    "df.style.set_table_attributes('style=\"font-size: 12px\"')"
   ]
  },
  {
   "cell_type": "markdown",
   "id": "60efaf00",
   "metadata": {},
   "source": [
    "- Analysis of example4\n",
    "  - How would you update the project title for a given project? Have to edit in many places\n",
    "  - Can you add a project without an employeeid?\n",
    "  - How can you delete a project?\n",
    "\n",
    "### Example 5"
   ]
  },
  {
   "cell_type": "code",
   "execution_count": 5,
   "id": "9bdf92d4",
   "metadata": {
    "tags": [
     "hide-input",
     "output_scroll"
    ]
   },
   "outputs": [
    {
     "ename": "ModuleNotFoundError",
     "evalue": "No module named 'pandas'",
     "output_type": "error",
     "traceback": [
      "\u001b[0;31m---------------------------------------------------------------------------\u001b[0m",
      "\u001b[0;31mModuleNotFoundError\u001b[0m                       Traceback (most recent call last)",
      "Cell \u001b[0;32mIn[5], line 2\u001b[0m\n\u001b[1;32m      1\u001b[0m \u001b[38;5;28;01mimport\u001b[39;00m \u001b[38;5;21;01msqlite3\u001b[39;00m\n\u001b[0;32m----> 2\u001b[0m \u001b[38;5;28;01mimport\u001b[39;00m \u001b[38;5;21;01mpandas\u001b[39;00m \u001b[38;5;28;01mas\u001b[39;00m \u001b[38;5;21;01mpd\u001b[39;00m\n\u001b[1;32m      4\u001b[0m conn \u001b[38;5;241m=\u001b[39m sqlite3\u001b[38;5;241m.\u001b[39mconnect(\u001b[38;5;124m'\u001b[39m\u001b[38;5;124mexample5.db\u001b[39m\u001b[38;5;124m'\u001b[39m)\n\u001b[1;32m      6\u001b[0m sql_statement \u001b[38;5;241m=\u001b[39m \u001b[38;5;124m\"\u001b[39m\u001b[38;5;124mSELECT * FROM EMPLOYEES\u001b[39m\u001b[38;5;124m\"\u001b[39m\n",
      "\u001b[0;31mModuleNotFoundError\u001b[0m: No module named 'pandas'"
     ]
    }
   ],
   "source": [
    "import sqlite3\n",
    "import pandas as pd\n",
    "\n",
    "conn = sqlite3.connect('example5.db')\n",
    "\n",
    "sql_statement = \"SELECT * FROM EMPLOYEES\"\n",
    "df = pd.read_sql_query(sql_statement, conn)\n",
    "df.style.set_table_attributes('style=\"font-size: 12px\"')\n",
    "display(df)\n",
    "\n",
    "sql_statement = \"SELECT * FROM EMPLOYEES_PROJECTS\"\n",
    "df = pd.read_sql_query(sql_statement, conn)\n",
    "df.style.set_table_attributes('style=\"font-size: 12px\"')\n",
    "display(df)\n",
    "\n",
    "sql_statement = \"SELECT * FROM PROJECTS\"\n",
    "df = pd.read_sql_query(sql_statement, conn)\n",
    "df.style.set_table_attributes('style=\"font-size: 12px\"')"
   ]
  },
  {
   "cell_type": "markdown",
   "id": "7ef29ebf",
   "metadata": {},
   "source": [
    "- Analysis of example5\n",
    "  - second normal form\n",
    "\n",
    "### Example 6"
   ]
  },
  {
   "cell_type": "code",
   "execution_count": 6,
   "id": "45fd82d7",
   "metadata": {
    "tags": [
     "hide-input",
     "output_scroll"
    ]
   },
   "outputs": [
    {
     "ename": "ModuleNotFoundError",
     "evalue": "No module named 'pandas'",
     "output_type": "error",
     "traceback": [
      "\u001b[0;31m---------------------------------------------------------------------------\u001b[0m",
      "\u001b[0;31mModuleNotFoundError\u001b[0m                       Traceback (most recent call last)",
      "Cell \u001b[0;32mIn[6], line 2\u001b[0m\n\u001b[1;32m      1\u001b[0m \u001b[38;5;28;01mimport\u001b[39;00m \u001b[38;5;21;01msqlite3\u001b[39;00m\n\u001b[0;32m----> 2\u001b[0m \u001b[38;5;28;01mimport\u001b[39;00m \u001b[38;5;21;01mpandas\u001b[39;00m \u001b[38;5;28;01mas\u001b[39;00m \u001b[38;5;21;01mpd\u001b[39;00m\n\u001b[1;32m      4\u001b[0m conn \u001b[38;5;241m=\u001b[39m sqlite3\u001b[38;5;241m.\u001b[39mconnect(\u001b[38;5;124m'\u001b[39m\u001b[38;5;124mexample6.db\u001b[39m\u001b[38;5;124m'\u001b[39m)\n\u001b[1;32m      5\u001b[0m sql_statement \u001b[38;5;241m=\u001b[39m \u001b[38;5;124m\"\u001b[39m\u001b[38;5;124mSELECT * FROM PROJECTS\u001b[39m\u001b[38;5;124m\"\u001b[39m\n",
      "\u001b[0;31mModuleNotFoundError\u001b[0m: No module named 'pandas'"
     ]
    }
   ],
   "source": [
    "import sqlite3\n",
    "import pandas as pd\n",
    "\n",
    "conn = sqlite3.connect('example6.db')\n",
    "sql_statement = \"SELECT * FROM PROJECTS\"\n",
    "df = pd.read_sql_query(sql_statement, conn)\n",
    "df.style.set_table_attributes('style=\"font-size: 12px\"')"
   ]
  },
  {
   "cell_type": "markdown",
   "id": "7df83740",
   "metadata": {},
   "source": [
    "- Analysis of example 6\n",
    "  - Phone number, which is a non-key field, has transitive dependency on another non-key field. \n",
    "\n",
    "### Example 6"
   ]
  },
  {
   "cell_type": "code",
   "execution_count": 7,
   "id": "d89f5f27",
   "metadata": {
    "tags": [
     "hide-input",
     "output_scroll"
    ]
   },
   "outputs": [
    {
     "ename": "ModuleNotFoundError",
     "evalue": "No module named 'pandas'",
     "output_type": "error",
     "traceback": [
      "\u001b[0;31m---------------------------------------------------------------------------\u001b[0m",
      "\u001b[0;31mModuleNotFoundError\u001b[0m                       Traceback (most recent call last)",
      "Cell \u001b[0;32mIn[7], line 2\u001b[0m\n\u001b[1;32m      1\u001b[0m \u001b[38;5;28;01mimport\u001b[39;00m \u001b[38;5;21;01msqlite3\u001b[39;00m\n\u001b[0;32m----> 2\u001b[0m \u001b[38;5;28;01mimport\u001b[39;00m \u001b[38;5;21;01mpandas\u001b[39;00m \u001b[38;5;28;01mas\u001b[39;00m \u001b[38;5;21;01mpd\u001b[39;00m\n\u001b[1;32m      4\u001b[0m conn \u001b[38;5;241m=\u001b[39m sqlite3\u001b[38;5;241m.\u001b[39mconnect(\u001b[38;5;124m'\u001b[39m\u001b[38;5;124mexample7.db\u001b[39m\u001b[38;5;124m'\u001b[39m)\n\u001b[1;32m      5\u001b[0m sql_statement \u001b[38;5;241m=\u001b[39m \u001b[38;5;124m\"\u001b[39m\u001b[38;5;124mSELECT * FROM MANAGERS\u001b[39m\u001b[38;5;124m\"\u001b[39m\n",
      "\u001b[0;31mModuleNotFoundError\u001b[0m: No module named 'pandas'"
     ]
    }
   ],
   "source": [
    "import sqlite3\n",
    "import pandas as pd\n",
    "\n",
    "conn = sqlite3.connect('example7.db')\n",
    "sql_statement = \"SELECT * FROM MANAGERS\"\n",
    "df = pd.read_sql_query(sql_statement, conn)\n",
    "df.style.set_table_attributes('style=\"font-size: 12px\"')\n",
    "display(df)\n",
    "\n",
    "conn = sqlite3.connect('example7.db')\n",
    "sql_statement = \"SELECT * FROM PROJECTS\"\n",
    "df = pd.read_sql_query(sql_statement, conn)\n",
    "df.style.set_table_attributes('style=\"font-size: 12px\"')"
   ]
  },
  {
   "cell_type": "markdown",
   "id": "b4d35ade",
   "metadata": {},
   "source": [
    "- Analysis of example7\n",
    "  - Removed transitive dependency"
   ]
  }
 ],
 "metadata": {
  "jupytext": {
   "formats": "md:myst",
   "text_representation": {
    "extension": ".md",
    "format_name": "myst"
   }
  },
  "kernelspec": {
   "display_name": "Python 3",
   "language": "python",
   "name": "python3"
  },
  "language_info": {
   "codemirror_mode": {
    "name": "ipython",
    "version": 3
   },
   "file_extension": ".py",
   "mimetype": "text/x-python",
   "name": "python",
   "nbconvert_exporter": "python",
   "pygments_lexer": "ipython3",
   "version": "3.10.9"
  },
  "source_map": [
   11,
   43,
   53,
   64,
   74,
   82,
   97,
   107,
   117,
   126,
   146,
   153,
   162,
   169,
   185
  ]
 },
 "nbformat": 4,
 "nbformat_minor": 5
}