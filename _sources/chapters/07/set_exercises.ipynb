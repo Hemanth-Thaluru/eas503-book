{
 "cells": [
  {
   "cell_type": "markdown",
   "id": "8a8eec99",
   "metadata": {},
   "source": [
    "# Set Exercises\n",
    " \n",
    "## Exercise 1\n",
    "Write a function that takes name of two gene files, \n",
    "reads them, and returns which genes are:\n",
    "1. In first file but not in second file\n",
    "2. In second file but not in first file"
   ]
  },
  {
   "cell_type": "code",
   "execution_count": 1,
   "id": "ac40c5c3",
   "metadata": {
    "tags": [
     "hide-input",
     "output_scroll"
    ]
   },
   "outputs": [
    {
     "name": "stdout",
     "output_type": "stream",
     "text": [
      "(['ABCD1', 'ABCF2', 'ACP7', 'ACOT6', 'AARS2', 'AATK', 'ACTRT2', 'A4GALT', 'AADACL4', 'ACVR1B', 'ABCG5', 'ACER3', 'AAAS', 'ABCC3', 'ACOXL', 'ABCA12', 'ABHD2', 'ACOT8', 'ACTR1A', 'ABHD10', 'ACSM2B', 'ABCG2', 'ABCC5', 'ACTR3', 'ACTR5', 'AATF', 'ABCB7', 'ACP1', 'ACKR1', 'ACSS3', 'ACER1', 'ACOT1', 'ACSF2', 'ABHD4', 'ACSM2A', 'ACOX3', 'AARS1', 'ABCC9', 'ACE', 'ACTBL2', 'ABCF3', 'ABHD5', 'AADACL2', 'ACY1', 'ACMSD', 'AASDH', 'ACTL6A', 'A4GNT', 'ABCB8', 'ABCA13', 'ABCD4', 'ACTL9', 'AARD', 'ACE2', 'ACTC1', 'ACRBP', 'AASDHPPT', 'ABCA5', 'ABCD2', 'ABCG8', 'ACVRL1', 'ACTA1', 'ABCC11', 'ACOT13', 'ACOT2', 'ACRV1', 'A3GALT2', 'ABCA2', 'ACTB', 'ACP3', 'ACSL6', 'ACR', 'A1CF', 'ABCB4', 'ABHD3', 'ACOX1', 'ACTL8', 'ACTR1B', 'AANAT', 'AARSD1', 'ACOT7', 'ACTR3B', 'ABCB1', 'ACP6', 'ACO1', 'ACD', 'ABCB5', 'ACSS1', 'ACSL5', 'ACVR1', 'ACOX2', 'ABCA10', 'ACSM1', 'ACTL7A', 'ACP2', 'ACVR1C', 'ACSM4', 'ABCA4', 'ACSM5', 'ACTRT1', 'ABAT', 'ABHD1', 'ACTL6B', 'ABCB10', 'ABCB6', 'ADA', 'ACSL1', 'ACY3', 'ABCA6', 'ACTN1', 'ACSL3', 'ABCA1', 'ACSS2', 'AACS', 'ACTG1', 'ABCA3', 'ABCC10', 'ABCE1', 'ACTRT3', 'ACOD1', 'ABCA9', 'ACVR2B', 'AAR2', 'ACSF3', 'ACOT9', 'ABCA7', 'AAMDC', 'A2ML1', 'ACSL4', 'ABHD6', 'ABCG4', 'ABHD8', 'ABCB11', 'ABCF1', 'ACOT11', 'ACP4', 'ACTL7B', 'ACTN2', 'ACKR2', 'ABCD3', 'ACTA2', 'ACER2', 'ACIN1', 'ACTR3C', 'ABCC1', 'ACTN3', 'ACTN4', 'AAMP', 'ACLY', 'AADAC', 'ACO2', 'ABCC2', 'AAK1', 'AADACL3', 'ACOT12', 'A2M', 'ABCC8', 'ACSBG2', 'ACSBG1', 'ACVR2A', 'ABCG1', 'ACOT4', 'ABCC12', 'ACTR2', 'ACTR6', 'ABCC6', 'AADAT', 'ACKR3', 'ACTR8', 'ACTR10', 'ACSM3', 'ACHE', 'ABCC4', 'ACP5', 'ACTL10', 'ABCB9', 'ACKR4', 'ACSM6', 'AAGAB', 'ACTG2', 'ACYP2', 'ACYP1', 'AASS', 'ABCA8', 'A1BG'], ['ZSWIM4', 'ZNF782', 'ZSCAN21', 'ZNF781', 'ZNF816', 'ZNF747', 'ZSCAN16', 'ZNF804A', 'ZNF786', 'ZNF790', 'ZNF789', 'ZNF780A', 'ZNF831', 'ZNF716', 'ZNF738', 'ZNF860', 'ZSWIM1', 'ZNRF4', 'ZSCAN23', 'ZNF726', 'ZNF827', 'ZNRF3', 'ZNF783', 'ZSCAN25', 'ZSCAN31', 'ZSCAN5C', 'ZRANB3', 'ZNF878', 'ZSCAN5A', 'ZSWIM9', 'ZNF776', 'ZNF730', 'ZSCAN29', 'ZNF865', 'ZNFX1', 'ZNF740', 'ZSCAN1', 'ZNF768', 'ZNF800', 'ZSCAN4', 'ZPBP', 'ZSCAN30', 'ZNF850', 'ZP1', 'ZNF852', 'ZNF777', 'ZNRF1', 'ZNF784', 'ZNF714', 'ZSWIM7', 'ZSWIM8', 'ZNHIT6', 'ZNF720', 'ZNF862', 'ZNF843', 'ZNF813', 'ZP3', 'ZNF883', 'ZSCAN26', 'ZNF891', 'ZNF830', 'ZNHIT3', 'ZP4', 'ZNF787', 'ZSCAN10', 'ZSCAN20', 'ZSWIM6', 'ZNF729', 'ZNF771', 'ZNRD2', 'ZSCAN9', 'ZNF721', 'ZNF724', 'ZNF829', 'ZNF764', 'ZNF821', 'ZSCAN2', 'ZSWIM3', 'ZNF804B', 'ZNF845', 'ZNF750', 'ZNF793', 'ZNF839', 'ZNF775', 'ZRANB1', 'ZNF805', 'ZPLD1', 'ZNF785', 'ZNF749', 'ZNF846', 'ZNF875', 'ZNF774', 'ZNF835', 'ZNF763', 'ZNF723', 'ZNF792', 'ZNF791', 'ZSCAN12', 'ZNF736', 'ZNF717', 'ZNF841', 'ZNHIT1', 'ZPBP2', 'ZNF735', 'ZNF780B', 'ZUP1', 'ZNF727', 'ZNF732', 'ZNHIT2', 'ZNRD1', 'ZNF765', 'ZNF718', 'ZNF761', 'ZNF844', 'ZNF799', 'ZNF728', 'ZNF766', 'ZNF853', 'ZNF778', 'ZNF770', 'ZRANB2', 'ZSWIM5', 'ZSCAN5B', 'ZNF823', 'ZNF737', 'ZNF773', 'ZNF746', 'ZSCAN22', 'ZNF808', 'ZNF814', 'ZRSR2', 'ZNF836', 'ZSCAN32', 'ZNF879', 'ZNF772', 'ZNF880', 'ZSCAN18', 'ZPR1', 'ZSWIM2', 'ZNRF2', 'ZNF888', 'ZP2', 'ZNF837'])\n"
     ]
    }
   ],
   "source": [
    "def get_list_from_file(filename):\n",
    "    lst = []\n",
    "    with open(filename) as file:\n",
    "        for line in file:\n",
    "            if not line.strip():\n",
    "                continue\n",
    "\n",
    "            lst.append(line.strip())\n",
    "\n",
    "    return lst\n",
    "\n",
    "\n",
    "def compare_two_lists(filename1, filename2):\n",
    "\n",
    "    list1 = get_list_from_file(filename1)\n",
    "    list2 = get_list_from_file(filename2)\n",
    "\n",
    "    return (list(set(list1)-set(list2)), list(set(list2)-set(list1)))\n",
    "\n",
    "\n",
    "print(compare_two_lists('gene_list1.txt', 'gene_list2.txt'))"
   ]
  }
 ],
 "metadata": {
  "jupytext": {
   "formats": "md:myst",
   "text_representation": {
    "extension": ".md",
    "format_name": "myst"
   }
  },
  "kernelspec": {
   "display_name": "Python 3",
   "language": "python",
   "name": "python3"
  },
  "language_info": {
   "codemirror_mode": {
    "name": "ipython",
    "version": 3
   },
   "file_extension": ".py",
   "mimetype": "text/x-python",
   "name": "python",
   "nbconvert_exporter": "python",
   "pygments_lexer": "ipython3",
   "version": "3.10.9"
  },
  "source_map": [
   11,
   22
  ]
 },
 "nbformat": 4,
 "nbformat_minor": 5
}