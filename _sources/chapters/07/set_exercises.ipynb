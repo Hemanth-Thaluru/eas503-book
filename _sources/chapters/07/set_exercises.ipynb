{
 "cells": [
  {
   "cell_type": "markdown",
   "id": "0fb7b51c",
   "metadata": {},
   "source": [
    "# Set Exercises\n",
    " \n",
    "## Exercise 1\n",
    "Write a function that takes name of two gene files, \n",
    "reads them, and returns which genes are:\n",
    "1. In first file but not in second file\n",
    "2. In second file but not in first file"
   ]
  },
  {
   "cell_type": "code",
   "execution_count": 1,
   "id": "7de09ab0",
   "metadata": {
    "tags": [
     "hide-input",
     "output_scroll"
    ]
   },
   "outputs": [
    {
     "name": "stdout",
     "output_type": "stream",
     "text": [
      "(['ACSL1', 'ACTR3C', 'ACTG1', 'ABHD10', 'AARD', 'ACTR10', 'A1BG', 'AASDH', 'ACSF2', 'ACOT13', 'ACSM2B', 'ACTC1', 'ACOT2', 'ACP5', 'AAGAB', 'ACVRL1', 'ABCF3', 'ABCC10', 'ABCC2', 'ACKR4', 'ABHD2', 'ACRV1', 'ACTA1', 'ABCA7', 'ACTA2', 'ACSBG2', 'ACTR6', 'ABCC6', 'ABCG4', 'A4GALT', 'ABCA1', 'ABCB7', 'AAMP', 'ACTR2', 'ACP1', 'A3GALT2', 'ACO2', 'ACER1', 'AAK1', 'ABCG2', 'AARSD1', 'ACSL6', 'ACTR5', 'ACY3', 'ABCC9', 'ABCD3', 'ACTN2', 'ABCC11', 'ACIN1', 'AASDHPPT', 'ACOT11', 'ACTL7A', 'A2ML1', 'ABCD4', 'ACTL8', 'ACTB', 'ACOT6', 'ACO1', 'AASS', 'ABCB4', 'ACSM5', 'ABCA5', 'ACSM3', 'ACP4', 'ACOT9', 'AADAC', 'ABCA4', 'ACTL6B', 'ABCF2', 'ACTL10', 'ACOXL', 'ACTN1', 'ACHE', 'ACOX2', 'ABCC12', 'ACSS3', 'ACD', 'ACLY', 'ACTR1B', 'ACRBP', 'ACOT7', 'AAR2', 'ACSL5', 'ABHD5', 'ACP2', 'ABHD3', 'A1CF', 'AARS2', 'ABCA6', 'AADACL4', 'ACOX1', 'ACYP1', 'ABCB8', 'ACYP2', 'ABCA10', 'AAAS', 'ACOT4', 'ACSM4', 'AARS1', 'ACTRT1', 'ABCF1', 'ABCB9', 'ACP6', 'ACOT1', 'ACSBG1', 'ACTR3', 'ACOT12', 'A2M', 'AADACL2', 'ABCG8', 'ABHD1', 'ABCD1', 'ACE2', 'ABCC3', 'ABHD6', 'ACER2', 'ABCA13', 'ABCC1', 'ACTN3', 'ACTR3B', 'ACOD1', 'ACER3', 'AATF', 'ACVR1', 'ACTR8', 'ABHD4', 'ACVR1C', 'ACOX3', 'ABCC5', 'ACTBL2', 'ACTL7B', 'AATK', 'ACTL6A', 'ACSF3', 'ABCC4', 'ABCB11', 'ACTR1A', 'ACY1', 'ACSM2A', 'ACTN4', 'ABCB5', 'ABCA9', 'ABCG5', 'ACSM6', 'ABCA3', 'ABCE1', 'AADAT', 'ACSL4', 'ABAT', 'ACSM1', 'AACS', 'ACVR1B', 'ACTG2', 'ACTL9', 'ABCA2', 'ACKR1', 'ABCB10', 'ABCC8', 'AANAT', 'ACSS2', 'ABHD8', 'A4GNT', 'ABCA12', 'ACP7', 'AADACL3', 'ACP3', 'ACE', 'ADA', 'ACKR3', 'ACKR2', 'ABCA8', 'ACTRT2', 'ABCB6', 'ABCG1', 'ACSS1', 'AAMDC', 'ABCB1', 'ACMSD', 'ACSL3', 'ACTRT3', 'ABCD2', 'ACVR2B', 'ACR', 'ACVR2A', 'ACOT8'], ['ZNF865', 'ZNRF3', 'ZRSR2', 'ZNF878', 'ZNF716', 'ZNF844', 'ZNF735', 'ZNF790', 'ZSCAN29', 'ZNF737', 'ZNF771', 'ZNF875', 'ZNRF2', 'ZSWIM2', 'ZNF804B', 'ZNF852', 'ZNHIT1', 'ZNF761', 'ZSCAN20', 'ZNRF4', 'ZPR1', 'ZNF827', 'ZSWIM4', 'ZP4', 'ZSCAN23', 'ZSWIM1', 'ZNF805', 'ZNF736', 'ZNF821', 'ZNF831', 'ZP3', 'ZSCAN18', 'ZNF732', 'ZNF777', 'ZNF774', 'ZSWIM8', 'ZNF784', 'ZSCAN16', 'ZSCAN2', 'ZNF717', 'ZRANB3', 'ZSCAN22', 'ZNF728', 'ZNF738', 'ZNF837', 'ZSCAN26', 'ZRANB1', 'ZSCAN1', 'ZNHIT6', 'ZNF763', 'ZNF750', 'ZNRD1', 'ZNF726', 'ZNF783', 'ZNF727', 'ZNF749', 'ZNF775', 'ZSCAN5C', 'ZNF766', 'ZNF816', 'ZNF723', 'ZNRD2', 'ZNF835', 'ZNF786', 'ZNF836', 'ZNF772', 'ZNF718', 'ZPBP2', 'ZNF799', 'ZNF785', 'ZNF830', 'ZSCAN12', 'ZNF813', 'ZNF853', 'ZSCAN9', 'ZNF880', 'ZNF814', 'ZNF764', 'ZNF823', 'ZNF839', 'ZNF778', 'ZNF787', 'ZNF740', 'ZNF770', 'ZNF782', 'ZSWIM3', 'ZNF808', 'ZP2', 'ZNF746', 'ZSWIM9', 'ZNHIT3', 'ZNF846', 'ZNF729', 'ZNF720', 'ZNFX1', 'ZNF792', 'ZNF747', 'ZSCAN5B', 'ZNF804A', 'ZSWIM6', 'ZSCAN5A', 'ZNF773', 'ZSCAN31', 'ZNF776', 'ZNF800', 'ZNF879', 'ZP1', 'ZSCAN10', 'ZNF768', 'ZNF714', 'ZNF730', 'ZPBP', 'ZNF862', 'ZSCAN21', 'ZNHIT2', 'ZNF781', 'ZSCAN30', 'ZNF843', 'ZSCAN4', 'ZSCAN32', 'ZNF850', 'ZSWIM5', 'ZNF780A', 'ZUP1', 'ZNF845', 'ZNF765', 'ZNF724', 'ZNRF1', 'ZNF789', 'ZNF883', 'ZSWIM7', 'ZNF841', 'ZNF780B', 'ZNF791', 'ZNF793', 'ZNF721', 'ZNF888', 'ZNF860', 'ZSCAN25', 'ZNF829', 'ZRANB2', 'ZPLD1', 'ZNF891'])\n"
     ]
    }
   ],
   "source": [
    "def get_list_from_file(filename):\n",
    "    lst = []\n",
    "    with open(filename) as file:\n",
    "        for line in file:\n",
    "            if not line.strip():\n",
    "                continue\n",
    "\n",
    "            lst.append(line.strip())\n",
    "\n",
    "    return lst\n",
    "\n",
    "\n",
    "def compare_two_lists(filename1, filename2):\n",
    "\n",
    "    list1 = get_list_from_file(filename1)\n",
    "    list2 = get_list_from_file(filename2)\n",
    "\n",
    "    return (list(set(list1)-set(list2)), list(set(list2)-set(list1)))\n",
    "\n",
    "\n",
    "print(compare_two_lists('gene_list1.txt', 'gene_list2.txt'))"
   ]
  }
 ],
 "metadata": {
  "jupytext": {
   "formats": "md:myst",
   "text_representation": {
    "extension": ".md",
    "format_name": "myst"
   }
  },
  "kernelspec": {
   "display_name": "Python 3",
   "language": "python",
   "name": "python3"
  },
  "language_info": {
   "codemirror_mode": {
    "name": "ipython",
    "version": 3
   },
   "file_extension": ".py",
   "mimetype": "text/x-python",
   "name": "python",
   "nbconvert_exporter": "python",
   "pygments_lexer": "ipython3",
   "version": "3.10.9"
  },
  "source_map": [
   11,
   22
  ]
 },
 "nbformat": 4,
 "nbformat_minor": 5
}