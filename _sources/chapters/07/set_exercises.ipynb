{
 "cells": [
  {
   "cell_type": "markdown",
   "id": "7695d2d4",
   "metadata": {},
   "source": [
    "# Set Exercises\n",
    " \n",
    "## Exercise 1\n",
    "Write a function that takes name of two gene files, \n",
    "reads them, and returns which genes are:\n",
    "1. In first file but not in second file\n",
    "2. In second file but not in first file"
   ]
  },
  {
   "cell_type": "code",
   "execution_count": 1,
   "id": "f63eec2d",
   "metadata": {
    "tags": [
     "hide-input",
     "output_scroll"
    ]
   },
   "outputs": [
    {
     "name": "stdout",
     "output_type": "stream",
     "text": [
      "(['ABCB1', 'ACY1', 'ABCC3', 'ABHD1', 'ABCA9', 'ABCB4', 'ABCC5', 'ABCA4', 'ACSL1', 'ABCB5', 'ACP7', 'ABCF2', 'ABCA1', 'ACSBG2', 'ACVR1', 'ABCG8', 'ACTB', 'AAAS', 'A2M', 'ACTR1B', 'AADAT', 'ACTL10', 'ACTC1', 'AANAT', 'AADACL4', 'AATK', 'ABCA13', 'ABHD4', 'ACTBL2', 'ACTN3', 'ACVR1B', 'ABCC1', 'ACOT1', 'ACOD1', 'ACP2', 'ACY3', 'ACSM3', 'ACSBG1', 'ACTL9', 'ACSS2', 'ACOT2', 'A1CF', 'ACTRT3', 'ACE', 'ACVR2B', 'ACMSD', 'ACO2', 'ACTR8', 'ACTL6A', 'ACER3', 'ABHD2', 'ABCB9', 'ABCA3', 'ADA', 'ACOX1', 'ACOT9', 'ACP4', 'ACVR2A', 'AASDHPPT', 'ABCC2', 'ACTG2', 'AACS', 'ACKR1', 'ACTR1A', 'ACTRT2', 'ACTL6B', 'ABCB7', 'ABCC9', 'ACOX2', 'ABCA10', 'A1BG', 'AADAC', 'AARD', 'ABHD5', 'ACOT6', 'ABHD10', 'ACER2', 'ABCG5', 'AAMDC', 'ABCB11', 'ACSF2', 'ACP6', 'ABCG1', 'ABHD3', 'ACIN1', 'ACTRT1', 'ABAT', 'A3GALT2', 'ACHE', 'ABHD8', 'ACTA2', 'ACLY', 'ACSS3', 'ABCF3', 'ABCB10', 'ACSM6', 'ABCG4', 'AAMP', 'AARS1', 'ABCD3', 'ACOX3', 'ACR', 'ACTL7A', 'ABCD2', 'AASS', 'ACYP1', 'ABCG2', 'ACSM1', 'ACTA1', 'ACTL8', 'ACTR6', 'ABCE1', 'ABCA7', 'ABHD6', 'AADACL3', 'AARS2', 'ABCA6', 'ACTR3B', 'ACVR1C', 'ABCC8', 'ACO1', 'ACTN4', 'ACSM2B', 'AASDH', 'AADACL2', 'ACOT7', 'A4GALT', 'ACP1', 'AARSD1', 'ACSM2A', 'ACP3', 'ACOT13', 'ACTL7B', 'ACOT4', 'AAR2', 'ACSM5', 'A4GNT', 'ABCC12', 'ACTN1', 'ACTR3C', 'ACSS1', 'ACKR3', 'ACKR4', 'ABCB6', 'ABCC6', 'ABCD4', 'ACOT8', 'ABCA12', 'ACSM4', 'AAGAB', 'ACKR2', 'ACP5', 'AATF', 'A2ML1', 'AAK1', 'ABCC4', 'ACSL5', 'ACVRL1', 'ACD', 'ACTR10', 'ACOT12', 'ABCC11', 'ABCD1', 'ACYP2', 'ACRV1', 'ACE2', 'ACOXL', 'ACSF3', 'ACTR5', 'ABCA5', 'ABCF1', 'ACSL6', 'ACTR2', 'ABCC10', 'ACTG1', 'ABCA2', 'ACTN2', 'ACSL4', 'ABCA8', 'ACSL3', 'ACRBP', 'ACOT11', 'ACTR3', 'ABCB8', 'ACER1'], ['ZNF764', 'ZNF736', 'ZNF843', 'ZSCAN25', 'ZNF784', 'ZNF789', 'ZNF865', 'ZNF738', 'ZNF766', 'ZUP1', 'ZNF746', 'ZNF836', 'ZNF791', 'ZNF852', 'ZNF774', 'ZNF720', 'ZNF717', 'ZNHIT1', 'ZNRD1', 'ZSCAN5A', 'ZNF765', 'ZNF780B', 'ZNF808', 'ZSCAN30', 'ZSCAN21', 'ZSCAN10', 'ZNF786', 'ZNF821', 'ZNF879', 'ZNF763', 'ZNF727', 'ZNF780A', 'ZNF716', 'ZNF823', 'ZNF726', 'ZNF839', 'ZNF878', 'ZNF835', 'ZNF853', 'ZNF814', 'ZSCAN5C', 'ZNF783', 'ZSCAN22', 'ZRANB2', 'ZNRF3', 'ZSCAN29', 'ZSWIM6', 'ZSCAN12', 'ZNF790', 'ZNF772', 'ZNF787', 'ZNF883', 'ZNF776', 'ZNF761', 'ZP1', 'ZNF775', 'ZNF750', 'ZNF778', 'ZNF880', 'ZSWIM3', 'ZSCAN23', 'ZNF781', 'ZSCAN4', 'ZPBP', 'ZSCAN31', 'ZNF740', 'ZNF830', 'ZNF891', 'ZPBP2', 'ZSWIM1', 'ZNF837', 'ZNF721', 'ZNF771', 'ZSCAN20', 'ZNF800', 'ZNRD2', 'ZNF777', 'ZRANB3', 'ZRANB1', 'ZSCAN26', 'ZNF785', 'ZNF813', 'ZSCAN5B', 'ZNF714', 'ZNF816', 'ZSWIM2', 'ZNF724', 'ZNRF1', 'ZNF737', 'ZPLD1', 'ZSCAN32', 'ZNF768', 'ZNF845', 'ZNF888', 'ZNF723', 'ZPR1', 'ZSWIM9', 'ZRSR2', 'ZNF850', 'ZNFX1', 'ZNF773', 'ZSCAN9', 'ZNF831', 'ZNF728', 'ZNF846', 'ZNF735', 'ZNF718', 'ZSWIM7', 'ZNF804B', 'ZNF792', 'ZNF860', 'ZNHIT3', 'ZNF793', 'ZNF729', 'ZNF875', 'ZNF730', 'ZNRF2', 'ZP2', 'ZSCAN1', 'ZP4', 'ZNF827', 'ZNF805', 'ZSWIM5', 'ZSCAN2', 'ZSCAN16', 'ZNF770', 'ZNHIT2', 'ZNF844', 'ZNF747', 'ZNF782', 'ZNF804A', 'ZNF862', 'ZNF799', 'ZP3', 'ZSWIM8', 'ZSCAN18', 'ZNRF4', 'ZSWIM4', 'ZNF841', 'ZNF749', 'ZNF732', 'ZNHIT6', 'ZNF829'])\n"
     ]
    }
   ],
   "source": [
    "def get_list_from_file(filename):\n",
    "    lst = []\n",
    "    with open(filename) as file:\n",
    "        for line in file:\n",
    "            if not line.strip():\n",
    "                continue\n",
    "\n",
    "            lst.append(line.strip())\n",
    "\n",
    "    return lst\n",
    "\n",
    "\n",
    "def compare_two_lists(filename1, filename2):\n",
    "\n",
    "    list1 = get_list_from_file(filename1)\n",
    "    list2 = get_list_from_file(filename2)\n",
    "\n",
    "    return (list(set(list1)-set(list2)), list(set(list2)-set(list1)))\n",
    "\n",
    "\n",
    "print(compare_two_lists('gene_list1.txt', 'gene_list2.txt'))"
   ]
  }
 ],
 "metadata": {
  "jupytext": {
   "formats": "md:myst",
   "text_representation": {
    "extension": ".md",
    "format_name": "myst"
   }
  },
  "kernelspec": {
   "display_name": "Python 3",
   "language": "python",
   "name": "python3"
  },
  "language_info": {
   "codemirror_mode": {
    "name": "ipython",
    "version": 3
   },
   "file_extension": ".py",
   "mimetype": "text/x-python",
   "name": "python",
   "nbconvert_exporter": "python",
   "pygments_lexer": "ipython3",
   "version": "3.10.9"
  },
  "source_map": [
   11,
   22
  ]
 },
 "nbformat": 4,
 "nbformat_minor": 5
}