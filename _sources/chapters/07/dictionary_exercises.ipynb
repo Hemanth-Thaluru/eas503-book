{
 "cells": [
  {
   "cell_type": "markdown",
   "id": "049d3055",
   "metadata": {},
   "source": [
    "# Dictionary Exercises\n",
    "\n",
    "## Exercise 1\n",
    "Load people.tsv into a dictionary. Prompt user for filename"
   ]
  },
  {
   "cell_type": "code",
   "execution_count": 1,
   "id": "b67fae14",
   "metadata": {
    "tags": [
     "hide-input",
     "output_scroll"
    ]
   },
   "outputs": [
    {
     "ename": "StdinNotImplementedError",
     "evalue": "raw_input was called, but this frontend does not support input requests.",
     "output_type": "error",
     "traceback": [
      "\u001b[0;31m---------------------------------------------------------------------------\u001b[0m",
      "\u001b[0;31mStdinNotImplementedError\u001b[0m                  Traceback (most recent call last)",
      "Cell \u001b[0;32mIn[1], line 1\u001b[0m\n\u001b[0;32m----> 1\u001b[0m filename \u001b[38;5;241m=\u001b[39m \u001b[38;5;28;43minput\u001b[39;49m\u001b[43m(\u001b[49m\u001b[38;5;124;43m'\u001b[39;49m\u001b[38;5;124;43mWhat is the name of the file? \u001b[39;49m\u001b[38;5;124;43m'\u001b[39;49m\u001b[43m)\u001b[49m\n\u001b[1;32m      2\u001b[0m header \u001b[38;5;241m=\u001b[39m \u001b[38;5;28;01mNone\u001b[39;00m\n\u001b[1;32m      3\u001b[0m data_array \u001b[38;5;241m=\u001b[39m []\n",
      "File \u001b[0;32m~/anaconda3/envs/book/lib/python3.10/site-packages/ipykernel/kernelbase.py:1186\u001b[0m, in \u001b[0;36mKernel.raw_input\u001b[0;34m(self, prompt)\u001b[0m\n\u001b[1;32m   1184\u001b[0m \u001b[38;5;28;01mif\u001b[39;00m \u001b[38;5;129;01mnot\u001b[39;00m \u001b[38;5;28mself\u001b[39m\u001b[38;5;241m.\u001b[39m_allow_stdin:\n\u001b[1;32m   1185\u001b[0m     msg \u001b[38;5;241m=\u001b[39m \u001b[38;5;124m\"\u001b[39m\u001b[38;5;124mraw_input was called, but this frontend does not support input requests.\u001b[39m\u001b[38;5;124m\"\u001b[39m\n\u001b[0;32m-> 1186\u001b[0m     \u001b[38;5;28;01mraise\u001b[39;00m StdinNotImplementedError(msg)\n\u001b[1;32m   1187\u001b[0m \u001b[38;5;28;01mreturn\u001b[39;00m \u001b[38;5;28mself\u001b[39m\u001b[38;5;241m.\u001b[39m_input_request(\n\u001b[1;32m   1188\u001b[0m     \u001b[38;5;28mstr\u001b[39m(prompt),\n\u001b[1;32m   1189\u001b[0m     \u001b[38;5;28mself\u001b[39m\u001b[38;5;241m.\u001b[39m_parent_ident[\u001b[38;5;124m\"\u001b[39m\u001b[38;5;124mshell\u001b[39m\u001b[38;5;124m\"\u001b[39m],\n\u001b[1;32m   1190\u001b[0m     \u001b[38;5;28mself\u001b[39m\u001b[38;5;241m.\u001b[39mget_parent(\u001b[38;5;124m\"\u001b[39m\u001b[38;5;124mshell\u001b[39m\u001b[38;5;124m\"\u001b[39m),\n\u001b[1;32m   1191\u001b[0m     password\u001b[38;5;241m=\u001b[39m\u001b[38;5;28;01mFalse\u001b[39;00m,\n\u001b[1;32m   1192\u001b[0m )\n",
      "\u001b[0;31mStdinNotImplementedError\u001b[0m: raw_input was called, but this frontend does not support input requests."
     ]
    }
   ],
   "source": [
    "filename = input('What is the name of the file? ')\n",
    "header = None\n",
    "data_array = []\n",
    "\n",
    "with open(filename, 'r') as fp:\n",
    "    for line in fp:\n",
    "        if header is None:\n",
    "            header = line.strip().split('\\t')\n",
    "            continue\n",
    "\n",
    "        data_array.append(dict(zip(header, line.strip().split('\\t'))))\n",
    "\n",
    "from pprint import pprint\n",
    "pprint(data_array)"
   ]
  },
  {
   "cell_type": "markdown",
   "id": "72de4fef",
   "metadata": {},
   "source": [
    "## Exercise 2\n",
    "Write a function to convert month number to month name. First use a list and then a dictionary"
   ]
  },
  {
   "cell_type": "code",
   "execution_count": 2,
   "id": "9236d66e",
   "metadata": {
    "tags": [
     "hide-input",
     "output_scroll"
    ]
   },
   "outputs": [
    {
     "ename": "IndentationError",
     "evalue": "expected an indented block after function definition on line 1 (819283381.py, line 3)",
     "output_type": "error",
     "traceback": [
      "\u001b[0;36m  Cell \u001b[0;32mIn[2], line 3\u001b[0;36m\u001b[0m\n\u001b[0;31m    months = [\u001b[0m\n\u001b[0m    ^\u001b[0m\n\u001b[0;31mIndentationError\u001b[0m\u001b[0;31m:\u001b[0m expected an indented block after function definition on line 1\n"
     ]
    }
   ],
   "source": [
    "def convert_to_month_list(month):\n",
    "\n",
    "months = [\n",
    "\t'',\n",
    "\t'January',\n",
    "\t'February',\n",
    "\t'March',\n",
    "\t'April',\n",
    "\t'May',\n",
    "\t'June',\n",
    "\t'July',\n",
    "\t'August',\n",
    "\t'September',\n",
    "\t'October',\n",
    "\t'November',\n",
    "\t'December',\n",
    "]\n",
    "\n",
    "\treturn months[month]\n",
    "\n",
    "print(convert_to_month_list(3))\n",
    "\n",
    "def convert_to_month_dict(month):\n",
    "\n",
    "\tmonths = {\n",
    "\t\t1: 'January',\n",
    "\t\t2: 'February',\n",
    "\t\t3: 'March',\n",
    "\t\t4: 'April',\n",
    "\t\t5: 'May',\n",
    "\t\t6: 'June',\n",
    "\t\t7: 'July',\n",
    "\t\t8: 'August',\n",
    "\t\t9: 'September',\n",
    "\t\t10: 'October',\n",
    "\t\t11: 'November',\n",
    "\t\t12: 'December',\n",
    "\t}\n",
    "\n",
    "\n",
    "\treturn months[month]\n",
    "\n",
    "print(convert_to_month_list(3))"
   ]
  },
  {
   "cell_type": "markdown",
   "id": "b592eca2",
   "metadata": {},
   "source": [
    "## Exercise 3\n",
    "\n",
    "Convert a text message to numbers using the following number scheme\n",
    "```\n",
    "0 \tspace\n",
    "1 \t., ?, !\n",
    "2 \tABC\n",
    "3 \tDEF\n",
    "4 \tGHI\n",
    "5 \tJKL\n",
    "6 \tMNO\n",
    "7 \tPQRS\n",
    "8 \tTUV\n",
    "9 \tWXYZ\n",
    "```"
   ]
  },
  {
   "cell_type": "code",
   "execution_count": 3,
   "id": "f7ae266e",
   "metadata": {
    "tags": [
     "hide-input",
     "output_scroll"
    ]
   },
   "outputs": [
    {
     "name": "stdout",
     "output_type": "stream",
     "text": [
      "{' ': '0', '.': '1', ',': '11', '?': '111', '!': '1111', 'A': '2', 'B': '22', 'C': '222', 'D': '3', 'E': '33', 'F': '333', 'G': '4', 'H': '44', 'I': '444', 'J': '5', 'K': '55', 'L': '555', 'M': '6', 'N': '66', 'O': '666', 'P': '7', 'Q': '77', 'R': '777', 'S': '7777', 'T': '8', 'U': '88', 'V': '888', 'W': '9', 'X': '99', 'Y': '999', 'Z': '9999'}\n",
      "4433555555666110966677755531111\n"
     ]
    }
   ],
   "source": [
    "def convert_message_to_numbers(message):\n",
    "\n",
    "    lookup = {\n",
    "        0: ' ',\n",
    "        1: '.,?!',\n",
    "        2: 'ABC',\n",
    "        3: 'DEF',\n",
    "        4: 'GHI',\n",
    "        5: 'JKL',\n",
    "        6: 'MNO',\n",
    "        7: 'PQRS',\n",
    "        8: 'TUV',\n",
    "        9: 'WXYZ'\n",
    "    }\n",
    "\n",
    "\n",
    "    lookup_map = {}\n",
    "\n",
    "    for key, value in lookup.items():\n",
    "        for ele in value:\n",
    "            lookup_map[ele] = key\n",
    "\n",
    "\n",
    "    # order is important!!!!\n",
    "    lookup_map = {ele: key for key, value in lookup.items() for ele in value }\n",
    "\n",
    "    # order incorrect\n",
    "    # lookup_map = {ele: key for ele in value  for key, value in lookup.items()}\n",
    "\n",
    "\n",
    "    # lookup = (\n",
    "    #     (0, ' '),\n",
    "    #     (1, '.,?!'),\n",
    "    #     (2, 'ABC'),\n",
    "    #     (3, 'DEF'),\n",
    "    #     (4, 'GHI'),\n",
    "    #     (5, 'JKL'),\n",
    "    #     (6, 'MNO'),\n",
    "    #     (7, 'PQRS'),\n",
    "    #     (8, 'TUV'),\n",
    "    #     (9, 'WXYZ'),\n",
    "    # )\n",
    "\n",
    "\n",
    "    # lookup_map = {}\n",
    "\n",
    "    # for key, value in lookup:\n",
    "    #     for ele in value:\n",
    "    #         lookup_map[ele] = key\n",
    "\n",
    "\n",
    "    numbers = ''\n",
    "    for char in message:\n",
    "        numbers += str(lookup_map[char.upper()])\n",
    "\n",
    "\n",
    "\n",
    "    lookup_map = {ele: str(key)*idx for key, value in lookup.items() for idx, ele in enumerate(value, 1)  }\n",
    "\n",
    "    print(lookup_map)\n",
    "\n",
    "    numbers = ''\n",
    "    for char in message:\n",
    "        numbers += lookup_map[char.upper()]\n",
    "\n",
    "\n",
    "    return numbers\n",
    "\n",
    "\n",
    "print(convert_message_to_numbers('Hello, World!'))"
   ]
  },
  {
   "cell_type": "markdown",
   "id": "6a6ae634",
   "metadata": {},
   "source": [
    "## Exercise 4\n",
    "Write a function that uses enumerate to print the index and value from range.\n",
    "Use vary the enumerate start index"
   ]
  },
  {
   "cell_type": "code",
   "execution_count": 4,
   "id": "f8ee4a6f",
   "metadata": {
    "tags": [
     "hide-input",
     "output_scroll"
    ]
   },
   "outputs": [
    {
     "name": "stdout",
     "output_type": "stream",
     "text": [
      "1 0\n",
      "2 1\n",
      "3 2\n",
      "4 3\n",
      "5 4\n",
      "6 5\n",
      "7 6\n",
      "8 7\n",
      "9 8\n",
      "10 9\n"
     ]
    }
   ],
   "source": [
    "def test_enumerate(range_value):\n",
    "\n",
    "    for index, value in enumerate(range(range_value), 1):\n",
    "        print(index, value)\n",
    "\n",
    "test_enumerate(10)"
   ]
  },
  {
   "cell_type": "markdown",
   "id": "b2a96ba1",
   "metadata": {},
   "source": [
    "## Exercise 5\n",
    "\n",
    "Simulate two dice. Print the total, theoretical/expected probability, and simulated probability\n",
    "input: the number of simulations\n",
    "https://socratic.org/questions/what-is-the-expected-value-of-the-sum-of-two-rolls-of-a-six-sided-die\n",
    "\n",
    "```python\n",
    "# Total     Simulated Percent     Expected Percent \n",
    "\n",
    "# 2                      2.76                 2.78\n",
    "# 3                      5.57                 5.56\n",
    "# 4                      8.34                 8.33\n",
    "# 5                      11.1                11.11\n",
    "# 6                     13.83                13.89\n",
    "# 7                     16.68                16.67\n",
    "# 8                      13.9                13.89\n",
    "# 9                      11.1                11.11\n",
    "# 10                     8.36                 8.33\n",
    "# 11                     5.57                 5.56\n",
    "# 12                     2.79                 2.78\n",
    "```"
   ]
  },
  {
   "cell_type": "code",
   "execution_count": 5,
   "id": "7eebbf9d",
   "metadata": {
    "tags": [
     "hide-input",
     "output_scroll"
    ]
   },
   "outputs": [
    {
     "name": "stdout",
     "output_type": "stream",
     "text": [
      "Total     Simulated Percent     Expected Percent \n",
      "\n",
      "2                      2.77                 2.78\n",
      "3                      5.51                 5.56\n",
      "4                       8.4                 8.33\n",
      "5                     11.11                11.11\n",
      "6                     13.97                13.89\n",
      "7                     16.65                16.67\n",
      "8                     13.88                13.89\n",
      "9                     11.06                11.11\n",
      "10                     8.33                 8.33\n",
      "11                     5.56                 5.56\n",
      "12                     2.77                 2.78\n"
     ]
    }
   ],
   "source": [
    "def simulate_two_dice(no_simulation):\n",
    "    import random\n",
    "    theoretical_probabilities = [\n",
    "        0,\n",
    "        0,\n",
    "        1 / 36,\n",
    "        2 / 36,\n",
    "        3 / 36,\n",
    "        4 / 36,\n",
    "        5 / 36,\n",
    "        6 / 36,\n",
    "        5 / 36,\n",
    "        4 / 36,\n",
    "        3 / 36,\n",
    "        2 / 36,\n",
    "        1 / 36,\n",
    "    ]\n",
    "\n",
    "    two_dice = {}\n",
    "\n",
    "    for no in range(no_simulation):\n",
    "        dice1 = random.randint(1, 6)\n",
    "        dice2 = random.randint(1, 6)\n",
    "\n",
    "        total = dice1 + dice2\n",
    "        if total not in two_dice:\n",
    "            two_dice[total] = 0\n",
    "\n",
    "        two_dice[total] += 1\n",
    "\n",
    "    simulated_probability = [0, 0]\n",
    "\n",
    "    for number in range(2, 13):\n",
    "        simulated_probability.append(two_dice[number] / no_simulation)\n",
    "\n",
    "    column1 = 'Total'\n",
    "    column2 = 'Simulated Percent'\n",
    "    column3 = 'Expected Percent'\n",
    "\n",
    "    print(\n",
    "        column1.ljust(6),\n",
    "        column2.rjust(20),\n",
    "        column3.rjust(20),\n",
    "        '\\n'\n",
    "    )\n",
    "    for number in range(2, 13):\n",
    "        sp = round(simulated_probability[number] * 100, 2)\n",
    "        tp = round(theoretical_probabilities[number] * 100, 2)\n",
    "        print(\n",
    "            str(number).ljust(6),\n",
    "            str(sp).rjust(20),\n",
    "            str(tp).rjust(20),\n",
    "        )\n",
    "\n",
    "simulate_two_dice(1000000)"
   ]
  }
 ],
 "metadata": {
  "jupytext": {
   "formats": "md:myst",
   "text_representation": {
    "extension": ".md",
    "format_name": "myst"
   }
  },
  "kernelspec": {
   "display_name": "Python 3",
   "language": "python",
   "name": "python3"
  },
  "language_info": {
   "codemirror_mode": {
    "name": "ipython",
    "version": 3
   },
   "file_extension": ".py",
   "mimetype": "text/x-python",
   "name": "python",
   "nbconvert_exporter": "python",
   "pygments_lexer": "ipython3",
   "version": "3.10.9"
  },
  "source_map": [
   11,
   18,
   34,
   40,
   85,
   104,
   176,
   182,
   190,
   215
  ]
 },
 "nbformat": 4,
 "nbformat_minor": 5
}