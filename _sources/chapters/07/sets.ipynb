{
 "cells": [
  {
   "cell_type": "markdown",
   "id": "e2bda0cf",
   "metadata": {},
   "source": [
    "# Sets\n",
    "\n",
    "- Formal mathematical sets\n",
    "- **Do not have duplicate values**\n",
    "- Are not ordered\n",
    "- Cannot access via index. \n",
    "- Useful for doing set operations\n",
    "- Can have different data types"
   ]
  },
  {
   "cell_type": "code",
   "execution_count": 1,
   "id": "ca00f765",
   "metadata": {},
   "outputs": [],
   "source": [
    "A = {0, 2, 4, 6, 8}\n",
    "B = {1, 2, 3, 4, 5}"
   ]
  },
  {
   "cell_type": "markdown",
   "id": "fdfe30b6",
   "metadata": {},
   "source": [
    "## Check if a value belongs"
   ]
  },
  {
   "cell_type": "code",
   "execution_count": 2,
   "id": "000675bf",
   "metadata": {},
   "outputs": [
    {
     "data": {
      "text/plain": [
       "True"
      ]
     },
     "execution_count": 2,
     "metadata": {},
     "output_type": "execute_result"
    }
   ],
   "source": [
    "2 in A"
   ]
  },
  {
   "cell_type": "markdown",
   "id": "ef07edb0",
   "metadata": {},
   "source": [
    "## Union -- all values"
   ]
  },
  {
   "cell_type": "code",
   "execution_count": 3,
   "id": "d6bf6635",
   "metadata": {},
   "outputs": [
    {
     "data": {
      "text/plain": [
       "{0, 1, 2, 3, 4, 5, 6, 8}"
      ]
     },
     "execution_count": 3,
     "metadata": {},
     "output_type": "execute_result"
    }
   ],
   "source": [
    "A | B"
   ]
  },
  {
   "cell_type": "markdown",
   "id": "f560b3f0",
   "metadata": {},
   "source": [
    "## Intersection -- shared values"
   ]
  },
  {
   "cell_type": "code",
   "execution_count": 4,
   "id": "d18b51bc",
   "metadata": {},
   "outputs": [
    {
     "data": {
      "text/plain": [
       "{2, 4}"
      ]
     },
     "execution_count": 4,
     "metadata": {},
     "output_type": "execute_result"
    }
   ],
   "source": [
    "A & B"
   ]
  },
  {
   "cell_type": "markdown",
   "id": "f749bdf0",
   "metadata": {},
   "source": [
    "## Difference -- order matters\n",
    "```python\n",
    "A - B\n",
    "B - A\n",
    "```\n",
    "\n",
    "## Check Subset"
   ]
  },
  {
   "cell_type": "code",
   "execution_count": 5,
   "id": "04f49092",
   "metadata": {},
   "outputs": [
    {
     "data": {
      "text/plain": [
       "True"
      ]
     },
     "execution_count": 5,
     "metadata": {},
     "output_type": "execute_result"
    }
   ],
   "source": [
    "A = {1, 2, 3, 4, 5}\n",
    "B = {3, 4}\n",
    "B < A"
   ]
  },
  {
   "cell_type": "code",
   "execution_count": 6,
   "id": "be68c3d1",
   "metadata": {},
   "outputs": [
    {
     "data": {
      "text/plain": [
       "True"
      ]
     },
     "execution_count": 6,
     "metadata": {},
     "output_type": "execute_result"
    }
   ],
   "source": [
    "A = {1, 2, 3, 4, 5}\n",
    "B = {3, 4}\n",
    "B <= A"
   ]
  },
  {
   "cell_type": "code",
   "execution_count": 7,
   "id": "b73cd096",
   "metadata": {},
   "outputs": [
    {
     "data": {
      "text/plain": [
       "False"
      ]
     },
     "execution_count": 7,
     "metadata": {},
     "output_type": "execute_result"
    }
   ],
   "source": [
    "A = {1, 2, 3, 4, 5}\n",
    "B = {3, 4}\n",
    "B > A"
   ]
  },
  {
   "cell_type": "markdown",
   "id": "3028123f",
   "metadata": {},
   "source": [
    "## Adding a single element"
   ]
  },
  {
   "cell_type": "code",
   "execution_count": 8,
   "id": "965b4288",
   "metadata": {},
   "outputs": [
    {
     "name": "stdout",
     "output_type": "stream",
     "text": [
      "{1, 2, 3, 4, 5, 6}\n"
     ]
    }
   ],
   "source": [
    "A = {1, 2, 3, 4, 5}\n",
    "A.add(6)\n",
    "print(A)"
   ]
  },
  {
   "cell_type": "code",
   "execution_count": 9,
   "id": "1d2450df",
   "metadata": {},
   "outputs": [
    {
     "name": "stdout",
     "output_type": "stream",
     "text": [
      "{1, 2, 3, 4, 5}\n"
     ]
    }
   ],
   "source": [
    "A = {1, 2, 3, 4, 5}\n",
    "A.add(1)\n",
    "print(A)"
   ]
  },
  {
   "cell_type": "markdown",
   "id": "18db50f2",
   "metadata": {},
   "source": [
    "## Removing an element\n",
    "- Three ways\n",
    "\n",
    "### Discard \n",
    "- Will **NOT** raise an error if the element being remove is not in set."
   ]
  },
  {
   "cell_type": "code",
   "execution_count": 10,
   "id": "d8db28c3",
   "metadata": {},
   "outputs": [
    {
     "name": "stdout",
     "output_type": "stream",
     "text": [
      "{2, 3, 4, 5}\n"
     ]
    }
   ],
   "source": [
    "A = {1, 2, 3, 4, 5}\n",
    "A.discard(1)\n",
    "print(A)\n",
    "A.discard('P')"
   ]
  },
  {
   "cell_type": "markdown",
   "id": "6a087984",
   "metadata": {},
   "source": [
    "### Remove \n",
    "- Will raise an error if the element being remove is not in set."
   ]
  },
  {
   "cell_type": "code",
   "execution_count": 11,
   "id": "c2e658dd",
   "metadata": {},
   "outputs": [
    {
     "name": "stdout",
     "output_type": "stream",
     "text": [
      "{2, 3, 4, 5}\n"
     ]
    }
   ],
   "source": [
    "A = {1, 2, 3, 4, 5}\n",
    "A.remove(1)\n",
    "print(A)\n",
    "A.discard('P')"
   ]
  },
  {
   "cell_type": "markdown",
   "id": "9ca13e3d",
   "metadata": {},
   "source": [
    "### Pop \n",
    "- Will remove an element"
   ]
  },
  {
   "cell_type": "code",
   "execution_count": 12,
   "id": "f46e3d21",
   "metadata": {},
   "outputs": [
    {
     "data": {
      "text/plain": [
       "1"
      ]
     },
     "execution_count": 12,
     "metadata": {},
     "output_type": "execute_result"
    }
   ],
   "source": [
    "A = {1, 2, 3, 4, 5}\n",
    "A.pop()"
   ]
  },
  {
   "cell_type": "markdown",
   "id": "f9458f54",
   "metadata": {},
   "source": [
    "## Checking if multiple dictionary keys exist"
   ]
  },
  {
   "cell_type": "code",
   "execution_count": 13,
   "id": "b3d47595",
   "metadata": {},
   "outputs": [
    {
     "data": {
      "text/plain": [
       "{'b', 'd'}"
      ]
     },
     "execution_count": 13,
     "metadata": {},
     "output_type": "execute_result"
    }
   ],
   "source": [
    "d1 = dict(a=1, b=2, c=3, d=4)\n",
    "d2 = dict(b=20, d=40, e=50)\n",
    "d1.keys() & d2.keys() # this works because dict.keys() returns \"set-like\" view rather than a list\n",
    "{'b', 'd'}"
   ]
  },
  {
   "cell_type": "code",
   "execution_count": 14,
   "id": "014e3520",
   "metadata": {},
   "outputs": [
    {
     "data": {
      "text/plain": [
       "True"
      ]
     },
     "execution_count": 14,
     "metadata": {},
     "output_type": "execute_result"
    }
   ],
   "source": [
    "d1 = dict(a=1, b=2, c=3, d=4)\n",
    "d2 = dict(b=20, d=40, e=50)\n",
    "d1.keys() <= {'a', 'b', 'c', 'd'}"
   ]
  },
  {
   "cell_type": "markdown",
   "id": "54920e64",
   "metadata": {},
   "source": [
    "## Symmetric difference  \n",
    "https://en.wikipedia.org/wiki/Symmetric_difference"
   ]
  },
  {
   "cell_type": "code",
   "execution_count": 15,
   "id": "08c88223",
   "metadata": {},
   "outputs": [
    {
     "data": {
      "text/plain": [
       "{1, 2, 5}"
      ]
     },
     "execution_count": 15,
     "metadata": {},
     "output_type": "execute_result"
    }
   ],
   "source": [
    "A = {1, 2, 3, 4, 5}\n",
    "B = {3, 4}\n",
    "A ^ B"
   ]
  }
 ],
 "metadata": {
  "jupytext": {
   "formats": "md:myst",
   "text_representation": {
    "extension": ".md",
    "format_name": "myst"
   }
  },
  "kernelspec": {
   "display_name": "Python 3",
   "language": "python",
   "name": "python3"
  },
  "language_info": {
   "codemirror_mode": {
    "name": "ipython",
    "version": 3
   },
   "file_extension": ".py",
   "mimetype": "text/x-python",
   "name": "python",
   "nbconvert_exporter": "python",
   "pygments_lexer": "ipython3",
   "version": "3.10.9"
  },
  "source_map": [
   11,
   22,
   25,
   28,
   30,
   33,
   35,
   37,
   39,
   49,
   55,
   61,
   65,
   69,
   75,
   79,
   87,
   92,
   97,
   102,
   108,
   111,
   115,
   123,
   127,
   134
  ]
 },
 "nbformat": 4,
 "nbformat_minor": 5
}