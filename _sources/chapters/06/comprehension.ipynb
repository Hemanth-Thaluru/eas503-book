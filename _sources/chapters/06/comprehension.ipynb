{
 "cells": [
  {
   "cell_type": "markdown",
   "id": "c4221d2b",
   "metadata": {},
   "source": [
    "# Comprehension\n",
    "\n",
    "## List Comprehension\n",
    "\n",
    "- Unique to Python\n",
    "- Three variations\n",
    "\n",
    "```python\n",
    "[ f(ele) for ele in sequence ]\n",
    "\n",
    "[ f(ele) for ele in sequence if condition ]\n",
    "\n",
    "[ f(ele) if condition else g(ele) for ele in sequence ]\n",
    "\n",
    "```\n",
    "\n",
    "\n",
    "## Tuple Comprehension\n",
    "- Tuple Comprehension returns a generator\n",
    "- Generators generate one-time use values\n",
    "\n",
    "```python\n",
    "( f(ele) for ele in sequence )\n",
    "\n",
    "( f(ele) for ele in sequence if condition )\n",
    "\n",
    "( f(ele) if condition else g(ele) for ele in sequence )\n",
    "\n",
    "```"
   ]
  }
 ],
 "metadata": {
  "jupytext": {
   "formats": "md:myst",
   "text_representation": {
    "extension": ".md",
    "format_name": "myst"
   }
  },
  "kernelspec": {
   "display_name": "Python 3",
   "language": "python",
   "name": "python3"
  },
  "language_info": {
   "codemirror_mode": {
    "name": "ipython",
    "version": 3
   },
   "file_extension": ".py",
   "mimetype": "text/x-python",
   "name": "python",
   "nbconvert_exporter": "python",
   "pygments_lexer": "ipython3",
   "version": "3.10.9"
  },
  "source_map": [
   11
  ]
 },
 "nbformat": 4,
 "nbformat_minor": 5
}