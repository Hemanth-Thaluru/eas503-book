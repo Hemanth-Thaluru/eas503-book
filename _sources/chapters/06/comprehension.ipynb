{
 "cells": [
  {
   "cell_type": "markdown",
   "id": "2ef3a6e1",
   "metadata": {},
   "source": [
    "# Comprehension\n",
    "\n",
    "## List Comprehension\n",
    "\n",
    "- Unique to Python\n",
    "- Three variations\n",
    "\n",
    "```python\n",
    "[ f(ele) for ele in sequence ]\n",
    "\n",
    "[ f(ele) for ele in sequence if condition ]\n",
    "\n",
    "[ f(ele) if condition else g(ele) for ele in sequence ]\n",
    "\n",
    "```\n",
    "\n",
    "\n",
    "## Tuple Comprehension\n",
    "- Tuple Comprehension returns a generator\n",
    "- Generators generate one-time use values\n",
    "\n",
    "```python\n",
    "( f(ele) for ele in sequence )\n",
    "\n",
    "( f(ele) for ele in sequence if condition )\n",
    "\n",
    "( f(ele) if condition else g(ele) for ele in sequence )\n",
    "\n",
    "```\n",
    "\n",
    "\n",
    "## List Comprehension Exercises \n",
    "\n",
    "## Exercise 1\n",
    "Re-write the following code to use List Comprehension"
   ]
  },
  {
   "cell_type": "code",
   "execution_count": 1,
   "id": "a1595e6f",
   "metadata": {
    "tags": [
     "hide-input",
     "output_scroll"
    ]
   },
   "outputs": [],
   "source": [
    "my_list = [1, 2, 3]\n",
    "new_list = []\n",
    "for ele in my_list:\n",
    "    tmp = ele * ele\n",
    "    new_list.append(tmp)\n",
    "new_list = [ele*ele for ele in my_list]"
   ]
  },
  {
   "cell_type": "markdown",
   "id": "72c8f061",
   "metadata": {},
   "source": [
    "## Exercise 2\n",
    "Re-write the following code to use List Comprehension\n",
    "Multiply each number by 10"
   ]
  },
  {
   "cell_type": "code",
   "execution_count": 2,
   "id": "7c1d6919",
   "metadata": {
    "tags": [
     "hide-input",
     "output_scroll"
    ]
   },
   "outputs": [],
   "source": [
    "my_list = [1, 2, 3]\n",
    "new_list = []\n",
    "for ele in my_list:\n",
    "    tmp = ele * 10\n",
    "    new_list.append(tmp)\n",
    "new_list = [ele*10 for ele in my_list]"
   ]
  },
  {
   "cell_type": "markdown",
   "id": "e8b6f19d",
   "metadata": {},
   "source": [
    "## Exercise 3\n",
    "Upper case each letter in animal variable"
   ]
  },
  {
   "cell_type": "code",
   "execution_count": 3,
   "id": "71319360",
   "metadata": {
    "tags": [
     "hide-input",
     "output_scroll"
    ]
   },
   "outputs": [
    {
     "data": {
      "text/plain": [
       "['B', 'U', 'F', 'F', 'A', 'L', 'O']"
      ]
     },
     "execution_count": 3,
     "metadata": {},
     "output_type": "execute_result"
    }
   ],
   "source": [
    "animal = 'buffalo'\n",
    "[char.upper() for char in animal]"
   ]
  },
  {
   "cell_type": "markdown",
   "id": "ce16d8c7",
   "metadata": {},
   "source": [
    "## Exercise 4\n",
    "Title each name in the student list"
   ]
  },
  {
   "cell_type": "code",
   "execution_count": 4,
   "id": "858273e9",
   "metadata": {
    "tags": [
     "hide-input",
     "output_scroll"
    ]
   },
   "outputs": [
    {
     "data": {
      "text/plain": [
       "['John', 'Jane', 'Doe']"
      ]
     },
     "execution_count": 4,
     "metadata": {},
     "output_type": "execute_result"
    }
   ],
   "source": [
    "students = ['john', 'jane', 'doe']\n",
    "[student[0].upper()+student[1:] for student in students]"
   ]
  },
  {
   "cell_type": "markdown",
   "id": "41715664",
   "metadata": {},
   "source": [
    "## Exercise 5\n",
    "Use list comprehension to get the Truthiness of each element in `my_list`"
   ]
  },
  {
   "cell_type": "code",
   "execution_count": 5,
   "id": "86b4099a",
   "metadata": {
    "tags": [
     "hide-input",
     "output_scroll"
    ]
   },
   "outputs": [
    {
     "data": {
      "text/plain": [
       "[False, False, False]"
      ]
     },
     "execution_count": 5,
     "metadata": {},
     "output_type": "execute_result"
    }
   ],
   "source": [
    "my_list = [0, '', []]\n",
    "[bool(ele) for ele in my_list]"
   ]
  },
  {
   "cell_type": "markdown",
   "id": "c10a652c",
   "metadata": {},
   "source": [
    "## Exercise 6\n",
    "Convert each element of my_list to str using list comprehension"
   ]
  },
  {
   "cell_type": "code",
   "execution_count": 6,
   "id": "2f5b4d61",
   "metadata": {
    "tags": [
     "hide-input",
     "output_scroll"
    ]
   },
   "outputs": [
    {
     "data": {
      "text/plain": [
       "['0', '1', '2', '3', '4', '5']"
      ]
     },
     "execution_count": 6,
     "metadata": {},
     "output_type": "execute_result"
    }
   ],
   "source": [
    "my_list = range(6)\n",
    "[str(element) for element in my_list]"
   ]
  },
  {
   "cell_type": "markdown",
   "id": "2e1e5929",
   "metadata": {},
   "source": [
    "## Exercise 7\n",
    "Use list comprehension to reduce a list of numbers to just even or odd"
   ]
  },
  {
   "cell_type": "code",
   "execution_count": 7,
   "id": "3ce11aad",
   "metadata": {
    "tags": [
     "hide-input",
     "output_scroll"
    ]
   },
   "outputs": [],
   "source": [
    "numbers = range(20)\n",
    "even = [number for number in numbers if number % 2 == 0 ]\n",
    "odd = [number for number in numbers if number % 2 != 0 ]"
   ]
  },
  {
   "cell_type": "markdown",
   "id": "4a8abef2",
   "metadata": {},
   "source": [
    "## Exercise 8\n",
    "Use list comprehension to modify a list of numbers such that evens are left as is\n",
    "and the odds are raised to the three power"
   ]
  },
  {
   "cell_type": "code",
   "execution_count": 8,
   "id": "58453af8",
   "metadata": {
    "tags": [
     "hide-input",
     "output_scroll"
    ]
   },
   "outputs": [
    {
     "data": {
      "text/plain": [
       "[0, 1, 2, 27, 4, 125, 6, 343, 8, 729]"
      ]
     },
     "execution_count": 8,
     "metadata": {},
     "output_type": "execute_result"
    }
   ],
   "source": [
    "numbers = range(10)\n",
    "[number if number % 2 == 0 else number**3 for number in range(10)]"
   ]
  },
  {
   "cell_type": "markdown",
   "id": "0b442b55",
   "metadata": {},
   "source": [
    "## Exercise 9\n",
    "Use list comprehension to remove vowels from a sentence"
   ]
  },
  {
   "cell_type": "code",
   "execution_count": 9,
   "id": "06aaa89c",
   "metadata": {
    "tags": [
     "hide-input",
     "output_scroll"
    ]
   },
   "outputs": [
    {
     "data": {
      "text/plain": [
       "' rlly w  g  wrk'"
      ]
     },
     "execution_count": 9,
     "metadata": {},
     "output_type": "execute_result"
    }
   ],
   "source": [
    "sentence = 'I rEAlly want to gO to work'\n",
    "''.join([char for char in sentence if char.lower() not in 'aeiou' and char.lower() not in 'nt'])"
   ]
  }
 ],
 "metadata": {
  "jupytext": {
   "formats": "md:myst",
   "text_representation": {
    "extension": ".md",
    "format_name": "myst"
   }
  },
  "kernelspec": {
   "display_name": "Python 3",
   "language": "python",
   "name": "python3"
  },
  "language_info": {
   "codemirror_mode": {
    "name": "ipython",
    "version": 3
   },
   "file_extension": ".py",
   "mimetype": "text/x-python",
   "name": "python",
   "nbconvert_exporter": "python",
   "pygments_lexer": "ipython3",
   "version": "3.10.9"
  },
  "source_map": [
   11,
   48,
   56,
   62,
   70,
   75,
   79,
   84,
   88,
   93,
   97,
   101,
   105,
   109,
   114,
   120,
   124,
   129
  ]
 },
 "nbformat": 4,
 "nbformat_minor": 5
}