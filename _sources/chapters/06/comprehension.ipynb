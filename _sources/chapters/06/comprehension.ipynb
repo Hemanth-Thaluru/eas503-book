{
 "cells": [
  {
   "cell_type": "markdown",
   "id": "0d779b6f",
   "metadata": {},
   "source": [
    "- [Video Recording (10 minutes)](https://ub.hosted.panopto.com/Panopto/Pages/Viewer.aspx?id=03d72d47-5c45-4273-b59e-afa9005ee0dc)\n",
    "- [Jupyter Notebook](https://github.com/mkzia/eas503-book-notes/blob/main/06/comprehension.ipynb)\n",
    "\n",
    "\n",
    "# Comprehension\n",
    "\n",
    "## List Comprehension\n",
    "\n",
    "- Unique to Python\n",
    "- Three variations\n",
    "\n",
    "```python\n",
    "[ f(ele) for ele in sequence ]\n",
    "\n",
    "[ f(ele) for ele in sequence if condition ]\n",
    "\n",
    "[ f(ele) if condition else g(ele) for ele in sequence ]\n",
    "\n",
    "[ f(ele) for ele in sequence if condition1 and condition2]\n",
    "\n",
    "```\n",
    "\n",
    "\n",
    "## Tuple Comprehension\n",
    "- Tuple Comprehension returns a generator\n",
    "- Generators generate one-time use values\n",
    "\n",
    "```python\n",
    "( f(ele) for ele in sequence )\n",
    "\n",
    "( f(ele) for ele in sequence if condition )\n",
    "\n",
    "( f(ele) if condition else g(ele) for ele in sequence )\n",
    "\n",
    "```\n",
    "\n",
    "\n",
    "## List Comprehension Exercises \n",
    "\n",
    "## Exercise 1\n",
    "Re-write the following code to use List Comprehension\n",
    "\n",
    "```python\n",
    "my_list = [1, 2, 3]\n",
    "new_list = []\n",
    "for ele in my_list:\n",
    "    tmp = ele * ele\n",
    "    new_list.append(tmp)\n",
    "```"
   ]
  },
  {
   "cell_type": "code",
   "execution_count": 1,
   "id": "2a8c8a3f",
   "metadata": {
    "tags": [
     "hide-input",
     "output_scroll"
    ]
   },
   "outputs": [],
   "source": [
    "my_list = [1, 2, 3]\n",
    "new_list = []\n",
    "for ele in my_list:\n",
    "    tmp = ele * ele\n",
    "    new_list.append(tmp)\n",
    "new_list = [ele*ele for ele in my_list]"
   ]
  },
  {
   "cell_type": "markdown",
   "id": "63fd8a5d",
   "metadata": {},
   "source": [
    "## Exercise 2\n",
    "Re-write the following code to use List Comprehension\n",
    "Multiply each number by 10\n",
    "\n",
    "```python\n",
    "my_list = [1, 2, 3]\n",
    "new_list = []\n",
    "for ele in my_list:\n",
    "    tmp = ele * 10\n",
    "    new_list.append(tmp)\n",
    "```"
   ]
  },
  {
   "cell_type": "code",
   "execution_count": 2,
   "id": "767c312f",
   "metadata": {
    "tags": [
     "hide-input",
     "output_scroll"
    ]
   },
   "outputs": [],
   "source": [
    "my_list = [1, 2, 3]\n",
    "new_list = []\n",
    "for ele in my_list:\n",
    "    tmp = ele * 10\n",
    "    new_list.append(tmp)\n",
    "new_list = [ele*10 for ele in my_list]"
   ]
  },
  {
   "cell_type": "markdown",
   "id": "41676cd5",
   "metadata": {},
   "source": [
    "## Exercise 3\n",
    "Upper case each letter in animal variable\n",
    "\n",
    "```python\n",
    "animal = 'buffalo'\n",
    "```"
   ]
  },
  {
   "cell_type": "code",
   "execution_count": 3,
   "id": "960652e1",
   "metadata": {
    "tags": [
     "hide-input",
     "output_scroll"
    ]
   },
   "outputs": [
    {
     "data": {
      "text/plain": [
       "['B', 'U', 'F', 'F', 'A', 'L', 'O']"
      ]
     },
     "execution_count": 3,
     "metadata": {},
     "output_type": "execute_result"
    }
   ],
   "source": [
    "animal = 'buffalo'\n",
    "[char.upper() for char in animal]"
   ]
  },
  {
   "cell_type": "markdown",
   "id": "4bc6f030",
   "metadata": {},
   "source": [
    "## Exercise 4\n",
    "Title each name in the student list\n",
    "\n",
    "```python\n",
    "students = ['john', 'jane', 'doe']\n",
    "```"
   ]
  },
  {
   "cell_type": "code",
   "execution_count": 4,
   "id": "2ad7b470",
   "metadata": {
    "tags": [
     "hide-input",
     "output_scroll"
    ]
   },
   "outputs": [
    {
     "name": "stdout",
     "output_type": "stream",
     "text": [
      "['John', 'Jane', 'Doe']\n"
     ]
    }
   ],
   "source": [
    "students = ['john', 'jane', 'doe']\n",
    "[student[0].upper()+student[1:] for student in students]\n",
    "students = ['john', 'jane', 'doe']\n",
    "print([student.title() for student in students])"
   ]
  },
  {
   "cell_type": "markdown",
   "id": "61c964a8",
   "metadata": {},
   "source": [
    "## Exercise 5\n",
    "Use list comprehension to get the Truthiness of each element in `my_list`\n",
    "\n",
    "```python\n",
    "my_list = [0, '', []]\n",
    "```"
   ]
  },
  {
   "cell_type": "code",
   "execution_count": 5,
   "id": "42e225c0",
   "metadata": {
    "tags": [
     "hide-input",
     "output_scroll"
    ]
   },
   "outputs": [
    {
     "data": {
      "text/plain": [
       "[False, False, False]"
      ]
     },
     "execution_count": 5,
     "metadata": {},
     "output_type": "execute_result"
    }
   ],
   "source": [
    "my_list = [0, '', []]\n",
    "[bool(ele) for ele in my_list]"
   ]
  },
  {
   "cell_type": "markdown",
   "id": "452d0638",
   "metadata": {},
   "source": [
    "## Exercise 6\n",
    "Convert each element of my_list to str using list comprehension\n",
    "\n",
    "```python\n",
    "my_list = range(6)\n",
    "```"
   ]
  },
  {
   "cell_type": "code",
   "execution_count": 6,
   "id": "8377b39f",
   "metadata": {
    "tags": [
     "hide-input",
     "output_scroll"
    ]
   },
   "outputs": [
    {
     "data": {
      "text/plain": [
       "['0', '1', '2', '3', '4', '5']"
      ]
     },
     "execution_count": 6,
     "metadata": {},
     "output_type": "execute_result"
    }
   ],
   "source": [
    "my_list = range(6)\n",
    "[str(element) for element in my_list]"
   ]
  },
  {
   "cell_type": "markdown",
   "id": "17c85021",
   "metadata": {},
   "source": [
    "## Exercise 7\n",
    "Use list comprehension to reduce a list of numbers to just even or odd\n",
    "\n",
    "```python\n",
    "numbers = range(20)\n",
    "```"
   ]
  },
  {
   "cell_type": "code",
   "execution_count": 7,
   "id": "e3fabd2b",
   "metadata": {
    "tags": [
     "hide-input",
     "output_scroll"
    ]
   },
   "outputs": [],
   "source": [
    "numbers = range(20)\n",
    "even = [number for number in numbers if number % 2 == 0 ]\n",
    "odd = [number for number in numbers if number % 2 != 0 ]"
   ]
  },
  {
   "cell_type": "markdown",
   "id": "19ff4cf8",
   "metadata": {},
   "source": [
    "## Exercise 8\n",
    "Use list comprehension to modify a list of numbers such that evens are left as is\n",
    "and the odds are raised to the three power\n",
    "\n",
    "```python\n",
    "numbers = range(10)\n",
    "```"
   ]
  },
  {
   "cell_type": "code",
   "execution_count": 8,
   "id": "4afbdf7e",
   "metadata": {
    "tags": [
     "hide-input",
     "output_scroll"
    ]
   },
   "outputs": [
    {
     "data": {
      "text/plain": [
       "[0, 1, 2, 27, 4, 125, 6, 343, 8, 729]"
      ]
     },
     "execution_count": 8,
     "metadata": {},
     "output_type": "execute_result"
    }
   ],
   "source": [
    "numbers = range(10)\n",
    "[number if number % 2 == 0 else number**3 for number in range(10)]"
   ]
  },
  {
   "cell_type": "markdown",
   "id": "1f3ec5f9",
   "metadata": {},
   "source": [
    "## Exercise 9\n",
    "Use list comprehension to remove vowels from a sentence\n",
    "\n",
    "```python\n",
    "sentence = 'I rEAlly want to gO to work'\n",
    "```"
   ]
  },
  {
   "cell_type": "code",
   "execution_count": 9,
   "id": "4d041ba8",
   "metadata": {
    "tags": [
     "hide-input",
     "output_scroll"
    ]
   },
   "outputs": [
    {
     "data": {
      "text/plain": [
       "' rlly wnt t g t wrk'"
      ]
     },
     "execution_count": 9,
     "metadata": {},
     "output_type": "execute_result"
    }
   ],
   "source": [
    "sentence = 'I rEAlly want to gO to work'\n",
    "''.join([char for char in sentence if char.lower() not in 'aeiou'])"
   ]
  }
 ],
 "metadata": {
  "jupytext": {
   "formats": "md:myst",
   "text_representation": {
    "extension": ".md",
    "format_name": "myst"
   }
  },
  "kernelspec": {
   "display_name": "Python 3",
   "language": "python",
   "name": "python3"
  },
  "language_info": {
   "codemirror_mode": {
    "name": "ipython",
    "version": 3
   },
   "file_extension": ".py",
   "mimetype": "text/x-python",
   "name": "python",
   "nbconvert_exporter": "python",
   "pygments_lexer": "ipython3",
   "version": "3.10.9"
  },
  "source_map": [
   11,
   64,
   72,
   87,
   95,
   104,
   108,
   117,
   123,
   133,
   137,
   147,
   151,
   160,
   165,
   176,
   180,
   189
  ]
 },
 "nbformat": 4,
 "nbformat_minor": 5
}