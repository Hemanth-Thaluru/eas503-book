{
 "cells": [
  {
   "cell_type": "markdown",
   "id": "ae7dc806",
   "metadata": {},
   "source": [
    "- [Video Recording (6 minutes)](https://ub.hosted.panopto.com/Panopto/Pages/Viewer.aspx?id=8565faac-b14c-4a27-ba89-afa9005ee11c)\n",
    "- [Jupyter Notebook](https://github.com/mkzia/eas503-book-notes/blob/main/06/modify_exercises.ipynb)\n",
    "\n",
    "\n",
    "\n",
    "# Modify Loop Exercises\n",
    "\n",
    "## Exercise 1\n",
    "Write a function that prints from 1 to n using a for loop, it should skip every multiple of 5."
   ]
  },
  {
   "cell_type": "code",
   "execution_count": 1,
   "id": "45503b30",
   "metadata": {
    "tags": [
     "hide-input",
     "output_scroll"
    ]
   },
   "outputs": [],
   "source": [
    "def modify_loop_ex1(n):\n",
    "    for number in range(n):\n",
    "\n",
    "        if number % 5 == 0:\n",
    "            print('Skipping:', number)\n",
    "            continue\n",
    "\n",
    "        print(number)"
   ]
  },
  {
   "cell_type": "markdown",
   "id": "b87be79d",
   "metadata": {},
   "source": [
    "## Exercise 2\n",
    "Write a function that prints from 1 to n squared using a while loop. It should stop the while loop if the iteration count is 50."
   ]
  },
  {
   "cell_type": "code",
   "execution_count": 2,
   "id": "5b3dba37",
   "metadata": {
    "tags": [
     "hide-input",
     "output_scroll"
    ]
   },
   "outputs": [],
   "source": [
    "def modify_loop_ex2(n):\n",
    "\n",
    "    iteration_count = 0\n",
    "    number = 1\n",
    "    while number <= n:\n",
    "\n",
    "        if number == 50:\n",
    "            break\n",
    "\n",
    "        print(number)\n",
    "        number += 1\n",
    "        iteration_count += 1"
   ]
  },
  {
   "cell_type": "markdown",
   "id": "e03b1e74",
   "metadata": {},
   "source": [
    "## Exercise 3\n",
    "Write a function that reads numbers from a file and prints their average. Skip empty lines. Use `modify_loop_ex3_data.txt`"
   ]
  },
  {
   "cell_type": "code",
   "execution_count": 3,
   "id": "4c52c1ee",
   "metadata": {
    "tags": [
     "hide-input",
     "output_scroll"
    ]
   },
   "outputs": [],
   "source": [
    "def modify_loop_ex3(filename):\n",
    "\n",
    "    numbers = []\n",
    "    with open(filename) as file:\n",
    "        for line in file:\n",
    "            if not line.strip():\n",
    "                continue\n",
    "\n",
    "            numbers.append(float(line))\n",
    "\n",
    "    print(round(sum(numbers)/len(numbers),2))"
   ]
  }
 ],
 "metadata": {
  "jupytext": {
   "formats": "md:myst",
   "text_representation": {
    "extension": ".md",
    "format_name": "myst"
   }
  },
  "kernelspec": {
   "display_name": "Python 3",
   "language": "python",
   "name": "python3"
  },
  "language_info": {
   "codemirror_mode": {
    "name": "ipython",
    "version": 3
   },
   "file_extension": ".py",
   "mimetype": "text/x-python",
   "name": "python",
   "nbconvert_exporter": "python",
   "pygments_lexer": "ipython3",
   "version": "3.10.9"
  },
  "source_map": [
   11,
   23,
   34,
   39,
   53,
   58
  ]
 },
 "nbformat": 4,
 "nbformat_minor": 5
}