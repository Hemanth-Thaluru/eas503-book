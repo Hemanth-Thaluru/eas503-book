{
 "cells": [
  {
   "cell_type": "markdown",
   "id": "09b70fef",
   "metadata": {},
   "source": [
    "# Additional Exercises\n",
    "\n",
    "\n",
    "## Exercise 1\n",
    "Write a function called `get_unique_nationalities()` that finds the unique nationalities from 'soccer_players_statistics.csv'."
   ]
  },
  {
   "cell_type": "code",
   "execution_count": 1,
   "id": "5df1a69e",
   "metadata": {
    "tags": [
     "hide-input",
     "output_scroll"
    ]
   },
   "outputs": [
    {
     "name": "stdout",
     "output_type": "stream",
     "text": [
      "['Afghanistan', 'Albania', 'Algeria', 'Angola', 'Antigua & Barbuda', 'Argentina', 'Armenia', 'Aruba', 'Australia', 'Austria', 'Azerbaijan', 'Barbados', 'Belarus', 'Belgium', 'Belize', 'Benin', 'Bermuda', 'Bolivia', 'Bosnia Herzegovina', 'Brazil', 'Bulgaria', 'Burkina Faso', 'Cameroon', 'Canada', 'Cape Verde', 'Central African Rep.', 'Chad', 'Chile', 'China PR', 'Chinese Taipei', 'Colombia', 'Comoros', 'Congo', 'Costa Rica', 'Croatia', 'Cuba', 'Curacao', 'Cyprus', 'Czech Republic', 'DR Congo', 'Denmark', 'Dominican Republic', 'Ecuador', 'Egypt', 'El Salvador', 'England', 'Equatorial Guinea', 'Eritrea', 'Estonia', 'FIFA16_NationName_215', 'FYR Macedonia', 'Faroe Islands', 'Fiji', 'Finland', 'France', 'Gabon', 'Gambia', 'Georgia', 'Germany', 'Ghana', 'Gibraltar', 'Greece', 'Grenada', 'Guam', 'Guatemala', 'Guinea', 'Guinea Bissau', 'Guyana', 'Haiti', 'Honduras', 'Hungary', 'Iceland', 'India', 'Iran', 'Iraq', 'Israel', 'Italy', 'Ivory Coast', 'Jamaica', 'Japan', 'Kazakhstan', 'Kenya', 'Korea DPR', 'Korea Republic', 'Kosovo', 'Kuwait', 'Latvia', 'Lebanon', 'Lesotho', 'Liberia', 'Libya', 'Liechtenstein', 'Lithuania', 'Luxembourg', 'Madagascar', 'Mali', 'Malta', 'Mauritania', 'Mauritius', 'Mexico', 'Moldova', 'Montenegro', 'Montserrat', 'Morocco', 'Mozambique', 'Namibia', 'Netherlands', 'New Zealand', 'Niger', 'Nigeria', 'Northern Ireland', 'Norway', 'Oman', 'Pakistan', 'Palestine', 'Panama', 'Papua New Guinea', 'Paraguay', 'Peru', 'Philippines', 'Poland', 'Portugal', 'Puerto Rico', 'Qatar', 'Republic of Ireland', 'Romania', 'Russia', 'San Marino', 'Saudi Arabia', 'Scotland', 'Senegal', 'Serbia', 'Sierra Leone', 'Slovakia', 'Slovenia', 'Somalia', 'South Africa', 'Spain', 'St Kitts Nevis', 'St Lucia', 'Suriname', 'Sweden', 'Switzerland', 'Syria', 'São Tomé & Príncipe', 'Tanzania', 'Timor-Leste', 'Togo', 'Trinidad & Tobago', 'Tunisia', 'Turkey', 'Uganda', 'Ukraine', 'United States', 'Uruguay', 'Uzbekistan', 'Venezuela', 'Wales', 'Zambia', 'Zimbabwe']\n"
     ]
    }
   ],
   "source": [
    "def sum_list(input_list):\n",
    "    summed_values = 0\n",
    "    for value in input_list:\n",
    "        summed_values += value\n",
    "\n",
    "    return summed_values\n",
    "\n",
    "\n",
    "def get_unique_nationalities():\n",
    "    header = None\n",
    "    unique_nationalities = []\n",
    "    with open('soccer_players_statistics.csv', encoding=\"utf-8\") as file:\n",
    "        for line in file:\n",
    "\n",
    "            if not line.strip():\n",
    "                continue\n",
    "\n",
    "            if not header:\n",
    "                header = line.strip().split(',')\n",
    "                continue\n",
    "\n",
    "            line = line.strip().split(',')\n",
    "\n",
    "            nationality = line[1]\n",
    "            if nationality not in unique_nationalities:\n",
    "                unique_nationalities.append(nationality)\n",
    "                \n",
    "    \n",
    "    unique_nationalities.sort()\n",
    "    \n",
    "    return unique_nationalities\n",
    "        \n",
    "print(get_unique_nationalities())"
   ]
  },
  {
   "cell_type": "markdown",
   "id": "09a66eec",
   "metadata": {},
   "source": [
    "## Exercise 2\n",
    "Write a function called `get_unique_values_by_column_name(column_name)` that finds the unique values for any column in 'soccer_players_statistics.csv'."
   ]
  },
  {
   "cell_type": "code",
   "execution_count": 2,
   "id": "aedef8ba",
   "metadata": {
    "tags": [
     "hide-input",
     "output_scroll"
    ]
   },
   "outputs": [
    {
     "data": {
      "text/plain": [
       "['45',\n",
       " '46',\n",
       " '47',\n",
       " '48',\n",
       " '49',\n",
       " '50',\n",
       " '51',\n",
       " '52',\n",
       " '53',\n",
       " '54',\n",
       " '55',\n",
       " '56',\n",
       " '57',\n",
       " '58',\n",
       " '59',\n",
       " '60',\n",
       " '61',\n",
       " '62',\n",
       " '63',\n",
       " '64',\n",
       " '65',\n",
       " '66',\n",
       " '67',\n",
       " '68',\n",
       " '69',\n",
       " '70',\n",
       " '71',\n",
       " '72',\n",
       " '73',\n",
       " '74',\n",
       " '75',\n",
       " '76',\n",
       " '77',\n",
       " '78',\n",
       " '79',\n",
       " '80',\n",
       " '81',\n",
       " '82',\n",
       " '83',\n",
       " '84',\n",
       " '85',\n",
       " '86',\n",
       " '87',\n",
       " '88',\n",
       " '89',\n",
       " '90',\n",
       " '92',\n",
       " '93',\n",
       " '94']"
      ]
     },
     "execution_count": 2,
     "metadata": {},
     "output_type": "execute_result"
    }
   ],
   "source": [
    "def get_unique_values_by_column_name(column_name):\n",
    "    header = None\n",
    "    unique_values = []\n",
    "    with open('soccer_players_statistics.csv', encoding=\"utf-8\") as file:\n",
    "        for line in file:\n",
    "\n",
    "            if not line.strip():\n",
    "                continue\n",
    "\n",
    "            if not header:\n",
    "                header = line.strip().split(',')\n",
    "                try:\n",
    "                    column_index = header.index(column_name)\n",
    "                except:\n",
    "                    print(f'Column Name {column_name} not found!')\n",
    "                    return False\n",
    "                continue\n",
    "\n",
    "            line = line.strip().split(',')\n",
    "\n",
    "            value = line[column_index]\n",
    "            if value and value not in unique_values:\n",
    "                unique_values.append(value)\n",
    "                \n",
    "    \n",
    "    unique_values.sort()\n",
    "    \n",
    "    return unique_values\n",
    "        \n",
    "get_unique_values_by_column_name('Rating')"
   ]
  },
  {
   "cell_type": "markdown",
   "id": "4a8a8cc6",
   "metadata": {},
   "source": [
    "## Exercise 4\n",
    "Write a function called `stats(column_name)` that finds the min, max, and mean for a given column name."
   ]
  },
  {
   "cell_type": "code",
   "execution_count": 3,
   "id": "07e4b5ac",
   "metadata": {
    "tags": [
     "hide-input",
     "output_scroll"
    ]
   },
   "outputs": [
    {
     "data": {
      "text/plain": [
       "(45.0, 94.0, 69.06)"
      ]
     },
     "execution_count": 3,
     "metadata": {},
     "output_type": "execute_result"
    }
   ],
   "source": [
    "def mean(number_sequence):\n",
    "    return round(sum(number_sequence)/len(number_sequence), 2)\n",
    "\n",
    "def stats(column_name):\n",
    "    values = get_unique_values_by_column_name(column_name)\n",
    "    values = [float(value) for value in values]\n",
    "    return (min(values), max(values), mean(values))\n",
    "    \n",
    "stats('Rating')"
   ]
  },
  {
   "cell_type": "markdown",
   "id": "6743b58e",
   "metadata": {},
   "source": [
    "## Exercise 5\n",
    "Write a function called `extract_columns(column_names)` that extracts columns by name."
   ]
  },
  {
   "cell_type": "code",
   "execution_count": 4,
   "id": "e5e5a255",
   "metadata": {
    "tags": [
     "hide-input",
     "output_scroll"
    ]
   },
   "outputs": [],
   "source": [
    "def extract_columns(column_names):\n",
    "    header = None\n",
    "    values = []\n",
    "    with open('soccer_players_statistics.csv', encoding=\"utf-8\") as file:\n",
    "        for line in file:\n",
    "\n",
    "            if not line.strip():\n",
    "                continue\n",
    "\n",
    "            if not header:\n",
    "                header = line.strip().split(',')\n",
    "                try:\n",
    "                    column_indicies = []\n",
    "                    for column_name in column_names:\n",
    "                        column_index = header.index(column_name)\n",
    "                        column_indicies.append(column_index)\n",
    "                except:\n",
    "                    print(f'Column Name {column_name} not found!')\n",
    "                    return False\n",
    "                continue\n",
    "\n",
    "            line = line.strip().split(',')\n",
    "            column_data = []\n",
    "            for column_index in column_indicies:\n",
    "                column_data.append(line[column_index])\n",
    "                \n",
    "            values.append(column_data)\n",
    "            \n",
    "    return values\n",
    "\n",
    "column_data = extract_columns(['Club_Joining', 'Contract_Expiry'])"
   ]
  },
  {
   "cell_type": "markdown",
   "id": "4c9c8951",
   "metadata": {},
   "source": [
    "## Exercise 6\n",
    "Write code to find the minimum and maximum difference between 'Club_Joining' and 'Contract_Expiry'."
   ]
  },
  {
   "cell_type": "code",
   "execution_count": 5,
   "id": "ae801a99",
   "metadata": {
    "tags": [
     "hide-input",
     "output_scroll"
    ]
   },
   "outputs": [
    {
     "name": "stdout",
     "output_type": "stream",
     "text": [
      "0 30\n"
     ]
    }
   ],
   "source": [
    "def extract_columns(column_names):\n",
    "    header = None\n",
    "    values = []\n",
    "    with open('soccer_players_statistics.csv', encoding=\"utf-8\") as file:\n",
    "        for line in file:\n",
    "\n",
    "            if not line.strip():\n",
    "                continue\n",
    "\n",
    "            if not header:\n",
    "                header = line.strip().split(',')\n",
    "                try:\n",
    "                    column_indicies = []\n",
    "                    for column_name in column_names:\n",
    "                        column_index = header.index(column_name)\n",
    "                        column_indicies.append(column_index)\n",
    "                except:\n",
    "                    print(f'Column Name {column_name} not found!')\n",
    "                    return False\n",
    "                continue\n",
    "\n",
    "            line = line.strip().split(',')\n",
    "            column_data = []\n",
    "            for column_index in column_indicies:\n",
    "                column_data.append(line[column_index])\n",
    "                \n",
    "            values.append(column_data)\n",
    "            \n",
    "    return values\n",
    "\n",
    "column_data = extract_columns(['Club_Joining', 'Contract_Expiry'])\n",
    "\n",
    "\n",
    "min_val = float('inf')\n",
    "max_val = float('-inf')\n",
    "for join_date, expiry_year in column_data:\n",
    "    if not expiry_year.strip():\n",
    "        continue\n",
    "    if not join_date.strip():\n",
    "        continue\n",
    "    \n",
    "    expiry_year = int(float(expiry_year))\n",
    "    month, day, year = join_date.split('/')\n",
    "    join_year = int(year)\n",
    "    difference = abs(join_year-expiry_year)\n",
    "    if difference < min_val:\n",
    "        min_val = difference\n",
    "        \n",
    "    if difference > max_val:\n",
    "        max_val = difference\n",
    "print(min_val, max_val)"
   ]
  },
  {
   "cell_type": "markdown",
   "id": "0a2e8af8",
   "metadata": {},
   "source": [
    "## Exercise 7\n",
    "Write code to extract the individual columns or key/value pairs and print them. \n",
    "\n",
    "\n",
    "large_string = \"Cristiano Ronaldo\tNationality=Portugal;National_Position=LS;National_Kit=7.0;Club=Real Madrid;Club_Position=LW;Club_Kit=7.0;Club_Joining=07/01/2009;Contract_Expiry=2021.0;Rating=94;Height=185 cm;Weight=80 kg;Preferred_Foot=Right;Birth_Date=02/05/1985;Age=32;Preferred_Position=LW/ST;Work_Rate=High / Low;Weak_foot=4;Skill_Moves=5;Ball_Control=93;Dribbling=92;Marking=22;Sliding_Tackle=23;Standing_Tackle=31;Aggression=63;Reactions=96;Attacking_Position=94;Interceptions=29;Vision=85;Composure=86;Crossing=84;Short_Pass=83;Long_Pass=77;Acceleration=91;Speed=92;Stamina=92;Strength=80;Balance=63;Agility=90;Jumping=95;Heading=85;Shot_Power=92;Finishing=93;Long_Shots=90;Curve=81;Freekick_Accuracy=76;Penalties=85;Volleys=88;GK_Positioning=14;GK_Diving=7;GK_Kicking=15;GK_Handling=11;GK_Reflexes=11\""
   ]
  },
  {
   "cell_type": "code",
   "execution_count": 6,
   "id": "98c40433",
   "metadata": {
    "tags": [
     "hide-input",
     "output_scroll"
    ]
   },
   "outputs": [
    {
     "ename": "NameError",
     "evalue": "name 'large_string' is not defined",
     "output_type": "error",
     "traceback": [
      "\u001b[0;31m---------------------------------------------------------------------------\u001b[0m",
      "\u001b[0;31mNameError\u001b[0m                                 Traceback (most recent call last)",
      "Cell \u001b[0;32mIn[6], line 1\u001b[0m\n\u001b[0;32m----> 1\u001b[0m name, string \u001b[38;5;241m=\u001b[39m \u001b[43mlarge_string\u001b[49m\u001b[38;5;241m.\u001b[39msplit(\u001b[38;5;124m'\u001b[39m\u001b[38;5;130;01m\\t\u001b[39;00m\u001b[38;5;124m'\u001b[39m)\n\u001b[1;32m      2\u001b[0m \u001b[38;5;28;01mfor\u001b[39;00m key_value \u001b[38;5;129;01min\u001b[39;00m string\u001b[38;5;241m.\u001b[39msplit(\u001b[38;5;124m'\u001b[39m\u001b[38;5;124m;\u001b[39m\u001b[38;5;124m'\u001b[39m):\n\u001b[1;32m      3\u001b[0m     key, value \u001b[38;5;241m=\u001b[39m key_value\u001b[38;5;241m.\u001b[39msplit(\u001b[38;5;124m'\u001b[39m\u001b[38;5;124m=\u001b[39m\u001b[38;5;124m'\u001b[39m)\n",
      "\u001b[0;31mNameError\u001b[0m: name 'large_string' is not defined"
     ]
    }
   ],
   "source": [
    "name, string = large_string.split('\\t')\n",
    "for key_value in string.split(';'):\n",
    "    key, value = key_value.split('=')\n",
    "    print(name, key, value)"
   ]
  }
 ],
 "metadata": {
  "jupytext": {
   "formats": "md:myst",
   "text_representation": {
    "extension": ".md",
    "format_name": "myst"
   }
  },
  "kernelspec": {
   "display_name": "Python 3",
   "language": "python",
   "name": "python3"
  },
  "language_info": {
   "codemirror_mode": {
    "name": "ipython",
    "version": 3
   },
   "file_extension": ".py",
   "mimetype": "text/x-python",
   "name": "python",
   "nbconvert_exporter": "python",
   "pygments_lexer": "ipython3",
   "version": "3.10.9"
  },
  "source_map": [
   11,
   20,
   55,
   62,
   94,
   99,
   111,
   117,
   151,
   156,
   210,
   218
  ]
 },
 "nbformat": 4,
 "nbformat_minor": 5
}