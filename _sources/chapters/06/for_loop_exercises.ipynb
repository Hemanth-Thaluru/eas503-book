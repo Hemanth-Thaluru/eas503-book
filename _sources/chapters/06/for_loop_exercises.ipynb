{
 "cells": [
  {
   "cell_type": "markdown",
   "id": "81fd70de",
   "metadata": {},
   "source": [
    "# For Loop Exercises\n",
    "\n",
    "## Exercise 1\n",
    "Write a function that takes in a list of values and returns its sum"
   ]
  },
  {
   "cell_type": "code",
   "execution_count": 1,
   "id": "a3c805b6",
   "metadata": {
    "tags": [
     "hide-input",
     "output_scroll"
    ]
   },
   "outputs": [
    {
     "name": "stdout",
     "output_type": "stream",
     "text": [
      "10\n"
     ]
    }
   ],
   "source": [
    "def sum_list(input_list):\n",
    "    summed_values = 0\n",
    "    for value in input_list:\n",
    "        summed_values += value\n",
    "\n",
    "    return summed_values\n",
    "\n",
    "\n",
    "print(sum_list([1, 2, 3, 4]))"
   ]
  },
  {
   "cell_type": "markdown",
   "id": "a34c29b9",
   "metadata": {},
   "source": [
    "## Exercise 2\n",
    "Write a function that takes in a list of values and returns its average"
   ]
  },
  {
   "cell_type": "code",
   "execution_count": 2,
   "id": "fbd159ae",
   "metadata": {
    "tags": [
     "hide-input",
     "output_scroll"
    ]
   },
   "outputs": [
    {
     "name": "stdout",
     "output_type": "stream",
     "text": [
      "2.5\n"
     ]
    }
   ],
   "source": [
    "def avg_list(input_list):\n",
    "    summed_values = 0\n",
    "    number_of_values = 0\n",
    "    for value in input_list:\n",
    "        summed_values += value\n",
    "        number_of_values += 1\n",
    "\n",
    "    return summed_values / number_of_values\n",
    "\n",
    "\n",
    "print(avg_list([1, 2, 3, 4]))"
   ]
  },
  {
   "cell_type": "markdown",
   "id": "a36847d5",
   "metadata": {},
   "source": [
    "## Exercise 3\n",
    "Write a function that takes in a list of values and returns its average.\n",
    "Instead of using a for loop as in ex2, use sum() and len() to calculate the average"
   ]
  },
  {
   "cell_type": "code",
   "execution_count": 3,
   "id": "024cba5b",
   "metadata": {
    "tags": [
     "hide-input",
     "output_scroll"
    ]
   },
   "outputs": [
    {
     "name": "stdout",
     "output_type": "stream",
     "text": [
      "2.5\n"
     ]
    }
   ],
   "source": [
    "def avg_list(input_list):\n",
    "\n",
    "    return sum(input_list) / len(input_list)\n",
    "\n",
    "print(avg_list([1, 2, 3, 4]))"
   ]
  },
  {
   "cell_type": "markdown",
   "id": "b0c6d1d0",
   "metadata": {},
   "source": [
    "## Exercise 4\n",
    "Write a function that multiplies the elements of the list by two and returns them"
   ]
  },
  {
   "cell_type": "code",
   "execution_count": 4,
   "id": "f1f348b7",
   "metadata": {
    "tags": [
     "hide-input",
     "output_scroll"
    ]
   },
   "outputs": [
    {
     "name": "stdout",
     "output_type": "stream",
     "text": [
      "[2, 4, 6, 8]\n"
     ]
    }
   ],
   "source": [
    "def multiply(input_list):\n",
    "    output = []\n",
    "\n",
    "    for ele in input_list:\n",
    "        output.append(ele * 2)\n",
    "\n",
    "    return output\n",
    "\n",
    "\n",
    "print(multiply([1, 2, 3, 4]))"
   ]
  },
  {
   "cell_type": "markdown",
   "id": "96ad490f",
   "metadata": {},
   "source": [
    "## Exercise 5\n",
    "Write a pow() function that computes the power of each element in a list"
   ]
  },
  {
   "cell_type": "code",
   "execution_count": 5,
   "id": "1aa2c367",
   "metadata": {
    "tags": [
     "hide-input",
     "output_scroll"
    ]
   },
   "outputs": [
    {
     "name": "stdout",
     "output_type": "stream",
     "text": [
      "[1, 4, 9, 16]\n",
      "[1, 8, 27, 64]\n"
     ]
    }
   ],
   "source": [
    "def pow(input_list, power):\n",
    "    output = []\n",
    "\n",
    "    for ele in input_list:\n",
    "        output.append(ele ** power)\n",
    "\n",
    "    return output\n",
    "\n",
    "\n",
    "print(pow([1, 2, 3, 4], 2))\n",
    "print(pow([1, 2, 3, 4], 3))"
   ]
  },
  {
   "cell_type": "markdown",
   "id": "67135ca4",
   "metadata": {},
   "source": [
    "## Exercise 6\n",
    "Write a function to remove duplicate from a list"
   ]
  },
  {
   "cell_type": "code",
   "execution_count": 6,
   "id": "19833c04",
   "metadata": {
    "tags": [
     "hide-input",
     "output_scroll"
    ]
   },
   "outputs": [
    {
     "name": "stdout",
     "output_type": "stream",
     "text": [
      "[1, 2, 3, 4, 5]\n"
     ]
    }
   ],
   "source": [
    "def remove_duplicate(input_list):\n",
    "    return list(set(input_list))\n",
    "\n",
    "\n",
    "print(remove_duplicate([1, 2, 3, 4, 4, 5, 1]))"
   ]
  },
  {
   "cell_type": "markdown",
   "id": "cb9ce6d8",
   "metadata": {},
   "source": [
    "## Exercise 7\n",
    "Write a function that reads grades from an input file and calculates their average\n",
    "- input: filename\n",
    "- use: for_ex7_data1.txt\n",
    "- use: for_ex7_data2.txt\n",
    "- use: for_ex7_data3.txt\n",
    "- Use a list to read the values in to and then use sum and len to calculate the average.\n",
    "- Be careful about empty rows!\n",
    "- Be careful about non-numbers!"
   ]
  },
  {
   "cell_type": "code",
   "execution_count": 7,
   "id": "36e12000",
   "metadata": {
    "tags": [
     "hide-input",
     "output_scroll"
    ]
   },
   "outputs": [
    {
     "name": "stdout",
     "output_type": "stream",
     "text": [
      "78.8\n"
     ]
    }
   ],
   "source": [
    "def average_from_file(filename):\n",
    "    grade_list = []\n",
    "    with open(filename) as file:\n",
    "        for line in file:\n",
    "            if line.strip():\n",
    "                try:\n",
    "                    grade_list.append(float(line))\n",
    "                except ValueError:\n",
    "                    print('Bad value: ', line)\n",
    "\n",
    "    return sum(grade_list) / len(grade_list)\n",
    "\n",
    "\n",
    "print(average_from_file('for_ex7_data1.txt'))"
   ]
  },
  {
   "cell_type": "markdown",
   "id": "90139933",
   "metadata": {},
   "source": [
    "## Exercise 8\n",
    "Write a function simulates a coin toss\n",
    "- Input: number of simulation\n",
    "- Output: a string that concatenates the results, ex. 'HHHTTTHTHTHT'"
   ]
  },
  {
   "cell_type": "code",
   "execution_count": 8,
   "id": "c12a09a5",
   "metadata": {
    "tags": [
     "hide-input",
     "output_scroll"
    ]
   },
   "outputs": [
    {
     "name": "stdout",
     "output_type": "stream",
     "text": [
      "TTTTTTTTTT\n"
     ]
    }
   ],
   "source": [
    "def coin_toss(number):\n",
    "    import random\n",
    "    output = ''\n",
    "    for i in range(number):\n",
    "        toss = random.randint(0, 1)\n",
    "\n",
    "        if number == 0:\n",
    "            output += 'H'\n",
    "        else:\n",
    "            output += 'T'\n",
    "\n",
    "    return output\n",
    "\n",
    "\n",
    "print(coin_toss(10))"
   ]
  },
  {
   "cell_type": "markdown",
   "id": "cdaf3f74",
   "metadata": {},
   "source": [
    "## Exercise 9\n",
    "Write a function that uses the output from the \n",
    "coin_toss function and calculates the probability of H and T\n",
    "Input: number of simulation\n",
    "Output: probability of H and T"
   ]
  },
  {
   "cell_type": "code",
   "execution_count": 9,
   "id": "f87d5bfa",
   "metadata": {
    "tags": [
     "hide-input",
     "output_scroll"
    ]
   },
   "outputs": [
    {
     "name": "stdout",
     "output_type": "stream",
     "text": [
      "(0.0, 1.0)\n"
     ]
    }
   ],
   "source": [
    "def coin_toss_probablity(number):\n",
    "    result = coin_toss(number)\n",
    "    head_count = 0\n",
    "    tail_count = 0\n",
    "\n",
    "    for ele in result:\n",
    "        if ele == 'H':\n",
    "            head_count += 1\n",
    "        elif ele == 'T':\n",
    "            tail_count += 1\n",
    "\n",
    "    return (head_count / len(result), tail_count / len(result))\n",
    "\n",
    "\n",
    "print(coin_toss_probablity(10))"
   ]
  },
  {
   "cell_type": "markdown",
   "id": "93a80c79",
   "metadata": {},
   "source": [
    "## Exercise 10\n",
    "Write a function that simulates coin_toss_probability for a given number of times and calculates the average of H and T\n",
    "Input: number of simulations\n",
    "Input: number of coin tosses\n",
    "Output: average probability"
   ]
  },
  {
   "cell_type": "code",
   "execution_count": 10,
   "id": "9f87c4e8",
   "metadata": {
    "tags": [
     "hide-input",
     "output_scroll"
    ]
   },
   "outputs": [
    {
     "name": "stdout",
     "output_type": "stream",
     "text": [
      "(0.0, 1.0)\n"
     ]
    }
   ],
   "source": [
    "def simulate_coin_toss_probablity(num_sims, num_toss):\n",
    "\n",
    "    head_prob = 0\n",
    "    tail_prob = 0\n",
    "\n",
    "    for i in range(num_sims):\n",
    "        h_prob, t_prob = coin_toss_probablity(num_toss)\n",
    "        head_prob += h_prob\n",
    "        tail_prob += t_prob\n",
    "\n",
    "    return (head_prob / num_sims, tail_prob / num_sims)\n",
    "\n",
    "\n",
    "print(simulate_coin_toss_probablity(10, 5))"
   ]
  },
  {
   "cell_type": "markdown",
   "id": "85194201",
   "metadata": {},
   "source": [
    "## Exercise 11\n",
    "Write a function that reads a file in which each line has multiple student\n",
    "grades and calculates the student average grade\n",
    "Print average of each student on screen\n",
    "Use list comprehension to convert grades to int\n",
    "use: for_ex11_data.txt"
   ]
  },
  {
   "cell_type": "code",
   "execution_count": 11,
   "id": "3798cb57",
   "metadata": {
    "tags": [
     "hide-input",
     "output_scroll"
    ]
   },
   "outputs": [
    {
     "name": "stdout",
     "output_type": "stream",
     "text": [
      "student1 68.125\n",
      "student2 79.6\n",
      "student3 85.8\n",
      "student4 78.8\n",
      "student5 83.4\n",
      "student6 73.8\n",
      "student7 81.6\n",
      "student8 90.0\n",
      "student9 87.0\n",
      "student10 78.2\n"
     ]
    }
   ],
   "source": [
    "def print_student_average(filename):\n",
    "\n",
    "    with open(filename) as file:\n",
    "        for line in file:\n",
    "            student_name, *tests = line.split(',')\n",
    "            tests = [int(ele) for ele in tests]\n",
    "            print(student_name, sum(tests)/len(tests))\n",
    "\n",
    "print_student_average('for_ex11_data.txt')"
   ]
  },
  {
   "cell_type": "markdown",
   "id": "08e38b38",
   "metadata": {},
   "source": [
    "## Exercise 12\n",
    "Write a function that generates a given number of students with a given number of grades and saves them to a file\n",
    "inputs: output_filename, number_of_students, number_of_tests, test_score_range(low, high)\n",
    "example output:\n",
    "student1,93,78,82,83,65\n",
    "student2,86,76,85,86,65\n",
    "student3,70,98,88,80,93\n",
    "student4,89,68,81,80,76\n",
    "student5,99,67,100,83,68\n",
    "student6,75,77,69,72,76\n",
    "student7,67,93,90,92,66\n",
    "student8,89,83,90,97,91\n",
    "student9,92,84,75,92,92\n",
    "student10,65,89,80,68,89"
   ]
  },
  {
   "cell_type": "code",
   "execution_count": 12,
   "id": "191ea70d",
   "metadata": {
    "tags": [
     "hide-input",
     "output_scroll"
    ]
   },
   "outputs": [],
   "source": [
    "def generate_students(output_filename, number_of_students, number_of_tests, test_score_range):\n",
    "\n",
    "    import csv\n",
    "    import random\n",
    "\n",
    "    number_of_students = 10\n",
    "    number_of_tests = 5\n",
    "    test_score_range = (65, 100)\n",
    "\n",
    "    csvfile = csv.writer(open(output_filename, 'w'), delimiter=',')\n",
    "\n",
    "    for i in range(1, number_of_students+1):\n",
    "        line = []\n",
    "        student_name = 'student' + str(i)\n",
    "        line.append(student_name)\n",
    "        for ii in range(number_of_tests):\n",
    "            line.append(random.randint(test_score_range[0], test_score_range[1]))\n",
    "\n",
    "        csvfile.writerow(line)\n",
    "\n",
    "generate_students('testdata.txt', 10, 3, (65,100))"
   ]
  }
 ],
 "metadata": {
  "jupytext": {
   "formats": "md:myst",
   "text_representation": {
    "extension": ".md",
    "format_name": "myst"
   }
  },
  "kernelspec": {
   "display_name": "Python 3",
   "language": "python",
   "name": "python3"
  },
  "language_info": {
   "codemirror_mode": {
    "name": "ipython",
    "version": 3
   },
   "file_extension": ".py",
   "mimetype": "text/x-python",
   "name": "python",
   "nbconvert_exporter": "python",
   "pygments_lexer": "ipython3",
   "version": "3.10.9"
  },
  "source_map": [
   11,
   19,
   30,
   35,
   48,
   55,
   62,
   67,
   79,
   84,
   97,
   102,
   109,
   121,
   137,
   145,
   162,
   170,
   187,
   196,
   212,
   221,
   233,
   250
  ]
 },
 "nbformat": 4,
 "nbformat_minor": 5
}