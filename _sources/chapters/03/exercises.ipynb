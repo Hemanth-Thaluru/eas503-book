{
 "cells": [
  {
   "cell_type": "markdown",
   "id": "1dab0e76",
   "metadata": {},
   "source": [
    "# Exercises\n",
    "\n",
    "1. Write a Python function that prints the following:\n",
    "```\n",
    "They'll hibernate during the winter.\n",
    "```"
   ]
  },
  {
   "cell_type": "code",
   "execution_count": 1,
   "id": "84be2bcc",
   "metadata": {
    "tags": [
     "hide-input",
     "output_scroll"
    ]
   },
   "outputs": [],
   "source": [
    "def string_ex1():\n",
    "    print('They\\'ll hibernate during the winter.')\n",
    "    print(\"They'll hibernate during the winter.\")"
   ]
  },
  {
   "cell_type": "markdown",
   "id": "031f803f",
   "metadata": {},
   "source": [
    "2. Write a Python function that prints the following:\n",
    "```\n",
    "\"Absolutely not,\" he said.\n",
    "```"
   ]
  },
  {
   "cell_type": "code",
   "execution_count": 2,
   "id": "312367e3",
   "metadata": {
    "tags": [
     "hide-input",
     "output_scroll"
    ]
   },
   "outputs": [],
   "source": [
    "def string_ex2():\n",
    "    print('\"Absolutely not,\" he said.')\n",
    "    print(\"\\\"Absolutely not,\\\" he said.\")"
   ]
  },
  {
   "cell_type": "markdown",
   "id": "a1219870",
   "metadata": {},
   "source": [
    "3. Write a Python function that prints the following:\n",
    "```\n",
    "\"He said, 'Absolutely not,'\" recalled Mel.\n",
    "```"
   ]
  },
  {
   "cell_type": "code",
   "execution_count": 3,
   "id": "393276be",
   "metadata": {
    "tags": [
     "hide-input",
     "output_scroll"
    ]
   },
   "outputs": [],
   "source": [
    "def string_ex3():\n",
    "    print(\"\\\"He said, 'Absolutely not,'\\\" recalled Mel.\")"
   ]
  },
  {
   "cell_type": "markdown",
   "id": "400da5f3",
   "metadata": {},
   "source": [
    "4. Write a Python function that prints the following: \n",
    "```\n",
    "left\\right.\n",
    "```"
   ]
  },
  {
   "cell_type": "code",
   "execution_count": 4,
   "id": "6e8f41c1",
   "metadata": {
    "tags": [
     "hide-input",
     "output_scroll"
    ]
   },
   "outputs": [],
   "source": [
    "def string_ex4():\n",
    "    print(\"left\\\\right\")"
   ]
  },
  {
   "cell_type": "markdown",
   "id": "89d66307",
   "metadata": {},
   "source": [
    "5. Write a Python function that prints the following given x = 3:\n",
    "```\n",
    "The rabbit is 3 years old.\n",
    "```"
   ]
  },
  {
   "cell_type": "code",
   "execution_count": 5,
   "id": "4d122d0e",
   "metadata": {
    "tags": [
     "hide-input",
     "output_scroll"
    ]
   },
   "outputs": [],
   "source": [
    "def string_ex5():\n",
    "    x = 3\n",
    "    print(f\"The rabbit is {x} years old.\")"
   ]
  },
  {
   "cell_type": "markdown",
   "id": "0f9f650d",
   "metadata": {},
   "source": [
    "6. Write a Python function that prints the following given x = 3 and y = 12.5:\n",
    "```\n",
    "12.5 * 3.\n",
    "```"
   ]
  },
  {
   "cell_type": "code",
   "execution_count": 6,
   "id": "be34d231",
   "metadata": {
    "tags": [
     "hide-input",
     "output_scroll"
    ]
   },
   "outputs": [],
   "source": [
    "def string_ex7():\n",
    "    x = 3\n",
    "    y = 12.5\n",
    "    print(f\"{x} * {y}.\")"
   ]
  },
  {
   "cell_type": "markdown",
   "id": "e648e665",
   "metadata": {},
   "source": [
    "7. Write a Python function that prints the following given x = 3 and y = 12.5:\n",
    "```\n",
    "12.5 * 3 = 37.5\n",
    "```"
   ]
  },
  {
   "cell_type": "code",
   "execution_count": 7,
   "id": "e3e58f94",
   "metadata": {
    "tags": [
     "hide-input",
     "output_scroll"
    ]
   },
   "outputs": [],
   "source": [
    "def string_ex8():\n",
    "    x = 3\n",
    "    y = 12.5\n",
    "    print(f\"{x} * {y} = {x*y}.\")"
   ]
  }
 ],
 "metadata": {
  "jupytext": {
   "formats": "md:myst",
   "text_representation": {
    "extension": ".md",
    "format_name": "myst"
   }
  },
  "kernelspec": {
   "display_name": "Python 3",
   "language": "python",
   "name": "python3"
  },
  "language_info": {
   "codemirror_mode": {
    "name": "ipython",
    "version": 3
   },
   "file_extension": ".py",
   "mimetype": "text/x-python",
   "name": "python",
   "nbconvert_exporter": "python",
   "pygments_lexer": "ipython3",
   "version": "3.10.9"
  },
  "source_map": [
   11,
   21,
   26,
   32,
   37,
   43,
   47,
   53,
   57,
   63,
   68,
   74,
   80,
   86
  ]
 },
 "nbformat": 4,
 "nbformat_minor": 5
}