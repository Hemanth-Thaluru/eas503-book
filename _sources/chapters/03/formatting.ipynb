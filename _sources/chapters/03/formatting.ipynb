{
 "cells": [
  {
   "cell_type": "markdown",
   "id": "2c6e6426",
   "metadata": {},
   "source": [
    "# String Formatting\n",
    "\n",
    "The fastest and latest way to do string formatting is using the F-strings (https://realpython.com/python-f-strings/)"
   ]
  },
  {
   "cell_type": "code",
   "execution_count": 1,
   "id": "39c8e70b",
   "metadata": {},
   "outputs": [
    {
     "name": "stdout",
     "output_type": "stream",
     "text": [
      "3.14\n"
     ]
    }
   ],
   "source": [
    "  PI = 3.14159265359 \n",
    "  print(f'{PI:.2f}')"
   ]
  },
  {
   "cell_type": "markdown",
   "id": "b03400e5",
   "metadata": {},
   "source": [
    "But you have to know the other ways so you can read older code or use these ways if you have to use an older version of Python\n",
    "\n",
    "## Oldest Method"
   ]
  },
  {
   "cell_type": "code",
   "execution_count": 2,
   "id": "b01d7ffb",
   "metadata": {},
   "outputs": [
    {
     "name": "stdout",
     "output_type": "stream",
     "text": [
      "PI is 3.14\n"
     ]
    }
   ],
   "source": [
    "  PI = 3.14159265359 \n",
    "  name = 'PI'\n",
    "  print('%s is %.2f' % (name, PI))  # oldest way format specifier is <width>.<precision><type>"
   ]
  },
  {
   "cell_type": "markdown",
   "id": "957a8ef6",
   "metadata": {},
   "source": [
    "## Newer Method\n",
    "Still used for creating string templates"
   ]
  },
  {
   "cell_type": "code",
   "execution_count": 3,
   "id": "7a5db09b",
   "metadata": {},
   "outputs": [
    {
     "name": "stdout",
     "output_type": "stream",
     "text": [
      "PI is 3.14\n"
     ]
    }
   ],
   "source": [
    "PI = 3.14159265359 \n",
    "name = 'PI'\n",
    "#{<index>:<format-specifier>} where the format specifier is <width>.<precision><type>\n",
    "print(('{0} is {1:.2f}'.format('PI', PI)) ) # "
   ]
  },
  {
   "cell_type": "markdown",
   "id": "08e37916",
   "metadata": {},
   "source": [
    "## Newest Method\n",
    "Newest and fastest method for string formatting"
   ]
  },
  {
   "cell_type": "code",
   "execution_count": 4,
   "id": "8b007b1b",
   "metadata": {},
   "outputs": [
    {
     "name": "stdout",
     "output_type": "stream",
     "text": [
      "PI is 3.14\n"
     ]
    }
   ],
   "source": [
    "PI = 3.14159265359 \n",
    "name = 'PI'\n",
    "# {<name_of_variable>:<format-specifier>} where the format specifier is <width>.<precision><type>\n",
    "print(f'{name} is {PI:.2f}') # newest way"
   ]
  },
  {
   "cell_type": "markdown",
   "id": "007b3e41",
   "metadata": {},
   "source": [
    "Reference: https://pyformat.info/"
   ]
  },
  {
   "cell_type": "code",
   "execution_count": 5,
   "id": "8d6f39cc",
   "metadata": {},
   "outputs": [
    {
     "name": "stdout",
     "output_type": "stream",
     "text": [
      "EAS503 113 92.3\n"
     ]
    }
   ],
   "source": [
    "a_str = 'EAS503'\n",
    "an_int = 113\n",
    "a_float = 92.3\n",
    "print(a_str, an_int, a_float)"
   ]
  },
  {
   "cell_type": "code",
   "execution_count": 6,
   "id": "85360cd1",
   "metadata": {},
   "outputs": [],
   "source": [
    "line1 = 'This is the first line.\\n'\n",
    "line2 = 'This is the second line.'\n",
    "lines = line1 + line2"
   ]
  },
  {
   "cell_type": "code",
   "execution_count": 7,
   "id": "966ad652",
   "metadata": {},
   "outputs": [],
   "source": [
    "line = 'This is the first line.\\n'\n",
    "line += 'This is the second line.'"
   ]
  },
  {
   "cell_type": "markdown",
   "id": "28e82277",
   "metadata": {},
   "source": [
    "## Example 1"
   ]
  },
  {
   "cell_type": "code",
   "execution_count": 8,
   "id": "3f5a884b",
   "metadata": {},
   "outputs": [
    {
     "name": "stdout",
     "output_type": "stream",
     "text": [
      "EAS503\n",
      "EAS503\n"
     ]
    }
   ],
   "source": [
    "course_number = 'EAS503'\n",
    "class_size = 113\n",
    "class_average = 92.3\n",
    "\n",
    "str_format = '{}'.format(course_number)\n",
    "f_string = f'{course_number}'\n",
    "\n",
    "print(str_format)\n",
    "print(f_string)"
   ]
  },
  {
   "cell_type": "markdown",
   "id": "65323a75",
   "metadata": {},
   "source": [
    "## Example 2"
   ]
  },
  {
   "cell_type": "code",
   "execution_count": 9,
   "id": "1640ff53",
   "metadata": {},
   "outputs": [
    {
     "name": "stdout",
     "output_type": "stream",
     "text": [
      "The course number is EAS503.\n",
      "The course number is EAS503.\n"
     ]
    }
   ],
   "source": [
    "course_number = 'EAS503'\n",
    "class_size = 113\n",
    "class_average = 92.3\n",
    "\n",
    "str_format = 'The course number is {}.'.format(course_number)\n",
    "f_string = f'The course number is {course_number}.'\n",
    "\n",
    "print(str_format)\n",
    "print(f_string)"
   ]
  },
  {
   "cell_type": "markdown",
   "id": "ffadf3a0",
   "metadata": {},
   "source": [
    "## Example 3 use index"
   ]
  },
  {
   "cell_type": "code",
   "execution_count": 10,
   "id": "e57b1499",
   "metadata": {},
   "outputs": [
    {
     "name": "stdout",
     "output_type": "stream",
     "text": [
      "The course number is EAS503. It has 113 students.\n",
      "The course number is EAS503. It has 113 students.\n"
     ]
    }
   ],
   "source": [
    "course_number = 'EAS503'\n",
    "class_size = 113\n",
    "class_average = 92.3\n",
    "str_format = 'The course number is {}. It has {} students.'.format(course_number, class_size)\n",
    "str_format = 'The course number is {0}. It has {1} students.'.format(course_number, class_size)\n",
    "f_string = f'The course number is {course_number}. It has {class_size} students.'\n",
    "\n",
    "print(str_format)\n",
    "print(f_string)"
   ]
  },
  {
   "cell_type": "markdown",
   "id": "3dae48a0",
   "metadata": {},
   "source": [
    "## Example 4 change index"
   ]
  },
  {
   "cell_type": "code",
   "execution_count": 11,
   "id": "841bee1a",
   "metadata": {},
   "outputs": [
    {
     "name": "stdout",
     "output_type": "stream",
     "text": [
      "The course number is 113. It has EAS503 students.\n",
      "The course number is 113. It has EAS503 students.\n"
     ]
    }
   ],
   "source": [
    "course_number = 'EAS503'\n",
    "class_size = 113\n",
    "class_average = 92.3\n",
    "str_format = 'The course number is {1}. It has {0} students.'.format(course_number, class_size)\n",
    "f_string = f'The course number is {class_size}. It has {course_number} students.'\n",
    "\n",
    "print(str_format)\n",
    "print(f_string)"
   ]
  },
  {
   "cell_type": "markdown",
   "id": "7a5ac3a2",
   "metadata": {},
   "source": [
    "## Example 5 adding a float"
   ]
  },
  {
   "cell_type": "code",
   "execution_count": 12,
   "id": "9a066e23",
   "metadata": {},
   "outputs": [
    {
     "name": "stdout",
     "output_type": "stream",
     "text": [
      "The course number is EAS503. It has 113 students. The class average is 92.3\n",
      "The course number is 113. It has EAS503 students. The class average is 92.3.\n"
     ]
    }
   ],
   "source": [
    "course_number = 'EAS503'\n",
    "class_size = 113\n",
    "class_average = 92.3\n",
    "str_format = 'The course number is {0}. It has {1} students. The class average is {2}'.format(course_number, class_size, class_average)\n",
    "f_string = f'The course number is {class_size}. It has {course_number} students. The class average is {class_average}.'\n",
    "\n",
    "print(str_format)\n",
    "print(f_string)"
   ]
  },
  {
   "cell_type": "markdown",
   "id": "2a008b02",
   "metadata": {},
   "source": [
    "## Example 6 specify number of spaces to use -- width"
   ]
  },
  {
   "cell_type": "code",
   "execution_count": 13,
   "id": "621e807c",
   "metadata": {},
   "outputs": [
    {
     "name": "stdout",
     "output_type": "stream",
     "text": [
      "The course number is EAS503    . It has        113 students. The class average is       92.3\n",
      "The course number is EAS503    . It has        113 students. The class average is       92.3.\n"
     ]
    }
   ],
   "source": [
    "course_number = 'EAS503'\n",
    "class_size = 113\n",
    "class_average = 92.3\n",
    "str_format = 'The course number is {0:10}. It has {1:10} students. The class average is {2:10}'.format(course_number, class_size, class_average)\n",
    "f_string = f'The course number is {course_number:10}. It has {class_size:10} students. The class average is {class_average:10}.'\n",
    "\n",
    "print(str_format)\n",
    "print(f_string)"
   ]
  },
  {
   "cell_type": "markdown",
   "id": "100338a9",
   "metadata": {},
   "source": [
    "## Example 7 right align"
   ]
  },
  {
   "cell_type": "code",
   "execution_count": 14,
   "id": "57afc9ee",
   "metadata": {},
   "outputs": [
    {
     "name": "stdout",
     "output_type": "stream",
     "text": [
      "The course number is     EAS503. It has        113 students. The class average is       92.3\n",
      "The course number is        113. It has        113 students. The class average is       92.3.\n"
     ]
    }
   ],
   "source": [
    "course_number = 'EAS503'\n",
    "class_size = 113\n",
    "class_average = 92.3\n",
    "str_format = 'The course number is {0:>10}. It has {1:>10} students. The class average is {2:>10}'.format(course_number, class_size, class_average)\n",
    "f_string = f'The course number is {class_size:>10}. It has {class_size:>10} students. The class average is {class_average:>10}.'\n",
    "\n",
    "print(str_format)\n",
    "print(f_string)"
   ]
  },
  {
   "cell_type": "markdown",
   "id": "6cc9e4bc",
   "metadata": {},
   "source": [
    "## Example 8 left align"
   ]
  },
  {
   "cell_type": "code",
   "execution_count": 15,
   "id": "e204cb44",
   "metadata": {},
   "outputs": [
    {
     "name": "stdout",
     "output_type": "stream",
     "text": [
      "The course number is EAS503    . It has 113        students. The class average is 92.3      \n",
      "The course number is EAS503    . It has 113        students. The class average is 92.3      .\n"
     ]
    }
   ],
   "source": [
    "course_number = 'EAS503'\n",
    "class_size = 113\n",
    "class_average = 92.3\n",
    "str_format = 'The course number is {0:<10}. It has {1:<10} students. The class average is {2:<10}'.format(course_number, class_size, class_average)\n",
    "f_string = f'The course number is {course_number:<10}. It has {class_size:<10} students. The class average is {class_average:<10}.'\n",
    "\n",
    "print(str_format)\n",
    "print(f_string)"
   ]
  },
  {
   "cell_type": "markdown",
   "id": "960b3664",
   "metadata": {},
   "source": [
    "## Example 9 center align"
   ]
  },
  {
   "cell_type": "code",
   "execution_count": 16,
   "id": "bc311e44",
   "metadata": {},
   "outputs": [
    {
     "name": "stdout",
     "output_type": "stream",
     "text": [
      "The course number is   EAS503  . It has    113     students. The class average is    92.3   \n",
      "The course number is   EAS503  . It has    113     students. The class average is    92.3   .\n"
     ]
    }
   ],
   "source": [
    "course_number = 'EAS503'\n",
    "class_size = 113\n",
    "class_average = 92.3\n",
    "str_format = 'The course number is {0:^10}. It has {1:^10} students. The class average is {2:^10}'.format(course_number, class_size, class_average)\n",
    "f_string = f'The course number is {course_number:^10}. It has {class_size:^10} students. The class average is {class_average:^10}.'\n",
    "\n",
    "print(str_format)\n",
    "print(f_string)"
   ]
  },
  {
   "cell_type": "markdown",
   "id": "d8a1f4df",
   "metadata": {},
   "source": [
    "## Example 10 Padding with zeros"
   ]
  },
  {
   "cell_type": "code",
   "execution_count": 17,
   "id": "480e1808",
   "metadata": {},
   "outputs": [
    {
     "name": "stdout",
     "output_type": "stream",
     "text": [
      "The number padded 223333 padded with zeros 00223333\n",
      "The number padded 223333 padded with zeros 00223333\n"
     ]
    }
   ],
   "source": [
    "student_id = 223333\n",
    "\n",
    "str_format = 'The number padded {} padded with zeros {:08}'.format(student_id, student_id)\n",
    "f_string = f'The number padded {student_id} padded with zeros {student_id:08}'\n",
    "\n",
    "print(str_format)\n",
    "print(f_string)"
   ]
  },
  {
   "cell_type": "markdown",
   "id": "66aa3d6a",
   "metadata": {},
   "source": [
    "## Example 11 Padding with dashes"
   ]
  },
  {
   "cell_type": "code",
   "execution_count": 18,
   "id": "3347d970",
   "metadata": {},
   "outputs": [
    {
     "name": "stdout",
     "output_type": "stream",
     "text": [
      "The number padded 223333 padded with zeros --223333\n",
      "The number padded 223333 padded with zeros --223333\n"
     ]
    }
   ],
   "source": [
    "student_id = 223333\n",
    "\n",
    "str_format = 'The number padded {} padded with zeros {:->8}'.format(student_id, student_id)\n",
    "f_string = f'The number padded {student_id} padded with zeros {student_id:->8}'\n",
    "\n",
    "print(str_format)\n",
    "print(f_string)"
   ]
  }
 ],
 "metadata": {
  "jupytext": {
   "formats": "md:myst",
   "text_representation": {
    "extension": ".md",
    "format_name": "myst"
   }
  },
  "kernelspec": {
   "display_name": "Python 3",
   "language": "python",
   "name": "python3"
  },
  "language_info": {
   "codemirror_mode": {
    "name": "ipython",
    "version": 3
   },
   "file_extension": ".py",
   "mimetype": "text/x-python",
   "name": "python",
   "nbconvert_exporter": "python",
   "pygments_lexer": "ipython3",
   "version": "3.10.9"
  },
  "source_map": [
   11,
   17,
   20,
   24,
   28,
   32,
   37,
   41,
   46,
   50,
   57,
   63,
   66,
   71,
   81,
   85,
   95,
   100,
   110,
   115,
   124,
   128,
   137,
   141,
   150,
   155,
   164,
   168,
   177,
   182,
   191,
   195,
   203,
   207
  ]
 },
 "nbformat": 4,
 "nbformat_minor": 5
}