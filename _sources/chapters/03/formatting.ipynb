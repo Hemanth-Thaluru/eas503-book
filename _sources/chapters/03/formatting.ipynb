{
 "cells": [
  {
   "cell_type": "markdown",
   "id": "818db4ec",
   "metadata": {},
   "source": [
    "# String Formatting\n",
    "\n",
    "The fastest and latest way to do string formatting is using the F-strings."
   ]
  },
  {
   "cell_type": "code",
   "execution_count": 1,
   "id": "3802d67f",
   "metadata": {},
   "outputs": [
    {
     "name": "stdout",
     "output_type": "stream",
     "text": [
      "3.14\n"
     ]
    }
   ],
   "source": [
    "  PI = 3.14159265359 \n",
    "  print(f'{PI:.2f}')"
   ]
  },
  {
   "cell_type": "markdown",
   "id": "599fd25c",
   "metadata": {},
   "source": [
    "But you have to know the other ways so you can read older code or use these ways if you have to use an older version of Python\n",
    "\n",
    "## What can you format?\n",
    "String-formatting allows you to do at least five things. These string-format specifiers come after a colon. \n",
    "1. specify width\n",
    "2. align data to left, right, or center; make sure to explain the default alignment for string and number; make sure to \n",
    "3. specify padding character when specified width is greater than the width of the string/number being used\n",
    "4. specify precision for floating values\n",
    "5. add commas to numbers for easier viewing; \n",
    "\n",
    "\n",
    "## Oldest Method"
   ]
  },
  {
   "cell_type": "code",
   "execution_count": 2,
   "id": "489dcadd",
   "metadata": {},
   "outputs": [
    {
     "name": "stdout",
     "output_type": "stream",
     "text": [
      "PI is 3.14\n"
     ]
    }
   ],
   "source": [
    "  PI = 3.14159265359 \n",
    "  name = 'PI'\n",
    "  print('%s is %.2f' % (name, PI))  # oldest way format specifier is <width>.<precision><type>"
   ]
  },
  {
   "cell_type": "markdown",
   "id": "874601ae",
   "metadata": {},
   "source": [
    "## Newer Method\n",
    "Still used for creating string templates."
   ]
  },
  {
   "cell_type": "code",
   "execution_count": 3,
   "id": "91e948ec",
   "metadata": {},
   "outputs": [
    {
     "name": "stdout",
     "output_type": "stream",
     "text": [
      "PI is 3.14\n"
     ]
    }
   ],
   "source": [
    "PI = 3.14159265359 \n",
    "name = 'PI'\n",
    "print(('{0} is {1:.2f}'.format('PI', PI)) ) # "
   ]
  },
  {
   "cell_type": "markdown",
   "id": "c1e92a44",
   "metadata": {},
   "source": [
    "## Newest Method\n",
    "Newest and fastest method for string formatting.\n",
    "`{<index>:<format-specifier>}` where the format specifier is: `<padding_character><alignment><width>.<comma><precision><type>`\n",
    "- padding_character can be anything. most common are\n",
    "  - space (default)\n",
    "  - `-`\n",
    "  - `0` \n",
    "- alignment\n",
    "  - `<` -- left aligned\n",
    "  - `^` -- center aligned\n",
    "  - `>` -- right aligned\n",
    "- width is a number. If the width is greater than the number of characters, then:\n",
    "  - strings are left aligned\n",
    "  - numbers are right aligned \n",
    "- comma is used to add commas to large numbers for easier viewing\n",
    "- precision controls how many decimal places to show. **NOTE** This uses round, but leaves trailing zeros.\n",
    "- type specifies the data type\n",
    "  - `f` -- float\n",
    "  - `d` -- integer\n",
    "  - `s` -- string"
   ]
  },
  {
   "cell_type": "code",
   "execution_count": 4,
   "id": "b9c1ff63",
   "metadata": {},
   "outputs": [
    {
     "name": "stdout",
     "output_type": "stream",
     "text": [
      "PI is 3.14\n"
     ]
    }
   ],
   "source": [
    "PI = 3.14159265359 \n",
    "name = 'PI'\n",
    "# {<name_of_variable>:<format-specifier>} where the format specifier is <width>.<precision><type>\n",
    "print(f'{name} is {PI:.2f}') # newest way"
   ]
  },
  {
   "cell_type": "markdown",
   "id": "ff96e0a0",
   "metadata": {},
   "source": [
    "Reference: https://pyformat.info/"
   ]
  },
  {
   "cell_type": "code",
   "execution_count": 5,
   "id": "160b669a",
   "metadata": {},
   "outputs": [
    {
     "name": "stdout",
     "output_type": "stream",
     "text": [
      "EAS503 113 92.3\n"
     ]
    }
   ],
   "source": [
    "a_str = 'EAS503'\n",
    "an_int = 113\n",
    "a_float = 92.3\n",
    "print(a_str, an_int, a_float)"
   ]
  },
  {
   "cell_type": "code",
   "execution_count": 6,
   "id": "c132c5ae",
   "metadata": {},
   "outputs": [],
   "source": [
    "line1 = 'This is the first line.\\n'\n",
    "line2 = 'This is the second line.'\n",
    "lines = line1 + line2"
   ]
  },
  {
   "cell_type": "code",
   "execution_count": 7,
   "id": "849ef558",
   "metadata": {},
   "outputs": [],
   "source": [
    "line = 'This is the first line.\\n'\n",
    "line += 'This is the second line.'"
   ]
  },
  {
   "cell_type": "markdown",
   "id": "c1d4e8be",
   "metadata": {},
   "source": [
    "## Example 1"
   ]
  },
  {
   "cell_type": "code",
   "execution_count": 8,
   "id": "16e9d9a7",
   "metadata": {},
   "outputs": [
    {
     "name": "stdout",
     "output_type": "stream",
     "text": [
      "EAS503\n",
      "EAS503\n"
     ]
    }
   ],
   "source": [
    "course_number = 'EAS503'\n",
    "class_size = 113\n",
    "class_average = 92.3\n",
    "\n",
    "str_format = '{}'.format(course_number)\n",
    "f_string = f'{course_number}'\n",
    "\n",
    "print(str_format)\n",
    "print(f_string)"
   ]
  },
  {
   "cell_type": "markdown",
   "id": "6117853b",
   "metadata": {},
   "source": [
    "## Example 2"
   ]
  },
  {
   "cell_type": "code",
   "execution_count": 9,
   "id": "f2516d1c",
   "metadata": {},
   "outputs": [
    {
     "name": "stdout",
     "output_type": "stream",
     "text": [
      "The course number is EAS503.\n",
      "The course number is EAS503.\n"
     ]
    }
   ],
   "source": [
    "course_number = 'EAS503'\n",
    "class_size = 113\n",
    "class_average = 92.3\n",
    "\n",
    "str_format = 'The course number is {}.'.format(course_number)\n",
    "f_string = f'The course number is {course_number}.'\n",
    "\n",
    "print(str_format)\n",
    "print(f_string)"
   ]
  },
  {
   "cell_type": "markdown",
   "id": "9eebeb2a",
   "metadata": {},
   "source": [
    "## Example 3 use index"
   ]
  },
  {
   "cell_type": "code",
   "execution_count": 10,
   "id": "46fb5f3e",
   "metadata": {},
   "outputs": [
    {
     "name": "stdout",
     "output_type": "stream",
     "text": [
      "The course number is EAS503. It has 113 students.\n",
      "The course number is EAS503. It has 113 students.\n"
     ]
    }
   ],
   "source": [
    "course_number = 'EAS503'\n",
    "class_size = 113\n",
    "class_average = 92.3\n",
    "str_format = 'The course number is {}. It has {} students.'.format(course_number, class_size)\n",
    "str_format = 'The course number is {0}. It has {1} students.'.format(course_number, class_size)\n",
    "f_string = f'The course number is {course_number}. It has {class_size} students.'\n",
    "\n",
    "print(str_format)\n",
    "print(f_string)"
   ]
  },
  {
   "cell_type": "markdown",
   "id": "f3e0c14c",
   "metadata": {},
   "source": [
    "## Example 4 change index"
   ]
  },
  {
   "cell_type": "code",
   "execution_count": 11,
   "id": "62a4bbbd",
   "metadata": {},
   "outputs": [
    {
     "name": "stdout",
     "output_type": "stream",
     "text": [
      "The course number is 113. It has EAS503 students.\n",
      "The course number is 113. It has EAS503 students.\n"
     ]
    }
   ],
   "source": [
    "course_number = 'EAS503'\n",
    "class_size = 113\n",
    "class_average = 92.3\n",
    "str_format = 'The course number is {1}. It has {0} students.'.format(course_number, class_size)\n",
    "f_string = f'The course number is {class_size}. It has {course_number} students.'\n",
    "\n",
    "print(str_format)\n",
    "print(f_string)"
   ]
  },
  {
   "cell_type": "markdown",
   "id": "b622b7d4",
   "metadata": {},
   "source": [
    "## Example 5 adding a float"
   ]
  },
  {
   "cell_type": "code",
   "execution_count": 12,
   "id": "e34555cc",
   "metadata": {},
   "outputs": [
    {
     "name": "stdout",
     "output_type": "stream",
     "text": [
      "The course number is EAS503. It has 113 students. The class average is 92.3.\n",
      "The course number is 113. It has EAS503 students. The class average is 92.3.\n"
     ]
    }
   ],
   "source": [
    "course_number = 'EAS503'\n",
    "class_size = 113\n",
    "class_average = 92.3\n",
    "str_format = 'The course number is {0}. It has {1} students. The class average is {2}.'.format(course_number, class_size, class_average)\n",
    "f_string = f'The course number is {class_size}. It has {course_number} students. The class average is {class_average}.'\n",
    "\n",
    "print(str_format)\n",
    "print(f_string)"
   ]
  },
  {
   "cell_type": "markdown",
   "id": "2be317cb",
   "metadata": {},
   "source": [
    "## Example 6 specify number of spaces to use -- width"
   ]
  },
  {
   "cell_type": "code",
   "execution_count": 13,
   "id": "6bc0f0a2",
   "metadata": {},
   "outputs": [
    {
     "name": "stdout",
     "output_type": "stream",
     "text": [
      "The course number is EAS503    . It has        113 students. The class average is       92.3.\n",
      "The course number is EAS503    . It has        113 students. The class average is       92.3.\n"
     ]
    }
   ],
   "source": [
    "course_number = 'EAS503'\n",
    "class_size = 113\n",
    "class_average = 92.3\n",
    "str_format = 'The course number is {0:10}. It has {1:10} students. The class average is {2:10}.'.format(course_number, class_size, class_average)\n",
    "f_string = f'The course number is {course_number:10}. It has {class_size:10} students. The class average is {class_average:10}.'\n",
    "\n",
    "print(str_format)\n",
    "print(f_string)"
   ]
  },
  {
   "cell_type": "markdown",
   "id": "6efb5ee6",
   "metadata": {},
   "source": [
    "## Example 7 right align"
   ]
  },
  {
   "cell_type": "code",
   "execution_count": 14,
   "id": "b9ad9441",
   "metadata": {},
   "outputs": [
    {
     "name": "stdout",
     "output_type": "stream",
     "text": [
      "The course number is     EAS503. It has        113 students. The class average is       92.3.\n",
      "The course number is     EAS503. It has        113 students. The class average is       92.3.\n"
     ]
    }
   ],
   "source": [
    "course_number = 'EAS503'\n",
    "class_size = 113\n",
    "class_average = 92.3\n",
    "str_format = 'The course number is {0:>10}. It has {1:>10} students. The class average is {2:>10}.'.format(course_number, class_size, class_average)\n",
    "f_string = f'The course number is {course_number:>10}. It has {class_size:>10} students. The class average is {class_average:>10}.'\n",
    "\n",
    "print(str_format)\n",
    "print(f_string)"
   ]
  },
  {
   "cell_type": "markdown",
   "id": "a89ccae4",
   "metadata": {},
   "source": [
    "## Example 8 left align"
   ]
  },
  {
   "cell_type": "code",
   "execution_count": 15,
   "id": "85964ade",
   "metadata": {},
   "outputs": [
    {
     "name": "stdout",
     "output_type": "stream",
     "text": [
      "The course number is EAS503    . It has 113        students. The class average is 92.3      .\n",
      "The course number is EAS503    . It has 113        students. The class average is 92.3      .\n"
     ]
    }
   ],
   "source": [
    "course_number = 'EAS503'\n",
    "class_size = 113\n",
    "class_average = 92.3\n",
    "str_format = 'The course number is {0:<10}. It has {1:<10} students. The class average is {2:<10}.'.format(course_number, class_size, class_average)\n",
    "f_string = f'The course number is {course_number:<10}. It has {class_size:<10} students. The class average is {class_average:<10}.'\n",
    "\n",
    "print(str_format)\n",
    "print(f_string)"
   ]
  },
  {
   "cell_type": "markdown",
   "id": "1d949c2a",
   "metadata": {},
   "source": [
    "## Example 9 center align"
   ]
  },
  {
   "cell_type": "code",
   "execution_count": 16,
   "id": "734851b4",
   "metadata": {},
   "outputs": [
    {
     "name": "stdout",
     "output_type": "stream",
     "text": [
      "The course number is   EAS503  . It has    113     students. The class average is    92.3   .\n",
      "The course number is   EAS503  . It has    113     students. The class average is    92.3   .\n"
     ]
    }
   ],
   "source": [
    "course_number = 'EAS503'\n",
    "class_size = 113\n",
    "class_average = 92.3\n",
    "str_format = 'The course number is {0:^10}. It has {1:^10} students. The class average is {2:^10}.'.format(course_number, class_size, class_average)\n",
    "f_string = f'The course number is {course_number:^10}. It has {class_size:^10} students. The class average is {class_average:^10}.'\n",
    "\n",
    "print(str_format)\n",
    "print(f_string)"
   ]
  },
  {
   "cell_type": "markdown",
   "id": "33b4f68d",
   "metadata": {},
   "source": [
    "## Example 10 Padding with zeros\n",
    "- Zero padding does not require a alignment specifier"
   ]
  },
  {
   "cell_type": "code",
   "execution_count": 17,
   "id": "a1659e3b",
   "metadata": {},
   "outputs": [
    {
     "name": "stdout",
     "output_type": "stream",
     "text": [
      "The number padded 223333 padded with zeros 00223333\n",
      "The number padded 223333 padded with zeros 00223333\n"
     ]
    }
   ],
   "source": [
    "student_id = 223333\n",
    "\n",
    "str_format = 'The number padded {} padded with zeros {:08}'.format(student_id, student_id)\n",
    "f_string = f'The number padded {student_id} padded with zeros {student_id:08}'\n",
    "\n",
    "print(str_format)\n",
    "print(f_string)"
   ]
  },
  {
   "cell_type": "markdown",
   "id": "76092a11",
   "metadata": {},
   "source": [
    "## Example 11 Padding with dashes"
   ]
  },
  {
   "cell_type": "code",
   "execution_count": 18,
   "id": "3db92aad",
   "metadata": {},
   "outputs": [
    {
     "name": "stdout",
     "output_type": "stream",
     "text": [
      "The number padded 223333 padded with zeros --223333\n",
      "The number padded 223333 padded with zeros --223333\n"
     ]
    }
   ],
   "source": [
    "student_id = 223333\n",
    "\n",
    "str_format = 'The number padded {} padded with zeros {:->8}'.format(student_id, student_id)\n",
    "f_string = f'The number padded {student_id} padded with zeros {student_id:->8}'\n",
    "\n",
    "print(str_format)\n",
    "print(f_string)"
   ]
  },
  {
   "cell_type": "markdown",
   "id": "69c3cd68",
   "metadata": {},
   "source": [
    "## Example 12 Adding Commas"
   ]
  },
  {
   "cell_type": "code",
   "execution_count": 19,
   "id": "27a824c5",
   "metadata": {},
   "outputs": [
    {
     "data": {
      "text/plain": [
       "'123,456'"
      ]
     },
     "execution_count": 19,
     "metadata": {},
     "output_type": "execute_result"
    }
   ],
   "source": [
    "number = 123456\n",
    "f'{number:,}'"
   ]
  },
  {
   "cell_type": "code",
   "execution_count": 20,
   "id": "925f2e6e",
   "metadata": {},
   "outputs": [
    {
     "data": {
      "text/plain": [
       "'123,456.23'"
      ]
     },
     "execution_count": 20,
     "metadata": {},
     "output_type": "execute_result"
    }
   ],
   "source": [
    "number = 123456.2345\n",
    "f'{number:,.2f}'"
   ]
  },
  {
   "cell_type": "markdown",
   "id": "2e02324a",
   "metadata": {},
   "source": [
    "## Rounding\n",
    "- When you use `.2f`, for example, the f-string will round, but keep the trailing zero. When you use the `round()` function, the trailing zero is dropped. Study the following examples."
   ]
  },
  {
   "cell_type": "code",
   "execution_count": 21,
   "id": "71442a4a",
   "metadata": {},
   "outputs": [
    {
     "data": {
      "text/plain": [
       "'4'"
      ]
     },
     "execution_count": 21,
     "metadata": {},
     "output_type": "execute_result"
    }
   ],
   "source": [
    "f'{3.5:.0f}'"
   ]
  },
  {
   "cell_type": "code",
   "execution_count": 22,
   "id": "fe014e8a",
   "metadata": {},
   "outputs": [
    {
     "data": {
      "text/plain": [
       "'4'"
      ]
     },
     "execution_count": 22,
     "metadata": {},
     "output_type": "execute_result"
    }
   ],
   "source": [
    "f'{4.5:.0f}'"
   ]
  },
  {
   "cell_type": "code",
   "execution_count": 23,
   "id": "970baf00",
   "metadata": {},
   "outputs": [
    {
     "data": {
      "text/plain": [
       "'2.67'"
      ]
     },
     "execution_count": 23,
     "metadata": {},
     "output_type": "execute_result"
    }
   ],
   "source": [
    "f'{2.675:.2f}'"
   ]
  },
  {
   "cell_type": "code",
   "execution_count": 24,
   "id": "bf5a5910",
   "metadata": {},
   "outputs": [
    {
     "data": {
      "text/plain": [
       "'4.50'"
      ]
     },
     "execution_count": 24,
     "metadata": {},
     "output_type": "execute_result"
    }
   ],
   "source": [
    "f'{4.5:.2f}'"
   ]
  },
  {
   "cell_type": "code",
   "execution_count": 25,
   "id": "b664e048",
   "metadata": {},
   "outputs": [
    {
     "data": {
      "text/plain": [
       "4.5"
      ]
     },
     "execution_count": 25,
     "metadata": {},
     "output_type": "execute_result"
    }
   ],
   "source": [
    "round(4.5, 2)"
   ]
  },
  {
   "cell_type": "code",
   "execution_count": 26,
   "id": "c58450a8",
   "metadata": {},
   "outputs": [
    {
     "data": {
      "text/plain": [
       "'4'"
      ]
     },
     "execution_count": 26,
     "metadata": {},
     "output_type": "execute_result"
    }
   ],
   "source": [
    "f'{4.5:.0f}'"
   ]
  },
  {
   "cell_type": "code",
   "execution_count": 27,
   "id": "9ba40a72",
   "metadata": {},
   "outputs": [
    {
     "data": {
      "text/plain": [
       "'4.90'"
      ]
     },
     "execution_count": 27,
     "metadata": {},
     "output_type": "execute_result"
    }
   ],
   "source": [
    "f'{4.8999:.2f}'"
   ]
  },
  {
   "cell_type": "code",
   "execution_count": 28,
   "id": "6a099d52",
   "metadata": {},
   "outputs": [
    {
     "data": {
      "text/plain": [
       "4.9"
      ]
     },
     "execution_count": 28,
     "metadata": {},
     "output_type": "execute_result"
    }
   ],
   "source": [
    "round(4.8999, 2)"
   ]
  }
 ],
 "metadata": {
  "jupytext": {
   "formats": "md:myst",
   "text_representation": {
    "extension": ".md",
    "format_name": "myst"
   }
  },
  "kernelspec": {
   "display_name": "Python 3",
   "language": "python",
   "name": "python3"
  },
  "language_info": {
   "codemirror_mode": {
    "name": "ipython",
    "version": 3
   },
   "file_extension": ".py",
   "mimetype": "text/x-python",
   "name": "python",
   "nbconvert_exporter": "python",
   "pygments_lexer": "ipython3",
   "version": "3.10.9"
  },
  "source_map": [
   11,
   17,
   20,
   33,
   37,
   43,
   47,
   70,
   75,
   79,
   86,
   92,
   95,
   100,
   110,
   114,
   124,
   129,
   139,
   144,
   153,
   157,
   166,
   170,
   179,
   184,
   193,
   197,
   206,
   211,
   220,
   224,
   232,
   236,
   244,
   248,
   253,
   256,
   261,
   265,
   269,
   273,
   277,
   281,
   285,
   289
  ]
 },
 "nbformat": 4,
 "nbformat_minor": 5
}