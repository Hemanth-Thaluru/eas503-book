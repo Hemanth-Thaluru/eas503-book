{
 "cells": [
  {
   "cell_type": "markdown",
   "id": "3d55f54c",
   "metadata": {},
   "source": [
    "- [Video Recording (36 minutes)](https://ub.hosted.panopto.com/Panopto/Pages/Viewer.aspx?id=c8e521d6-9b89-4f8e-ae5b-afa3004ff4f5)\n",
    "- [Jupyter Notebook](https://github.com/mkzia/eas503-book-notes/blob/main/03/formatting.ipynb)\n",
    "\n",
    "# String Formatting\n",
    "\n",
    "The fastest and latest way to do string formatting is using the F-strings."
   ]
  },
  {
   "cell_type": "code",
   "execution_count": 1,
   "id": "190df4ce",
   "metadata": {},
   "outputs": [
    {
     "name": "stdout",
     "output_type": "stream",
     "text": [
      "3.14\n"
     ]
    }
   ],
   "source": [
    "  PI = 3.14159265359 \n",
    "  print(f'{PI:.2f}')"
   ]
  },
  {
   "cell_type": "markdown",
   "id": "09dc273a",
   "metadata": {},
   "source": [
    "But you have to know the other ways so you can read older code or use these ways if you have to use an older version of Python\n",
    "\n",
    "## What can you format?\n",
    "String-formatting allows you to do at least five things. These string-format specifiers come after a colon. \n",
    "1. specify width\n",
    "2. align data to left, right, or center; make sure to explain the default alignment for string and number; make sure to \n",
    "3. specify padding character when specified width is greater than the width of the string/number being used\n",
    "4. specify precision for floating values\n",
    "5. add commas to numbers for easier viewing; \n",
    "\n",
    "\n",
    "## Oldest Method"
   ]
  },
  {
   "cell_type": "code",
   "execution_count": 2,
   "id": "97e08f28",
   "metadata": {},
   "outputs": [
    {
     "name": "stdout",
     "output_type": "stream",
     "text": [
      "PI is 3.14\n"
     ]
    }
   ],
   "source": [
    "  PI = 3.14159265359 \n",
    "  name = 'PI'\n",
    "  print('%s is %.2f' % (name, PI))  # oldest way format specifier is <width>.<precision><type>"
   ]
  },
  {
   "cell_type": "markdown",
   "id": "a4a7f9a2",
   "metadata": {},
   "source": [
    "## Newer Method\n",
    "Still used for creating string templates."
   ]
  },
  {
   "cell_type": "code",
   "execution_count": 3,
   "id": "933f72f6",
   "metadata": {},
   "outputs": [
    {
     "name": "stdout",
     "output_type": "stream",
     "text": [
      "PI is 3.14\n"
     ]
    }
   ],
   "source": [
    "PI = 3.14159265359 \n",
    "name = 'PI'\n",
    "print(('{0} is {1:.2f}'.format('PI', PI)) ) # "
   ]
  },
  {
   "cell_type": "markdown",
   "id": "abdae4f5",
   "metadata": {},
   "source": [
    "## Newest Method\n",
    "Newest and fastest method for string formatting.\n",
    "`{<index>:<format-specifier>}` where the format specifier is: `<padding_character><alignment><width>.<comma><precision><type>`\n",
    "- padding_character can be anything. most common are\n",
    "  - space (default)\n",
    "  - `-`\n",
    "  - `0` \n",
    "- alignment\n",
    "  - `<` -- left aligned\n",
    "  - `^` -- center aligned\n",
    "  - `>` -- right aligned\n",
    "- width is a number. If the width is greater than the number of characters, then:\n",
    "  - strings are left aligned\n",
    "  - numbers are right aligned \n",
    "- comma is used to add commas to large numbers for easier viewing\n",
    "- precision controls how many decimal places to show. **NOTE** This uses round, but leaves trailing zeros.\n",
    "- type specifies the data type\n",
    "  - `f` -- float\n",
    "  - `d` -- integer\n",
    "  - `s` -- string"
   ]
  },
  {
   "cell_type": "code",
   "execution_count": 4,
   "id": "c22b46da",
   "metadata": {},
   "outputs": [
    {
     "name": "stdout",
     "output_type": "stream",
     "text": [
      "PI is 3.14\n"
     ]
    }
   ],
   "source": [
    "PI = 3.14159265359 \n",
    "name = 'PI'\n",
    "# {<name_of_variable>:<format-specifier>} where the format specifier is <width>.<precision><type>\n",
    "print(f'{name} is {PI:.2f}') # newest way"
   ]
  },
  {
   "cell_type": "markdown",
   "id": "ced33f43",
   "metadata": {},
   "source": [
    "Reference: https://pyformat.info/"
   ]
  },
  {
   "cell_type": "code",
   "execution_count": 5,
   "id": "aab116e0",
   "metadata": {},
   "outputs": [
    {
     "name": "stdout",
     "output_type": "stream",
     "text": [
      "EAS503 113 92.3\n"
     ]
    }
   ],
   "source": [
    "a_str = 'EAS503'\n",
    "an_int = 113\n",
    "a_float = 92.3\n",
    "print(a_str, an_int, a_float)"
   ]
  },
  {
   "cell_type": "code",
   "execution_count": 6,
   "id": "40aae7a5",
   "metadata": {},
   "outputs": [],
   "source": [
    "line1 = 'This is the first line.\\n'\n",
    "line2 = 'This is the second line.'\n",
    "lines = line1 + line2"
   ]
  },
  {
   "cell_type": "code",
   "execution_count": 7,
   "id": "debe1172",
   "metadata": {},
   "outputs": [],
   "source": [
    "line = 'This is the first line.\\n'\n",
    "line += 'This is the second line.'"
   ]
  },
  {
   "cell_type": "markdown",
   "id": "8f2d1037",
   "metadata": {},
   "source": [
    "## Example 1"
   ]
  },
  {
   "cell_type": "code",
   "execution_count": 8,
   "id": "b4426aaf",
   "metadata": {},
   "outputs": [
    {
     "name": "stdout",
     "output_type": "stream",
     "text": [
      "EAS503\n",
      "EAS503\n"
     ]
    }
   ],
   "source": [
    "course_number = 'EAS503'\n",
    "class_size = 113\n",
    "class_average = 92.3\n",
    "\n",
    "str_format = '{}'.format(course_number)\n",
    "f_string = f'{course_number}'\n",
    "\n",
    "print(str_format)\n",
    "print(f_string)"
   ]
  },
  {
   "cell_type": "markdown",
   "id": "87250832",
   "metadata": {},
   "source": [
    "## Example 2"
   ]
  },
  {
   "cell_type": "code",
   "execution_count": 9,
   "id": "2e6eba9c",
   "metadata": {},
   "outputs": [
    {
     "name": "stdout",
     "output_type": "stream",
     "text": [
      "The course number is EAS503.\n",
      "The course number is EAS503.\n"
     ]
    }
   ],
   "source": [
    "course_number = 'EAS503'\n",
    "class_size = 113\n",
    "class_average = 92.3\n",
    "\n",
    "str_format = 'The course number is {}.'.format(course_number)\n",
    "f_string = f'The course number is {course_number}.'\n",
    "\n",
    "print(str_format)\n",
    "print(f_string)"
   ]
  },
  {
   "cell_type": "markdown",
   "id": "9d29eef5",
   "metadata": {},
   "source": [
    "## Example 3 use index"
   ]
  },
  {
   "cell_type": "code",
   "execution_count": 10,
   "id": "6c9decdc",
   "metadata": {},
   "outputs": [
    {
     "name": "stdout",
     "output_type": "stream",
     "text": [
      "The course number is EAS503. It has 113 students.\n",
      "The course number is EAS503. It has 113 students.\n"
     ]
    }
   ],
   "source": [
    "course_number = 'EAS503'\n",
    "class_size = 113\n",
    "class_average = 92.3\n",
    "str_format = 'The course number is {}. It has {} students.'.format(course_number, class_size)\n",
    "str_format = 'The course number is {0}. It has {1} students.'.format(course_number, class_size)\n",
    "f_string = f'The course number is {course_number}. It has {class_size} students.'\n",
    "\n",
    "print(str_format)\n",
    "print(f_string)"
   ]
  },
  {
   "cell_type": "markdown",
   "id": "48913b60",
   "metadata": {},
   "source": [
    "## Example 4 change index"
   ]
  },
  {
   "cell_type": "code",
   "execution_count": 11,
   "id": "c344fbf1",
   "metadata": {},
   "outputs": [
    {
     "name": "stdout",
     "output_type": "stream",
     "text": [
      "The course number is 113. It has EAS503 students.\n",
      "The course number is 113. It has EAS503 students.\n"
     ]
    }
   ],
   "source": [
    "course_number = 'EAS503'\n",
    "class_size = 113\n",
    "class_average = 92.3\n",
    "str_format = 'The course number is {1}. It has {0} students.'.format(course_number, class_size)\n",
    "f_string = f'The course number is {class_size}. It has {course_number} students.'\n",
    "\n",
    "print(str_format)\n",
    "print(f_string)"
   ]
  },
  {
   "cell_type": "markdown",
   "id": "795dcf74",
   "metadata": {},
   "source": [
    "## Example 5 adding a float"
   ]
  },
  {
   "cell_type": "code",
   "execution_count": 12,
   "id": "94b41648",
   "metadata": {},
   "outputs": [
    {
     "name": "stdout",
     "output_type": "stream",
     "text": [
      "The course number is EAS503. It has 113 students. The class average is 92.3.\n",
      "The course number is 113. It has EAS503 students. The class average is 92.3.\n"
     ]
    }
   ],
   "source": [
    "course_number = 'EAS503'\n",
    "class_size = 113\n",
    "class_average = 92.3\n",
    "str_format = 'The course number is {0}. It has {1} students. The class average is {2}.'.format(course_number, class_size, class_average)\n",
    "f_string = f'The course number is {class_size}. It has {course_number} students. The class average is {class_average}.'\n",
    "\n",
    "print(str_format)\n",
    "print(f_string)"
   ]
  },
  {
   "cell_type": "markdown",
   "id": "ef5c5ca0",
   "metadata": {},
   "source": [
    "## Example 6 specify number of spaces to use -- width"
   ]
  },
  {
   "cell_type": "code",
   "execution_count": 13,
   "id": "8d1e570f",
   "metadata": {},
   "outputs": [
    {
     "name": "stdout",
     "output_type": "stream",
     "text": [
      "The course number is EAS503    . It has        113 students. The class average is       92.3.\n",
      "The course number is EAS503    . It has        113 students. The class average is       92.3.\n"
     ]
    }
   ],
   "source": [
    "course_number = 'EAS503'\n",
    "class_size = 113\n",
    "class_average = 92.3\n",
    "str_format = 'The course number is {0:10}. It has {1:10} students. The class average is {2:10}.'.format(course_number, class_size, class_average)\n",
    "f_string = f'The course number is {course_number:10}. It has {class_size:10} students. The class average is {class_average:10}.'\n",
    "\n",
    "print(str_format)\n",
    "print(f_string)"
   ]
  },
  {
   "cell_type": "markdown",
   "id": "831f1054",
   "metadata": {},
   "source": [
    "## Example 7 right align"
   ]
  },
  {
   "cell_type": "code",
   "execution_count": 14,
   "id": "a93575d8",
   "metadata": {},
   "outputs": [
    {
     "name": "stdout",
     "output_type": "stream",
     "text": [
      "The course number is     EAS503. It has        113 students. The class average is       92.3.\n",
      "The course number is     EAS503. It has        113 students. The class average is       92.3.\n"
     ]
    }
   ],
   "source": [
    "course_number = 'EAS503'\n",
    "class_size = 113\n",
    "class_average = 92.3\n",
    "str_format = 'The course number is {0:>10}. It has {1:>10} students. The class average is {2:>10}.'.format(course_number, class_size, class_average)\n",
    "f_string = f'The course number is {course_number:>10}. It has {class_size:>10} students. The class average is {class_average:>10}.'\n",
    "\n",
    "print(str_format)\n",
    "print(f_string)"
   ]
  },
  {
   "cell_type": "markdown",
   "id": "4560e402",
   "metadata": {},
   "source": [
    "## Example 8 left align"
   ]
  },
  {
   "cell_type": "code",
   "execution_count": 15,
   "id": "593ac69a",
   "metadata": {},
   "outputs": [
    {
     "name": "stdout",
     "output_type": "stream",
     "text": [
      "The course number is EAS503    . It has 113        students. The class average is 92.3      .\n",
      "The course number is EAS503    . It has 113        students. The class average is 92.3      .\n"
     ]
    }
   ],
   "source": [
    "course_number = 'EAS503'\n",
    "class_size = 113\n",
    "class_average = 92.3\n",
    "str_format = 'The course number is {0:<10}. It has {1:<10} students. The class average is {2:<10}.'.format(course_number, class_size, class_average)\n",
    "f_string = f'The course number is {course_number:<10}. It has {class_size:<10} students. The class average is {class_average:<10}.'\n",
    "\n",
    "print(str_format)\n",
    "print(f_string)"
   ]
  },
  {
   "cell_type": "markdown",
   "id": "9f4da5e0",
   "metadata": {},
   "source": [
    "## Example 9 center align"
   ]
  },
  {
   "cell_type": "code",
   "execution_count": 16,
   "id": "9da7aeb1",
   "metadata": {},
   "outputs": [
    {
     "name": "stdout",
     "output_type": "stream",
     "text": [
      "The course number is   EAS503  . It has    113     students. The class average is    92.3   .\n",
      "The course number is   EAS503  . It has    113     students. The class average is    92.3   .\n"
     ]
    }
   ],
   "source": [
    "course_number = 'EAS503'\n",
    "class_size = 113\n",
    "class_average = 92.3\n",
    "str_format = 'The course number is {0:^10}. It has {1:^10} students. The class average is {2:^10}.'.format(course_number, class_size, class_average)\n",
    "f_string = f'The course number is {course_number:^10}. It has {class_size:^10} students. The class average is {class_average:^10}.'\n",
    "\n",
    "print(str_format)\n",
    "print(f_string)"
   ]
  },
  {
   "cell_type": "markdown",
   "id": "4f2c8007",
   "metadata": {},
   "source": [
    "## Example 10 Padding with zeros\n",
    "- Zero padding does not require a alignment specifier"
   ]
  },
  {
   "cell_type": "code",
   "execution_count": 17,
   "id": "da00380f",
   "metadata": {},
   "outputs": [
    {
     "name": "stdout",
     "output_type": "stream",
     "text": [
      "The number padded 223333 padded with zeros 00223333\n",
      "The number padded 223333 padded with zeros 00223333\n"
     ]
    }
   ],
   "source": [
    "student_id = 223333\n",
    "\n",
    "str_format = 'The number padded {} padded with zeros {:08}'.format(student_id, student_id)\n",
    "f_string = f'The number padded {student_id} padded with zeros {student_id:08}'\n",
    "\n",
    "print(str_format)\n",
    "print(f_string)"
   ]
  },
  {
   "cell_type": "markdown",
   "id": "95256a10",
   "metadata": {},
   "source": [
    "## Example 11 Padding with dashes"
   ]
  },
  {
   "cell_type": "code",
   "execution_count": 18,
   "id": "6bb9549f",
   "metadata": {},
   "outputs": [
    {
     "name": "stdout",
     "output_type": "stream",
     "text": [
      "The number padded 223333 padded with zeros --223333\n",
      "The number padded 223333 padded with zeros --223333\n"
     ]
    }
   ],
   "source": [
    "student_id = 223333\n",
    "\n",
    "str_format = 'The number padded {} padded with zeros {:->8}'.format(student_id, student_id)\n",
    "f_string = f'The number padded {student_id} padded with zeros {student_id:->8}'\n",
    "\n",
    "print(str_format)\n",
    "print(f_string)"
   ]
  },
  {
   "cell_type": "markdown",
   "id": "8df85603",
   "metadata": {},
   "source": [
    "## Example 12 Adding Commas"
   ]
  },
  {
   "cell_type": "code",
   "execution_count": 19,
   "id": "71c20fee",
   "metadata": {},
   "outputs": [
    {
     "data": {
      "text/plain": [
       "'123,456'"
      ]
     },
     "execution_count": 19,
     "metadata": {},
     "output_type": "execute_result"
    }
   ],
   "source": [
    "number = 123456\n",
    "f'{number:,}'"
   ]
  },
  {
   "cell_type": "code",
   "execution_count": 20,
   "id": "68fb098d",
   "metadata": {},
   "outputs": [
    {
     "data": {
      "text/plain": [
       "'123,456.23'"
      ]
     },
     "execution_count": 20,
     "metadata": {},
     "output_type": "execute_result"
    }
   ],
   "source": [
    "number = 123456.2345\n",
    "f'{number:,.2f}'"
   ]
  },
  {
   "cell_type": "markdown",
   "id": "3af15ac3",
   "metadata": {},
   "source": [
    "## Rounding\n",
    "- When you use `.2f`, for example, the f-string will round, but keep the trailing zero. When you use the `round()` function, the trailing zero is dropped. Study the following examples."
   ]
  },
  {
   "cell_type": "code",
   "execution_count": 21,
   "id": "63f7b565",
   "metadata": {},
   "outputs": [
    {
     "data": {
      "text/plain": [
       "'4'"
      ]
     },
     "execution_count": 21,
     "metadata": {},
     "output_type": "execute_result"
    }
   ],
   "source": [
    "f'{3.5:.0f}'"
   ]
  },
  {
   "cell_type": "code",
   "execution_count": 22,
   "id": "ca54887c",
   "metadata": {},
   "outputs": [
    {
     "data": {
      "text/plain": [
       "'4'"
      ]
     },
     "execution_count": 22,
     "metadata": {},
     "output_type": "execute_result"
    }
   ],
   "source": [
    "f'{4.5:.0f}'"
   ]
  },
  {
   "cell_type": "code",
   "execution_count": 23,
   "id": "4078ce24",
   "metadata": {},
   "outputs": [
    {
     "data": {
      "text/plain": [
       "'2.67'"
      ]
     },
     "execution_count": 23,
     "metadata": {},
     "output_type": "execute_result"
    }
   ],
   "source": [
    "f'{2.675:.2f}'"
   ]
  },
  {
   "cell_type": "code",
   "execution_count": 24,
   "id": "ddf87000",
   "metadata": {},
   "outputs": [
    {
     "data": {
      "text/plain": [
       "'4.50'"
      ]
     },
     "execution_count": 24,
     "metadata": {},
     "output_type": "execute_result"
    }
   ],
   "source": [
    "f'{4.5:.2f}'"
   ]
  },
  {
   "cell_type": "code",
   "execution_count": 25,
   "id": "4418f4f3",
   "metadata": {},
   "outputs": [
    {
     "data": {
      "text/plain": [
       "4.5"
      ]
     },
     "execution_count": 25,
     "metadata": {},
     "output_type": "execute_result"
    }
   ],
   "source": [
    "round(4.5, 2)"
   ]
  },
  {
   "cell_type": "code",
   "execution_count": 26,
   "id": "f2b6587d",
   "metadata": {},
   "outputs": [
    {
     "data": {
      "text/plain": [
       "'4'"
      ]
     },
     "execution_count": 26,
     "metadata": {},
     "output_type": "execute_result"
    }
   ],
   "source": [
    "f'{4.5:.0f}'"
   ]
  },
  {
   "cell_type": "code",
   "execution_count": 27,
   "id": "0c3605a0",
   "metadata": {},
   "outputs": [
    {
     "data": {
      "text/plain": [
       "'4.90'"
      ]
     },
     "execution_count": 27,
     "metadata": {},
     "output_type": "execute_result"
    }
   ],
   "source": [
    "f'{4.8999:.2f}'"
   ]
  },
  {
   "cell_type": "code",
   "execution_count": 28,
   "id": "1add8608",
   "metadata": {},
   "outputs": [
    {
     "data": {
      "text/plain": [
       "4.9"
      ]
     },
     "execution_count": 28,
     "metadata": {},
     "output_type": "execute_result"
    }
   ],
   "source": [
    "round(4.8999, 2)"
   ]
  }
 ],
 "metadata": {
  "jupytext": {
   "formats": "md:myst",
   "text_representation": {
    "extension": ".md",
    "format_name": "myst"
   }
  },
  "kernelspec": {
   "display_name": "Python 3",
   "language": "python",
   "name": "python3"
  },
  "language_info": {
   "codemirror_mode": {
    "name": "ipython",
    "version": 3
   },
   "file_extension": ".py",
   "mimetype": "text/x-python",
   "name": "python",
   "nbconvert_exporter": "python",
   "pygments_lexer": "ipython3",
   "version": "3.10.9"
  },
  "source_map": [
   11,
   20,
   23,
   36,
   40,
   46,
   50,
   73,
   78,
   82,
   89,
   95,
   98,
   103,
   113,
   117,
   127,
   132,
   142,
   147,
   156,
   160,
   169,
   173,
   182,
   187,
   196,
   200,
   209,
   214,
   223,
   227,
   235,
   239,
   247,
   251,
   256,
   259,
   264,
   268,
   272,
   276,
   280,
   284,
   288,
   292
  ]
 },
 "nbformat": 4,
 "nbformat_minor": 5
}