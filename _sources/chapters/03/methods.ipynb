{
 "cells": [
  {
   "cell_type": "markdown",
   "id": "58d02be3",
   "metadata": {},
   "source": [
    "# String methods\n",
    "- We have already encountered functions: built-in functions and functions we have defined. A method is another kind of function that is attached to a particular type. This section covers\n",
    "the methods that are attached to string types.  \n",
    "- Method calls in this form—`'browning'.capitalize()`—are shorthand for this: `str.capitalize('browning')`. \n",
    "- Methods are like functions, except that the first argument must be an object of the class in which the method is defined.\n",
    "\n",
    "## Strip Methods\n",
    "- `strip()` -- Strip spaces on the left and right of string"
   ]
  },
  {
   "cell_type": "code",
   "execution_count": 1,
   "id": "ac5cdd79",
   "metadata": {},
   "outputs": [
    {
     "name": "stdout",
     "output_type": "stream",
     "text": [
      "   ABBCCC   Dummy\n",
      "ABBCCC\n"
     ]
    }
   ],
   "source": [
    "my_string = '   ABBCCC  '\n",
    "print(my_string, 'Dummy')\n",
    "print(my_string.strip())"
   ]
  },
  {
   "cell_type": "markdown",
   "id": "c05d0f5e",
   "metadata": {},
   "source": [
    "- `strip(chars)` -- Strip chars on the left and right of string"
   ]
  },
  {
   "cell_type": "code",
   "execution_count": 2,
   "id": "7c3b8bda",
   "metadata": {},
   "outputs": [
    {
     "name": "stdout",
     "output_type": "stream",
     "text": [
      "BBCCC\n",
      "  ABBCCC\n"
     ]
    }
   ],
   "source": [
    "my_string = 'ABBCCCA'\n",
    "print(my_string.strip('A'))\n",
    "my_string = '  ABBCCCA'\n",
    "print(my_string.strip('A'))"
   ]
  },
  {
   "cell_type": "markdown",
   "id": "513c80cd",
   "metadata": {},
   "source": [
    "- `lstrip()` -- Strip spaces from the left of string"
   ]
  },
  {
   "cell_type": "code",
   "execution_count": 3,
   "id": "48859b19",
   "metadata": {},
   "outputs": [
    {
     "name": "stdout",
     "output_type": "stream",
     "text": [
      "   ABBCCC   Dummy\n",
      "ABBCCC   Dummy\n"
     ]
    }
   ],
   "source": [
    "my_string = '   ABBCCC  '\n",
    "print(my_string, 'Dummy')\n",
    "print(my_string.lstrip(), 'Dummy')"
   ]
  },
  {
   "cell_type": "markdown",
   "id": "3330310e",
   "metadata": {},
   "source": [
    "- `rstrip()` -- Strip spaces from the right of string"
   ]
  },
  {
   "cell_type": "code",
   "execution_count": 4,
   "id": "89b46fb8",
   "metadata": {},
   "outputs": [
    {
     "name": "stdout",
     "output_type": "stream",
     "text": [
      "   ABBCCC   Dummy\n",
      "   ABBCCC Dummy\n"
     ]
    }
   ],
   "source": [
    "my_string = '   ABBCCC  '\n",
    "print(my_string, 'Dummy')\n",
    "print(my_string.rstrip(), 'Dummy')"
   ]
  },
  {
   "cell_type": "markdown",
   "id": "12c76e89",
   "metadata": {},
   "source": [
    "## Case Methods\n",
    "- `islower()` -- Check if all alphabet characters are lower case"
   ]
  },
  {
   "cell_type": "code",
   "execution_count": 5,
   "id": "3c1613d5",
   "metadata": {},
   "outputs": [
    {
     "name": "stdout",
     "output_type": "stream",
     "text": [
      "False\n"
     ]
    }
   ],
   "source": [
    "my_string = 'EAS503'\n",
    "print(my_string.islower())"
   ]
  },
  {
   "cell_type": "markdown",
   "id": "44b38032",
   "metadata": {},
   "source": [
    "- `isupper()` -- Check if all alphabet characters are upper case"
   ]
  },
  {
   "cell_type": "code",
   "execution_count": 6,
   "id": "b573805b",
   "metadata": {},
   "outputs": [
    {
     "name": "stdout",
     "output_type": "stream",
     "text": [
      "True\n"
     ]
    }
   ],
   "source": [
    "my_string = 'EAS503'\n",
    "print(my_string.isupper())"
   ]
  },
  {
   "cell_type": "markdown",
   "id": "d9480f91",
   "metadata": {},
   "source": [
    "- `lower()` -- Lower case the string; returns a new string"
   ]
  },
  {
   "cell_type": "code",
   "execution_count": 7,
   "id": "c31e9b58",
   "metadata": {},
   "outputs": [
    {
     "name": "stdout",
     "output_type": "stream",
     "text": [
      "eas503\n"
     ]
    }
   ],
   "source": [
    "my_string = 'EAS503'\n",
    "print(my_string.lower())"
   ]
  },
  {
   "cell_type": "markdown",
   "id": "52a484a3",
   "metadata": {},
   "source": [
    "- `upper()` -- Upper case the string; returns a new string"
   ]
  },
  {
   "cell_type": "code",
   "execution_count": 8,
   "id": "3e879339",
   "metadata": {},
   "outputs": [
    {
     "name": "stdout",
     "output_type": "stream",
     "text": [
      "EAS503\n"
     ]
    }
   ],
   "source": [
    "my_string = 'eas503'\n",
    "print(my_string.upper())"
   ]
  },
  {
   "cell_type": "markdown",
   "id": "3a98d297",
   "metadata": {},
   "source": [
    "- `title()` -- Make the first letter of each word upper case"
   ]
  },
  {
   "cell_type": "code",
   "execution_count": 9,
   "id": "f02c6534",
   "metadata": {},
   "outputs": [
    {
     "name": "stdout",
     "output_type": "stream",
     "text": [
      "The Lazy Dog Jumped Over The Quick Brown Fox\n"
     ]
    }
   ],
   "source": [
    "my_string = 'the lazy dog jumped over the quick brown fox'\n",
    "print(my_string.title())"
   ]
  },
  {
   "cell_type": "markdown",
   "id": "0e8545f7",
   "metadata": {},
   "source": [
    "- `capitalize()` -- Make the first letter upper case"
   ]
  },
  {
   "cell_type": "code",
   "execution_count": 10,
   "id": "3071cc8c",
   "metadata": {},
   "outputs": [
    {
     "name": "stdout",
     "output_type": "stream",
     "text": [
      "The lazy dog jumped over the quick brown fox\n"
     ]
    }
   ],
   "source": [
    "my_string = 'the lazy dog jumped over the quick brown fox'\n",
    "print(my_string.capitalize())"
   ]
  },
  {
   "cell_type": "markdown",
   "id": "79ea6457",
   "metadata": {},
   "source": [
    "- `swapcase()` -- Make upper case upper and upper case lower"
   ]
  },
  {
   "cell_type": "code",
   "execution_count": 11,
   "id": "6baa7440",
   "metadata": {},
   "outputs": [
    {
     "name": "stdout",
     "output_type": "stream",
     "text": [
      "ThE LAzY DoG jUMPED OVEr THe QUiCK BrOWN fOX\n"
     ]
    }
   ],
   "source": [
    "my_string = 'tHe laZy dOg Jumped oveR thE quIck bRown Fox'\n",
    "print(my_string.swapcase())"
   ]
  },
  {
   "cell_type": "markdown",
   "id": "57f5b4f1",
   "metadata": {},
   "source": [
    "## Content Methods\n",
    "- `isalpha()` -- Returns `True` if all the characters are alphabet"
   ]
  },
  {
   "cell_type": "code",
   "execution_count": 12,
   "id": "87487546",
   "metadata": {},
   "outputs": [
    {
     "name": "stdout",
     "output_type": "stream",
     "text": [
      "False\n",
      "True\n"
     ]
    }
   ],
   "source": [
    "my_string = 'EAS503'\n",
    "print(my_string.isalpha())\n",
    "my_string = 'EAS'\n",
    "print(my_string.isalpha())"
   ]
  },
  {
   "cell_type": "markdown",
   "id": "dc7849b2",
   "metadata": {},
   "source": [
    "- `isdecimal()` -- Returns `True` if all the characters are numbers (0-9); USE THIS!\n",
    "- `isdigit()` -- Returns `True` if all the characters are numbers (0-9), superscripts (`\"\\u00B2\"`), or fractions `'\\u00BC'`; \n",
    "- `isnumeric()` -- Returns `True` if all the characters are numbers (0-9), superscripts (`\"\\u00B2\"`), fractions `'\\u00BC'`, or Roman Numerals!\n",
    "\n",
    "- `isalnum()` -- Returns `True` if the string is alpha numeric"
   ]
  },
  {
   "cell_type": "code",
   "execution_count": 13,
   "id": "74dcd962",
   "metadata": {},
   "outputs": [
    {
     "name": "stdout",
     "output_type": "stream",
     "text": [
      "True\n"
     ]
    }
   ],
   "source": [
    "my_string = 'EAS503'\n",
    "print(my_string.isalnum())"
   ]
  },
  {
   "cell_type": "markdown",
   "id": "5a351a83",
   "metadata": {},
   "source": [
    "- `startswith(substring)` -- Returns `True` if the string starts with the specific input argument"
   ]
  },
  {
   "cell_type": "code",
   "execution_count": 14,
   "id": "055bac62",
   "metadata": {},
   "outputs": [
    {
     "name": "stdout",
     "output_type": "stream",
     "text": [
      "True\n"
     ]
    }
   ],
   "source": [
    "my_string = 'EAS503'\n",
    "print(my_string.startswith('EAS'))"
   ]
  },
  {
   "cell_type": "markdown",
   "id": "f57e76a4",
   "metadata": {},
   "source": [
    "- `endswith(substring)` -- Returns `True` if the string ends with the specific input argument"
   ]
  },
  {
   "cell_type": "code",
   "execution_count": 15,
   "id": "631231ea",
   "metadata": {},
   "outputs": [
    {
     "name": "stdout",
     "output_type": "stream",
     "text": [
      "False\n"
     ]
    }
   ],
   "source": [
    "my_string = 'EAS503'\n",
    "print(my_string.startswith('03'))"
   ]
  },
  {
   "cell_type": "markdown",
   "id": "5fe24c11",
   "metadata": {},
   "source": [
    "- `find(substring)` -- Returns the index if the character is found; otherwise returns `-1`"
   ]
  },
  {
   "cell_type": "code",
   "execution_count": 16,
   "id": "35d92a2b",
   "metadata": {},
   "outputs": [
    {
     "name": "stdout",
     "output_type": "stream",
     "text": [
      "1\n",
      "1\n",
      "-1\n"
     ]
    }
   ],
   "source": [
    "my_string = 'ABBCCC'\n",
    "print(my_string.find('BB'))\n",
    "print(my_string.find('B'))\n",
    "print(my_string.find('AC'))"
   ]
  },
  {
   "cell_type": "markdown",
   "id": "64d8e9cc",
   "metadata": {},
   "source": [
    "- `index(substring)` -- Returns the index if the character is found; otherwise **raises an error**"
   ]
  },
  {
   "cell_type": "code",
   "execution_count": 17,
   "id": "3997edec",
   "metadata": {},
   "outputs": [
    {
     "name": "stdout",
     "output_type": "stream",
     "text": [
      "1\n",
      "1\n"
     ]
    }
   ],
   "source": [
    "my_string = 'ABBCCC'\n",
    "print(my_string.index('BB'))\n",
    "print(my_string.index('B'))"
   ]
  },
  {
   "cell_type": "code",
   "execution_count": 18,
   "id": "d6be4a68",
   "metadata": {},
   "outputs": [
    {
     "ename": "ValueError",
     "evalue": "substring not found",
     "output_type": "error",
     "traceback": [
      "\u001b[0;31m---------------------------------------------------------------------------\u001b[0m",
      "\u001b[0;31mValueError\u001b[0m                                Traceback (most recent call last)",
      "Cell \u001b[0;32mIn[18], line 2\u001b[0m\n\u001b[1;32m      1\u001b[0m my_string \u001b[38;5;241m=\u001b[39m \u001b[38;5;124m'\u001b[39m\u001b[38;5;124mABBCCC\u001b[39m\u001b[38;5;124m'\u001b[39m\n\u001b[0;32m----> 2\u001b[0m \u001b[38;5;28mprint\u001b[39m(\u001b[43mmy_string\u001b[49m\u001b[38;5;241;43m.\u001b[39;49m\u001b[43mindex\u001b[49m\u001b[43m(\u001b[49m\u001b[38;5;124;43m'\u001b[39;49m\u001b[38;5;124;43mAC\u001b[39;49m\u001b[38;5;124;43m'\u001b[39;49m\u001b[43m)\u001b[49m)\n",
      "\u001b[0;31mValueError\u001b[0m: substring not found"
     ]
    }
   ],
   "source": [
    "my_string = 'ABBCCC'\n",
    "print(my_string.index('AC'))"
   ]
  },
  {
   "cell_type": "markdown",
   "id": "805100f0",
   "metadata": {},
   "source": [
    "- `in` operator -- Returns `True` if the operand on the left exists in the string"
   ]
  },
  {
   "cell_type": "code",
   "execution_count": 19,
   "id": "fc62ba12",
   "metadata": {},
   "outputs": [
    {
     "name": "stdout",
     "output_type": "stream",
     "text": [
      "True\n"
     ]
    }
   ],
   "source": [
    "my_string = 'ABBCCC'\n",
    "print('A' in my_string)"
   ]
  },
  {
   "cell_type": "markdown",
   "id": "2d9c6c1c",
   "metadata": {},
   "source": [
    "- `count(substring)` -- Returns the number of times the substring occurs"
   ]
  },
  {
   "cell_type": "code",
   "execution_count": 20,
   "id": "5d402dd6",
   "metadata": {},
   "outputs": [
    {
     "name": "stdout",
     "output_type": "stream",
     "text": [
      "3\n",
      "1\n",
      "1\n"
     ]
    }
   ],
   "source": [
    "my_string = 'ABBCCC'\n",
    "print(my_string.count('C'))\n",
    "print(my_string.count('CC'))\n",
    "print(my_string.count('CCC'))"
   ]
  },
  {
   "cell_type": "markdown",
   "id": "6a4805cd",
   "metadata": {},
   "source": [
    "## Modification Methods\n",
    "- `replace()` -- Replaces character(s) with other character(s); returns a new string"
   ]
  },
  {
   "cell_type": "code",
   "execution_count": 21,
   "id": "d3b79aef",
   "metadata": {},
   "outputs": [
    {
     "name": "stdout",
     "output_type": "stream",
     "text": [
      "EAS503\n"
     ]
    }
   ],
   "source": [
    "my_string = '(EAS503)'\n",
    "print(my_string.replace('(', '').replace(')', ''))"
   ]
  },
  {
   "cell_type": "markdown",
   "id": "b9d74b20",
   "metadata": {},
   "source": [
    "- `zfill(number_of_zeros)` -- prepend zeros to a string; returns a new string"
   ]
  },
  {
   "cell_type": "code",
   "execution_count": 22,
   "id": "8916d195",
   "metadata": {},
   "outputs": [
    {
     "data": {
      "text/plain": [
       "'00EAS503'"
      ]
     },
     "execution_count": 22,
     "metadata": {},
     "output_type": "execute_result"
    }
   ],
   "source": [
    "my_string = 'EAS503'\n",
    "my_string.zfill(8)"
   ]
  },
  {
   "cell_type": "code",
   "execution_count": 23,
   "id": "f2fe8b59",
   "metadata": {},
   "outputs": [
    {
     "data": {
      "text/plain": [
       "'00000123'"
      ]
     },
     "execution_count": 23,
     "metadata": {},
     "output_type": "execute_result"
    }
   ],
   "source": [
    "my_string = '123'\n",
    "my_string.zfill(8)"
   ]
  },
  {
   "cell_type": "markdown",
   "id": "e7e63ee1",
   "metadata": {},
   "source": [
    "## Creating a new String\n",
    "- `join((value1, value2, value3))` -- Creates a new string separated the values by whatever is in the string"
   ]
  },
  {
   "cell_type": "code",
   "execution_count": 24,
   "id": "e146b685",
   "metadata": {},
   "outputs": [
    {
     "data": {
      "text/plain": [
       "'1900192419501990'"
      ]
     },
     "execution_count": 24,
     "metadata": {},
     "output_type": "execute_result"
    }
   ],
   "source": [
    "years = ('1900', '1924', '1950', '1990')\n",
    "''.join((years))"
   ]
  },
  {
   "cell_type": "code",
   "execution_count": 25,
   "id": "c9be6ae9",
   "metadata": {},
   "outputs": [
    {
     "data": {
      "text/plain": [
       "'1900-1924-1950-1990'"
      ]
     },
     "execution_count": 25,
     "metadata": {},
     "output_type": "execute_result"
    }
   ],
   "source": [
    "years = ('1900', '1924', '1950', '1990')\n",
    "'-'.join((years))"
   ]
  },
  {
   "cell_type": "code",
   "execution_count": 26,
   "id": "913e33d3",
   "metadata": {},
   "outputs": [
    {
     "name": "stdout",
     "output_type": "stream",
     "text": [
      "1900\n",
      "1924\n",
      "1950\n",
      "1990\n"
     ]
    }
   ],
   "source": [
    "years = ('1900', '1924', '1950', '1990')\n",
    "print('\\n'.join((years)))"
   ]
  }
 ],
 "metadata": {
  "jupytext": {
   "formats": "md:myst",
   "text_representation": {
    "extension": ".md",
    "format_name": "myst"
   }
  },
  "kernelspec": {
   "display_name": "Python 3",
   "language": "python",
   "name": "python3"
  },
  "language_info": {
   "codemirror_mode": {
    "name": "ipython",
    "version": 3
   },
   "file_extension": ".py",
   "mimetype": "text/x-python",
   "name": "python",
   "nbconvert_exporter": "python",
   "pygments_lexer": "ipython3",
   "version": "3.10.9"
  },
  "source_map": [
   11,
   21,
   25,
   27,
   32,
   35,
   39,
   41,
   45,
   49,
   52,
   54,
   57,
   59,
   62,
   64,
   67,
   69,
   72,
   74,
   77,
   79,
   82,
   87,
   92,
   98,
   101,
   103,
   106,
   108,
   111,
   113,
   118,
   120,
   125,
   128,
   130,
   133,
   135,
   140,
   144,
   147,
   149,
   154,
   157,
   162,
   167,
   172
  ]
 },
 "nbformat": 4,
 "nbformat_minor": 5
}