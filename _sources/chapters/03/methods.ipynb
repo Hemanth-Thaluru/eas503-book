{
 "cells": [
  {
   "cell_type": "markdown",
   "id": "29d86557",
   "metadata": {},
   "source": [
    "- [Video Recording (24 minutes)](https://ub.hosted.panopto.com/Panopto/Pages/Viewer.aspx?id=cd3a23f0-dff6-428b-b224-afa3017c2a79)\n",
    "- [Jupyter Notebook](https://github.com/mkzia/eas503-book-notes/blob/main/03/methods.ipynb)\n",
    "\n",
    "\n",
    "\n",
    "# String methods\n",
    "- We have already encountered functions: built-in functions and functions we have defined. A method is another kind of function that is attached to a particular type. This section covers\n",
    "the methods that are attached to string types.  \n",
    "- Method calls in this form—`'browning'.capitalize()`—are shorthand for this: `str.capitalize('browning')`. \n",
    "- Methods are like functions, except that the first argument must be an object of the class in which the method is defined.\n",
    "\n",
    "## Strip Methods\n",
    "- `strip()` -- Strip spaces on the left and right of string"
   ]
  },
  {
   "cell_type": "code",
   "execution_count": 1,
   "id": "eb121278",
   "metadata": {},
   "outputs": [
    {
     "name": "stdout",
     "output_type": "stream",
     "text": [
      "   ABBCCC   Dummy\n",
      "ABBCCC\n"
     ]
    }
   ],
   "source": [
    "my_string = '   ABBCCC  '\n",
    "print(my_string, 'Dummy')\n",
    "print(my_string.strip())"
   ]
  },
  {
   "cell_type": "markdown",
   "id": "9b479571",
   "metadata": {},
   "source": [
    "- `strip(chars)` -- Strip chars on the left and right of string"
   ]
  },
  {
   "cell_type": "code",
   "execution_count": 2,
   "id": "d72e15bc",
   "metadata": {},
   "outputs": [
    {
     "name": "stdout",
     "output_type": "stream",
     "text": [
      "BBCCC\n",
      "  ABBCCC\n"
     ]
    }
   ],
   "source": [
    "my_string = 'ABBCCCA'\n",
    "print(my_string.strip('A'))\n",
    "my_string = '  ABBCCCA'\n",
    "print(my_string.strip('A'))"
   ]
  },
  {
   "cell_type": "markdown",
   "id": "a8aa262b",
   "metadata": {},
   "source": [
    "- `lstrip()` -- Strip spaces from the left of string"
   ]
  },
  {
   "cell_type": "code",
   "execution_count": 3,
   "id": "f8be15f5",
   "metadata": {},
   "outputs": [
    {
     "name": "stdout",
     "output_type": "stream",
     "text": [
      "   ABBCCC   Dummy\n",
      "ABBCCC   Dummy\n"
     ]
    }
   ],
   "source": [
    "my_string = '   ABBCCC  '\n",
    "print(my_string, 'Dummy')\n",
    "print(my_string.lstrip(), 'Dummy')"
   ]
  },
  {
   "cell_type": "markdown",
   "id": "9f25f12d",
   "metadata": {},
   "source": [
    "- `rstrip()` -- Strip spaces from the right of string"
   ]
  },
  {
   "cell_type": "code",
   "execution_count": 4,
   "id": "a8d30f94",
   "metadata": {},
   "outputs": [
    {
     "name": "stdout",
     "output_type": "stream",
     "text": [
      "   ABBCCC   Dummy\n",
      "   ABBCCC Dummy\n"
     ]
    }
   ],
   "source": [
    "my_string = '   ABBCCC  '\n",
    "print(my_string, 'Dummy')\n",
    "print(my_string.rstrip(), 'Dummy')"
   ]
  },
  {
   "cell_type": "markdown",
   "id": "fcb30c8e",
   "metadata": {},
   "source": [
    "## Case Methods\n",
    "- `islower()` -- Check if all alphabet characters are lower case"
   ]
  },
  {
   "cell_type": "code",
   "execution_count": 5,
   "id": "611f0036",
   "metadata": {},
   "outputs": [
    {
     "name": "stdout",
     "output_type": "stream",
     "text": [
      "False\n"
     ]
    }
   ],
   "source": [
    "my_string = 'EAS503'\n",
    "print(my_string.islower())"
   ]
  },
  {
   "cell_type": "markdown",
   "id": "7454a18f",
   "metadata": {},
   "source": [
    "- `isupper()` -- Check if all alphabet characters are upper case"
   ]
  },
  {
   "cell_type": "code",
   "execution_count": 6,
   "id": "f3d034ad",
   "metadata": {},
   "outputs": [
    {
     "name": "stdout",
     "output_type": "stream",
     "text": [
      "True\n"
     ]
    }
   ],
   "source": [
    "my_string = 'EAS503'\n",
    "print(my_string.isupper())"
   ]
  },
  {
   "cell_type": "markdown",
   "id": "79fd8752",
   "metadata": {},
   "source": [
    "- `lower()` -- Lower case the string; returns a new string"
   ]
  },
  {
   "cell_type": "code",
   "execution_count": 7,
   "id": "5be47aee",
   "metadata": {},
   "outputs": [
    {
     "name": "stdout",
     "output_type": "stream",
     "text": [
      "eas503\n"
     ]
    }
   ],
   "source": [
    "my_string = 'EAS503'\n",
    "print(my_string.lower())"
   ]
  },
  {
   "cell_type": "markdown",
   "id": "e41203ec",
   "metadata": {},
   "source": [
    "- `upper()` -- Upper case the string; returns a new string"
   ]
  },
  {
   "cell_type": "code",
   "execution_count": 8,
   "id": "f5e6f92f",
   "metadata": {},
   "outputs": [
    {
     "name": "stdout",
     "output_type": "stream",
     "text": [
      "EAS503\n"
     ]
    }
   ],
   "source": [
    "my_string = 'eas503'\n",
    "print(my_string.upper())"
   ]
  },
  {
   "cell_type": "markdown",
   "id": "b00932a8",
   "metadata": {},
   "source": [
    "- `title()` -- Make the first letter of each word upper case"
   ]
  },
  {
   "cell_type": "code",
   "execution_count": 9,
   "id": "3cf6af1f",
   "metadata": {},
   "outputs": [
    {
     "name": "stdout",
     "output_type": "stream",
     "text": [
      "The Lazy Dog Jumped Over The Quick Brown Fox\n"
     ]
    }
   ],
   "source": [
    "my_string = 'the lazy dog jumped over the quick brown fox'\n",
    "print(my_string.title())"
   ]
  },
  {
   "cell_type": "markdown",
   "id": "4151351d",
   "metadata": {},
   "source": [
    "- `capitalize()` -- Make the first letter upper case"
   ]
  },
  {
   "cell_type": "code",
   "execution_count": 10,
   "id": "5d0df3c1",
   "metadata": {},
   "outputs": [
    {
     "name": "stdout",
     "output_type": "stream",
     "text": [
      "The lazy dog jumped over the quick brown fox\n"
     ]
    }
   ],
   "source": [
    "my_string = 'the lazy dog jumped over the quick brown fox'\n",
    "print(my_string.capitalize())"
   ]
  },
  {
   "cell_type": "markdown",
   "id": "026394df",
   "metadata": {},
   "source": [
    "- `swapcase()` -- Make upper case lower case and lower case upper case"
   ]
  },
  {
   "cell_type": "code",
   "execution_count": 11,
   "id": "a9df6613",
   "metadata": {},
   "outputs": [
    {
     "name": "stdout",
     "output_type": "stream",
     "text": [
      "ThE LAzY DoG jUMPED OVEr THe QUiCK BrOWN fOX\n"
     ]
    }
   ],
   "source": [
    "my_string = 'tHe laZy dOg Jumped oveR thE quIck bRown Fox'\n",
    "print(my_string.swapcase())"
   ]
  },
  {
   "cell_type": "markdown",
   "id": "19d04e7a",
   "metadata": {},
   "source": [
    "## Content Methods\n",
    "- `isalpha()` -- Returns `True` if all the characters are alphabet"
   ]
  },
  {
   "cell_type": "code",
   "execution_count": 12,
   "id": "6482e2be",
   "metadata": {},
   "outputs": [
    {
     "name": "stdout",
     "output_type": "stream",
     "text": [
      "False\n",
      "True\n"
     ]
    }
   ],
   "source": [
    "my_string = 'EAS503'\n",
    "print(my_string.isalpha())\n",
    "my_string = 'EAS'\n",
    "print(my_string.isalpha())"
   ]
  },
  {
   "cell_type": "markdown",
   "id": "056fe428",
   "metadata": {},
   "source": [
    "- `isdecimal()` -- Returns `True` if all the characters are numbers (0-9); USE THIS!\n",
    "- `isdigit()` -- Returns `True` if all the characters are numbers (0-9), superscripts (`\"\\u00B2\"`), or fractions `'\\u00BC'`; \n",
    "- `isnumeric()` -- Returns `True` if all the characters are numbers (0-9), superscripts (`\"\\u00B2\"`), fractions `'\\u00BC'`, or Roman Numerals!\n",
    "\n",
    "- `isalnum()` -- Returns `True` if the string is alpha numeric"
   ]
  },
  {
   "cell_type": "code",
   "execution_count": 13,
   "id": "90345332",
   "metadata": {},
   "outputs": [
    {
     "name": "stdout",
     "output_type": "stream",
     "text": [
      "True\n"
     ]
    }
   ],
   "source": [
    "my_string = 'EAS503'\n",
    "print(my_string.isalnum())"
   ]
  },
  {
   "cell_type": "markdown",
   "id": "4571ec52",
   "metadata": {},
   "source": [
    "- `startswith(substring)` -- Returns `True` if the string starts with the specific input argument"
   ]
  },
  {
   "cell_type": "code",
   "execution_count": 14,
   "id": "6fce94a6",
   "metadata": {},
   "outputs": [
    {
     "name": "stdout",
     "output_type": "stream",
     "text": [
      "True\n"
     ]
    }
   ],
   "source": [
    "my_string = 'EAS503'\n",
    "print(my_string.startswith('EAS'))"
   ]
  },
  {
   "cell_type": "markdown",
   "id": "28684f47",
   "metadata": {},
   "source": [
    "- `endswith(substring)` -- Returns `True` if the string ends with the specific input argument"
   ]
  },
  {
   "cell_type": "code",
   "execution_count": 15,
   "id": "4d47be63",
   "metadata": {},
   "outputs": [
    {
     "name": "stdout",
     "output_type": "stream",
     "text": [
      "True\n"
     ]
    }
   ],
   "source": [
    "my_string = 'EAS503'\n",
    "print(my_string.endswith('03'))"
   ]
  },
  {
   "cell_type": "markdown",
   "id": "b83e110a",
   "metadata": {},
   "source": [
    "- `find(substring)` -- Returns the index if the character is found; otherwise returns `-1`"
   ]
  },
  {
   "cell_type": "code",
   "execution_count": 16,
   "id": "c0796962",
   "metadata": {},
   "outputs": [
    {
     "name": "stdout",
     "output_type": "stream",
     "text": [
      "1\n",
      "1\n",
      "-1\n"
     ]
    }
   ],
   "source": [
    "my_string = 'ABBCCC'\n",
    "print(my_string.find('BB'))\n",
    "print(my_string.find('B'))\n",
    "print(my_string.find('AC'))"
   ]
  },
  {
   "cell_type": "markdown",
   "id": "04c9aac9",
   "metadata": {},
   "source": [
    "- `index(substring)` -- Returns the index if the character is found; otherwise **raises an error**"
   ]
  },
  {
   "cell_type": "code",
   "execution_count": 17,
   "id": "bce1b0cb",
   "metadata": {},
   "outputs": [
    {
     "name": "stdout",
     "output_type": "stream",
     "text": [
      "1\n",
      "1\n"
     ]
    }
   ],
   "source": [
    "my_string = 'ABBCCC'\n",
    "print(my_string.index('BB'))\n",
    "print(my_string.index('B'))"
   ]
  },
  {
   "cell_type": "code",
   "execution_count": 18,
   "id": "50a678d2",
   "metadata": {},
   "outputs": [
    {
     "ename": "ValueError",
     "evalue": "substring not found",
     "output_type": "error",
     "traceback": [
      "\u001b[0;31m---------------------------------------------------------------------------\u001b[0m",
      "\u001b[0;31mValueError\u001b[0m                                Traceback (most recent call last)",
      "Cell \u001b[0;32mIn[18], line 2\u001b[0m\n\u001b[1;32m      1\u001b[0m my_string \u001b[38;5;241m=\u001b[39m \u001b[38;5;124m'\u001b[39m\u001b[38;5;124mABBCCC\u001b[39m\u001b[38;5;124m'\u001b[39m\n\u001b[0;32m----> 2\u001b[0m \u001b[38;5;28mprint\u001b[39m(\u001b[43mmy_string\u001b[49m\u001b[38;5;241;43m.\u001b[39;49m\u001b[43mindex\u001b[49m\u001b[43m(\u001b[49m\u001b[38;5;124;43m'\u001b[39;49m\u001b[38;5;124;43mAC\u001b[39;49m\u001b[38;5;124;43m'\u001b[39;49m\u001b[43m)\u001b[49m)\n",
      "\u001b[0;31mValueError\u001b[0m: substring not found"
     ]
    }
   ],
   "source": [
    "my_string = 'ABBCCC'\n",
    "print(my_string.index('AC'))"
   ]
  },
  {
   "cell_type": "markdown",
   "id": "28302b40",
   "metadata": {},
   "source": [
    "- `in` operator -- Returns `True` if the operand on the left exists in the string"
   ]
  },
  {
   "cell_type": "code",
   "execution_count": 19,
   "id": "abd331e8",
   "metadata": {},
   "outputs": [
    {
     "name": "stdout",
     "output_type": "stream",
     "text": [
      "True\n"
     ]
    }
   ],
   "source": [
    "my_string = 'ABBCCC'\n",
    "print('A' in my_string)"
   ]
  },
  {
   "cell_type": "markdown",
   "id": "ebd45e14",
   "metadata": {},
   "source": [
    "- `count(substring)` -- Returns the number of times the substring occurs"
   ]
  },
  {
   "cell_type": "code",
   "execution_count": 20,
   "id": "2bd84753",
   "metadata": {},
   "outputs": [
    {
     "name": "stdout",
     "output_type": "stream",
     "text": [
      "3\n",
      "1\n",
      "1\n"
     ]
    }
   ],
   "source": [
    "my_string = 'ABBCCC'\n",
    "print(my_string.count('C'))\n",
    "print(my_string.count('CC'))\n",
    "print(my_string.count('CCC'))"
   ]
  },
  {
   "cell_type": "markdown",
   "id": "b5bd1830",
   "metadata": {},
   "source": [
    "## Modification Methods\n",
    "- `replace()` -- Replaces character(s) with other character(s); returns a new string\n",
    "- Given `(EAS503)`, how can you remove the parentheses?"
   ]
  },
  {
   "cell_type": "code",
   "execution_count": 21,
   "id": "6efc6af2",
   "metadata": {},
   "outputs": [
    {
     "name": "stdout",
     "output_type": "stream",
     "text": [
      "EAS503)\n",
      "EAS503\n"
     ]
    }
   ],
   "source": [
    "my_string = '(EAS503)'\n",
    "tmp1 = my_string.replace('(', '')\n",
    "print(tmp1)\n",
    "tmp2 = tmp1.replace(')', '')\n",
    "print(tmp2)"
   ]
  },
  {
   "cell_type": "markdown",
   "id": "07cab48a",
   "metadata": {},
   "source": [
    "- You can **chain** methods! **Chaining** lets you avoid having to save intermediate results."
   ]
  },
  {
   "cell_type": "code",
   "execution_count": 22,
   "id": "d2c8bf4a",
   "metadata": {},
   "outputs": [
    {
     "name": "stdout",
     "output_type": "stream",
     "text": [
      "EAS503\n"
     ]
    }
   ],
   "source": [
    "my_string = '(EAS503)'\n",
    "print(my_string.replace('(', '').replace(')', ''))"
   ]
  },
  {
   "cell_type": "markdown",
   "id": "945880bd",
   "metadata": {},
   "source": [
    "- `zfill(number_of_zeros)` -- prepend zeros to a string; returns a new string"
   ]
  },
  {
   "cell_type": "code",
   "execution_count": 23,
   "id": "2c8f2930",
   "metadata": {},
   "outputs": [
    {
     "data": {
      "text/plain": [
       "'00EAS503'"
      ]
     },
     "execution_count": 23,
     "metadata": {},
     "output_type": "execute_result"
    }
   ],
   "source": [
    "my_string = 'EAS503'\n",
    "my_string.zfill(8)"
   ]
  },
  {
   "cell_type": "code",
   "execution_count": 24,
   "id": "2a959f30",
   "metadata": {},
   "outputs": [
    {
     "data": {
      "text/plain": [
       "'00000123'"
      ]
     },
     "execution_count": 24,
     "metadata": {},
     "output_type": "execute_result"
    }
   ],
   "source": [
    "my_string = '123'\n",
    "my_string.zfill(8)"
   ]
  },
  {
   "cell_type": "markdown",
   "id": "ac7c9248",
   "metadata": {},
   "source": [
    "## Creating a new String\n",
    "- `join((value1, value2, value3))` -- Creates a new string separating the values by whatever is in the string"
   ]
  },
  {
   "cell_type": "code",
   "execution_count": 25,
   "id": "2d84a637",
   "metadata": {},
   "outputs": [
    {
     "data": {
      "text/plain": [
       "'1900192419501990'"
      ]
     },
     "execution_count": 25,
     "metadata": {},
     "output_type": "execute_result"
    }
   ],
   "source": [
    "years = ('1900', '1924', '1950', '1990')\n",
    "''.join((years))"
   ]
  },
  {
   "cell_type": "code",
   "execution_count": 26,
   "id": "4dfdf549",
   "metadata": {},
   "outputs": [
    {
     "data": {
      "text/plain": [
       "'1900-1924-1950-1990'"
      ]
     },
     "execution_count": 26,
     "metadata": {},
     "output_type": "execute_result"
    }
   ],
   "source": [
    "years = ('1900', '1924', '1950', '1990')\n",
    "'-'.join((years))"
   ]
  },
  {
   "cell_type": "code",
   "execution_count": 27,
   "id": "cd794c7b",
   "metadata": {},
   "outputs": [
    {
     "data": {
      "text/plain": [
       "'1900, 1924, 1950, 1990'"
      ]
     },
     "execution_count": 27,
     "metadata": {},
     "output_type": "execute_result"
    }
   ],
   "source": [
    "years = ('1900', '1924', '1950', '1990')\n",
    "', '.join((years))"
   ]
  },
  {
   "cell_type": "code",
   "execution_count": 28,
   "id": "5ff848d6",
   "metadata": {},
   "outputs": [
    {
     "name": "stdout",
     "output_type": "stream",
     "text": [
      "1900\n",
      "1924\n",
      "1950\n",
      "1990\n"
     ]
    }
   ],
   "source": [
    "years = ('1900', '1924', '1950', '1990')\n",
    "print('\\n'.join((years)))"
   ]
  },
  {
   "cell_type": "markdown",
   "id": "cffa6c58",
   "metadata": {},
   "source": [
    "- You can only join strings, you cannot join an integer."
   ]
  },
  {
   "cell_type": "code",
   "execution_count": 29,
   "id": "a5dea527",
   "metadata": {},
   "outputs": [
    {
     "ename": "TypeError",
     "evalue": "sequence item 3: expected str instance, int found",
     "output_type": "error",
     "traceback": [
      "\u001b[0;31m---------------------------------------------------------------------------\u001b[0m",
      "\u001b[0;31mTypeError\u001b[0m                                 Traceback (most recent call last)",
      "Cell \u001b[0;32mIn[29], line 2\u001b[0m\n\u001b[1;32m      1\u001b[0m years \u001b[38;5;241m=\u001b[39m (\u001b[38;5;124m'\u001b[39m\u001b[38;5;124m1900\u001b[39m\u001b[38;5;124m'\u001b[39m, \u001b[38;5;124m'\u001b[39m\u001b[38;5;124m1924\u001b[39m\u001b[38;5;124m'\u001b[39m, \u001b[38;5;124m'\u001b[39m\u001b[38;5;124m1950\u001b[39m\u001b[38;5;124m'\u001b[39m, \u001b[38;5;241m1990\u001b[39m)\n\u001b[0;32m----> 2\u001b[0m \u001b[38;5;124;43m'\u001b[39;49m\u001b[38;5;124;43m, \u001b[39;49m\u001b[38;5;124;43m'\u001b[39;49m\u001b[38;5;241;43m.\u001b[39;49m\u001b[43mjoin\u001b[49m\u001b[43m(\u001b[49m\u001b[43myears\u001b[49m\u001b[43m)\u001b[49m\n",
      "\u001b[0;31mTypeError\u001b[0m: sequence item 3: expected str instance, int found"
     ]
    }
   ],
   "source": [
    "years = ('1900', '1924', '1950', 1990)\n",
    "', '.join(years)"
   ]
  }
 ],
 "metadata": {
  "jupytext": {
   "formats": "md:myst",
   "text_representation": {
    "extension": ".md",
    "format_name": "myst"
   }
  },
  "kernelspec": {
   "display_name": "Python 3",
   "language": "python",
   "name": "python3"
  },
  "language_info": {
   "codemirror_mode": {
    "name": "ipython",
    "version": 3
   },
   "file_extension": ".py",
   "mimetype": "text/x-python",
   "name": "python",
   "nbconvert_exporter": "python",
   "pygments_lexer": "ipython3",
   "version": "3.10.9"
  },
  "source_map": [
   11,
   26,
   30,
   32,
   37,
   40,
   44,
   46,
   50,
   54,
   57,
   59,
   62,
   64,
   67,
   69,
   72,
   74,
   77,
   79,
   82,
   84,
   87,
   92,
   97,
   103,
   106,
   108,
   111,
   113,
   116,
   118,
   123,
   125,
   130,
   133,
   135,
   138,
   140,
   145,
   151,
   157,
   160,
   163,
   165,
   170,
   173,
   178,
   183,
   188,
   193,
   196,
   198
  ]
 },
 "nbformat": 4,
 "nbformat_minor": 5
}