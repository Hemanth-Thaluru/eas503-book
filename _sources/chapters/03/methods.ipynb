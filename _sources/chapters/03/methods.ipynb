{
 "cells": [
  {
   "cell_type": "markdown",
   "id": "f606f235",
   "metadata": {},
   "source": [
    "# String methods\n",
    "- We have already encountered functions: built-in functions and functions we have defined. A method is another kind of function that is attached to a particular type. This section covers\n",
    "the methods that are attached to string types.  \n",
    "- Method calls in this form—`'browning'.capitalize()`—are shorthand for this: `str.capitalize('browning')`. \n",
    "- Methods are like functions, except that the first argument must be an object of the class in which the method is defined.\n",
    "\n",
    "## Strip Methods\n",
    "- `strip()` -- Strip spaces on the left and right of string"
   ]
  },
  {
   "cell_type": "code",
   "execution_count": 1,
   "id": "a098c4fe",
   "metadata": {},
   "outputs": [
    {
     "name": "stdout",
     "output_type": "stream",
     "text": [
      "   ABBCCC   Dummy\n",
      "ABBCCC\n"
     ]
    }
   ],
   "source": [
    "my_string = '   ABBCCC  '\n",
    "print(my_string, 'Dummy')\n",
    "print(my_string.strip())"
   ]
  },
  {
   "cell_type": "markdown",
   "id": "e0c47814",
   "metadata": {},
   "source": [
    "- `strip(chars)` -- Strip chars on the left and right of string"
   ]
  },
  {
   "cell_type": "code",
   "execution_count": 2,
   "id": "2e524d1f",
   "metadata": {},
   "outputs": [
    {
     "name": "stdout",
     "output_type": "stream",
     "text": [
      "BBCCC\n",
      "  ABBCCC\n"
     ]
    }
   ],
   "source": [
    "my_string = 'ABBCCCA'\n",
    "print(my_string.strip('A'))\n",
    "my_string = '  ABBCCCA'\n",
    "print(my_string.strip('A'))"
   ]
  },
  {
   "cell_type": "markdown",
   "id": "820e0f17",
   "metadata": {},
   "source": [
    "- `lstrip()` -- Strip spaces from the left of string"
   ]
  },
  {
   "cell_type": "code",
   "execution_count": 3,
   "id": "f86ac904",
   "metadata": {},
   "outputs": [
    {
     "name": "stdout",
     "output_type": "stream",
     "text": [
      "   ABBCCC   Dummy\n",
      "ABBCCC   Dummy\n"
     ]
    }
   ],
   "source": [
    "my_string = '   ABBCCC  '\n",
    "print(my_string, 'Dummy')\n",
    "print(my_string.lstrip(), 'Dummy')"
   ]
  },
  {
   "cell_type": "markdown",
   "id": "7a2ca9df",
   "metadata": {},
   "source": [
    "- `rstrip()` -- Strip spaces from the right of string"
   ]
  },
  {
   "cell_type": "code",
   "execution_count": 4,
   "id": "5c19be89",
   "metadata": {},
   "outputs": [
    {
     "name": "stdout",
     "output_type": "stream",
     "text": [
      "   ABBCCC   Dummy\n",
      "   ABBCCC Dummy\n"
     ]
    }
   ],
   "source": [
    "my_string = '   ABBCCC  '\n",
    "print(my_string, 'Dummy')\n",
    "print(my_string.rstrip(), 'Dummy')"
   ]
  },
  {
   "cell_type": "markdown",
   "id": "8e0e37a7",
   "metadata": {},
   "source": [
    "## Case Methods\n",
    "- `islower()` -- Check if all alphabet characters are lower case"
   ]
  },
  {
   "cell_type": "code",
   "execution_count": 5,
   "id": "84602caa",
   "metadata": {},
   "outputs": [
    {
     "name": "stdout",
     "output_type": "stream",
     "text": [
      "False\n"
     ]
    }
   ],
   "source": [
    "my_string = 'EAS503'\n",
    "print(my_string.islower())"
   ]
  },
  {
   "cell_type": "markdown",
   "id": "3850c1fd",
   "metadata": {},
   "source": [
    "- `isupper()` -- Check if all alphabet characters are upper case"
   ]
  },
  {
   "cell_type": "code",
   "execution_count": 6,
   "id": "a5aee838",
   "metadata": {},
   "outputs": [
    {
     "name": "stdout",
     "output_type": "stream",
     "text": [
      "True\n"
     ]
    }
   ],
   "source": [
    "my_string = 'EAS503'\n",
    "print(my_string.isupper())"
   ]
  },
  {
   "cell_type": "markdown",
   "id": "b1649592",
   "metadata": {},
   "source": [
    "- `lower()` -- Lower case the string; returns a new string"
   ]
  },
  {
   "cell_type": "code",
   "execution_count": 7,
   "id": "70a22db6",
   "metadata": {},
   "outputs": [
    {
     "name": "stdout",
     "output_type": "stream",
     "text": [
      "eas503\n"
     ]
    }
   ],
   "source": [
    "my_string = 'EAS503'\n",
    "print(my_string.lower())"
   ]
  },
  {
   "cell_type": "markdown",
   "id": "bef30893",
   "metadata": {},
   "source": [
    "- `upper()` -- Upper case the string; returns a new string"
   ]
  },
  {
   "cell_type": "code",
   "execution_count": 8,
   "id": "fdf498ae",
   "metadata": {},
   "outputs": [
    {
     "name": "stdout",
     "output_type": "stream",
     "text": [
      "EAS503\n"
     ]
    }
   ],
   "source": [
    "my_string = 'eas503'\n",
    "print(my_string.upper())"
   ]
  },
  {
   "cell_type": "markdown",
   "id": "2e6598e1",
   "metadata": {},
   "source": [
    "- `title()` -- Make the first letter of each word upper case"
   ]
  },
  {
   "cell_type": "code",
   "execution_count": 9,
   "id": "5b76ff71",
   "metadata": {},
   "outputs": [
    {
     "name": "stdout",
     "output_type": "stream",
     "text": [
      "The Lazy Dog Jumped Over The Quick Brown Fox\n"
     ]
    }
   ],
   "source": [
    "my_string = 'the lazy dog jumped over the quick brown fox'\n",
    "print(my_string.title())"
   ]
  },
  {
   "cell_type": "markdown",
   "id": "f5c51002",
   "metadata": {},
   "source": [
    "- `capitalize()` -- Make the first letter upper case"
   ]
  },
  {
   "cell_type": "code",
   "execution_count": 10,
   "id": "e5a6f6c3",
   "metadata": {},
   "outputs": [
    {
     "name": "stdout",
     "output_type": "stream",
     "text": [
      "The lazy dog jumped over the quick brown fox\n"
     ]
    }
   ],
   "source": [
    "my_string = 'the lazy dog jumped over the quick brown fox'\n",
    "print(my_string.capitalize())"
   ]
  },
  {
   "cell_type": "markdown",
   "id": "8c0c4bca",
   "metadata": {},
   "source": [
    "- `swapcase()` -- Make upper case upper and upper case lower"
   ]
  },
  {
   "cell_type": "code",
   "execution_count": 11,
   "id": "b4f28b7b",
   "metadata": {},
   "outputs": [
    {
     "name": "stdout",
     "output_type": "stream",
     "text": [
      "ThE LAzY DoG jUMPED OVEr THe QUiCK BrOWN fOX\n"
     ]
    }
   ],
   "source": [
    "my_string = 'tHe laZy dOg Jumped oveR thE quIck bRown Fox'\n",
    "print(my_string.swapcase())"
   ]
  },
  {
   "cell_type": "markdown",
   "id": "ec45d5f1",
   "metadata": {},
   "source": [
    "## Content Methods\n",
    "- `isalpha()` -- Returns `True` if all the characters are alphabet"
   ]
  },
  {
   "cell_type": "code",
   "execution_count": 12,
   "id": "c1f38859",
   "metadata": {},
   "outputs": [
    {
     "name": "stdout",
     "output_type": "stream",
     "text": [
      "False\n",
      "True\n"
     ]
    }
   ],
   "source": [
    "my_string = 'EAS503'\n",
    "print(my_string.isalpha())\n",
    "my_string = 'EAS'\n",
    "print(my_string.isalpha())"
   ]
  },
  {
   "cell_type": "markdown",
   "id": "52545c76",
   "metadata": {},
   "source": [
    "- `isdecimal()` -- Returns `True` if all the characters are numbers (0-9); USE THIS!\n",
    "- `isdigit()` -- Returns `True` if all the characters are numbers (0-9), superscripts (`\"\\u00B2\"`), or fractions `'\\u00BC'`; \n",
    "- `isnumeric()` -- Returns `True` if all the characters are numbers (0-9), superscripts (`\"\\u00B2\"`), fractions `'\\u00BC'`, Roman Numerals!\n",
    "\n",
    "- `isalnum()` -- Returns `True` if the string is alpha numeric"
   ]
  },
  {
   "cell_type": "code",
   "execution_count": 13,
   "id": "37eba021",
   "metadata": {},
   "outputs": [
    {
     "name": "stdout",
     "output_type": "stream",
     "text": [
      "True\n"
     ]
    }
   ],
   "source": [
    "my_string = 'EAS503'\n",
    "print(my_string.isalnum())"
   ]
  },
  {
   "cell_type": "markdown",
   "id": "e53973d8",
   "metadata": {},
   "source": [
    "- `startswith(substring)` -- Returns `True` if the string starts with the specific input argument"
   ]
  },
  {
   "cell_type": "code",
   "execution_count": 14,
   "id": "6dde26b5",
   "metadata": {},
   "outputs": [
    {
     "name": "stdout",
     "output_type": "stream",
     "text": [
      "True\n"
     ]
    }
   ],
   "source": [
    "my_string = 'EAS503'\n",
    "print(my_string.startswith('EAS'))"
   ]
  },
  {
   "cell_type": "markdown",
   "id": "7f52e0e7",
   "metadata": {},
   "source": [
    "- `endswith(substring)` -- Returns `True` if the string ends with the specific input argument"
   ]
  },
  {
   "cell_type": "code",
   "execution_count": 15,
   "id": "c026142c",
   "metadata": {},
   "outputs": [
    {
     "name": "stdout",
     "output_type": "stream",
     "text": [
      "False\n"
     ]
    }
   ],
   "source": [
    "my_string = 'EAS503'\n",
    "print(my_string.startswith('03'))"
   ]
  },
  {
   "cell_type": "markdown",
   "id": "3fc39a73",
   "metadata": {},
   "source": [
    "- `find(substring)` -- Returns the index if the character is found; otherwise returns `-1`"
   ]
  },
  {
   "cell_type": "code",
   "execution_count": 16,
   "id": "55923304",
   "metadata": {},
   "outputs": [
    {
     "name": "stdout",
     "output_type": "stream",
     "text": [
      "1\n",
      "1\n",
      "-1\n"
     ]
    }
   ],
   "source": [
    "my_string = 'ABBCCC'\n",
    "print(my_string.find('BB'))\n",
    "print(my_string.find('B'))\n",
    "print(my_string.find('AC'))"
   ]
  },
  {
   "cell_type": "markdown",
   "id": "efdb7a85",
   "metadata": {},
   "source": [
    "- `index(substring)` -- Returns the index if the character is found; otherwise **raises an error**"
   ]
  },
  {
   "cell_type": "code",
   "execution_count": 17,
   "id": "2e58395c",
   "metadata": {},
   "outputs": [
    {
     "name": "stdout",
     "output_type": "stream",
     "text": [
      "1\n",
      "1\n"
     ]
    }
   ],
   "source": [
    "my_string = 'ABBCCC'\n",
    "print(my_string.index('BB'))\n",
    "print(my_string.index('B'))"
   ]
  },
  {
   "cell_type": "code",
   "execution_count": 18,
   "id": "2a9b9ebd",
   "metadata": {},
   "outputs": [
    {
     "ename": "ValueError",
     "evalue": "substring not found",
     "output_type": "error",
     "traceback": [
      "\u001b[0;31m---------------------------------------------------------------------------\u001b[0m",
      "\u001b[0;31mValueError\u001b[0m                                Traceback (most recent call last)",
      "Cell \u001b[0;32mIn[18], line 2\u001b[0m\n\u001b[1;32m      1\u001b[0m my_string \u001b[38;5;241m=\u001b[39m \u001b[38;5;124m'\u001b[39m\u001b[38;5;124mABBCCC\u001b[39m\u001b[38;5;124m'\u001b[39m\n\u001b[0;32m----> 2\u001b[0m \u001b[38;5;28mprint\u001b[39m(\u001b[43mmy_string\u001b[49m\u001b[38;5;241;43m.\u001b[39;49m\u001b[43mindex\u001b[49m\u001b[43m(\u001b[49m\u001b[38;5;124;43m'\u001b[39;49m\u001b[38;5;124;43mAC\u001b[39;49m\u001b[38;5;124;43m'\u001b[39;49m\u001b[43m)\u001b[49m)\n",
      "\u001b[0;31mValueError\u001b[0m: substring not found"
     ]
    }
   ],
   "source": [
    "my_string = 'ABBCCC'\n",
    "print(my_string.index('AC'))"
   ]
  },
  {
   "cell_type": "markdown",
   "id": "1e11d9ac",
   "metadata": {},
   "source": [
    "- `in` operator -- Returns `True` if the operand on the left exists in the string"
   ]
  },
  {
   "cell_type": "code",
   "execution_count": 19,
   "id": "51160842",
   "metadata": {},
   "outputs": [
    {
     "name": "stdout",
     "output_type": "stream",
     "text": [
      "True\n"
     ]
    }
   ],
   "source": [
    "my_string = 'ABBCCC'\n",
    "print('A' in my_string)"
   ]
  },
  {
   "cell_type": "markdown",
   "id": "502c58e8",
   "metadata": {},
   "source": [
    "- `count(substring)` -- Returns the number of times the substring occurs"
   ]
  },
  {
   "cell_type": "code",
   "execution_count": 20,
   "id": "c91f00cc",
   "metadata": {},
   "outputs": [
    {
     "name": "stdout",
     "output_type": "stream",
     "text": [
      "3\n",
      "1\n",
      "1\n"
     ]
    }
   ],
   "source": [
    "my_string = 'ABBCCC'\n",
    "print(my_string.count('C'))\n",
    "print(my_string.count('CC'))\n",
    "print(my_string.count('CCC'))"
   ]
  },
  {
   "cell_type": "markdown",
   "id": "d2341e8f",
   "metadata": {},
   "source": [
    "## Modification Methods\n",
    "- `replace()` -- Replaces character(s) with other character(s); returns a new string"
   ]
  },
  {
   "cell_type": "code",
   "execution_count": 21,
   "id": "2eeb97c7",
   "metadata": {},
   "outputs": [
    {
     "ename": "SyntaxError",
     "evalue": "incomplete input (2867694673.py, line 2)",
     "output_type": "error",
     "traceback": [
      "\u001b[0;36m  Cell \u001b[0;32mIn[21], line 2\u001b[0;36m\u001b[0m\n\u001b[0;31m    print(my_string.replace('(', '').replace(')', '')\u001b[0m\n\u001b[0m                                                     ^\u001b[0m\n\u001b[0;31mSyntaxError\u001b[0m\u001b[0;31m:\u001b[0m incomplete input\n"
     ]
    }
   ],
   "source": [
    "my_string = '(EAS503)'\n",
    "print(my_string.replace('(', '').replace(')', '')"
   ]
  }
 ],
 "metadata": {
  "jupytext": {
   "formats": "md:myst",
   "text_representation": {
    "extension": ".md",
    "format_name": "myst"
   }
  },
  "kernelspec": {
   "display_name": "Python 3",
   "language": "python",
   "name": "python3"
  },
  "language_info": {
   "codemirror_mode": {
    "name": "ipython",
    "version": 3
   },
   "file_extension": ".py",
   "mimetype": "text/x-python",
   "name": "python",
   "nbconvert_exporter": "python",
   "pygments_lexer": "ipython3",
   "version": "3.10.9"
  },
  "source_map": [
   11,
   21,
   25,
   27,
   32,
   35,
   39,
   41,
   45,
   49,
   52,
   54,
   57,
   59,
   62,
   64,
   67,
   69,
   72,
   74,
   77,
   79,
   82,
   87,
   92,
   98,
   101,
   103,
   106,
   108,
   111,
   113,
   118,
   120,
   125,
   128,
   130,
   133,
   135,
   140,
   145
  ]
 },
 "nbformat": 4,
 "nbformat_minor": 5
}