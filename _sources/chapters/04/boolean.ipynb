{
 "cells": [
  {
   "cell_type": "markdown",
   "id": "469a005c",
   "metadata": {},
   "source": [
    "# Conditionals/Making Choices Using Flow Controls\n",
    "\n",
    "- So far we have only written small programs that are a sequence of instructions. Sometimes you have to alter the sequential flow of a program to suit the needs of a particular situation.\n",
    "\n",
    "## Boolean Type\n",
    "- Python has a built-in Boolean type called `bool`. Unlike `int` and `float`, which can have almost unlimited possible values, `bool` has only two: `True` and `False`. `True` and `False` are values just like 0 and -43.7. \n",
    "\n",
    "## Boolean Operators\n",
    "- There are three basic Boolean operators: `and`, `or`, and `not`. `not` has the highest precedence, followed by `and`, followed by `or`. \n",
    "\n",
    "| Operator | What it does?                                        | Example                                                                   |\n",
    "|----------|------------------------------------------------------|---------------------------------------------------------------------------|\n",
    "| `and`    | True if both a AND b are true (logical conjunction)  | if is_teacher and is_active:   print('You can access')                    |\n",
    "| `or`     | True if either a OR b are true (logical disjunction) | if is_superuser or (is_teacher and is active):    print('You can access') |\n",
    "| `not`    | True if the opposite of a is true (logical negation) | if not is_superuser:   print('You cannot access')"
   ]
  },
  {
   "cell_type": "code",
   "execution_count": 1,
   "id": "3ef67a60",
   "metadata": {},
   "outputs": [
    {
     "data": {
      "text/plain": [
       "False"
      ]
     },
     "execution_count": 1,
     "metadata": {},
     "output_type": "execute_result"
    }
   ],
   "source": [
    "not True"
   ]
  },
  {
   "cell_type": "code",
   "execution_count": 2,
   "id": "fed24bb5",
   "metadata": {},
   "outputs": [
    {
     "data": {
      "text/plain": [
       "True"
      ]
     },
     "execution_count": 2,
     "metadata": {},
     "output_type": "execute_result"
    }
   ],
   "source": [
    "not False"
   ]
  },
  {
   "cell_type": "code",
   "execution_count": 3,
   "id": "8fda90e5",
   "metadata": {},
   "outputs": [
    {
     "data": {
      "text/plain": [
       "True"
      ]
     },
     "execution_count": 3,
     "metadata": {},
     "output_type": "execute_result"
    }
   ],
   "source": [
    "True and True"
   ]
  },
  {
   "cell_type": "code",
   "execution_count": 4,
   "id": "32ff6eef",
   "metadata": {},
   "outputs": [
    {
     "data": {
      "text/plain": [
       "False"
      ]
     },
     "execution_count": 4,
     "metadata": {},
     "output_type": "execute_result"
    }
   ],
   "source": [
    "False and False"
   ]
  },
  {
   "cell_type": "code",
   "execution_count": 5,
   "id": "772aef80",
   "metadata": {},
   "outputs": [
    {
     "data": {
      "text/plain": [
       "False"
      ]
     },
     "execution_count": 5,
     "metadata": {},
     "output_type": "execute_result"
    }
   ],
   "source": [
    "True and False"
   ]
  },
  {
   "cell_type": "code",
   "execution_count": 6,
   "id": "8c8a821b",
   "metadata": {},
   "outputs": [
    {
     "data": {
      "text/plain": [
       "False"
      ]
     },
     "execution_count": 6,
     "metadata": {},
     "output_type": "execute_result"
    }
   ],
   "source": [
    "False and True"
   ]
  },
  {
   "cell_type": "code",
   "execution_count": 7,
   "id": "e690dbd1",
   "metadata": {},
   "outputs": [
    {
     "data": {
      "text/plain": [
       "True"
      ]
     },
     "execution_count": 7,
     "metadata": {},
     "output_type": "execute_result"
    }
   ],
   "source": [
    "True or True"
   ]
  },
  {
   "cell_type": "code",
   "execution_count": 8,
   "id": "34d312dd",
   "metadata": {},
   "outputs": [
    {
     "data": {
      "text/plain": [
       "False"
      ]
     },
     "execution_count": 8,
     "metadata": {},
     "output_type": "execute_result"
    }
   ],
   "source": [
    "False or False"
   ]
  },
  {
   "cell_type": "code",
   "execution_count": 9,
   "id": "8f22c85b",
   "metadata": {},
   "outputs": [
    {
     "data": {
      "text/plain": [
       "True"
      ]
     },
     "execution_count": 9,
     "metadata": {},
     "output_type": "execute_result"
    }
   ],
   "source": [
    "True or False"
   ]
  },
  {
   "cell_type": "code",
   "execution_count": 10,
   "id": "e0eaae6f",
   "metadata": {},
   "outputs": [
    {
     "data": {
      "text/plain": [
       "True"
      ]
     },
     "execution_count": 10,
     "metadata": {},
     "output_type": "execute_result"
    }
   ],
   "source": [
    "False or True"
   ]
  },
  {
   "cell_type": "markdown",
   "id": "95260277",
   "metadata": {},
   "source": [
    "```python\n",
    "cold = True\n",
    "windy = False\n",
    "\n",
    "(not cold) and windy # It is not cold and windy\n",
    "not (cold and windy) # \n",
    "```\n",
    "\n",
    "## Truthiness and Falsiness \n",
    "- Things that are false on their own\n",
    "  - `None` (basic data type)\n",
    "  - `False` (basic data type)\n",
    "  - Any empty sequence: `''`, `[]`, `()`\n",
    "  - Any zero value: 0, 0.0\n",
    "  - Anything whose `len()` returns 0\n",
    "  - Empty objects\n",
    "  - Everything else is True"
   ]
  }
 ],
 "metadata": {
  "jupytext": {
   "formats": "md:myst",
   "text_representation": {
    "extension": ".md",
    "format_name": "myst"
   }
  },
  "kernelspec": {
   "display_name": "Python 3",
   "language": "python",
   "name": "python3"
  },
  "language_info": {
   "codemirror_mode": {
    "name": "ipython",
    "version": 3
   },
   "file_extension": ".py",
   "mimetype": "text/x-python",
   "name": "python",
   "nbconvert_exporter": "python",
   "pygments_lexer": "ipython3",
   "version": "3.10.9"
  },
  "source_map": [
   11,
   32,
   36,
   40,
   44,
   49,
   54,
   58,
   62,
   67,
   71,
   73
  ]
 },
 "nbformat": 4,
 "nbformat_minor": 5
}