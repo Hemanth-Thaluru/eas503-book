{
 "cells": [
  {
   "cell_type": "markdown",
   "id": "7575d22a",
   "metadata": {},
   "source": [
    "- [Video Recording (16 minutes)](https://ub.hosted.panopto.com/Panopto/Pages/Viewer.aspx?id=99864159-cd4e-4f0f-b2d3-afa800ca3bb4)\n",
    "- [Jupyter Notebook](https://github.com/mkzia/eas503-book-notes/blob/main/04/strings.ipynb)\n",
    "\n",
    "\n",
    "\n",
    "\n",
    "# String Comparisons\n",
    "\n",
    "- When strings are compared, they are compared lexicographic, meaning strings are put into alphabetical order and uppercase comes before lowercase and numbers come before the alphabets. \n",
    "- ASCII Table: https://www.rapidtables.com/code/text/ascii-table.html\n",
    "\n",
    "```{warning}\n",
    "**Memorize the following:**\n",
    "  - 0-9 -- 48-57\n",
    "  - A-Z -- 65-90\n",
    "  - a-z -- 97-122\n",
    "```"
   ]
  },
  {
   "cell_type": "code",
   "execution_count": 1,
   "id": "e3ef7994",
   "metadata": {},
   "outputs": [
    {
     "data": {
      "text/plain": [
       "True"
      ]
     },
     "execution_count": 1,
     "metadata": {},
     "output_type": "execute_result"
    }
   ],
   "source": [
    "'A' < 'a'"
   ]
  },
  {
   "cell_type": "code",
   "execution_count": 2,
   "id": "a87a8d07",
   "metadata": {},
   "outputs": [
    {
     "data": {
      "text/plain": [
       "False"
      ]
     },
     "execution_count": 2,
     "metadata": {},
     "output_type": "execute_result"
    }
   ],
   "source": [
    "'A' > 'Z'"
   ]
  },
  {
   "cell_type": "code",
   "execution_count": 3,
   "id": "14b20121",
   "metadata": {},
   "outputs": [
    {
     "data": {
      "text/plain": [
       "True"
      ]
     },
     "execution_count": 3,
     "metadata": {},
     "output_type": "execute_result"
    }
   ],
   "source": [
    "'abc' < 'abd'"
   ]
  },
  {
   "cell_type": "code",
   "execution_count": 4,
   "id": "6f0b7f3b",
   "metadata": {},
   "outputs": [
    {
     "data": {
      "text/plain": [
       "True"
      ]
     },
     "execution_count": 4,
     "metadata": {},
     "output_type": "execute_result"
    }
   ],
   "source": [
    "'abc' < 'abcd' # shorter is less"
   ]
  },
  {
   "cell_type": "code",
   "execution_count": 5,
   "id": "e4ba3b08",
   "metadata": {},
   "outputs": [
    {
     "data": {
      "text/plain": [
       "True"
      ]
     },
     "execution_count": 5,
     "metadata": {},
     "output_type": "execute_result"
    }
   ],
   "source": [
    "'1' < '2'"
   ]
  },
  {
   "cell_type": "code",
   "execution_count": 6,
   "id": "6fc89779",
   "metadata": {},
   "outputs": [
    {
     "data": {
      "text/plain": [
       "True"
      ]
     },
     "execution_count": 6,
     "metadata": {},
     "output_type": "execute_result"
    }
   ],
   "source": [
    "'1' < '20'"
   ]
  },
  {
   "cell_type": "markdown",
   "id": "e92044b1",
   "metadata": {},
   "source": [
    "```{warning}\n",
    "Numbers in strings are not naturally sorted!\n",
    "`'2' < '11'` is `False`\n",
    "```\n",
    "- Convert a single character to its unicode number: `ord()`"
   ]
  },
  {
   "cell_type": "code",
   "execution_count": 7,
   "id": "ff7a3bcd",
   "metadata": {},
   "outputs": [
    {
     "name": "stdout",
     "output_type": "stream",
     "text": [
      "48\n",
      "57\n",
      "65\n",
      "90\n",
      "97\n",
      "98\n"
     ]
    }
   ],
   "source": [
    "print(ord('0'))\n",
    "print(ord('9'))\n",
    "print(ord('A'))\n",
    "print(ord('Z'))\n",
    "print(ord('a'))\n",
    "print(ord('b'))"
   ]
  },
  {
   "cell_type": "markdown",
   "id": "123fd602",
   "metadata": {},
   "source": [
    "- Convert a unicode number to its unicode character: `chr()`"
   ]
  },
  {
   "cell_type": "code",
   "execution_count": 8,
   "id": "d589c8c7",
   "metadata": {},
   "outputs": [
    {
     "name": "stdout",
     "output_type": "stream",
     "text": [
      "0\n",
      "9\n",
      "A\n",
      "Z\n",
      "a\n",
      "z\n"
     ]
    }
   ],
   "source": [
    "print(chr(48))\n",
    "print(chr(57))\n",
    "print(chr(65))\n",
    "print(chr(90))\n",
    "print(chr(97))\n",
    "print(chr(122))"
   ]
  },
  {
   "cell_type": "markdown",
   "id": "a4bc7105",
   "metadata": {},
   "source": [
    "## `in` Operator\n",
    "- Python provides a way to check if one string appears inside another one using the `in` operator."
   ]
  },
  {
   "cell_type": "code",
   "execution_count": 9,
   "id": "bcdc4d0e",
   "metadata": {},
   "outputs": [
    {
     "data": {
      "text/plain": [
       "True"
      ]
     },
     "execution_count": 9,
     "metadata": {},
     "output_type": "execute_result"
    }
   ],
   "source": [
    "'Jan' in '01 Jan 1838'"
   ]
  },
  {
   "cell_type": "code",
   "execution_count": 10,
   "id": "389c3f7c",
   "metadata": {},
   "outputs": [
    {
     "data": {
      "text/plain": [
       "False"
      ]
     },
     "execution_count": 10,
     "metadata": {},
     "output_type": "execute_result"
    }
   ],
   "source": [
    "'Feb' in '01 Jan 1838'"
   ]
  },
  {
   "cell_type": "code",
   "execution_count": 11,
   "id": "9c67c8bc",
   "metadata": {},
   "outputs": [
    {
     "data": {
      "text/plain": [
       "True"
      ]
     },
     "execution_count": 11,
     "metadata": {},
     "output_type": "execute_result"
    }
   ],
   "source": [
    "'a' in 'abc'"
   ]
  },
  {
   "cell_type": "code",
   "execution_count": 12,
   "id": "e00697d8",
   "metadata": {},
   "outputs": [
    {
     "data": {
      "text/plain": [
       "False"
      ]
     },
     "execution_count": 12,
     "metadata": {},
     "output_type": "execute_result"
    }
   ],
   "source": [
    "'A' in 'abc'"
   ]
  },
  {
   "cell_type": "markdown",
   "id": "67570197",
   "metadata": {},
   "source": [
    "## Sorting by Hand\n",
    "- Sort the following strings by hand: `['AABC', 'ABC', 'ABCD', '1', '2', '11', 'a', 'abc', 'b', 'abcd']`"
   ]
  },
  {
   "cell_type": "code",
   "execution_count": 13,
   "id": "001d67e4",
   "metadata": {
    "tags": [
     "hide-input"
    ]
   },
   "outputs": [],
   "source": [
    "result = ['1', '11', '2', 'AABC', 'ABC', 'ABCD', 'a', 'abc', 'abcd', 'b']"
   ]
  },
  {
   "cell_type": "markdown",
   "id": "a4c740d8",
   "metadata": {},
   "source": [
    "- Sort the following strings by hand: `['Male21', 'Female25', 'Male30', 'Male2', 'Female24', 'Male11']`"
   ]
  },
  {
   "cell_type": "code",
   "execution_count": 14,
   "id": "faebfffd",
   "metadata": {
    "tags": [
     "hide-input"
    ]
   },
   "outputs": [],
   "source": [
    "result = ['Female24', 'Female25', 'Male11', 'Male2', 'Male21', 'Male30']"
   ]
  }
 ],
 "metadata": {
  "jupytext": {
   "formats": "md:myst",
   "text_representation": {
    "extension": ".md",
    "format_name": "myst"
   }
  },
  "kernelspec": {
   "display_name": "Python 3",
   "language": "python",
   "name": "python3"
  },
  "language_info": {
   "codemirror_mode": {
    "name": "ipython",
    "version": 3
   },
   "file_extension": ".py",
   "mimetype": "text/x-python",
   "name": "python",
   "nbconvert_exporter": "python",
   "pygments_lexer": "ipython3",
   "version": "3.10.9"
  },
  "source_map": [
   11,
   31,
   35,
   39,
   43,
   47,
   51,
   53,
   60,
   67,
   70,
   77,
   82,
   86,
   90,
   94,
   96,
   100,
   103,
   106
  ]
 },
 "nbformat": 4,
 "nbformat_minor": 5
}