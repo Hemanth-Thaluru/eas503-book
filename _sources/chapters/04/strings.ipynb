{
 "cells": [
  {
   "cell_type": "markdown",
   "id": "c5656f00",
   "metadata": {},
   "source": [
    "# String Comparisons\n",
    "\n",
    "- When strings are compared, they are compared lexicographic, meaning strings are put into alphabetical order and uppercase comes before lowercase and numbers come before the alphabets. \n",
    "- ASCII Table: https://www.rapidtables.com/code/text/ascii-table.html\n",
    "\n",
    "```{warning}\n",
    "**Memorize the following:**\n",
    "  - 0-9 -- 48-57\n",
    "  - A-Z -- 65-90\n",
    "  - a-z -- 97-122\n",
    "```"
   ]
  },
  {
   "cell_type": "code",
   "execution_count": 1,
   "id": "59061768",
   "metadata": {},
   "outputs": [
    {
     "data": {
      "text/plain": [
       "True"
      ]
     },
     "execution_count": 1,
     "metadata": {},
     "output_type": "execute_result"
    }
   ],
   "source": [
    "'A' < 'a'"
   ]
  },
  {
   "cell_type": "code",
   "execution_count": 2,
   "id": "7d3b9487",
   "metadata": {},
   "outputs": [
    {
     "data": {
      "text/plain": [
       "False"
      ]
     },
     "execution_count": 2,
     "metadata": {},
     "output_type": "execute_result"
    }
   ],
   "source": [
    "'A' > 'Z'"
   ]
  },
  {
   "cell_type": "code",
   "execution_count": 3,
   "id": "e43b09c1",
   "metadata": {},
   "outputs": [
    {
     "data": {
      "text/plain": [
       "True"
      ]
     },
     "execution_count": 3,
     "metadata": {},
     "output_type": "execute_result"
    }
   ],
   "source": [
    "'abc' < 'abd'"
   ]
  },
  {
   "cell_type": "code",
   "execution_count": 4,
   "id": "528c600a",
   "metadata": {},
   "outputs": [
    {
     "data": {
      "text/plain": [
       "True"
      ]
     },
     "execution_count": 4,
     "metadata": {},
     "output_type": "execute_result"
    }
   ],
   "source": [
    "'abc' < 'abcd' # shorter is less"
   ]
  },
  {
   "cell_type": "code",
   "execution_count": 5,
   "id": "690bc3db",
   "metadata": {},
   "outputs": [
    {
     "data": {
      "text/plain": [
       "True"
      ]
     },
     "execution_count": 5,
     "metadata": {},
     "output_type": "execute_result"
    }
   ],
   "source": [
    "'1' < '2'"
   ]
  },
  {
   "cell_type": "code",
   "execution_count": 6,
   "id": "eb97b883",
   "metadata": {},
   "outputs": [
    {
     "data": {
      "text/plain": [
       "True"
      ]
     },
     "execution_count": 6,
     "metadata": {},
     "output_type": "execute_result"
    }
   ],
   "source": [
    "'1' < '20'"
   ]
  },
  {
   "cell_type": "markdown",
   "id": "53c460fe",
   "metadata": {},
   "source": [
    "```{warning}\n",
    "Numbers in strings are not naturally sorted!\n",
    "`'2' < '11'` is `False`\n",
    "```\n",
    "- Convert a single character to its unicode number: `ord()`"
   ]
  },
  {
   "cell_type": "code",
   "execution_count": 7,
   "id": "f0afb761",
   "metadata": {},
   "outputs": [
    {
     "name": "stdout",
     "output_type": "stream",
     "text": [
      "48\n",
      "57\n",
      "65\n",
      "90\n",
      "97\n",
      "98\n"
     ]
    }
   ],
   "source": [
    "print(ord('0'))\n",
    "print(ord('9'))\n",
    "print(ord('A'))\n",
    "print(ord('Z'))\n",
    "print(ord('a'))\n",
    "print(ord('b'))"
   ]
  },
  {
   "cell_type": "markdown",
   "id": "2a93d900",
   "metadata": {},
   "source": [
    "- Convert a unicode number to its unicode character: `chr()`"
   ]
  },
  {
   "cell_type": "code",
   "execution_count": 8,
   "id": "8b5031f4",
   "metadata": {},
   "outputs": [
    {
     "name": "stdout",
     "output_type": "stream",
     "text": [
      "0\n",
      "9\n",
      "A\n",
      "Z\n",
      "a\n",
      "z\n"
     ]
    }
   ],
   "source": [
    "print(chr(48))\n",
    "print(chr(57))\n",
    "print(chr(65))\n",
    "print(chr(90))\n",
    "print(chr(97))\n",
    "print(chr(122))"
   ]
  },
  {
   "cell_type": "markdown",
   "id": "020060a9",
   "metadata": {},
   "source": [
    "## `in` Operator\n",
    "- Python provides a way to check if one string appears inside another one using the `in` operator."
   ]
  },
  {
   "cell_type": "code",
   "execution_count": 9,
   "id": "3c7bdccc",
   "metadata": {},
   "outputs": [
    {
     "data": {
      "text/plain": [
       "True"
      ]
     },
     "execution_count": 9,
     "metadata": {},
     "output_type": "execute_result"
    }
   ],
   "source": [
    "'Jan' in '01 Jan 1838'"
   ]
  },
  {
   "cell_type": "code",
   "execution_count": 10,
   "id": "c3ba82ed",
   "metadata": {},
   "outputs": [
    {
     "data": {
      "text/plain": [
       "False"
      ]
     },
     "execution_count": 10,
     "metadata": {},
     "output_type": "execute_result"
    }
   ],
   "source": [
    "'Feb' in '01 Jan 1838'"
   ]
  },
  {
   "cell_type": "code",
   "execution_count": 11,
   "id": "4bfe4914",
   "metadata": {},
   "outputs": [
    {
     "data": {
      "text/plain": [
       "True"
      ]
     },
     "execution_count": 11,
     "metadata": {},
     "output_type": "execute_result"
    }
   ],
   "source": [
    "'a' in 'abc'"
   ]
  },
  {
   "cell_type": "code",
   "execution_count": 12,
   "id": "d93056bd",
   "metadata": {},
   "outputs": [
    {
     "data": {
      "text/plain": [
       "False"
      ]
     },
     "execution_count": 12,
     "metadata": {},
     "output_type": "execute_result"
    }
   ],
   "source": [
    "'A' in 'abc'"
   ]
  },
  {
   "cell_type": "markdown",
   "id": "bf6c59cb",
   "metadata": {},
   "source": [
    "## Sorting by Hand\n",
    "- Sort the following strings by hand: `['AABC', 'ABC', 'ABCD', '1', '2', '11', 'a', 'abc', 'b', 'abcd']`"
   ]
  },
  {
   "cell_type": "code",
   "execution_count": 13,
   "id": "48a99030",
   "metadata": {
    "tags": [
     "hide-input"
    ]
   },
   "outputs": [],
   "source": [
    "result = ['1', '11', '2', 'AABC', 'ABC', 'ABCD', 'a', 'abc', 'abcd', 'b']"
   ]
  },
  {
   "cell_type": "markdown",
   "id": "d1d4c16a",
   "metadata": {},
   "source": [
    "- Sort the following strings by hand: `['Male21', 'Female25', 'Male30', 'Male2', 'Female24', 'Male11']`"
   ]
  },
  {
   "cell_type": "code",
   "execution_count": 14,
   "id": "afb28d36",
   "metadata": {
    "tags": [
     "hide-input"
    ]
   },
   "outputs": [],
   "source": [
    "result = ['Female24', 'Female25', 'Male11', 'Male2', 'Male21', 'Male30']"
   ]
  }
 ],
 "metadata": {
  "jupytext": {
   "formats": "md:myst",
   "text_representation": {
    "extension": ".md",
    "format_name": "myst"
   }
  },
  "kernelspec": {
   "display_name": "Python 3",
   "language": "python",
   "name": "python3"
  },
  "language_info": {
   "codemirror_mode": {
    "name": "ipython",
    "version": 3
   },
   "file_extension": ".py",
   "mimetype": "text/x-python",
   "name": "python",
   "nbconvert_exporter": "python",
   "pygments_lexer": "ipython3",
   "version": "3.10.9"
  },
  "source_map": [
   11,
   25,
   29,
   33,
   37,
   41,
   45,
   47,
   54,
   61,
   64,
   71,
   76,
   80,
   84,
   88,
   90,
   94,
   97,
   100
  ]
 },
 "nbformat": 4,
 "nbformat_minor": 5
}