{
 "cells": [
  {
   "cell_type": "markdown",
   "id": "a8ba6cd4",
   "metadata": {},
   "source": [
    "# Exercises\n",
    "\n",
    "## Exercise 1 \n",
    "Write a program to prompt the user for temperature in Celsius, convert the temperature to Fahrenheit, and print temperature in Fahrenheit."
   ]
  },
  {
   "cell_type": "code",
   "execution_count": 1,
   "id": "bf9b93c6",
   "metadata": {
    "tags": [
     "hide-input",
     "output_scroll"
    ]
   },
   "outputs": [],
   "source": [
    "def ex1():\n",
    "    celsius = float(input(\"What is the Celsius temperature? \"))\n",
    "    fahrenheit = 9/5 * celsius + 32\n",
    "    print(\"The temperature is\", fahrenheit, \"degrees Fahrenheit.\")"
   ]
  },
  {
   "cell_type": "markdown",
   "id": "e0f4e52f",
   "metadata": {},
   "source": [
    "## Exercise 2\n",
    "Modify exercise 1 to print a message when F > 90 and F < 32"
   ]
  },
  {
   "cell_type": "code",
   "execution_count": 2,
   "id": "33a46fe2",
   "metadata": {
    "tags": [
     "hide-input",
     "remove-output",
     "output_scroll"
    ]
   },
   "outputs": [],
   "source": [
    "def ex2():\n",
    "    celsius = float(input(\"What is the Celsius temperature? \"))\n",
    "    fahrenheit = 9/5 * celsius + 32\n",
    "    print(\"The temperature is\", fahrenheit, \"degrees Fahrenheit.\")\n",
    "\n",
    "    if fahrenheit > 95: # <expr> <relop> <expr>, where <relop> is relation operator\n",
    "        print(\"It's really hot out there. Be careful!\")\n",
    "    elif fahrenheit < 32: # <expr> <relop> <expr>, where <relop> is relation is operator\n",
    "        print(\"Be sure to dress warmly!\")"
   ]
  },
  {
   "cell_type": "markdown",
   "id": "7d061e63",
   "metadata": {},
   "source": [
    "## Exercise 3 \n",
    "Write a function to calculate the solution to a quadratic equation.\n",
    "https://www.mathsisfun.com/algebra/quadratic-equation.html\n",
    "Prompt the user to the coefficients a, b, and c."
   ]
  },
  {
   "cell_type": "code",
   "execution_count": 3,
   "id": "471108f9",
   "metadata": {
    "tags": [
     "hide-input",
     "remove-output",
     "output_scroll"
    ]
   },
   "outputs": [],
   "source": [
    "def ex3():\n",
    "    import math\n",
    "    print(\"This program finds the real solutions to a quadratic\\n\")\n",
    "    a = float(input(\"Enter coefficient a: \"))\n",
    "    b = float(input(\"Enter coefficient b: \"))\n",
    "    c = float(input(\"Enter coefficient c: \"))\n",
    "    disc_root = math.sqrt(b * b -4 * a * c)\n",
    "\n",
    "    root1 = (-b + disc_root) / (2 * a)\n",
    "    root2 = (-b - disc_root) / (2 * a)\n",
    "\n",
    "    print(\"\\nThe solutions are:\", root1, root2)"
   ]
  },
  {
   "cell_type": "markdown",
   "id": "4f8cf488",
   "metadata": {},
   "source": [
    "## Exercise 4 \n",
    "Modify ex3 to add conditionals to print no real roots, double root, roots."
   ]
  },
  {
   "cell_type": "code",
   "execution_count": 4,
   "id": "41ad582d",
   "metadata": {
    "tags": [
     "hide-input",
     "remove-output",
     "output_scroll"
    ]
   },
   "outputs": [],
   "source": [
    "def ex4():\n",
    "    import math\n",
    "    print(\"This program finds the real solutions to a quadratic\\n\")\n",
    "    a = float(input(\"Enter coefficient a: \"))\n",
    "    b = float(input(\"Enter coefficient b: \"))\n",
    "    c = float(input(\"Enter coefficient c: \"))\n",
    "    discrim = b * b -4 * a * c\n",
    "\n",
    "    if discrim < 0:\n",
    "        print(\"\\nThe equation has no real roots!\")\n",
    "    else:\n",
    "        if discrim == 0:\n",
    "            root = -b / (2 * a)\n",
    "            print(\"\\nThere is a double root at:\", root)\n",
    "        else:\n",
    "            disc_root = math.sqrt(b * b - 4 * a * c)\n",
    "            root1 = (-b + disc_root) / (2 * a)\n",
    "            root2 = (-b - disc_root) / (2 * a)\n",
    "            print(\"\\nThe solutions are:\", root1, root2)"
   ]
  },
  {
   "cell_type": "markdown",
   "id": "7697806b",
   "metadata": {},
   "source": [
    "## Exercise 5\n",
    "Prompt user for three numbers and find the maximum value."
   ]
  },
  {
   "cell_type": "code",
   "execution_count": 5,
   "id": "d433c7d5",
   "metadata": {
    "tags": [
     "hide-input",
     "remove-output",
     "output_scroll"
    ]
   },
   "outputs": [],
   "source": [
    "def ex5():\n",
    "    x1 = int(input(\"Enter a number: \"))\n",
    "    x2 = int(input(\"Enter another number: \"))\n",
    "    x3 = int(input(\"Enter enter a third number: \"))\n",
    "\n",
    "    if x1 >= x2 and x1 >= x3:\n",
    "        maxval = x1\n",
    "    elif x2 >= x1 and x2 >= x3:\n",
    "        maxval = x2\n",
    "    else:\n",
    "        maxval = x3\n",
    "\n",
    "    print(maxval)"
   ]
  },
  {
   "cell_type": "markdown",
   "id": "47eadc60",
   "metadata": {},
   "source": [
    "## Exercise 6 \n",
    "Write a program to prompt the user for their user name. \n",
    "If it is 'jdoe', print a log in allowed message; otherwise, print another message."
   ]
  },
  {
   "cell_type": "code",
   "execution_count": 6,
   "id": "7ca13ea8",
   "metadata": {
    "tags": [
     "hide-input",
     "remove-output",
     "output_scroll"
    ]
   },
   "outputs": [
    {
     "name": "stdout",
     "output_type": "stream",
     "text": [
      "Hi, John.\n"
     ]
    }
   ],
   "source": [
    "username = 'jdoe'\n",
    "\n",
    "if username == 'jdoe':\n",
    "    print('Hi, John.')\n",
    "else:\n",
    "    print('Hello, stranger.')"
   ]
  },
  {
   "cell_type": "markdown",
   "id": "48687269",
   "metadata": {},
   "source": [
    "## Exercise 7 \n",
    "Modify ex6 to only allow login if the user is active."
   ]
  },
  {
   "cell_type": "code",
   "execution_count": 7,
   "id": "b65c0324",
   "metadata": {
    "tags": [
     "hide-input",
     "remove-output",
     "output_scroll"
    ]
   },
   "outputs": [
    {
     "name": "stdout",
     "output_type": "stream",
     "text": [
      "You are not allowed to log in!\n",
      "Hi jdoe!  Your are allowed to log in.\n"
     ]
    }
   ],
   "source": [
    "active_status = False\n",
    "username = 'jdoe'\n",
    "\n",
    "if username =='jdoe' and active_status:\n",
    "    print(f'Hi {username}!  Your are allowed to log in.')\n",
    "else:\n",
    "    print('You are not allowed to log in!')\n",
    "\n",
    "active_status = True\n",
    "username = 'jdoe'\n",
    "\n",
    "if username =='jdoe' and active_status:\n",
    "    print(f'Hi {username}!  Your are allowed to log in.')\n",
    "else:\n",
    "    print('You are not allowed to log in!')"
   ]
  },
  {
   "cell_type": "markdown",
   "id": "e8348886",
   "metadata": {},
   "source": [
    "## Exercise 8 \n",
    "Write a program to prompt the user for name and check if it is john or jane."
   ]
  },
  {
   "cell_type": "code",
   "execution_count": 8,
   "id": "d1c704bd",
   "metadata": {
    "tags": [
     "hide-input",
     "remove-output",
     "output_scroll"
    ]
   },
   "outputs": [
    {
     "ename": "StdinNotImplementedError",
     "evalue": "raw_input was called, but this frontend does not support input requests.",
     "output_type": "error",
     "traceback": [
      "\u001b[0;31m---------------------------------------------------------------------------\u001b[0m",
      "\u001b[0;31mStdinNotImplementedError\u001b[0m                  Traceback (most recent call last)",
      "Cell \u001b[0;32mIn[8], line 1\u001b[0m\n\u001b[0;32m----> 1\u001b[0m name \u001b[38;5;241m=\u001b[39m \u001b[38;5;28;43minput\u001b[39;49m\u001b[43m(\u001b[49m\u001b[38;5;124;43m'\u001b[39;49m\u001b[38;5;124;43mWhat is your name? \u001b[39;49m\u001b[38;5;124;43m'\u001b[39;49m\u001b[43m)\u001b[49m\n\u001b[1;32m      2\u001b[0m \u001b[38;5;28;01mif\u001b[39;00m name \u001b[38;5;241m==\u001b[39m \u001b[38;5;124m'\u001b[39m\u001b[38;5;124mjohn\u001b[39m\u001b[38;5;124m'\u001b[39m:\n\u001b[1;32m      3\u001b[0m     \u001b[38;5;28mprint\u001b[39m(\u001b[38;5;124m'\u001b[39m\u001b[38;5;124mYour name is John!\u001b[39m\u001b[38;5;124m'\u001b[39m)\n",
      "File \u001b[0;32m~/anaconda3/envs/book/lib/python3.10/site-packages/ipykernel/kernelbase.py:1186\u001b[0m, in \u001b[0;36mKernel.raw_input\u001b[0;34m(self, prompt)\u001b[0m\n\u001b[1;32m   1184\u001b[0m \u001b[38;5;28;01mif\u001b[39;00m \u001b[38;5;129;01mnot\u001b[39;00m \u001b[38;5;28mself\u001b[39m\u001b[38;5;241m.\u001b[39m_allow_stdin:\n\u001b[1;32m   1185\u001b[0m     msg \u001b[38;5;241m=\u001b[39m \u001b[38;5;124m\"\u001b[39m\u001b[38;5;124mraw_input was called, but this frontend does not support input requests.\u001b[39m\u001b[38;5;124m\"\u001b[39m\n\u001b[0;32m-> 1186\u001b[0m     \u001b[38;5;28;01mraise\u001b[39;00m StdinNotImplementedError(msg)\n\u001b[1;32m   1187\u001b[0m \u001b[38;5;28;01mreturn\u001b[39;00m \u001b[38;5;28mself\u001b[39m\u001b[38;5;241m.\u001b[39m_input_request(\n\u001b[1;32m   1188\u001b[0m     \u001b[38;5;28mstr\u001b[39m(prompt),\n\u001b[1;32m   1189\u001b[0m     \u001b[38;5;28mself\u001b[39m\u001b[38;5;241m.\u001b[39m_parent_ident[\u001b[38;5;124m\"\u001b[39m\u001b[38;5;124mshell\u001b[39m\u001b[38;5;124m\"\u001b[39m],\n\u001b[1;32m   1190\u001b[0m     \u001b[38;5;28mself\u001b[39m\u001b[38;5;241m.\u001b[39mget_parent(\u001b[38;5;124m\"\u001b[39m\u001b[38;5;124mshell\u001b[39m\u001b[38;5;124m\"\u001b[39m),\n\u001b[1;32m   1191\u001b[0m     password\u001b[38;5;241m=\u001b[39m\u001b[38;5;28;01mFalse\u001b[39;00m,\n\u001b[1;32m   1192\u001b[0m )\n",
      "\u001b[0;31mStdinNotImplementedError\u001b[0m: raw_input was called, but this frontend does not support input requests."
     ]
    }
   ],
   "source": [
    "name = input('What is your name? ')\n",
    "if name == 'john':\n",
    "    print('Your name is John!')\n",
    "elif name == 'jane':\n",
    "    print('Your name is Jane!')\n",
    "\n",
    "\n",
    "name = input('What is your name? ')\n",
    "if name.lower() == 'john':\n",
    "    print('Your name is John!')\n",
    "elif name.lower() == 'jane':\n",
    "    print('Your name is Jane!')"
   ]
  },
  {
   "cell_type": "markdown",
   "id": "a7b60940",
   "metadata": {},
   "source": [
    "## Exercise 9\n",
    "Write a program that only allows a user to log in if they are a superuser or if they are a teacher and active."
   ]
  },
  {
   "cell_type": "code",
   "execution_count": 9,
   "id": "e2e42129",
   "metadata": {
    "tags": [
     "hide-input",
     "remove-output",
     "output_scroll"
    ]
   },
   "outputs": [
    {
     "name": "stdout",
     "output_type": "stream",
     "text": [
      "You can access the system\n"
     ]
    }
   ],
   "source": [
    "is_super_user = True\n",
    "is_teacher = True\n",
    "is_active = False\n",
    "\n",
    "if is_super_user or (is_teacher and is_active):\n",
    "    print('You can access the system')"
   ]
  },
  {
   "cell_type": "markdown",
   "id": "4b686b10",
   "metadata": {},
   "source": [
    "## Exercise 10\n",
    "Prompt user for age and check if they are 18 or older"
   ]
  },
  {
   "cell_type": "code",
   "execution_count": 10,
   "id": "a65bb26a",
   "metadata": {
    "tags": [
     "hide-input",
     "remove-output",
     "output_scroll"
    ]
   },
   "outputs": [
    {
     "ename": "StdinNotImplementedError",
     "evalue": "raw_input was called, but this frontend does not support input requests.",
     "output_type": "error",
     "traceback": [
      "\u001b[0;31m---------------------------------------------------------------------------\u001b[0m",
      "\u001b[0;31mStdinNotImplementedError\u001b[0m                  Traceback (most recent call last)",
      "Cell \u001b[0;32mIn[10], line 1\u001b[0m\n\u001b[0;32m----> 1\u001b[0m age \u001b[38;5;241m=\u001b[39m \u001b[38;5;28mint\u001b[39m(\u001b[38;5;28;43minput\u001b[39;49m\u001b[43m(\u001b[49m\u001b[38;5;124;43m'\u001b[39;49m\u001b[38;5;124;43mWhat is your age? \u001b[39;49m\u001b[38;5;124;43m'\u001b[39;49m\u001b[43m)\u001b[49m)\n\u001b[1;32m      3\u001b[0m \u001b[38;5;28;01mif\u001b[39;00m age \u001b[38;5;241m>\u001b[39m\u001b[38;5;241m=\u001b[39m \u001b[38;5;241m18\u001b[39m:\n\u001b[1;32m      4\u001b[0m     \u001b[38;5;28mprint\u001b[39m(\u001b[38;5;124m'\u001b[39m\u001b[38;5;124mYou are 18 or older\u001b[39m\u001b[38;5;124m'\u001b[39m)\n",
      "File \u001b[0;32m~/anaconda3/envs/book/lib/python3.10/site-packages/ipykernel/kernelbase.py:1186\u001b[0m, in \u001b[0;36mKernel.raw_input\u001b[0;34m(self, prompt)\u001b[0m\n\u001b[1;32m   1184\u001b[0m \u001b[38;5;28;01mif\u001b[39;00m \u001b[38;5;129;01mnot\u001b[39;00m \u001b[38;5;28mself\u001b[39m\u001b[38;5;241m.\u001b[39m_allow_stdin:\n\u001b[1;32m   1185\u001b[0m     msg \u001b[38;5;241m=\u001b[39m \u001b[38;5;124m\"\u001b[39m\u001b[38;5;124mraw_input was called, but this frontend does not support input requests.\u001b[39m\u001b[38;5;124m\"\u001b[39m\n\u001b[0;32m-> 1186\u001b[0m     \u001b[38;5;28;01mraise\u001b[39;00m StdinNotImplementedError(msg)\n\u001b[1;32m   1187\u001b[0m \u001b[38;5;28;01mreturn\u001b[39;00m \u001b[38;5;28mself\u001b[39m\u001b[38;5;241m.\u001b[39m_input_request(\n\u001b[1;32m   1188\u001b[0m     \u001b[38;5;28mstr\u001b[39m(prompt),\n\u001b[1;32m   1189\u001b[0m     \u001b[38;5;28mself\u001b[39m\u001b[38;5;241m.\u001b[39m_parent_ident[\u001b[38;5;124m\"\u001b[39m\u001b[38;5;124mshell\u001b[39m\u001b[38;5;124m\"\u001b[39m],\n\u001b[1;32m   1190\u001b[0m     \u001b[38;5;28mself\u001b[39m\u001b[38;5;241m.\u001b[39mget_parent(\u001b[38;5;124m\"\u001b[39m\u001b[38;5;124mshell\u001b[39m\u001b[38;5;124m\"\u001b[39m),\n\u001b[1;32m   1191\u001b[0m     password\u001b[38;5;241m=\u001b[39m\u001b[38;5;28;01mFalse\u001b[39;00m,\n\u001b[1;32m   1192\u001b[0m )\n",
      "\u001b[0;31mStdinNotImplementedError\u001b[0m: raw_input was called, but this frontend does not support input requests."
     ]
    }
   ],
   "source": [
    "age = int(input('What is your age? '))\n",
    "\n",
    "if age >= 18:\n",
    "    print('You are 18 or older')\n",
    "else:\n",
    "    print('You are not 18!')"
   ]
  },
  {
   "cell_type": "markdown",
   "id": "6e6ec98b",
   "metadata": {},
   "source": [
    "## Exercise 11\n",
    "Prompt the user for two numbers and see if they are equal"
   ]
  },
  {
   "cell_type": "code",
   "execution_count": 11,
   "id": "3b5af5f7",
   "metadata": {
    "tags": [
     "hide-input",
     "remove-output",
     "output_scroll"
    ]
   },
   "outputs": [
    {
     "ename": "StdinNotImplementedError",
     "evalue": "raw_input was called, but this frontend does not support input requests.",
     "output_type": "error",
     "traceback": [
      "\u001b[0;31m---------------------------------------------------------------------------\u001b[0m",
      "\u001b[0;31mStdinNotImplementedError\u001b[0m                  Traceback (most recent call last)",
      "Cell \u001b[0;32mIn[11], line 1\u001b[0m\n\u001b[0;32m----> 1\u001b[0m number1 \u001b[38;5;241m=\u001b[39m \u001b[38;5;28mint\u001b[39m(\u001b[38;5;28;43minput\u001b[39;49m\u001b[43m(\u001b[49m\u001b[38;5;124;43m'\u001b[39;49m\u001b[38;5;124;43mPlease enter a number: \u001b[39;49m\u001b[38;5;124;43m'\u001b[39;49m\u001b[43m)\u001b[49m)\n\u001b[1;32m      2\u001b[0m number2 \u001b[38;5;241m=\u001b[39m \u001b[38;5;28mint\u001b[39m(\u001b[38;5;28minput\u001b[39m(\u001b[38;5;124m'\u001b[39m\u001b[38;5;124mPlease enter a number: \u001b[39m\u001b[38;5;124m'\u001b[39m))\n\u001b[1;32m      4\u001b[0m \u001b[38;5;28;01mif\u001b[39;00m number1 \u001b[38;5;241m==\u001b[39m number2:\n",
      "File \u001b[0;32m~/anaconda3/envs/book/lib/python3.10/site-packages/ipykernel/kernelbase.py:1186\u001b[0m, in \u001b[0;36mKernel.raw_input\u001b[0;34m(self, prompt)\u001b[0m\n\u001b[1;32m   1184\u001b[0m \u001b[38;5;28;01mif\u001b[39;00m \u001b[38;5;129;01mnot\u001b[39;00m \u001b[38;5;28mself\u001b[39m\u001b[38;5;241m.\u001b[39m_allow_stdin:\n\u001b[1;32m   1185\u001b[0m     msg \u001b[38;5;241m=\u001b[39m \u001b[38;5;124m\"\u001b[39m\u001b[38;5;124mraw_input was called, but this frontend does not support input requests.\u001b[39m\u001b[38;5;124m\"\u001b[39m\n\u001b[0;32m-> 1186\u001b[0m     \u001b[38;5;28;01mraise\u001b[39;00m StdinNotImplementedError(msg)\n\u001b[1;32m   1187\u001b[0m \u001b[38;5;28;01mreturn\u001b[39;00m \u001b[38;5;28mself\u001b[39m\u001b[38;5;241m.\u001b[39m_input_request(\n\u001b[1;32m   1188\u001b[0m     \u001b[38;5;28mstr\u001b[39m(prompt),\n\u001b[1;32m   1189\u001b[0m     \u001b[38;5;28mself\u001b[39m\u001b[38;5;241m.\u001b[39m_parent_ident[\u001b[38;5;124m\"\u001b[39m\u001b[38;5;124mshell\u001b[39m\u001b[38;5;124m\"\u001b[39m],\n\u001b[1;32m   1190\u001b[0m     \u001b[38;5;28mself\u001b[39m\u001b[38;5;241m.\u001b[39mget_parent(\u001b[38;5;124m\"\u001b[39m\u001b[38;5;124mshell\u001b[39m\u001b[38;5;124m\"\u001b[39m),\n\u001b[1;32m   1191\u001b[0m     password\u001b[38;5;241m=\u001b[39m\u001b[38;5;28;01mFalse\u001b[39;00m,\n\u001b[1;32m   1192\u001b[0m )\n",
      "\u001b[0;31mStdinNotImplementedError\u001b[0m: raw_input was called, but this frontend does not support input requests."
     ]
    }
   ],
   "source": [
    "number1 = int(input('Please enter a number: '))\n",
    "number2 = int(input('Please enter a number: '))\n",
    "\n",
    "if number1 == number2:\n",
    "    print('Both numbers are equal')"
   ]
  },
  {
   "cell_type": "markdown",
   "id": "e96afaae",
   "metadata": {},
   "source": [
    "## Exercise 12\n",
    "Prompt user to enter a number and check if it is odd or even"
   ]
  },
  {
   "cell_type": "code",
   "execution_count": 12,
   "id": "657e2e5e",
   "metadata": {
    "tags": [
     "hide-input",
     "remove-output",
     "output_scroll"
    ]
   },
   "outputs": [
    {
     "ename": "StdinNotImplementedError",
     "evalue": "raw_input was called, but this frontend does not support input requests.",
     "output_type": "error",
     "traceback": [
      "\u001b[0;31m---------------------------------------------------------------------------\u001b[0m",
      "\u001b[0;31mStdinNotImplementedError\u001b[0m                  Traceback (most recent call last)",
      "Cell \u001b[0;32mIn[12], line 1\u001b[0m\n\u001b[0;32m----> 1\u001b[0m number \u001b[38;5;241m=\u001b[39m \u001b[38;5;28mint\u001b[39m(\u001b[38;5;28;43minput\u001b[39;49m\u001b[43m(\u001b[49m\u001b[38;5;124;43m'\u001b[39;49m\u001b[38;5;124;43mPlease enter a number: \u001b[39;49m\u001b[38;5;124;43m'\u001b[39;49m\u001b[43m)\u001b[49m)\n\u001b[1;32m      3\u001b[0m \u001b[38;5;28;01mif\u001b[39;00m number \u001b[38;5;241m==\u001b[39m \u001b[38;5;241m0\u001b[39m:\n\u001b[1;32m      4\u001b[0m     \u001b[38;5;28mprint\u001b[39m(\u001b[38;5;124m'\u001b[39m\u001b[38;5;124mThe number is even\u001b[39m\u001b[38;5;124m'\u001b[39m)\n",
      "File \u001b[0;32m~/anaconda3/envs/book/lib/python3.10/site-packages/ipykernel/kernelbase.py:1186\u001b[0m, in \u001b[0;36mKernel.raw_input\u001b[0;34m(self, prompt)\u001b[0m\n\u001b[1;32m   1184\u001b[0m \u001b[38;5;28;01mif\u001b[39;00m \u001b[38;5;129;01mnot\u001b[39;00m \u001b[38;5;28mself\u001b[39m\u001b[38;5;241m.\u001b[39m_allow_stdin:\n\u001b[1;32m   1185\u001b[0m     msg \u001b[38;5;241m=\u001b[39m \u001b[38;5;124m\"\u001b[39m\u001b[38;5;124mraw_input was called, but this frontend does not support input requests.\u001b[39m\u001b[38;5;124m\"\u001b[39m\n\u001b[0;32m-> 1186\u001b[0m     \u001b[38;5;28;01mraise\u001b[39;00m StdinNotImplementedError(msg)\n\u001b[1;32m   1187\u001b[0m \u001b[38;5;28;01mreturn\u001b[39;00m \u001b[38;5;28mself\u001b[39m\u001b[38;5;241m.\u001b[39m_input_request(\n\u001b[1;32m   1188\u001b[0m     \u001b[38;5;28mstr\u001b[39m(prompt),\n\u001b[1;32m   1189\u001b[0m     \u001b[38;5;28mself\u001b[39m\u001b[38;5;241m.\u001b[39m_parent_ident[\u001b[38;5;124m\"\u001b[39m\u001b[38;5;124mshell\u001b[39m\u001b[38;5;124m\"\u001b[39m],\n\u001b[1;32m   1190\u001b[0m     \u001b[38;5;28mself\u001b[39m\u001b[38;5;241m.\u001b[39mget_parent(\u001b[38;5;124m\"\u001b[39m\u001b[38;5;124mshell\u001b[39m\u001b[38;5;124m\"\u001b[39m),\n\u001b[1;32m   1191\u001b[0m     password\u001b[38;5;241m=\u001b[39m\u001b[38;5;28;01mFalse\u001b[39;00m,\n\u001b[1;32m   1192\u001b[0m )\n",
      "\u001b[0;31mStdinNotImplementedError\u001b[0m: raw_input was called, but this frontend does not support input requests."
     ]
    }
   ],
   "source": [
    "number = int(input('Please enter a number: '))\n",
    "\n",
    "if number == 0:\n",
    "    print('The number is even')\n",
    "elif number % 2 == 0:\n",
    "    print('The number is even')\n",
    "else: \n",
    "    print('The number is odd')"
   ]
  },
  {
   "cell_type": "markdown",
   "id": "75cf0f22",
   "metadata": {},
   "source": [
    "## Exercise 12\n",
    "Prompt user to enter a number and print 'FizzBuzz' if the number is a multiple of 5 and 7, 'Fizz' \n",
    "if is a multiple of 5, and 'Buzz' if it is multiple of 7."
   ]
  },
  {
   "cell_type": "code",
   "execution_count": 13,
   "id": "6b70b536",
   "metadata": {
    "tags": [
     "hide-input",
     "remove-output",
     "output_scroll"
    ]
   },
   "outputs": [
    {
     "ename": "StdinNotImplementedError",
     "evalue": "raw_input was called, but this frontend does not support input requests.",
     "output_type": "error",
     "traceback": [
      "\u001b[0;31m---------------------------------------------------------------------------\u001b[0m",
      "\u001b[0;31mStdinNotImplementedError\u001b[0m                  Traceback (most recent call last)",
      "Cell \u001b[0;32mIn[13], line 1\u001b[0m\n\u001b[0;32m----> 1\u001b[0m number \u001b[38;5;241m=\u001b[39m \u001b[38;5;28mint\u001b[39m(\u001b[38;5;28;43minput\u001b[39;49m\u001b[43m(\u001b[49m\u001b[38;5;124;43m'\u001b[39;49m\u001b[38;5;124;43mPlease enter a number: \u001b[39;49m\u001b[38;5;124;43m'\u001b[39;49m\u001b[43m)\u001b[49m)\n\u001b[1;32m      3\u001b[0m \u001b[38;5;28;01mif\u001b[39;00m number \u001b[38;5;241m%\u001b[39m \u001b[38;5;241m5\u001b[39m \u001b[38;5;241m==\u001b[39m \u001b[38;5;241m0\u001b[39m \u001b[38;5;129;01mand\u001b[39;00m number \u001b[38;5;241m%\u001b[39m \u001b[38;5;241m7\u001b[39m \u001b[38;5;241m==\u001b[39m \u001b[38;5;241m0\u001b[39m:\n\u001b[1;32m      4\u001b[0m     \u001b[38;5;28mprint\u001b[39m(\u001b[38;5;124m'\u001b[39m\u001b[38;5;124mFizzBuzz\u001b[39m\u001b[38;5;124m'\u001b[39m)\n",
      "File \u001b[0;32m~/anaconda3/envs/book/lib/python3.10/site-packages/ipykernel/kernelbase.py:1186\u001b[0m, in \u001b[0;36mKernel.raw_input\u001b[0;34m(self, prompt)\u001b[0m\n\u001b[1;32m   1184\u001b[0m \u001b[38;5;28;01mif\u001b[39;00m \u001b[38;5;129;01mnot\u001b[39;00m \u001b[38;5;28mself\u001b[39m\u001b[38;5;241m.\u001b[39m_allow_stdin:\n\u001b[1;32m   1185\u001b[0m     msg \u001b[38;5;241m=\u001b[39m \u001b[38;5;124m\"\u001b[39m\u001b[38;5;124mraw_input was called, but this frontend does not support input requests.\u001b[39m\u001b[38;5;124m\"\u001b[39m\n\u001b[0;32m-> 1186\u001b[0m     \u001b[38;5;28;01mraise\u001b[39;00m StdinNotImplementedError(msg)\n\u001b[1;32m   1187\u001b[0m \u001b[38;5;28;01mreturn\u001b[39;00m \u001b[38;5;28mself\u001b[39m\u001b[38;5;241m.\u001b[39m_input_request(\n\u001b[1;32m   1188\u001b[0m     \u001b[38;5;28mstr\u001b[39m(prompt),\n\u001b[1;32m   1189\u001b[0m     \u001b[38;5;28mself\u001b[39m\u001b[38;5;241m.\u001b[39m_parent_ident[\u001b[38;5;124m\"\u001b[39m\u001b[38;5;124mshell\u001b[39m\u001b[38;5;124m\"\u001b[39m],\n\u001b[1;32m   1190\u001b[0m     \u001b[38;5;28mself\u001b[39m\u001b[38;5;241m.\u001b[39mget_parent(\u001b[38;5;124m\"\u001b[39m\u001b[38;5;124mshell\u001b[39m\u001b[38;5;124m\"\u001b[39m),\n\u001b[1;32m   1191\u001b[0m     password\u001b[38;5;241m=\u001b[39m\u001b[38;5;28;01mFalse\u001b[39;00m,\n\u001b[1;32m   1192\u001b[0m )\n",
      "\u001b[0;31mStdinNotImplementedError\u001b[0m: raw_input was called, but this frontend does not support input requests."
     ]
    }
   ],
   "source": [
    "number = int(input('Please enter a number: '))\n",
    "\n",
    "if number % 5 == 0 and number % 7 == 0:\n",
    "    print('FizzBuzz')\n",
    "elif number % 5 == 0:\n",
    "    print('Fizz')\n",
    "elif number % 7 == 0:\n",
    "    print('Buzz')"
   ]
  }
 ],
 "metadata": {
  "jupytext": {
   "formats": "md:myst",
   "text_representation": {
    "extension": ".md",
    "format_name": "myst"
   }
  },
  "kernelspec": {
   "display_name": "Python 3",
   "language": "python",
   "name": "python3"
  },
  "language_info": {
   "codemirror_mode": {
    "name": "ipython",
    "version": 3
   },
   "file_extension": ".py",
   "mimetype": "text/x-python",
   "name": "python",
   "nbconvert_exporter": "python",
   "pygments_lexer": "ipython3",
   "version": "3.10.9"
  },
  "source_map": [
   11,
   20,
   26,
   31,
   42,
   50,
   64,
   70,
   91,
   96,
   111,
   118,
   126,
   132,
   149,
   155,
   169,
   175,
   183,
   189,
   197,
   203,
   211,
   217,
   227,
   235
  ]
 },
 "nbformat": 4,
 "nbformat_minor": 5
}