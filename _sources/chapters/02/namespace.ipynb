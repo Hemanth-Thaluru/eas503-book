{
 "cells": [
  {
   "cell_type": "markdown",
   "id": "99af5d47",
   "metadata": {},
   "source": [
    "# Namespace and Scope\n",
    "\n",
    "**Namespace**: an association between identifiers and the things they they represent in a program. In Python, modules, classes, and objects act as namespaces. \n",
    "\n",
    "**Scope**: The area of a program where a given variable maybe reference. For examples, variables defined in functions are said to have local scope."
   ]
  },
  {
   "cell_type": "code",
   "execution_count": 1,
   "id": "14fdc500",
   "metadata": {},
   "outputs": [
    {
     "data": {
      "text/plain": [
       "13.0"
      ]
     },
     "execution_count": 1,
     "metadata": {},
     "output_type": "execute_result"
    }
   ],
   "source": [
    "def quadratic(a, b, c, x):\n",
    "    \"\"\"ax^2 + bx + c\"\"\"\n",
    "    first = a * x ** 2\n",
    "    second = b * x\n",
    "    third = c\n",
    "    return first + second + third\n",
    "quadratic(2, 3, 4, 0.5)\n",
    "quadratic(2, 3, 4, 1.5)"
   ]
  },
  {
   "cell_type": "markdown",
   "id": "6560fb0b",
   "metadata": {},
   "source": [
    "Variables like `first`, `second`, and `third` that are created within a function are called local variables. Local variables get created each time that function is called, and they are erased when the function returns. Because they only exist when the function is being executed, they can’t be used outside of the function. This means that trying to access a local variable from outside the function is an error, just like trying to access a variable that has never been defined is an error.\n",
    "\n",
    "A function’s parameters are also local variables, so we get the same error if we try to use them outside of a function definition. \n",
    "\n",
    "The area of a program that a variable can be used in is called the variable’s **scope**. The scope of a local variable is from the line in which it is defined up until the end of the function. \n",
    "\n",
    "## Tracing Function Calls in the Memory Location\n",
    "Let us trace the function call. https://pythontutor.com/visualize.html\n",
    "```python\n",
    "def f(x):\n",
    "    x = 2 * x\n",
    "    return x\n",
    "    \n",
    "x = 1\n",
    "x = f(x + 1) + f(x + 2)\n",
    "```"
   ]
  }
 ],
 "metadata": {
  "jupytext": {
   "formats": "md:myst",
   "text_representation": {
    "extension": ".md",
    "format_name": "myst"
   }
  },
  "kernelspec": {
   "display_name": "Python 3",
   "language": "python",
   "name": "python3"
  },
  "language_info": {
   "codemirror_mode": {
    "name": "ipython",
    "version": 3
   },
   "file_extension": ".py",
   "mimetype": "text/x-python",
   "name": "python",
   "nbconvert_exporter": "python",
   "pygments_lexer": "ipython3",
   "version": "3.10.9"
  },
  "source_map": [
   11,
   19,
   28
  ]
 },
 "nbformat": 4,
 "nbformat_minor": 5
}