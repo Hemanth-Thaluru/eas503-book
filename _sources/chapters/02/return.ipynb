{
 "cells": [
  {
   "cell_type": "markdown",
   "id": "da7e8668",
   "metadata": {},
   "source": [
    "# Return Statement\n",
    "\n",
    "All functions return a value. If you do not have a `return` statement in a function, nothing is produced, but by default the `None` data type is returned."
   ]
  },
  {
   "cell_type": "code",
   "execution_count": 1,
   "id": "af5a4adf",
   "metadata": {},
   "outputs": [],
   "source": [
    "def f(x):\n",
    "    x = x * 2\n",
    "\n",
    "res = f(3)\n",
    "res"
   ]
  },
  {
   "cell_type": "code",
   "execution_count": 2,
   "id": "5030e6ce",
   "metadata": {},
   "outputs": [
    {
     "name": "stdout",
     "output_type": "stream",
     "text": [
      "None\n"
     ]
    },
    {
     "data": {
      "text/plain": [
       "7636800"
      ]
     },
     "execution_count": 2,
     "metadata": {},
     "output_type": "execute_result"
    }
   ],
   "source": [
    "print(res)\n",
    "id(res)"
   ]
  },
  {
   "cell_type": "code",
   "execution_count": 3,
   "id": "0ed9714f",
   "metadata": {},
   "outputs": [
    {
     "name": "stdout",
     "output_type": "stream",
     "text": [
      "None\n"
     ]
    }
   ],
   "source": [
    "def f(x):\n",
    "    x = x * 2\n",
    "    return None\n",
    "\n",
    "print(f(3))"
   ]
  }
 ],
 "metadata": {
  "jupytext": {
   "formats": "md:myst",
   "text_representation": {
    "extension": ".md",
    "format_name": "myst"
   }
  },
  "kernelspec": {
   "display_name": "Python 3",
   "language": "python",
   "name": "python3"
  },
  "language_info": {
   "codemirror_mode": {
    "name": "ipython",
    "version": 3
   },
   "file_extension": ".py",
   "mimetype": "text/x-python",
   "name": "python",
   "nbconvert_exporter": "python",
   "pygments_lexer": "ipython3",
   "version": "3.10.9"
  },
  "source_map": [
   11,
   17,
   25,
   30
  ]
 },
 "nbformat": 4,
 "nbformat_minor": 5
}