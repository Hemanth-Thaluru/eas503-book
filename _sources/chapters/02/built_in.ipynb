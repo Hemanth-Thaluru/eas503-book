{
 "cells": [
  {
   "cell_type": "markdown",
   "id": "f7c348ad",
   "metadata": {},
   "source": [
    "# Built-in functions\n",
    "\n",
    "`abs(-9)` -- `-9` is the argument. Arguments appear between the parenthesis after the function name. Arguments are evaluated left to right."
   ]
  },
  {
   "cell_type": "code",
   "execution_count": 1,
   "id": "099fd58a",
   "metadata": {},
   "outputs": [
    {
     "data": {
      "text/plain": [
       "7"
      ]
     },
     "execution_count": 1,
     "metadata": {},
     "output_type": "execute_result"
    }
   ],
   "source": [
    "day_temperature = 3\n",
    "night_temperature = 10\n",
    "abs(day_temperature - night_temperature)"
   ]
  },
  {
   "cell_type": "markdown",
   "id": "5f663244",
   "metadata": {},
   "source": [
    "Because function calls produce values, they can be used in expressions:"
   ]
  },
  {
   "cell_type": "code",
   "execution_count": 2,
   "id": "b7e96e5d",
   "metadata": {},
   "outputs": [
    {
     "data": {
      "text/plain": [
       "10.3"
      ]
     },
     "execution_count": 2,
     "metadata": {},
     "output_type": "execute_result"
    }
   ],
   "source": [
    "abs(-7) + abs(3.3)"
   ]
  },
  {
   "cell_type": "markdown",
   "id": "719c5367",
   "metadata": {},
   "source": [
    "![subexpression](./subexpression.png)\n",
    "\n",
    "Functions to convert one type of variable to another"
   ]
  },
  {
   "cell_type": "code",
   "execution_count": 3,
   "id": "e419905a",
   "metadata": {},
   "outputs": [
    {
     "data": {
      "text/plain": [
       "34"
      ]
     },
     "execution_count": 3,
     "metadata": {},
     "output_type": "execute_result"
    }
   ],
   "source": [
    "int(34.6)"
   ]
  },
  {
   "cell_type": "code",
   "execution_count": 4,
   "id": "7f6551d5",
   "metadata": {},
   "outputs": [
    {
     "data": {
      "text/plain": [
       "-4"
      ]
     },
     "execution_count": 4,
     "metadata": {},
     "output_type": "execute_result"
    }
   ],
   "source": [
    "int(-4.3)"
   ]
  },
  {
   "cell_type": "code",
   "execution_count": 5,
   "id": "fb588ebd",
   "metadata": {},
   "outputs": [
    {
     "data": {
      "text/plain": [
       "21.0"
      ]
     },
     "execution_count": 5,
     "metadata": {},
     "output_type": "execute_result"
    }
   ],
   "source": [
    "float(21)"
   ]
  },
  {
   "cell_type": "code",
   "execution_count": 6,
   "id": "35be1ca7",
   "metadata": {},
   "outputs": [
    {
     "data": {
      "text/plain": [
       "'21'"
      ]
     },
     "execution_count": 6,
     "metadata": {},
     "output_type": "execute_result"
    }
   ],
   "source": [
    "str(21)"
   ]
  },
  {
   "cell_type": "markdown",
   "id": "b4465b2d",
   "metadata": {},
   "source": [
    "The Round function can round floats"
   ]
  },
  {
   "cell_type": "code",
   "execution_count": 7,
   "id": "836bd75c",
   "metadata": {},
   "outputs": [
    {
     "data": {
      "text/plain": [
       "'21'"
      ]
     },
     "execution_count": 7,
     "metadata": {},
     "output_type": "execute_result"
    }
   ],
   "source": [
    "str(21)"
   ]
  },
  {
   "cell_type": "code",
   "execution_count": 8,
   "id": "fff94f2b",
   "metadata": {},
   "outputs": [
    {
     "data": {
      "text/plain": [
       "4"
      ]
     },
     "execution_count": 8,
     "metadata": {},
     "output_type": "execute_result"
    }
   ],
   "source": [
    "round(3.8)"
   ]
  },
  {
   "cell_type": "code",
   "execution_count": 9,
   "id": "840200f5",
   "metadata": {},
   "outputs": [
    {
     "data": {
      "text/plain": [
       "3"
      ]
     },
     "execution_count": 9,
     "metadata": {},
     "output_type": "execute_result"
    }
   ],
   "source": [
    "round(3.3)"
   ]
  },
  {
   "cell_type": "code",
   "execution_count": 10,
   "id": "c74e3a0e",
   "metadata": {},
   "outputs": [
    {
     "data": {
      "text/plain": [
       "4"
      ]
     },
     "execution_count": 10,
     "metadata": {},
     "output_type": "execute_result"
    }
   ],
   "source": [
    "round(3.5)"
   ]
  },
  {
   "cell_type": "code",
   "execution_count": 11,
   "id": "6fbd4143",
   "metadata": {},
   "outputs": [
    {
     "data": {
      "text/plain": [
       "-3"
      ]
     },
     "execution_count": 11,
     "metadata": {},
     "output_type": "execute_result"
    }
   ],
   "source": [
    "round(-3.3)"
   ]
  },
  {
   "cell_type": "code",
   "execution_count": 12,
   "id": "48a5ebce",
   "metadata": {},
   "outputs": [
    {
     "data": {
      "text/plain": [
       "-4"
      ]
     },
     "execution_count": 12,
     "metadata": {},
     "output_type": "execute_result"
    }
   ],
   "source": [
    "round(-3.5)"
   ]
  },
  {
   "cell_type": "markdown",
   "id": "68f33a53",
   "metadata": {},
   "source": [
    "The round function can take an OPTIONAL second argument"
   ]
  },
  {
   "cell_type": "code",
   "execution_count": 13,
   "id": "8f909fee",
   "metadata": {},
   "outputs": [
    {
     "data": {
      "text/plain": [
       "3.14"
      ]
     },
     "execution_count": 13,
     "metadata": {},
     "output_type": "execute_result"
    }
   ],
   "source": [
    "round(3.141592653,2)"
   ]
  },
  {
   "cell_type": "markdown",
   "id": "856293d0",
   "metadata": {},
   "source": [
    "The `help(fxn)` function gives information about a function"
   ]
  },
  {
   "cell_type": "code",
   "execution_count": 14,
   "id": "9901d899",
   "metadata": {},
   "outputs": [
    {
     "name": "stdout",
     "output_type": "stream",
     "text": [
      "Help on built-in function round in module builtins:\n",
      "\n",
      "round(number, ndigits=None)\n",
      "    Round a number to a given precision in decimal digits.\n",
      "    \n",
      "    The return value is an integer if ndigits is omitted or None.  Otherwise\n",
      "    the return value has the same type as the number.  ndigits may be negative.\n",
      "\n"
     ]
    }
   ],
   "source": [
    "help(round)\n"
   ]
  },
  {
   "cell_type": "code",
   "execution_count": 15,
   "id": "da60c748",
   "metadata": {},
   "outputs": [
    {
     "name": "stdout",
     "output_type": "stream",
     "text": [
      "Help on built-in function pow in module builtins:\n",
      "\n",
      "pow(base, exp, mod=None)\n",
      "    Equivalent to base**exp with 2 arguments or base**exp % mod with 3 arguments\n",
      "    \n",
      "    Some types, such as ints, are able to use a more efficient algorithm when\n",
      "    invoked using the three argument form.\n",
      "\n"
     ]
    }
   ],
   "source": [
    "help(pow)"
   ]
  },
  {
   "cell_type": "markdown",
   "id": "a80f3a2f",
   "metadata": {},
   "source": [
    "Using the `pow` function"
   ]
  },
  {
   "cell_type": "code",
   "execution_count": 16,
   "id": "a70ee0ea",
   "metadata": {},
   "outputs": [
    {
     "data": {
      "text/plain": [
       "16"
      ]
     },
     "execution_count": 16,
     "metadata": {},
     "output_type": "execute_result"
    }
   ],
   "source": [
    "pow(2, 4)"
   ]
  },
  {
   "cell_type": "code",
   "execution_count": 17,
   "id": "69e550f9",
   "metadata": {},
   "outputs": [
    {
     "data": {
      "text/plain": [
       "1"
      ]
     },
     "execution_count": 17,
     "metadata": {},
     "output_type": "execute_result"
    }
   ],
   "source": [
    "pow(2, 4, 3)"
   ]
  },
  {
   "cell_type": "markdown",
   "id": "d7f34844",
   "metadata": {},
   "source": [
    "We can also use function calls as arguments to other functions:"
   ]
  },
  {
   "cell_type": "code",
   "execution_count": 18,
   "id": "7a90761b",
   "metadata": {},
   "outputs": [
    {
     "data": {
      "text/plain": [
       "16"
      ]
     },
     "execution_count": 18,
     "metadata": {},
     "output_type": "execute_result"
    }
   ],
   "source": [
    "pow(abs(-2), round(4.3))"
   ]
  },
  {
   "cell_type": "markdown",
   "id": "96e36479",
   "metadata": {},
   "source": [
    "Some other useful functions"
   ]
  },
  {
   "cell_type": "code",
   "execution_count": 19,
   "id": "2ab5c451",
   "metadata": {},
   "outputs": [
    {
     "data": {
      "text/plain": [
       "2"
      ]
     },
     "execution_count": 19,
     "metadata": {},
     "output_type": "execute_result"
    }
   ],
   "source": [
    "min(2, 3, 4)"
   ]
  },
  {
   "cell_type": "code",
   "execution_count": 20,
   "id": "f81abd21",
   "metadata": {},
   "outputs": [
    {
     "data": {
      "text/plain": [
       "7"
      ]
     },
     "execution_count": 20,
     "metadata": {},
     "output_type": "execute_result"
    }
   ],
   "source": [
    "max(2, -3, 4, 7, -5)"
   ]
  },
  {
   "cell_type": "code",
   "execution_count": 21,
   "id": "21daf8e4",
   "metadata": {},
   "outputs": [
    {
     "data": {
      "text/plain": [
       "4"
      ]
     },
     "execution_count": 21,
     "metadata": {},
     "output_type": "execute_result"
    }
   ],
   "source": [
    "max(2, -3, min(4, 7), -5)"
   ]
  },
  {
   "cell_type": "markdown",
   "id": "877fcb6b",
   "metadata": {},
   "source": [
    "Function objects have memory addresses just like variables:"
   ]
  },
  {
   "cell_type": "code",
   "execution_count": 22,
   "id": "8cc9a2e9",
   "metadata": {},
   "outputs": [
    {
     "data": {
      "text/plain": [
       "140068369512112"
      ]
     },
     "execution_count": 22,
     "metadata": {},
     "output_type": "execute_result"
    }
   ],
   "source": [
    "id(-9)"
   ]
  },
  {
   "cell_type": "code",
   "execution_count": 23,
   "id": "45fc831e",
   "metadata": {},
   "outputs": [
    {
     "data": {
      "text/plain": [
       "140068369510320"
      ]
     },
     "execution_count": 23,
     "metadata": {},
     "output_type": "execute_result"
    }
   ],
   "source": [
    "id(23.1)"
   ]
  },
  {
   "cell_type": "code",
   "execution_count": 24,
   "id": "9db1d2b5",
   "metadata": {},
   "outputs": [
    {
     "data": {
      "text/plain": [
       "140068369505200"
      ]
     },
     "execution_count": 24,
     "metadata": {},
     "output_type": "execute_result"
    }
   ],
   "source": [
    "show_size = 8.5\n",
    "id(show_size)"
   ]
  },
  {
   "cell_type": "code",
   "execution_count": 25,
   "id": "9bd41261",
   "metadata": {},
   "outputs": [
    {
     "data": {
      "text/plain": [
       "140068417767920"
      ]
     },
     "execution_count": 25,
     "metadata": {},
     "output_type": "execute_result"
    }
   ],
   "source": [
    "id(abs)"
   ]
  },
  {
   "cell_type": "code",
   "execution_count": 26,
   "id": "0157d2fd",
   "metadata": {},
   "outputs": [
    {
     "data": {
      "text/plain": [
       "140068417770880"
      ]
     },
     "execution_count": 26,
     "metadata": {},
     "output_type": "execute_result"
    }
   ],
   "source": [
    "id(round)"
   ]
  }
 ],
 "metadata": {
  "jupytext": {
   "formats": "md:myst",
   "text_representation": {
    "extension": ".md",
    "format_name": "myst"
   }
  },
  "kernelspec": {
   "display_name": "Python 3",
   "language": "python",
   "name": "python3"
  },
  "language_info": {
   "codemirror_mode": {
    "name": "ipython",
    "version": 3
   },
   "file_extension": ".py",
   "mimetype": "text/x-python",
   "name": "python",
   "nbconvert_exporter": "python",
   "pygments_lexer": "ipython3",
   "version": "3.10.9"
  },
  "source_map": [
   11,
   17,
   21,
   26,
   28,
   34,
   38,
   42,
   46,
   48,
   51,
   55,
   59,
   63,
   67,
   71,
   73,
   77,
   79,
   83,
   88,
   90,
   95,
   99,
   101,
   105,
   107,
   112,
   117,
   121,
   123,
   127,
   131,
   135,
   140,
   144
  ]
 },
 "nbformat": 4,
 "nbformat_minor": 5
}