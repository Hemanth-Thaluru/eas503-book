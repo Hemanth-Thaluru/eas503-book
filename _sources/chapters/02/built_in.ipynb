{
 "cells": [
  {
   "cell_type": "markdown",
   "id": "acdc599e",
   "metadata": {},
   "source": [
    "# Built-in functions\n",
    "\n",
    "`abs(-9)` -- `-9` is the argument. Arguments appear between the parenthesis after the function name. Arguments are evaluated left to right."
   ]
  },
  {
   "cell_type": "code",
   "execution_count": 1,
   "id": "a5ee877b",
   "metadata": {},
   "outputs": [
    {
     "data": {
      "text/plain": [
       "7"
      ]
     },
     "execution_count": 1,
     "metadata": {},
     "output_type": "execute_result"
    }
   ],
   "source": [
    "day_temperature = 3\n",
    "night_temperature = 10\n",
    "abs(day_temperature - night_temperature)"
   ]
  },
  {
   "cell_type": "markdown",
   "id": "6ee844ab",
   "metadata": {},
   "source": [
    "Because function calls produce values, they can be used in expressions:"
   ]
  },
  {
   "cell_type": "code",
   "execution_count": 2,
   "id": "78ed7c34",
   "metadata": {},
   "outputs": [
    {
     "data": {
      "text/plain": [
       "10.3"
      ]
     },
     "execution_count": 2,
     "metadata": {},
     "output_type": "execute_result"
    }
   ],
   "source": [
    "abs(-7) + abs(3.3)"
   ]
  },
  {
   "cell_type": "markdown",
   "id": "8894ecc4",
   "metadata": {},
   "source": [
    "![subexpression](./subexpression.png)\n",
    "\n",
    "Functions to convert one type of variable to another"
   ]
  },
  {
   "cell_type": "code",
   "execution_count": 3,
   "id": "cc8c5331",
   "metadata": {},
   "outputs": [
    {
     "data": {
      "text/plain": [
       "34"
      ]
     },
     "execution_count": 3,
     "metadata": {},
     "output_type": "execute_result"
    }
   ],
   "source": [
    "int(34.6)"
   ]
  },
  {
   "cell_type": "code",
   "execution_count": 4,
   "id": "ca257e37",
   "metadata": {},
   "outputs": [
    {
     "data": {
      "text/plain": [
       "-4"
      ]
     },
     "execution_count": 4,
     "metadata": {},
     "output_type": "execute_result"
    }
   ],
   "source": [
    "int(-4.3)"
   ]
  },
  {
   "cell_type": "code",
   "execution_count": 5,
   "id": "1daffeae",
   "metadata": {},
   "outputs": [
    {
     "data": {
      "text/plain": [
       "21.0"
      ]
     },
     "execution_count": 5,
     "metadata": {},
     "output_type": "execute_result"
    }
   ],
   "source": [
    "float(21)"
   ]
  },
  {
   "cell_type": "code",
   "execution_count": 6,
   "id": "b7ecd626",
   "metadata": {},
   "outputs": [
    {
     "data": {
      "text/plain": [
       "'21'"
      ]
     },
     "execution_count": 6,
     "metadata": {},
     "output_type": "execute_result"
    }
   ],
   "source": [
    "str(21)"
   ]
  },
  {
   "cell_type": "markdown",
   "id": "30ad964c",
   "metadata": {},
   "source": [
    "The Round function can round floats"
   ]
  },
  {
   "cell_type": "code",
   "execution_count": 7,
   "id": "cf9a3c28",
   "metadata": {},
   "outputs": [
    {
     "data": {
      "text/plain": [
       "'21'"
      ]
     },
     "execution_count": 7,
     "metadata": {},
     "output_type": "execute_result"
    }
   ],
   "source": [
    "str(21)"
   ]
  },
  {
   "cell_type": "code",
   "execution_count": 8,
   "id": "d4981871",
   "metadata": {},
   "outputs": [
    {
     "data": {
      "text/plain": [
       "4"
      ]
     },
     "execution_count": 8,
     "metadata": {},
     "output_type": "execute_result"
    }
   ],
   "source": [
    "round(3.8)"
   ]
  },
  {
   "cell_type": "code",
   "execution_count": 9,
   "id": "2d26fc04",
   "metadata": {},
   "outputs": [
    {
     "data": {
      "text/plain": [
       "3"
      ]
     },
     "execution_count": 9,
     "metadata": {},
     "output_type": "execute_result"
    }
   ],
   "source": [
    "round(3.3)"
   ]
  },
  {
   "cell_type": "code",
   "execution_count": 10,
   "id": "a8b8f782",
   "metadata": {},
   "outputs": [
    {
     "data": {
      "text/plain": [
       "4"
      ]
     },
     "execution_count": 10,
     "metadata": {},
     "output_type": "execute_result"
    }
   ],
   "source": [
    "round(3.5)"
   ]
  },
  {
   "cell_type": "code",
   "execution_count": 11,
   "id": "a8c1e2b9",
   "metadata": {},
   "outputs": [
    {
     "data": {
      "text/plain": [
       "-3"
      ]
     },
     "execution_count": 11,
     "metadata": {},
     "output_type": "execute_result"
    }
   ],
   "source": [
    "round(-3.3)"
   ]
  },
  {
   "cell_type": "code",
   "execution_count": 12,
   "id": "ab9d92ed",
   "metadata": {},
   "outputs": [
    {
     "data": {
      "text/plain": [
       "-4"
      ]
     },
     "execution_count": 12,
     "metadata": {},
     "output_type": "execute_result"
    }
   ],
   "source": [
    "round(-3.5)"
   ]
  },
  {
   "cell_type": "markdown",
   "id": "34df855d",
   "metadata": {},
   "source": [
    "The round function can take an OPTIONAL second argument"
   ]
  },
  {
   "cell_type": "code",
   "execution_count": 13,
   "id": "46bd3826",
   "metadata": {},
   "outputs": [
    {
     "data": {
      "text/plain": [
       "3.14"
      ]
     },
     "execution_count": 13,
     "metadata": {},
     "output_type": "execute_result"
    }
   ],
   "source": [
    "round(3.141592653,2)"
   ]
  },
  {
   "cell_type": "markdown",
   "id": "eebd17bd",
   "metadata": {},
   "source": [
    "The `help(fxn)` function gives information about a function"
   ]
  },
  {
   "cell_type": "code",
   "execution_count": 14,
   "id": "73620489",
   "metadata": {},
   "outputs": [
    {
     "name": "stdout",
     "output_type": "stream",
     "text": [
      "Help on built-in function round in module builtins:\n",
      "\n",
      "round(number, ndigits=None)\n",
      "    Round a number to a given precision in decimal digits.\n",
      "    \n",
      "    The return value is an integer if ndigits is omitted or None.  Otherwise\n",
      "    the return value has the same type as the number.  ndigits may be negative.\n",
      "\n"
     ]
    }
   ],
   "source": [
    "help(round)\n"
   ]
  },
  {
   "cell_type": "code",
   "execution_count": 15,
   "id": "04b1404c",
   "metadata": {},
   "outputs": [
    {
     "name": "stdout",
     "output_type": "stream",
     "text": [
      "Help on built-in function pow in module builtins:\n",
      "\n",
      "pow(base, exp, mod=None)\n",
      "    Equivalent to base**exp with 2 arguments or base**exp % mod with 3 arguments\n",
      "    \n",
      "    Some types, such as ints, are able to use a more efficient algorithm when\n",
      "    invoked using the three argument form.\n",
      "\n"
     ]
    }
   ],
   "source": [
    "help(pow)"
   ]
  },
  {
   "cell_type": "markdown",
   "id": "fefd41df",
   "metadata": {},
   "source": [
    "Using the `pow` function"
   ]
  },
  {
   "cell_type": "code",
   "execution_count": 16,
   "id": "20a801b0",
   "metadata": {},
   "outputs": [
    {
     "data": {
      "text/plain": [
       "16"
      ]
     },
     "execution_count": 16,
     "metadata": {},
     "output_type": "execute_result"
    }
   ],
   "source": [
    "pow(2, 4)"
   ]
  },
  {
   "cell_type": "code",
   "execution_count": 17,
   "id": "9468d79e",
   "metadata": {},
   "outputs": [
    {
     "data": {
      "text/plain": [
       "1"
      ]
     },
     "execution_count": 17,
     "metadata": {},
     "output_type": "execute_result"
    }
   ],
   "source": [
    "pow(2, 4, 3)"
   ]
  },
  {
   "cell_type": "markdown",
   "id": "1710f625",
   "metadata": {},
   "source": [
    "We can also use function calls as arguments to other functions:"
   ]
  },
  {
   "cell_type": "code",
   "execution_count": 18,
   "id": "74415cb2",
   "metadata": {},
   "outputs": [
    {
     "data": {
      "text/plain": [
       "16"
      ]
     },
     "execution_count": 18,
     "metadata": {},
     "output_type": "execute_result"
    }
   ],
   "source": [
    "pow(abs(-2), round(4.3))"
   ]
  },
  {
   "cell_type": "markdown",
   "id": "dc30d5eb",
   "metadata": {},
   "source": [
    "Some other useful functions"
   ]
  },
  {
   "cell_type": "code",
   "execution_count": 19,
   "id": "e41d3aba",
   "metadata": {},
   "outputs": [
    {
     "data": {
      "text/plain": [
       "2"
      ]
     },
     "execution_count": 19,
     "metadata": {},
     "output_type": "execute_result"
    }
   ],
   "source": [
    "min(2, 3, 4)"
   ]
  },
  {
   "cell_type": "code",
   "execution_count": 20,
   "id": "3c44a089",
   "metadata": {},
   "outputs": [
    {
     "data": {
      "text/plain": [
       "7"
      ]
     },
     "execution_count": 20,
     "metadata": {},
     "output_type": "execute_result"
    }
   ],
   "source": [
    "max(2, -3, 4, 7, -5)"
   ]
  },
  {
   "cell_type": "code",
   "execution_count": 21,
   "id": "b8770a89",
   "metadata": {},
   "outputs": [
    {
     "data": {
      "text/plain": [
       "4"
      ]
     },
     "execution_count": 21,
     "metadata": {},
     "output_type": "execute_result"
    }
   ],
   "source": [
    "max(2, -3, min(4, 7), -5)"
   ]
  },
  {
   "cell_type": "markdown",
   "id": "2d11fd9b",
   "metadata": {},
   "source": [
    "Function objects have memory addresses just like variables:"
   ]
  },
  {
   "cell_type": "code",
   "execution_count": 22,
   "id": "247d46d6",
   "metadata": {},
   "outputs": [
    {
     "data": {
      "text/plain": [
       "139932078944816"
      ]
     },
     "execution_count": 22,
     "metadata": {},
     "output_type": "execute_result"
    }
   ],
   "source": [
    "id(-9)"
   ]
  },
  {
   "cell_type": "code",
   "execution_count": 23,
   "id": "69f707bc",
   "metadata": {},
   "outputs": [
    {
     "data": {
      "text/plain": [
       "139932078944560"
      ]
     },
     "execution_count": 23,
     "metadata": {},
     "output_type": "execute_result"
    }
   ],
   "source": [
    "id(23.1)"
   ]
  },
  {
   "cell_type": "code",
   "execution_count": 24,
   "id": "76bc3547",
   "metadata": {},
   "outputs": [
    {
     "data": {
      "text/plain": [
       "139932078940112"
      ]
     },
     "execution_count": 24,
     "metadata": {},
     "output_type": "execute_result"
    }
   ],
   "source": [
    "show_size = 8.5\n",
    "id(show_size)"
   ]
  },
  {
   "cell_type": "code",
   "execution_count": 25,
   "id": "c9826491",
   "metadata": {},
   "outputs": [
    {
     "data": {
      "text/plain": [
       "139932129167856"
      ]
     },
     "execution_count": 25,
     "metadata": {},
     "output_type": "execute_result"
    }
   ],
   "source": [
    "id(abs)"
   ]
  },
  {
   "cell_type": "code",
   "execution_count": 26,
   "id": "5528307a",
   "metadata": {},
   "outputs": [
    {
     "data": {
      "text/plain": [
       "139932129170816"
      ]
     },
     "execution_count": 26,
     "metadata": {},
     "output_type": "execute_result"
    }
   ],
   "source": [
    "id(round)"
   ]
  }
 ],
 "metadata": {
  "jupytext": {
   "formats": "md:myst",
   "text_representation": {
    "extension": ".md",
    "format_name": "myst"
   }
  },
  "kernelspec": {
   "display_name": "Python 3",
   "language": "python",
   "name": "python3"
  },
  "language_info": {
   "codemirror_mode": {
    "name": "ipython",
    "version": 3
   },
   "file_extension": ".py",
   "mimetype": "text/x-python",
   "name": "python",
   "nbconvert_exporter": "python",
   "pygments_lexer": "ipython3",
   "version": "3.10.9"
  },
  "source_map": [
   11,
   17,
   21,
   26,
   28,
   34,
   38,
   42,
   46,
   48,
   51,
   55,
   59,
   63,
   67,
   71,
   73,
   77,
   79,
   83,
   88,
   90,
   95,
   99,
   101,
   105,
   107,
   112,
   117,
   121,
   123,
   127,
   131,
   135,
   140,
   144
  ]
 },
 "nbformat": 4,
 "nbformat_minor": 5
}