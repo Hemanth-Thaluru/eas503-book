{
 "cells": [
  {
   "cell_type": "markdown",
   "id": "55a49df4",
   "metadata": {},
   "source": [
    "# Built-in functions\n",
    "\n",
    "## Absolute Value Function\n",
    "`abs()` takes the absolute value of a number. \n",
    "\n",
    "`abs(-9)`: `-9` is the argument. Arguments appear between the parenthesis after the function name. Arguments are evaluated left to right."
   ]
  },
  {
   "cell_type": "code",
   "execution_count": 1,
   "id": "f7755fde",
   "metadata": {},
   "outputs": [
    {
     "data": {
      "text/plain": [
       "7"
      ]
     },
     "execution_count": 1,
     "metadata": {},
     "output_type": "execute_result"
    }
   ],
   "source": [
    "day_temperature = 3\n",
    "night_temperature = 10\n",
    "abs(day_temperature - night_temperature)"
   ]
  },
  {
   "cell_type": "markdown",
   "id": "7ceec96d",
   "metadata": {},
   "source": [
    "Because function calls produce values, they can be used in expressions:"
   ]
  },
  {
   "cell_type": "code",
   "execution_count": 2,
   "id": "0d9fcbcd",
   "metadata": {},
   "outputs": [
    {
     "data": {
      "text/plain": [
       "10.3"
      ]
     },
     "execution_count": 2,
     "metadata": {},
     "output_type": "execute_result"
    }
   ],
   "source": [
    "abs(-7) + abs(3.3)"
   ]
  },
  {
   "cell_type": "markdown",
   "id": "6ecf5bc0",
   "metadata": {},
   "source": [
    "## Functions to Convert Data Type\n",
    "These functions convert the data type from one type to another if possible. This is called type casting. \n",
    "\n",
    "### int\n",
    "\n",
    "Note, for floating point numbers, `int()` truncates towards zero."
   ]
  },
  {
   "cell_type": "code",
   "execution_count": 3,
   "id": "eec33b93",
   "metadata": {},
   "outputs": [
    {
     "data": {
      "text/plain": [
       "34"
      ]
     },
     "execution_count": 3,
     "metadata": {},
     "output_type": "execute_result"
    }
   ],
   "source": [
    "int(34.6)"
   ]
  },
  {
   "cell_type": "code",
   "execution_count": 4,
   "id": "c5c6c5ec",
   "metadata": {},
   "outputs": [
    {
     "data": {
      "text/plain": [
       "34"
      ]
     },
     "execution_count": 4,
     "metadata": {},
     "output_type": "execute_result"
    }
   ],
   "source": [
    "int('34')"
   ]
  },
  {
   "cell_type": "markdown",
   "id": "83397f13",
   "metadata": {},
   "source": [
    "This will fail!"
   ]
  },
  {
   "cell_type": "code",
   "execution_count": 5,
   "id": "b29dbf1f",
   "metadata": {},
   "outputs": [
    {
     "ename": "ValueError",
     "evalue": "invalid literal for int() with base 10: '34.6'",
     "output_type": "error",
     "traceback": [
      "\u001b[0;31m---------------------------------------------------------------------------\u001b[0m",
      "\u001b[0;31mValueError\u001b[0m                                Traceback (most recent call last)",
      "Cell \u001b[0;32mIn[5], line 1\u001b[0m\n\u001b[0;32m----> 1\u001b[0m \u001b[38;5;28;43mint\u001b[39;49m\u001b[43m(\u001b[49m\u001b[38;5;124;43m'\u001b[39;49m\u001b[38;5;124;43m34.6\u001b[39;49m\u001b[38;5;124;43m'\u001b[39;49m\u001b[43m)\u001b[49m\n",
      "\u001b[0;31mValueError\u001b[0m: invalid literal for int() with base 10: '34.6'"
     ]
    }
   ],
   "source": [
    "int('34.6')"
   ]
  },
  {
   "cell_type": "code",
   "execution_count": 6,
   "id": "0c494042",
   "metadata": {},
   "outputs": [
    {
     "data": {
      "text/plain": [
       "-4"
      ]
     },
     "execution_count": 6,
     "metadata": {},
     "output_type": "execute_result"
    }
   ],
   "source": [
    "int(-4.3)"
   ]
  },
  {
   "cell_type": "markdown",
   "id": "925e77be",
   "metadata": {},
   "source": [
    "### float"
   ]
  },
  {
   "cell_type": "code",
   "execution_count": 7,
   "id": "118db521",
   "metadata": {},
   "outputs": [
    {
     "data": {
      "text/plain": [
       "21.0"
      ]
     },
     "execution_count": 7,
     "metadata": {},
     "output_type": "execute_result"
    }
   ],
   "source": [
    "float(21)"
   ]
  },
  {
   "cell_type": "code",
   "execution_count": 8,
   "id": "c7505a09",
   "metadata": {},
   "outputs": [
    {
     "data": {
      "text/plain": [
       "3.14"
      ]
     },
     "execution_count": 8,
     "metadata": {},
     "output_type": "execute_result"
    }
   ],
   "source": [
    "float('3.14')"
   ]
  },
  {
   "cell_type": "code",
   "execution_count": 9,
   "id": "97e359e4",
   "metadata": {},
   "outputs": [
    {
     "data": {
      "text/plain": [
       "300.0"
      ]
     },
     "execution_count": 9,
     "metadata": {},
     "output_type": "execute_result"
    }
   ],
   "source": [
    "float('300')"
   ]
  },
  {
   "cell_type": "markdown",
   "id": "ff2cf44d",
   "metadata": {},
   "source": [
    "### str"
   ]
  },
  {
   "cell_type": "code",
   "execution_count": 10,
   "id": "171f8ac1",
   "metadata": {},
   "outputs": [
    {
     "data": {
      "text/plain": [
       "'21'"
      ]
     },
     "execution_count": 10,
     "metadata": {},
     "output_type": "execute_result"
    }
   ],
   "source": [
    "str(21)"
   ]
  },
  {
   "cell_type": "code",
   "execution_count": 11,
   "id": "a0588f96",
   "metadata": {},
   "outputs": [
    {
     "data": {
      "text/plain": [
       "'3.14'"
      ]
     },
     "execution_count": 11,
     "metadata": {},
     "output_type": "execute_result"
    }
   ],
   "source": [
    "str(3.14)"
   ]
  },
  {
   "cell_type": "markdown",
   "id": "4a5b6dfd",
   "metadata": {},
   "source": [
    "### Rounding\n",
    "The `round()` function can be used to round floats. The optional second input argument specifies the number of digits after the decimal place."
   ]
  },
  {
   "cell_type": "code",
   "execution_count": 12,
   "id": "9bf4eb5b",
   "metadata": {},
   "outputs": [
    {
     "data": {
      "text/plain": [
       "4"
      ]
     },
     "execution_count": 12,
     "metadata": {},
     "output_type": "execute_result"
    }
   ],
   "source": [
    "round(3.8)"
   ]
  },
  {
   "cell_type": "code",
   "execution_count": 13,
   "id": "ebe5d859",
   "metadata": {},
   "outputs": [
    {
     "data": {
      "text/plain": [
       "3"
      ]
     },
     "execution_count": 13,
     "metadata": {},
     "output_type": "execute_result"
    }
   ],
   "source": [
    "round(3.3)"
   ]
  },
  {
   "cell_type": "code",
   "execution_count": 14,
   "id": "25f83e9f",
   "metadata": {},
   "outputs": [
    {
     "data": {
      "text/plain": [
       "4"
      ]
     },
     "execution_count": 14,
     "metadata": {},
     "output_type": "execute_result"
    }
   ],
   "source": [
    "round(3.5)"
   ]
  },
  {
   "cell_type": "code",
   "execution_count": 15,
   "id": "1502bc39",
   "metadata": {},
   "outputs": [
    {
     "data": {
      "text/plain": [
       "4"
      ]
     },
     "execution_count": 15,
     "metadata": {},
     "output_type": "execute_result"
    }
   ],
   "source": [
    "round(4.5)"
   ]
  },
  {
   "cell_type": "markdown",
   "id": "fc4eab62",
   "metadata": {},
   "source": [
    "```{warning}\n",
    "Why do both `3.5` and `4.5` go to 4? Python uses IEEE 754 standard for rounding called the banker’s rounding. In this method when a number is between two numbers, the number is rounded to the nearest value with an even least significant digit. Still, the behavior of `round()` can be surprising. \n",
    "```"
   ]
  },
  {
   "cell_type": "code",
   "execution_count": 16,
   "id": "17d9e3ba",
   "metadata": {},
   "outputs": [
    {
     "data": {
      "text/plain": [
       "2.67"
      ]
     },
     "execution_count": 16,
     "metadata": {},
     "output_type": "execute_result"
    }
   ],
   "source": [
    "round(2.675, 2)"
   ]
  },
  {
   "cell_type": "code",
   "execution_count": 17,
   "id": "636944fe",
   "metadata": {},
   "outputs": [
    {
     "data": {
      "text/plain": [
       "4.5"
      ]
     },
     "execution_count": 17,
     "metadata": {},
     "output_type": "execute_result"
    }
   ],
   "source": [
    "round(4.55, 1)"
   ]
  },
  {
   "cell_type": "code",
   "execution_count": 18,
   "id": "74378f6d",
   "metadata": {},
   "outputs": [
    {
     "data": {
      "text/plain": [
       "4.7"
      ]
     },
     "execution_count": 18,
     "metadata": {},
     "output_type": "execute_result"
    }
   ],
   "source": [
    "round(4.65, 1)"
   ]
  },
  {
   "cell_type": "code",
   "execution_count": 19,
   "id": "6df55474",
   "metadata": {},
   "outputs": [
    {
     "data": {
      "text/plain": [
       "3.5"
      ]
     },
     "execution_count": 19,
     "metadata": {},
     "output_type": "execute_result"
    }
   ],
   "source": [
    "round(3.55, 1)"
   ]
  },
  {
   "cell_type": "code",
   "execution_count": 20,
   "id": "040369f0",
   "metadata": {},
   "outputs": [
    {
     "data": {
      "text/plain": [
       "3.6"
      ]
     },
     "execution_count": 20,
     "metadata": {},
     "output_type": "execute_result"
    }
   ],
   "source": [
    "round(3.65, 1)"
   ]
  },
  {
   "cell_type": "code",
   "execution_count": 21,
   "id": "20f14dea",
   "metadata": {},
   "outputs": [
    {
     "data": {
      "text/plain": [
       "-3"
      ]
     },
     "execution_count": 21,
     "metadata": {},
     "output_type": "execute_result"
    }
   ],
   "source": [
    "round(-3.3)"
   ]
  },
  {
   "cell_type": "code",
   "execution_count": 22,
   "id": "e1b6f79d",
   "metadata": {},
   "outputs": [
    {
     "data": {
      "text/plain": [
       "-4"
      ]
     },
     "execution_count": 22,
     "metadata": {},
     "output_type": "execute_result"
    }
   ],
   "source": [
    "round(-3.5)"
   ]
  },
  {
   "cell_type": "markdown",
   "id": "9c46ea2f",
   "metadata": {},
   "source": [
    "The round function can take an OPTIONAL second argument"
   ]
  },
  {
   "cell_type": "code",
   "execution_count": 23,
   "id": "8ea4c7fd",
   "metadata": {},
   "outputs": [
    {
     "data": {
      "text/plain": [
       "3.14"
      ]
     },
     "execution_count": 23,
     "metadata": {},
     "output_type": "execute_result"
    }
   ],
   "source": [
    "round(3.141592653,2)"
   ]
  },
  {
   "cell_type": "markdown",
   "id": "2fd67431",
   "metadata": {},
   "source": [
    "You can also ceil and floor values by first importing the `math` module and using ceil and floor"
   ]
  },
  {
   "cell_type": "code",
   "execution_count": 24,
   "id": "6ffd06df",
   "metadata": {},
   "outputs": [
    {
     "name": "stdout",
     "output_type": "stream",
     "text": [
      "round: 3\n",
      "ceil: 4\n",
      "floor: 3\n"
     ]
    }
   ],
   "source": [
    "import math\n",
    "print('round:', round(3.141592653))\n",
    "print('ceil:', math.ceil(3.141592653))\n",
    "print('floor:', math.floor(3.141592653))"
   ]
  },
  {
   "cell_type": "markdown",
   "id": "c819ba18",
   "metadata": {},
   "source": [
    "### help\n",
    "\n",
    "The `help(fxn)` function gives information about a function"
   ]
  },
  {
   "cell_type": "code",
   "execution_count": 25,
   "id": "3faba7c5",
   "metadata": {},
   "outputs": [
    {
     "name": "stdout",
     "output_type": "stream",
     "text": [
      "Help on built-in function round in module builtins:\n",
      "\n",
      "round(number, ndigits=None)\n",
      "    Round a number to a given precision in decimal digits.\n",
      "    \n",
      "    The return value is an integer if ndigits is omitted or None.  Otherwise\n",
      "    the return value has the same type as the number.  ndigits may be negative.\n",
      "\n"
     ]
    }
   ],
   "source": [
    "help(round)\n"
   ]
  },
  {
   "cell_type": "code",
   "execution_count": 26,
   "id": "d719a80a",
   "metadata": {},
   "outputs": [
    {
     "name": "stdout",
     "output_type": "stream",
     "text": [
      "Help on built-in function pow in module builtins:\n",
      "\n",
      "pow(base, exp, mod=None)\n",
      "    Equivalent to base**exp with 2 arguments or base**exp % mod with 3 arguments\n",
      "    \n",
      "    Some types, such as ints, are able to use a more efficient algorithm when\n",
      "    invoked using the three argument form.\n",
      "\n"
     ]
    }
   ],
   "source": [
    "help(pow)"
   ]
  },
  {
   "cell_type": "markdown",
   "id": "92d21adb",
   "metadata": {},
   "source": [
    "### pow\n",
    "\n",
    "Using the `pow` function"
   ]
  },
  {
   "cell_type": "code",
   "execution_count": 27,
   "id": "01248dec",
   "metadata": {},
   "outputs": [
    {
     "data": {
      "text/plain": [
       "16"
      ]
     },
     "execution_count": 27,
     "metadata": {},
     "output_type": "execute_result"
    }
   ],
   "source": [
    "pow(2, 4)"
   ]
  },
  {
   "cell_type": "code",
   "execution_count": 28,
   "id": "34d37a9c",
   "metadata": {},
   "outputs": [
    {
     "data": {
      "text/plain": [
       "1"
      ]
     },
     "execution_count": 28,
     "metadata": {},
     "output_type": "execute_result"
    }
   ],
   "source": [
    "pow(2, 4, 3) "
   ]
  },
  {
   "cell_type": "markdown",
   "id": "268f99ab",
   "metadata": {},
   "source": [
    "### min"
   ]
  },
  {
   "cell_type": "code",
   "execution_count": 29,
   "id": "dc34204c",
   "metadata": {},
   "outputs": [
    {
     "data": {
      "text/plain": [
       "2"
      ]
     },
     "execution_count": 29,
     "metadata": {},
     "output_type": "execute_result"
    }
   ],
   "source": [
    "min(2, 3, 4)"
   ]
  },
  {
   "cell_type": "markdown",
   "id": "def5ea17",
   "metadata": {},
   "source": [
    "### max"
   ]
  },
  {
   "cell_type": "code",
   "execution_count": 30,
   "id": "ae5b38f8",
   "metadata": {},
   "outputs": [
    {
     "data": {
      "text/plain": [
       "7"
      ]
     },
     "execution_count": 30,
     "metadata": {},
     "output_type": "execute_result"
    }
   ],
   "source": [
    "max(2, -3, 4, 7, -5)"
   ]
  },
  {
   "cell_type": "code",
   "execution_count": 31,
   "id": "d8d7a1ae",
   "metadata": {},
   "outputs": [
    {
     "data": {
      "text/plain": [
       "4"
      ]
     },
     "execution_count": 31,
     "metadata": {},
     "output_type": "execute_result"
    }
   ],
   "source": [
    "max(2, -3, min(4, 7), -5)"
   ]
  },
  {
   "cell_type": "markdown",
   "id": "b1f84df7",
   "metadata": {},
   "source": [
    "### id"
   ]
  },
  {
   "cell_type": "code",
   "execution_count": 32,
   "id": "aaae2ed5",
   "metadata": {},
   "outputs": [
    {
     "data": {
      "text/plain": [
       "140094120109136"
      ]
     },
     "execution_count": 32,
     "metadata": {},
     "output_type": "execute_result"
    }
   ],
   "source": [
    "id(-9)"
   ]
  },
  {
   "cell_type": "code",
   "execution_count": 33,
   "id": "04cb34ba",
   "metadata": {},
   "outputs": [
    {
     "data": {
      "text/plain": [
       "140094200295248"
      ]
     },
     "execution_count": 33,
     "metadata": {},
     "output_type": "execute_result"
    }
   ],
   "source": [
    "id(23.1)"
   ]
  },
  {
   "cell_type": "code",
   "execution_count": 34,
   "id": "c02f160f",
   "metadata": {},
   "outputs": [
    {
     "name": "stdout",
     "output_type": "stream",
     "text": [
      "140094200294704\n",
      "8.5\n",
      "140094117606160\n",
      "8.5\n",
      "140094120107376\n"
     ]
    }
   ],
   "source": [
    "print(id(8.5))\n",
    "\n",
    "size1 = 8.5\n",
    "\n",
    "print(size1)\n",
    "\n",
    "print(id(size1))\n",
    "\n",
    "size2 = 8.5\n",
    "\n",
    "print(size2)\n",
    "\n",
    "print(id(size2))"
   ]
  },
  {
   "cell_type": "markdown",
   "id": "f61660c4",
   "metadata": {},
   "source": [
    "![Size Memory Model](./size.png)\n",
    "\n",
    "## Function Memory Address\n",
    "\n",
    "Function objects have memory addresses just like variables."
   ]
  },
  {
   "cell_type": "code",
   "execution_count": 35,
   "id": "0385d24c",
   "metadata": {},
   "outputs": [
    {
     "data": {
      "text/plain": [
       "140094248602096"
      ]
     },
     "execution_count": 35,
     "metadata": {},
     "output_type": "execute_result"
    }
   ],
   "source": [
    "id(abs)"
   ]
  },
  {
   "cell_type": "code",
   "execution_count": 36,
   "id": "989d626b",
   "metadata": {},
   "outputs": [
    {
     "data": {
      "text/plain": [
       "140094248605056"
      ]
     },
     "execution_count": 36,
     "metadata": {},
     "output_type": "execute_result"
    }
   ],
   "source": [
    "id(round)"
   ]
  },
  {
   "cell_type": "markdown",
   "id": "27aac375",
   "metadata": {},
   "source": [
    "## Using Function Calls as Arguments to Other Functions"
   ]
  },
  {
   "cell_type": "code",
   "execution_count": 37,
   "id": "39046a97",
   "metadata": {},
   "outputs": [
    {
     "data": {
      "text/plain": [
       "16"
      ]
     },
     "execution_count": 37,
     "metadata": {},
     "output_type": "execute_result"
    }
   ],
   "source": [
    "pow(abs(-2), round(4.3))"
   ]
  },
  {
   "cell_type": "markdown",
   "id": "b15399dc",
   "metadata": {},
   "source": [
    "![subexpression](./subexpression.png)\n",
    "\n",
    "\n",
    "\n",
    "There are many other built-in functions. The Python documentation describes all of [here](https://docs.python.org/3/library/functions.html#built-in-functions)"
   ]
  }
 ],
 "metadata": {
  "jupytext": {
   "formats": "md:myst",
   "text_representation": {
    "extension": ".md",
    "format_name": "myst"
   }
  },
  "kernelspec": {
   "display_name": "Python 3",
   "language": "python",
   "name": "python3"
  },
  "language_info": {
   "codemirror_mode": {
    "name": "ipython",
    "version": 3
   },
   "file_extension": ".py",
   "mimetype": "text/x-python",
   "name": "python",
   "nbconvert_exporter": "python",
   "pygments_lexer": "ipython3",
   "version": "3.10.9"
  },
  "source_map": [
   11,
   20,
   24,
   28,
   30,
   39,
   43,
   45,
   48,
   52,
   54,
   58,
   62,
   66,
   68,
   72,
   77,
   79,
   85,
   89,
   93,
   97,
   99,
   105,
   109,
   113,
   117,
   121,
   125,
   129,
   131,
   135,
   137,
   140,
   145,
   152,
   157,
   159,
   165,
   169,
   171,
   176,
   178,
   182,
   186,
   188,
   192,
   196,
   200,
   214,
   223,
   227,
   229,
   234,
   236
  ]
 },
 "nbformat": 4,
 "nbformat_minor": 5
}