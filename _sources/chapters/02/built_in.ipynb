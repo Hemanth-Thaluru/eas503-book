{
 "cells": [
  {
   "cell_type": "markdown",
   "id": "10c7b9ed",
   "metadata": {},
   "source": [
    "# Built-in functions\n",
    "\n",
    "## Absolute Value Function\n",
    "`abs()` takes the absolute value of a number. \n",
    "\n",
    "`abs(-9)`: `-9` is the argument. Arguments appear between the parenthesis after the function name. Arguments are evaluated left to right."
   ]
  },
  {
   "cell_type": "code",
   "execution_count": 1,
   "id": "32485be0",
   "metadata": {},
   "outputs": [
    {
     "data": {
      "text/plain": [
       "7"
      ]
     },
     "execution_count": 1,
     "metadata": {},
     "output_type": "execute_result"
    }
   ],
   "source": [
    "day_temperature = 3\n",
    "night_temperature = 10\n",
    "abs(day_temperature - night_temperature)"
   ]
  },
  {
   "cell_type": "markdown",
   "id": "96469b38",
   "metadata": {},
   "source": [
    "Because function calls produce values, they can be used in expressions:"
   ]
  },
  {
   "cell_type": "code",
   "execution_count": 2,
   "id": "ceea342f",
   "metadata": {},
   "outputs": [
    {
     "data": {
      "text/plain": [
       "10.3"
      ]
     },
     "execution_count": 2,
     "metadata": {},
     "output_type": "execute_result"
    }
   ],
   "source": [
    "abs(-7) + abs(3.3)"
   ]
  },
  {
   "cell_type": "markdown",
   "id": "e1160332",
   "metadata": {},
   "source": [
    "## Functions to Convert Data Type\n",
    "These functions convert the data type from one type to another if possible. This is called type casting. \n",
    "\n",
    "### int\n",
    "\n",
    "Note, for floating point numbers, `int()` truncates towards zero."
   ]
  },
  {
   "cell_type": "code",
   "execution_count": 3,
   "id": "642c445e",
   "metadata": {},
   "outputs": [
    {
     "data": {
      "text/plain": [
       "34"
      ]
     },
     "execution_count": 3,
     "metadata": {},
     "output_type": "execute_result"
    }
   ],
   "source": [
    "int(34.6)"
   ]
  },
  {
   "cell_type": "code",
   "execution_count": 4,
   "id": "e9e2421d",
   "metadata": {},
   "outputs": [
    {
     "data": {
      "text/plain": [
       "34"
      ]
     },
     "execution_count": 4,
     "metadata": {},
     "output_type": "execute_result"
    }
   ],
   "source": [
    "int('34')"
   ]
  },
  {
   "cell_type": "markdown",
   "id": "bc2abf41",
   "metadata": {},
   "source": [
    "This will fail!"
   ]
  },
  {
   "cell_type": "code",
   "execution_count": 5,
   "id": "92814ee9",
   "metadata": {},
   "outputs": [
    {
     "ename": "ValueError",
     "evalue": "invalid literal for int() with base 10: '34.6'",
     "output_type": "error",
     "traceback": [
      "\u001b[0;31m---------------------------------------------------------------------------\u001b[0m",
      "\u001b[0;31mValueError\u001b[0m                                Traceback (most recent call last)",
      "Cell \u001b[0;32mIn[5], line 1\u001b[0m\n\u001b[0;32m----> 1\u001b[0m \u001b[38;5;28;43mint\u001b[39;49m\u001b[43m(\u001b[49m\u001b[38;5;124;43m'\u001b[39;49m\u001b[38;5;124;43m34.6\u001b[39;49m\u001b[38;5;124;43m'\u001b[39;49m\u001b[43m)\u001b[49m\n",
      "\u001b[0;31mValueError\u001b[0m: invalid literal for int() with base 10: '34.6'"
     ]
    }
   ],
   "source": [
    "int('34.6')"
   ]
  },
  {
   "cell_type": "code",
   "execution_count": 6,
   "id": "cd0f64c8",
   "metadata": {},
   "outputs": [
    {
     "data": {
      "text/plain": [
       "-4"
      ]
     },
     "execution_count": 6,
     "metadata": {},
     "output_type": "execute_result"
    }
   ],
   "source": [
    "int(-4.3)"
   ]
  },
  {
   "cell_type": "markdown",
   "id": "33c1c30f",
   "metadata": {},
   "source": [
    "### float"
   ]
  },
  {
   "cell_type": "code",
   "execution_count": 7,
   "id": "effa1324",
   "metadata": {},
   "outputs": [
    {
     "data": {
      "text/plain": [
       "21.0"
      ]
     },
     "execution_count": 7,
     "metadata": {},
     "output_type": "execute_result"
    }
   ],
   "source": [
    "float(21)"
   ]
  },
  {
   "cell_type": "code",
   "execution_count": 8,
   "id": "f683a17e",
   "metadata": {},
   "outputs": [
    {
     "data": {
      "text/plain": [
       "3.14"
      ]
     },
     "execution_count": 8,
     "metadata": {},
     "output_type": "execute_result"
    }
   ],
   "source": [
    "float('3.14')"
   ]
  },
  {
   "cell_type": "code",
   "execution_count": 9,
   "id": "ef02463a",
   "metadata": {},
   "outputs": [
    {
     "data": {
      "text/plain": [
       "300.0"
      ]
     },
     "execution_count": 9,
     "metadata": {},
     "output_type": "execute_result"
    }
   ],
   "source": [
    "float('300')"
   ]
  },
  {
   "cell_type": "markdown",
   "id": "299917eb",
   "metadata": {},
   "source": [
    "### str"
   ]
  },
  {
   "cell_type": "code",
   "execution_count": 10,
   "id": "785c329b",
   "metadata": {},
   "outputs": [
    {
     "data": {
      "text/plain": [
       "'21'"
      ]
     },
     "execution_count": 10,
     "metadata": {},
     "output_type": "execute_result"
    }
   ],
   "source": [
    "str(21)"
   ]
  },
  {
   "cell_type": "code",
   "execution_count": 11,
   "id": "d6cf4cf4",
   "metadata": {},
   "outputs": [
    {
     "data": {
      "text/plain": [
       "'3.14'"
      ]
     },
     "execution_count": 11,
     "metadata": {},
     "output_type": "execute_result"
    }
   ],
   "source": [
    "str(3.14)"
   ]
  },
  {
   "cell_type": "markdown",
   "id": "1d73348a",
   "metadata": {},
   "source": [
    "### Rounding\n",
    "The `round()` function can be used to round floats. The optional second input argument specifies the number of digits after the decimal place."
   ]
  },
  {
   "cell_type": "code",
   "execution_count": 12,
   "id": "7c0cd0de",
   "metadata": {},
   "outputs": [
    {
     "data": {
      "text/plain": [
       "4"
      ]
     },
     "execution_count": 12,
     "metadata": {},
     "output_type": "execute_result"
    }
   ],
   "source": [
    "round(3.8)"
   ]
  },
  {
   "cell_type": "code",
   "execution_count": 13,
   "id": "7666d5e2",
   "metadata": {},
   "outputs": [
    {
     "data": {
      "text/plain": [
       "3"
      ]
     },
     "execution_count": 13,
     "metadata": {},
     "output_type": "execute_result"
    }
   ],
   "source": [
    "round(3.3)"
   ]
  },
  {
   "cell_type": "code",
   "execution_count": 14,
   "id": "3e88d85a",
   "metadata": {},
   "outputs": [
    {
     "data": {
      "text/plain": [
       "4"
      ]
     },
     "execution_count": 14,
     "metadata": {},
     "output_type": "execute_result"
    }
   ],
   "source": [
    "round(3.5)"
   ]
  },
  {
   "cell_type": "code",
   "execution_count": 15,
   "id": "6ef59b8b",
   "metadata": {},
   "outputs": [
    {
     "data": {
      "text/plain": [
       "4"
      ]
     },
     "execution_count": 15,
     "metadata": {},
     "output_type": "execute_result"
    }
   ],
   "source": [
    "round(4.5)"
   ]
  },
  {
   "cell_type": "markdown",
   "id": "714a1246",
   "metadata": {},
   "source": [
    "```{warning}\n",
    "Why do both `3.5` and `4.5` go to 4? Python uses IEEE 754 standard for rounding called the banker’s rounding. In this method when a number is between two numbers, the number is rounded to the nearest value with an even least significant digit. Still, the behavior of `round()` can be surprising. \n",
    "```"
   ]
  },
  {
   "cell_type": "code",
   "execution_count": 16,
   "id": "5c16197d",
   "metadata": {},
   "outputs": [
    {
     "data": {
      "text/plain": [
       "2.67"
      ]
     },
     "execution_count": 16,
     "metadata": {},
     "output_type": "execute_result"
    }
   ],
   "source": [
    "round(2.675, 2)"
   ]
  },
  {
   "cell_type": "code",
   "execution_count": 17,
   "id": "f3647a42",
   "metadata": {},
   "outputs": [
    {
     "data": {
      "text/plain": [
       "4.5"
      ]
     },
     "execution_count": 17,
     "metadata": {},
     "output_type": "execute_result"
    }
   ],
   "source": [
    "round(4.55, 1)"
   ]
  },
  {
   "cell_type": "code",
   "execution_count": 18,
   "id": "89835b61",
   "metadata": {},
   "outputs": [
    {
     "data": {
      "text/plain": [
       "4.7"
      ]
     },
     "execution_count": 18,
     "metadata": {},
     "output_type": "execute_result"
    }
   ],
   "source": [
    "round(4.65, 1)"
   ]
  },
  {
   "cell_type": "code",
   "execution_count": 19,
   "id": "8acbd5e1",
   "metadata": {},
   "outputs": [
    {
     "data": {
      "text/plain": [
       "3.5"
      ]
     },
     "execution_count": 19,
     "metadata": {},
     "output_type": "execute_result"
    }
   ],
   "source": [
    "round(3.55, 1)"
   ]
  },
  {
   "cell_type": "code",
   "execution_count": 20,
   "id": "e0240e8e",
   "metadata": {},
   "outputs": [
    {
     "data": {
      "text/plain": [
       "3.6"
      ]
     },
     "execution_count": 20,
     "metadata": {},
     "output_type": "execute_result"
    }
   ],
   "source": [
    "round(3.65, 1)"
   ]
  },
  {
   "cell_type": "code",
   "execution_count": 21,
   "id": "f87823af",
   "metadata": {},
   "outputs": [
    {
     "data": {
      "text/plain": [
       "-3"
      ]
     },
     "execution_count": 21,
     "metadata": {},
     "output_type": "execute_result"
    }
   ],
   "source": [
    "round(-3.3)"
   ]
  },
  {
   "cell_type": "code",
   "execution_count": 22,
   "id": "09adcf35",
   "metadata": {},
   "outputs": [
    {
     "data": {
      "text/plain": [
       "-4"
      ]
     },
     "execution_count": 22,
     "metadata": {},
     "output_type": "execute_result"
    }
   ],
   "source": [
    "round(-3.5)"
   ]
  },
  {
   "cell_type": "markdown",
   "id": "491567ca",
   "metadata": {},
   "source": [
    "The round function can take an OPTIONAL second argument"
   ]
  },
  {
   "cell_type": "code",
   "execution_count": 23,
   "id": "e79043d8",
   "metadata": {},
   "outputs": [
    {
     "data": {
      "text/plain": [
       "3.14"
      ]
     },
     "execution_count": 23,
     "metadata": {},
     "output_type": "execute_result"
    }
   ],
   "source": [
    "round(3.141592653,2)"
   ]
  },
  {
   "cell_type": "markdown",
   "id": "46471e94",
   "metadata": {},
   "source": [
    "You can also ceil and floor values by first importing the `math` module and using ceil and floor"
   ]
  },
  {
   "cell_type": "code",
   "execution_count": 24,
   "id": "160be191",
   "metadata": {},
   "outputs": [
    {
     "name": "stdout",
     "output_type": "stream",
     "text": [
      "round: 3\n",
      "ceil: 4\n",
      "floor: 3\n"
     ]
    }
   ],
   "source": [
    "import math\n",
    "print('round:', round(3.141592653))\n",
    "print('ceil:', math.ceil(3.141592653))\n",
    "print('floor:', math.floor(3.141592653))"
   ]
  },
  {
   "cell_type": "markdown",
   "id": "10e90387",
   "metadata": {},
   "source": [
    "### help\n",
    "\n",
    "The `help(fxn)` function gives information about a function"
   ]
  },
  {
   "cell_type": "code",
   "execution_count": 25,
   "id": "7b2a7d3d",
   "metadata": {},
   "outputs": [
    {
     "name": "stdout",
     "output_type": "stream",
     "text": [
      "Help on built-in function round in module builtins:\n",
      "\n",
      "round(number, ndigits=None)\n",
      "    Round a number to a given precision in decimal digits.\n",
      "    \n",
      "    The return value is an integer if ndigits is omitted or None.  Otherwise\n",
      "    the return value has the same type as the number.  ndigits may be negative.\n",
      "\n"
     ]
    }
   ],
   "source": [
    "help(round)\n"
   ]
  },
  {
   "cell_type": "code",
   "execution_count": 26,
   "id": "a5440b1e",
   "metadata": {},
   "outputs": [
    {
     "name": "stdout",
     "output_type": "stream",
     "text": [
      "Help on built-in function pow in module builtins:\n",
      "\n",
      "pow(base, exp, mod=None)\n",
      "    Equivalent to base**exp with 2 arguments or base**exp % mod with 3 arguments\n",
      "    \n",
      "    Some types, such as ints, are able to use a more efficient algorithm when\n",
      "    invoked using the three argument form.\n",
      "\n"
     ]
    }
   ],
   "source": [
    "help(pow)"
   ]
  },
  {
   "cell_type": "markdown",
   "id": "16246213",
   "metadata": {},
   "source": [
    "### pow\n",
    "\n",
    "Using the `pow` function"
   ]
  },
  {
   "cell_type": "code",
   "execution_count": 27,
   "id": "fbdb1867",
   "metadata": {},
   "outputs": [
    {
     "data": {
      "text/plain": [
       "16"
      ]
     },
     "execution_count": 27,
     "metadata": {},
     "output_type": "execute_result"
    }
   ],
   "source": [
    "pow(2, 4)"
   ]
  },
  {
   "cell_type": "code",
   "execution_count": 28,
   "id": "4b7d6019",
   "metadata": {},
   "outputs": [
    {
     "data": {
      "text/plain": [
       "1"
      ]
     },
     "execution_count": 28,
     "metadata": {},
     "output_type": "execute_result"
    }
   ],
   "source": [
    "pow(2, 4, 3) "
   ]
  },
  {
   "cell_type": "markdown",
   "id": "ce0858f2",
   "metadata": {},
   "source": [
    "### min"
   ]
  },
  {
   "cell_type": "code",
   "execution_count": 29,
   "id": "3c35b832",
   "metadata": {},
   "outputs": [
    {
     "data": {
      "text/plain": [
       "2"
      ]
     },
     "execution_count": 29,
     "metadata": {},
     "output_type": "execute_result"
    }
   ],
   "source": [
    "min(2, 3, 4)"
   ]
  },
  {
   "cell_type": "markdown",
   "id": "04b71cf5",
   "metadata": {},
   "source": [
    "### max"
   ]
  },
  {
   "cell_type": "code",
   "execution_count": 30,
   "id": "74eb0aa0",
   "metadata": {},
   "outputs": [
    {
     "data": {
      "text/plain": [
       "7"
      ]
     },
     "execution_count": 30,
     "metadata": {},
     "output_type": "execute_result"
    }
   ],
   "source": [
    "max(2, -3, 4, 7, -5)"
   ]
  },
  {
   "cell_type": "code",
   "execution_count": 31,
   "id": "afee9a1d",
   "metadata": {},
   "outputs": [
    {
     "data": {
      "text/plain": [
       "4"
      ]
     },
     "execution_count": 31,
     "metadata": {},
     "output_type": "execute_result"
    }
   ],
   "source": [
    "max(2, -3, min(4, 7), -5)"
   ]
  },
  {
   "cell_type": "markdown",
   "id": "2da50268",
   "metadata": {},
   "source": [
    "### id"
   ]
  },
  {
   "cell_type": "code",
   "execution_count": 32,
   "id": "f121c4a1",
   "metadata": {},
   "outputs": [
    {
     "data": {
      "text/plain": [
       "140574153164912"
      ]
     },
     "execution_count": 32,
     "metadata": {},
     "output_type": "execute_result"
    }
   ],
   "source": [
    "id(-9)"
   ]
  },
  {
   "cell_type": "code",
   "execution_count": 33,
   "id": "0a652857",
   "metadata": {},
   "outputs": [
    {
     "data": {
      "text/plain": [
       "140574150699440"
      ]
     },
     "execution_count": 33,
     "metadata": {},
     "output_type": "execute_result"
    }
   ],
   "source": [
    "id(23.1)"
   ]
  },
  {
   "cell_type": "code",
   "execution_count": 34,
   "id": "47346e35",
   "metadata": {},
   "outputs": [
    {
     "name": "stdout",
     "output_type": "stream",
     "text": [
      "140574150700624\n",
      "8.5\n",
      "140574281183792\n",
      "8.5\n",
      "140574153177904\n"
     ]
    }
   ],
   "source": [
    "print(id(8.5))\n",
    "\n",
    "size1 = 8.5\n",
    "\n",
    "print(size1)\n",
    "\n",
    "print(id(size1))\n",
    "\n",
    "size2 = 8.5\n",
    "\n",
    "print(size2)\n",
    "\n",
    "print(id(size2))"
   ]
  },
  {
   "cell_type": "markdown",
   "id": "67183fda",
   "metadata": {},
   "source": [
    "![Size Memory Model](./size.png)\n",
    "\n",
    "## Function Memory Address\n",
    "\n",
    "Function objects have memory addresses just like variables."
   ]
  },
  {
   "cell_type": "code",
   "execution_count": 35,
   "id": "567bdf43",
   "metadata": {},
   "outputs": [
    {
     "data": {
      "text/plain": [
       "140574357670384"
      ]
     },
     "execution_count": 35,
     "metadata": {},
     "output_type": "execute_result"
    }
   ],
   "source": [
    "id(abs)"
   ]
  },
  {
   "cell_type": "code",
   "execution_count": 36,
   "id": "a70e6ff2",
   "metadata": {},
   "outputs": [
    {
     "data": {
      "text/plain": [
       "140574357673344"
      ]
     },
     "execution_count": 36,
     "metadata": {},
     "output_type": "execute_result"
    }
   ],
   "source": [
    "id(round)"
   ]
  },
  {
   "cell_type": "markdown",
   "id": "f189dc3c",
   "metadata": {},
   "source": [
    "## Using Function Calls as Arguments to Other Functions"
   ]
  },
  {
   "cell_type": "code",
   "execution_count": 37,
   "id": "80fafa31",
   "metadata": {},
   "outputs": [
    {
     "data": {
      "text/plain": [
       "16"
      ]
     },
     "execution_count": 37,
     "metadata": {},
     "output_type": "execute_result"
    }
   ],
   "source": [
    "pow(abs(-2), round(4.3))"
   ]
  },
  {
   "cell_type": "markdown",
   "id": "54278806",
   "metadata": {},
   "source": [
    "![subexpression](./subexpression.png)\n",
    "\n",
    "\n",
    "\n",
    "There are many other built-in functions. The Python documentation describes all of [here](https://docs.python.org/3/library/functions.html#built-in-functions)"
   ]
  }
 ],
 "metadata": {
  "jupytext": {
   "formats": "md:myst",
   "text_representation": {
    "extension": ".md",
    "format_name": "myst"
   }
  },
  "kernelspec": {
   "display_name": "Python 3",
   "language": "python",
   "name": "python3"
  },
  "language_info": {
   "codemirror_mode": {
    "name": "ipython",
    "version": 3
   },
   "file_extension": ".py",
   "mimetype": "text/x-python",
   "name": "python",
   "nbconvert_exporter": "python",
   "pygments_lexer": "ipython3",
   "version": "3.10.9"
  },
  "source_map": [
   11,
   20,
   24,
   28,
   30,
   39,
   43,
   45,
   48,
   52,
   54,
   58,
   62,
   66,
   68,
   72,
   77,
   79,
   85,
   89,
   93,
   97,
   99,
   105,
   109,
   113,
   117,
   121,
   125,
   129,
   131,
   135,
   137,
   140,
   145,
   152,
   157,
   159,
   165,
   169,
   171,
   176,
   178,
   182,
   186,
   188,
   192,
   196,
   200,
   214,
   223,
   227,
   229,
   234,
   236
  ]
 },
 "nbformat": 4,
 "nbformat_minor": 5
}