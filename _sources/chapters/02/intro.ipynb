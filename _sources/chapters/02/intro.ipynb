{
 "cells": [
  {
   "cell_type": "markdown",
   "id": "52a0e5bf",
   "metadata": {},
   "source": [
    "# Introduction to Functions\n",
    "\n",
    "A Functions is a small, self-contained sequence of statements/instructions that has a name. Example: a function to convert Celsius to Fahrenheit. Since the formula for converting from Celsius to Fahrenheit is always the same and the only variable is the temperature in Celsius, you can write a function that takes the temperature as an argument, perform the conversion, and then return the temperature in Fahrenheit. \n",
    "\n",
    "What are the advantages of using functions?\n",
    "  - Many programs require a particular sequence of statements/instructions to be executed repeatedly. The repeated statements/instructions can be placed with a single function, which can be accessed whenever needed. Therefore, they reduce repeated statements/instructions. \n",
    "  - Functions help decompose larger programs into logical subprograms. Such programs are easier to write and debug. \n",
    "  - Functions can be executed at any point by using their name \n",
    "  - Functions can call other functions\n",
    "  - Functions can OPTIONALLY take argument(s) that they can use inside the function\n",
    "  - Functions can OPTIONALLY return value(s)\n",
    "\n",
    "The general form of a function call is as follows:\n",
    "```\n",
    "def <<function_name>>(<<parameters>>):\n",
    "    body\n",
    "```\n",
    "\n",
    "```{note}\n",
    "Note the difference between parameters and arguments: Function parameters are the names listed in the function's definition. Function arguments are the real values passed to the function. Parameters are initialized to the values of the arguments supplied.  [Reference](https://developer.mozilla.org/en-US/docs/Glossary/Parameter)\n",
    "```\n",
    "\n",
    "In many programming languages, braces ({}) are used to enclose the contents of a function. In Python, however, a function body is distinguished from surrounding code by indenting all the function content by four spaces."
   ]
  },
  {
   "cell_type": "code",
   "execution_count": 1,
   "id": "57e69000",
   "metadata": {},
   "outputs": [],
   "source": [
    "def convert_celsius_to_fahrenheit(degrees_in_celsius):\n",
    "    return 9 / 5 * degrees_celsius + 32"
   ]
  },
  {
   "cell_type": "markdown",
   "id": "4999ce26",
   "metadata": {},
   "source": [
    "## IndentationError\n",
    "\n",
    "An **IndentationError** is a type of **SyntaxError** that occurs when the indentation is incorrect.\n",
    "\n",
    "```python\n",
    "def convert_celsius_to_fahrenheit(degrees_in_celsius):\n",
    "    f = 9 / 5 * degrees_in_celsius + 32\n",
    "  return \n",
    "```\n",
    "\n",
    "![indent_error](./indent_error.png)"
   ]
  }
 ],
 "metadata": {
  "jupytext": {
   "formats": "md:myst",
   "text_representation": {
    "extension": ".md",
    "format_name": "myst"
   }
  },
  "kernelspec": {
   "display_name": "Python 3",
   "language": "python",
   "name": "python3"
  },
  "language_info": {
   "codemirror_mode": {
    "name": "ipython",
    "version": 3
   },
   "file_extension": ".py",
   "mimetype": "text/x-python",
   "name": "python",
   "nbconvert_exporter": "python",
   "pygments_lexer": "ipython3",
   "version": "3.10.9"
  },
  "source_map": [
   11,
   37,
   40
  ]
 },
 "nbformat": 4,
 "nbformat_minor": 5
}