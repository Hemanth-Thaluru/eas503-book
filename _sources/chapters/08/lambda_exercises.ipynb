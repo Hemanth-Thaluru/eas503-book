{
 "cells": [
  {
   "cell_type": "markdown",
   "id": "202df5e4",
   "metadata": {},
   "source": [
    "# Lambda, Filter, Map, and Sorted Solutions\n",
    "\n",
    "## Exercise 1\n",
    "Write a function that squares a number and returns the value.\n",
    "Write it again again using Lambda functions"
   ]
  },
  {
   "cell_type": "code",
   "execution_count": 1,
   "id": "4fd735c7",
   "metadata": {
    "tags": [
     "hide-input",
     "output_scroll"
    ]
   },
   "outputs": [
    {
     "name": "stdout",
     "output_type": "stream",
     "text": [
      "81\n",
      "81\n"
     ]
    }
   ],
   "source": [
    "def square(num):\n",
    "    return num * num\n",
    "\n",
    "square2 = lambda num: num * num\n",
    "\n",
    "print(square(9))\n",
    "print(square2(9))"
   ]
  },
  {
   "cell_type": "markdown",
   "id": "e85ce524",
   "metadata": {},
   "source": [
    "## Exercise 2\n",
    "Write a lambda function for adding two numbers"
   ]
  },
  {
   "cell_type": "code",
   "execution_count": 2,
   "id": "f6bf9921",
   "metadata": {
    "tags": [
     "hide-input",
     "output_scroll"
    ]
   },
   "outputs": [
    {
     "name": "stdout",
     "output_type": "stream",
     "text": [
      "13\n"
     ]
    }
   ],
   "source": [
    "add = lambda a,b: a + b\n",
    "print(add(3,10))"
   ]
  },
  {
   "cell_type": "markdown",
   "id": "54ab8b69",
   "metadata": {},
   "source": [
    "## Exercise 3\n",
    "Write a lambda function that multiples two numbers. Use the lambda function as an input to another function."
   ]
  },
  {
   "cell_type": "code",
   "execution_count": 3,
   "id": "8c766430",
   "metadata": {
    "tags": [
     "hide-input",
     "output_scroll"
    ]
   },
   "outputs": [
    {
     "name": "stdout",
     "output_type": "stream",
     "text": [
      "12\n"
     ]
    }
   ],
   "source": [
    "func = lambda a, b: a * b\n",
    "def lambda_test(function, number1, number2):\n",
    "    return function(number1, number2)\n",
    "print(lambda_test(func, 3, 4))"
   ]
  },
  {
   "cell_type": "markdown",
   "id": "89e09d2e",
   "metadata": {},
   "source": [
    "## Exercise 4\n",
    "1. Write a function to double a list\n",
    "2. Use list comprehension to double a list\n",
    "3. Use lambda with map to double a list\n",
    "\n",
    "map objects are a generator. How many times can you iterate over them?"
   ]
  },
  {
   "cell_type": "code",
   "execution_count": 4,
   "id": "d08171b6",
   "metadata": {
    "tags": [
     "hide-input",
     "output_scroll"
    ]
   },
   "outputs": [
    {
     "ename": "SyntaxError",
     "evalue": "invalid syntax (310417651.py, line 21)",
     "output_type": "error",
     "traceback": [
      "\u001b[0;36m  Cell \u001b[0;32mIn[4], line 21\u001b[0;36m\u001b[0m\n\u001b[0;31m    map(lambda variables (comma separated): expression)\u001b[0m\n\u001b[0m                         ^\u001b[0m\n\u001b[0;31mSyntaxError\u001b[0m\u001b[0;31m:\u001b[0m invalid syntax\n"
     ]
    }
   ],
   "source": [
    "my_list = [2, 3, 4]\n",
    "\n",
    "# double this list\n",
    "\n",
    "# method 1 - define a square function\n",
    "\n",
    "def square_list(my_list):\n",
    "    new_list = []\n",
    "    for ele in my_list:\n",
    "        new_list.append(ele * ele)\n",
    "\n",
    "    return new_list\n",
    "\n",
    "print(square_list(my_list))\n",
    "\n",
    "# method 2 - list comprehension\n",
    "\n",
    "print([ele*ele for ele in my_list])\n",
    "\n",
    "# method 3 - use lambda with map\n",
    "map(lambda variables (comma separated): expression)\n",
    "\n",
    "print(list(map(lambda ele: ele*ele, my_list)))\n",
    "\n",
    "\n",
    "# map objects are a generator. How many times can you iterate over them?"
   ]
  },
  {
   "cell_type": "markdown",
   "id": "bda5f3ab",
   "metadata": {},
   "source": [
    "## Exercise 5\n",
    "Capitalize the names in the students list \n",
    "1. using a list and loop\n",
    "2. using list comprehension\n",
    "3. using lambda and map"
   ]
  },
  {
   "cell_type": "code",
   "execution_count": 5,
   "id": "2c143ac3",
   "metadata": {
    "tags": [
     "hide-input",
     "output_scroll"
    ]
   },
   "outputs": [
    {
     "name": "stdout",
     "output_type": "stream",
     "text": [
      "['John', 'Jane', 'Doe']\n",
      "['John', 'Jane', 'Doe']\n",
      "['John', 'Jane', 'Doe']\n"
     ]
    }
   ],
   "source": [
    "students = ['john', 'jane', 'doe']\n",
    "# make upper case\n",
    "\n",
    "\n",
    "# method 1 create new list and loop\n",
    "new_list = []\n",
    "for student in students:\n",
    "    new_list.append(student.title())\n",
    "\n",
    "print(new_list)\n",
    "\n",
    "# method 2 -- use list comprehension\n",
    "\n",
    "print([student[0].upper()+student[1:] for student in students])\n",
    "\n",
    "# method 3 -- use lambda\n",
    "\n",
    "print(list(map(lambda student: student.title(), students)))"
   ]
  },
  {
   "cell_type": "markdown",
   "id": "92b75c6b",
   "metadata": {},
   "source": [
    "## Exercise 6\n",
    "Using lambda and map, convert the numbers to float\n",
    "\n",
    "Covert each value to float"
   ]
  },
  {
   "cell_type": "code",
   "execution_count": 6,
   "id": "814008c9",
   "metadata": {
    "tags": [
     "hide-input",
     "output_scroll"
    ]
   },
   "outputs": [
    {
     "name": "stdout",
     "output_type": "stream",
     "text": [
      "[{'Value': 34.4}, {'Value': 45.3}, {'Value': 73.4}]\n"
     ]
    }
   ],
   "source": [
    "my_dict = [{'value': '34.4'}, {'value': '45.3'}, {'value': '73.4'}]\n",
    "\n",
    "print(list(map(lambda ele: {'Value': float(ele['value'])}, my_dict)))\n"
   ]
  },
  {
   "cell_type": "markdown",
   "id": "74ffbdd7",
   "metadata": {},
   "source": [
    "## Exercise 7\n",
    "Create a dictionary where the key is year and \n",
    "value is True/False if the year is a leap year\n",
    "1. using a loop and dict\n",
    "2. using filter without a function"
   ]
  },
  {
   "cell_type": "code",
   "execution_count": 7,
   "id": "8b78aace",
   "metadata": {
    "tags": [
     "hide-input",
     "output_scroll"
    ]
   },
   "outputs": [
    {
     "name": "stdout",
     "output_type": "stream",
     "text": [
      "{1970: False,\n",
      " 1971: False,\n",
      " 1972: True,\n",
      " 1973: False,\n",
      " 1974: False,\n",
      " 1975: False,\n",
      " 1976: True,\n",
      " 1977: False,\n",
      " 1978: False,\n",
      " 1979: False,\n",
      " 1980: True,\n",
      " 1981: False,\n",
      " 1982: False,\n",
      " 1983: False,\n",
      " 1984: True,\n",
      " 1985: False,\n",
      " 1986: False,\n",
      " 1987: False,\n",
      " 1988: True,\n",
      " 1989: False,\n",
      " 1990: False,\n",
      " 1991: False,\n",
      " 1992: True,\n",
      " 1993: False,\n",
      " 1994: False,\n",
      " 1995: False,\n",
      " 1996: True,\n",
      " 1997: False,\n",
      " 1998: False,\n",
      " 1999: False}\n",
      "[1972, 1976, 1980, 1984, 1988, 1992, 1996]\n",
      "[1972, 1976, 1980, 1984, 1988, 1992, 1996]\n",
      "[1972, 1976, 1980, 1984, 1988, 1992, 1996]\n",
      "[394.4, 395.2, 396.0, 396.8, 397.6, 398.4, 399.2]\n",
      "['1972 is a leap year!', '1976 is a leap year!', '1980 is a leap year!', '1984 is a leap year!', '1988 is a leap year!', '1992 is a leap year!', '1996 is a leap year!']\n",
      "['1972 is a leap year', '1976 is a leap year', '1980 is a leap year', '1984 is a leap year', '1988 is a leap year', '1992 is a leap year', '1996 is a leap year']\n"
     ]
    }
   ],
   "source": [
    "years = range(1970, 2000) # for these years\n",
    "\n",
    "\n",
    "\n",
    "def is_leap_year(year):\n",
    "    # does not work for century year\n",
    "    if year % 4 == 0:\n",
    "        return True\n",
    "    else:\n",
    "        return False\n",
    "\n",
    "my_dict = {}\n",
    "leap_years = []\n",
    "for year in years:\n",
    "    my_dict.update({year: is_leap_year(year)})\n",
    "    if is_leap_year(year):\n",
    "        leap_years.append(year)\n",
    "\n",
    "import pprint\n",
    "pprint.pprint(my_dict)\n",
    "print(leap_years)\n",
    "\n",
    "# filter(function, sequence)\n",
    "\n",
    "leap_year_lambda = lambda year: year % 4 == 0 \n",
    "\n",
    "filter(leap_year_lambda, range(1970, 2000))\n",
    "\n",
    "print(list(filter(lambda year: year % 4 == 0, range(1970, 2000))))\n",
    "print(list(filter(lambda year: is_leap_year(year), range(1970, 2000))))\n",
    "print(list(map(lambda year: year/5, filter(lambda year: year % 4 == 0, range(1970, 2000)))))\n",
    "\n",
    "# # combining map with filter\n",
    "\n",
    "print(list(map(lambda year: f'{year} is a leap year!', filter(lambda year: year % 4 == 0, range(1970, 2000)) )))\n",
    "\n",
    "\n",
    "# # list comprehension\n",
    "\n",
    "# print()\n",
    "print([f'{year} is a leap year' for year in range(1970, 2000) if year % 4 == 0])"
   ]
  },
  {
   "cell_type": "markdown",
   "id": "04cbd8aa",
   "metadata": {},
   "source": [
    "## Exercise 8\n",
    "Sort `x` using value"
   ]
  },
  {
   "cell_type": "code",
   "execution_count": 8,
   "id": "a72ab839",
   "metadata": {
    "tags": [
     "hide-input",
     "output_scroll"
    ]
   },
   "outputs": [
    {
     "name": "stdout",
     "output_type": "stream",
     "text": [
      "[('abc', 3), ('efg', 1), ('hij', 2)]\n",
      "[('efg', 1), ('hij', 2), ('abc', 3)]\n"
     ]
    }
   ],
   "source": [
    "x = (('efg', 1), ('abc', 3), ('hij', 2))\n",
    "\n",
    "print(sorted(x)) # does work\n",
    "\n",
    "print(sorted(x, key=lambda ele: ele[1]))\n"
   ]
  },
  {
   "cell_type": "markdown",
   "id": "5ec4162c",
   "metadata": {},
   "source": [
    "## Exercise 9\n",
    "sort dictionary by username; reverse sort"
   ]
  },
  {
   "cell_type": "code",
   "execution_count": 9,
   "id": "838387e2",
   "metadata": {
    "tags": [
     "hide-input",
     "output_scroll"
    ]
   },
   "outputs": [
    {
     "name": "stdout",
     "output_type": "stream",
     "text": [
      "[{'grade': 89, 'username': 'Kelly'}, {'username': 'doe', 'grade': 35}, {'username': 'jane', 'grade': 80}, {'username': 'john', 'grade': 50}]\n",
      "\n",
      "[{'username': 'john', 'grade': 50}, {'username': 'jane', 'grade': 80}, {'username': 'doe', 'grade': 35}, {'grade': 89, 'username': 'Kelly'}]\n"
     ]
    }
   ],
   "source": [
    "students = [\n",
    "    {'username': 'john', 'grade': 50},\n",
    "    {'username': 'jane', 'grade': 80},\n",
    "    {'username': 'doe', 'grade': 35},\n",
    "    {'grade': 89, 'username': 'Kelly'}\n",
    "]\n",
    "\n",
    "from pprint import pprint\n",
    "print(sorted(students, key=lambda student: student['username']))\n",
    "print()\n",
    "print(sorted(students, key=lambda student: student['username'], reverse=True))"
   ]
  },
  {
   "cell_type": "markdown",
   "id": "43639440",
   "metadata": {},
   "source": [
    "## Exercise 10\n",
    "Sort dictionary by grade; reverse sort"
   ]
  },
  {
   "cell_type": "code",
   "execution_count": 10,
   "id": "e8b08cc4",
   "metadata": {
    "tags": [
     "hide-input",
     "output_scroll"
    ]
   },
   "outputs": [
    {
     "name": "stdout",
     "output_type": "stream",
     "text": [
      "\n",
      "[{'username': 'doe', 'grade': 35}, {'username': 'john', 'grade': 50}, {'username': 'jane', 'grade': 80}, {'grade': 89, 'username': 'Kelly'}]\n",
      "\n",
      "[{'grade': 89, 'username': 'Kelly'}, {'username': 'jane', 'grade': 80}, {'username': 'john', 'grade': 50}, {'username': 'doe', 'grade': 35}]\n"
     ]
    }
   ],
   "source": [
    "students = [\n",
    "    {'username': 'john', 'grade': 50},\n",
    "    {'username': 'jane', 'grade': 80},\n",
    "    {'username': 'doe', 'grade': 35},\n",
    "    {'grade': 89, 'username': 'Kelly'}\n",
    "]\n",
    "\n",
    "print()\n",
    "print(sorted(students, key=lambda student: student['grade']))\n",
    "print()\n",
    "print(sorted(students, key=lambda student: student['grade'], reverse=True))"
   ]
  },
  {
   "cell_type": "markdown",
   "id": "1bf8846c",
   "metadata": {},
   "source": [
    "## Exercise 11\n",
    "Sort array by len of names"
   ]
  },
  {
   "cell_type": "code",
   "execution_count": 11,
   "id": "a35d1353",
   "metadata": {
    "tags": [
     "hide-input",
     "output_scroll"
    ]
   },
   "outputs": [
    {
     "name": "stdout",
     "output_type": "stream",
     "text": [
      "Janette\n",
      "doe\n",
      "Janette\n",
      "doe\n",
      "Janette\n"
     ]
    }
   ],
   "source": [
    "students = ['john', 'Janette', 'doe']\n",
    "print(min(students))\n",
    "print(min(students, key=lambda student: len(student)))\n",
    "print(max(students, key=lambda student: len(student)))\n",
    "\n",
    "\n",
    "print(min(students, key=len))\n",
    "print(max(students, key=len))"
   ]
  },
  {
   "cell_type": "markdown",
   "id": "5fc28a3b",
   "metadata": {},
   "source": [
    "## Exercise 12\n",
    "Sort dictionary by value"
   ]
  },
  {
   "cell_type": "code",
   "execution_count": 12,
   "id": "76ea0002",
   "metadata": {
    "tags": [
     "hide-input",
     "output_scroll"
    ]
   },
   "outputs": [
    {
     "name": "stdout",
     "output_type": "stream",
     "text": [
      "{'value': '73.4'}\n"
     ]
    }
   ],
   "source": [
    "my_list = [{'value': '34.4'}, {'value': '45.3'}, {'value': '73.4'}]\n",
    "print(max(my_list, key=lambda ele: float(ele['value'])))"
   ]
  }
 ],
 "metadata": {
  "jupytext": {
   "formats": "md:myst",
   "text_representation": {
    "extension": ".md",
    "format_name": "myst"
   }
  },
  "kernelspec": {
   "display_name": "Python 3",
   "language": "python",
   "name": "python3"
  },
  "language_info": {
   "codemirror_mode": {
    "name": "ipython",
    "version": 3
   },
   "file_extension": ".py",
   "mimetype": "text/x-python",
   "name": "python",
   "nbconvert_exporter": "python",
   "pygments_lexer": "ipython3",
   "version": "3.10.9"
  },
  "source_map": [
   11,
   19,
   28,
   33,
   37,
   42,
   48,
   57,
   85,
   94,
   115,
   121,
   128,
   136,
   180,
   185,
   194,
   198,
   212,
   217,
   230,
   235,
   245,
   250
  ]
 },
 "nbformat": 4,
 "nbformat_minor": 5
}