{
 "cells": [
  {
   "cell_type": "markdown",
   "id": "723b39b6",
   "metadata": {},
   "source": [
    "# Strings as Lists\n",
    "Remember, strings are a sequence, so you can index them."
   ]
  },
  {
   "cell_type": "code",
   "execution_count": 1,
   "id": "7b9565f8",
   "metadata": {},
   "outputs": [
    {
     "name": "stdout",
     "output_type": "stream",
     "text": [
      "D\n",
      "n\n",
      "e\n"
     ]
    }
   ],
   "source": [
    "my_string = 'Doe, John'\n",
    "print(my_string[0])\n",
    "print(my_string[-1])\n",
    "print(my_string[2])"
   ]
  },
  {
   "cell_type": "markdown",
   "id": "ce086609",
   "metadata": {},
   "source": [
    "## Splitting a Name\n",
    "\n",
    "When you split a string using split, a list is returned."
   ]
  },
  {
   "cell_type": "code",
   "execution_count": 2,
   "id": "c6e304b3",
   "metadata": {},
   "outputs": [
    {
     "name": "stdout",
     "output_type": "stream",
     "text": [
      "['Doe,', 'John']\n",
      "['Doe', ' John']\n",
      "['Doe', 'John']\n"
     ]
    }
   ],
   "source": [
    "my_string = 'Doe, John'\n",
    "print(my_string.split())\n",
    "print(my_string.split(','))\n",
    "print(my_string.split(', '))"
   ]
  },
  {
   "cell_type": "markdown",
   "id": "71f65b9a",
   "metadata": {},
   "source": [
    "## Splitting a Date\n",
    "### Example 1"
   ]
  },
  {
   "cell_type": "code",
   "execution_count": 3,
   "id": "b395c3f2",
   "metadata": {},
   "outputs": [
    {
     "name": "stdout",
     "output_type": "stream",
     "text": [
      "['2023', '05', '23']\n",
      "2023 05 23\n",
      "2023 5 23\n"
     ]
    }
   ],
   "source": [
    "date = '2023/05/23'\n",
    "print(date.split('/'))\n",
    "\n",
    "year, month, day = date.split('/')\n",
    "print(year, month, day)\n",
    "print(int(year), int(month), int(day))"
   ]
  },
  {
   "cell_type": "markdown",
   "id": "e210952c",
   "metadata": {},
   "source": [
    "### Example 2"
   ]
  },
  {
   "cell_type": "code",
   "execution_count": 4,
   "id": "b3eb7bdc",
   "metadata": {},
   "outputs": [
    {
     "name": "stdout",
     "output_type": "stream",
     "text": [
      "['05', '23', '2023']\n",
      "05 23 2023\n",
      "5 23 2023\n"
     ]
    }
   ],
   "source": [
    "date = '05-23-2023'\n",
    "print(date.split('-'))\n",
    "\n",
    "month, day, year = date.split('-')\n",
    "print(month, day, year)\n",
    "print(int(month), int(day), int(year))"
   ]
  },
  {
   "cell_type": "markdown",
   "id": "41023895",
   "metadata": {},
   "source": [
    "### Example 3"
   ]
  },
  {
   "cell_type": "code",
   "execution_count": 5,
   "id": "9f5ecd21",
   "metadata": {},
   "outputs": [
    {
     "name": "stdout",
     "output_type": "stream",
     "text": [
      "05 23 2023\n",
      "5 23 2023\n"
     ]
    }
   ],
   "source": [
    "date = '05-23-2023'\n",
    "\n",
    "month, day, year = date[:2], date[3:5], date[6:]\n",
    "print(month, day, year)\n",
    "print(int(month), int(day), int(year))"
   ]
  },
  {
   "cell_type": "markdown",
   "id": "3336aa88",
   "metadata": {},
   "source": [
    "## Limiting splits"
   ]
  },
  {
   "cell_type": "code",
   "execution_count": 6,
   "id": "d64c43bd",
   "metadata": {},
   "outputs": [
    {
     "name": "stdout",
     "output_type": "stream",
     "text": [
      "['range', 'start=3;end=20;step=2']\n"
     ]
    }
   ],
   "source": [
    "my_string = 'range=start=3;end=20;step=2'\n",
    "print(my_string.split('=', 1))"
   ]
  },
  {
   "cell_type": "markdown",
   "id": "db18f602",
   "metadata": {},
   "source": [
    "### Extract the key-value pairs"
   ]
  },
  {
   "cell_type": "code",
   "execution_count": 7,
   "id": "4036623f",
   "metadata": {},
   "outputs": [
    {
     "name": "stdout",
     "output_type": "stream",
     "text": [
      "3 20 2\n"
     ]
    }
   ],
   "source": [
    "my_string = 'range=start=3;end=20;step=2'\n",
    "range_options = my_string.split('=', 1)[1]\n",
    "start, end, step = range_options.split(';')\n",
    "start = start.split('=')[1] # or [-1]\n",
    "end = end.split('=')[1] # or [-1]\n",
    "step = step.split('=')[1] # or [-1]\n",
    "print(start, end, step)"
   ]
  },
  {
   "cell_type": "markdown",
   "id": "50230a53",
   "metadata": {},
   "source": [
    "## Splitting lines"
   ]
  },
  {
   "cell_type": "code",
   "execution_count": 8,
   "id": "96bce5fc",
   "metadata": {},
   "outputs": [
    {
     "name": "stdout",
     "output_type": "stream",
     "text": [
      "['First', 'line', 'Second', 'line', 'Third', 'line']\n",
      "['First line', 'Second line', 'Third line']\n",
      "['First line', 'Second line', 'Third line']\n"
     ]
    }
   ],
   "source": [
    "long_string='First line\\nSecond line\\nThird line'\n",
    "print(long_string.split())\n",
    "print(long_string.split('\\n'))\n",
    "print(long_string.splitlines())"
   ]
  },
  {
   "cell_type": "markdown",
   "id": "86197d5e",
   "metadata": {},
   "source": [
    "## Checking Character Type Manually"
   ]
  },
  {
   "cell_type": "code",
   "execution_count": 9,
   "id": "52602dd5",
   "metadata": {},
   "outputs": [
    {
     "name": "stdout",
     "output_type": "stream",
     "text": [
      "E Upper Case\n",
      "a Lower Case\n",
      "S Upper Case\n",
      "5 Digit\n",
      "0 Digit\n",
      "3 Digit\n",
      "! Not Alpha Numeric\n"
     ]
    }
   ],
   "source": [
    "my_string = 'EaS503!'\n",
    "\n",
    "def char_type(char):\n",
    "    if 'A' <= char <= 'Z':\n",
    "        return 'Upper Case'\n",
    "    elif 'a' <= char <= 'z':\n",
    "        return 'Lower Case'\n",
    "    elif '0' <= char <= '9':\n",
    "        return 'Digit'\n",
    "    else:\n",
    "        return 'Not Alpha Numeric'\n",
    "\n",
    "\n",
    "print(my_string[0], char_type(my_string[0]))\n",
    "print(my_string[1], char_type(my_string[1]))\n",
    "print(my_string[2], char_type(my_string[2]))\n",
    "print(my_string[3], char_type(my_string[3]))\n",
    "print(my_string[4], char_type(my_string[4]))\n",
    "print(my_string[5], char_type(my_string[5]))\n",
    "print(my_string[6], char_type(my_string[6]))"
   ]
  }
 ],
 "metadata": {
  "jupytext": {
   "formats": "md:myst",
   "text_representation": {
    "extension": ".md",
    "format_name": "myst"
   }
  },
  "kernelspec": {
   "display_name": "Python 3",
   "language": "python",
   "name": "python3"
  },
  "language_info": {
   "codemirror_mode": {
    "name": "ipython",
    "version": 3
   },
   "file_extension": ".py",
   "mimetype": "text/x-python",
   "name": "python",
   "nbconvert_exporter": "python",
   "pygments_lexer": "ipython3",
   "version": "3.10.9"
  },
  "source_map": [
   11,
   17,
   22,
   27,
   32,
   38,
   45,
   48,
   55,
   59,
   65,
   69,
   72,
   75,
   83,
   86,
   91,
   95
  ]
 },
 "nbformat": 4,
 "nbformat_minor": 5
}