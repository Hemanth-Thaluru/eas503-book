{
 "cells": [
  {
   "cell_type": "markdown",
   "id": "e89c9113",
   "metadata": {},
   "source": [
    "# List methods (functions)\n",
    "Lists supports the following methods:\n",
    "- `append(value)` - add an element to end of list\n",
    "- `insert(index, value)` - insert an element to the list at the specified location\n",
    "- `remove(value)` - remove the first matching value from list \n",
    "- `pop()` - remove the last element in the list; also returns the value; you can save this to another variable\n",
    "- `pop(index)` - remove the element at specified index in the list; also returns the value; you can save this to another variable\n",
    "- `clear()` - empty the list\n",
    "- `index(element)` - return position of first matching element\n",
    "- `count(element)` - return the number of elements in the list that match `element`;\n",
    "- `sort()` - sort the list in place \n",
    "- `reverse()` - reverse the list in place"
   ]
  },
  {
   "cell_type": "code",
   "execution_count": 1,
   "id": "4c4c7909",
   "metadata": {},
   "outputs": [
    {
     "name": "stdout",
     "output_type": "stream",
     "text": [
      "['A', 'B', 'C', 'D']\n"
     ]
    }
   ],
   "source": [
    "grades = ['A', 'B', 'C']\n",
    "grades.append('D')\n",
    "print(grades)"
   ]
  },
  {
   "cell_type": "code",
   "execution_count": 2,
   "id": "08a8f779",
   "metadata": {},
   "outputs": [
    {
     "name": "stdout",
     "output_type": "stream",
     "text": [
      "['A', 'B', 'C', 'F']\n"
     ]
    }
   ],
   "source": [
    "grades = ['A', 'B', 'C']\n",
    "grades.insert(3, 'F')\n",
    "print(grades)"
   ]
  },
  {
   "cell_type": "markdown",
   "id": "f6806132",
   "metadata": {},
   "source": [
    "- if the insert index is greater than the length of the list, the value will be added to the end of the list."
   ]
  },
  {
   "cell_type": "code",
   "execution_count": 3,
   "id": "5491c586",
   "metadata": {},
   "outputs": [
    {
     "name": "stdout",
     "output_type": "stream",
     "text": [
      "['A', 'B', 'C', 'F']\n"
     ]
    }
   ],
   "source": [
    "grades = ['A', 'B', 'C']\n",
    "grades.insert(10, 'F')\n",
    "print(grades)"
   ]
  },
  {
   "cell_type": "code",
   "execution_count": 4,
   "id": "8490b7c7",
   "metadata": {},
   "outputs": [
    {
     "name": "stdout",
     "output_type": "stream",
     "text": [
      "['F', 'A', 'B', 'C']\n"
     ]
    }
   ],
   "source": [
    "grades = ['A', 'B', 'C']\n",
    "grades.insert(0, 'F') # insert at beginning\n",
    "print(grades)"
   ]
  },
  {
   "cell_type": "code",
   "execution_count": 5,
   "id": "a706b77c",
   "metadata": {},
   "outputs": [
    {
     "name": "stdout",
     "output_type": "stream",
     "text": [
      "['B', 'A', 'C']\n"
     ]
    }
   ],
   "source": [
    "grades = ['A', 'B', 'A', 'C']\n",
    "grades.remove('A')\n",
    "print(grades)"
   ]
  },
  {
   "cell_type": "code",
   "execution_count": 6,
   "id": "0bf2db9a",
   "metadata": {},
   "outputs": [
    {
     "name": "stdout",
     "output_type": "stream",
     "text": [
      "['A', 'B', 'C', 'D']\n",
      "['B', 'C', 'D']\n",
      "['B', 'C']\n"
     ]
    }
   ],
   "source": [
    "grades = ['A', 'B', 'C', 'D', 'F']\n",
    "grades.pop() # deletes the last element in list and returns it \n",
    "print(grades)\n",
    "grades.pop(0) # deletes the first element in list and returns it\n",
    "print(grades)\n",
    "grades.pop(2) # deletes the second element in list and returns it\n",
    "print(grades)"
   ]
  },
  {
   "cell_type": "code",
   "execution_count": 7,
   "id": "609c71e6",
   "metadata": {},
   "outputs": [
    {
     "name": "stdout",
     "output_type": "stream",
     "text": [
      "[]\n"
     ]
    }
   ],
   "source": [
    "grades = ['A', 'B', 'C']\n",
    "grades.clear()\n",
    "print(grades)"
   ]
  },
  {
   "cell_type": "code",
   "execution_count": 8,
   "id": "fea7e9ea",
   "metadata": {},
   "outputs": [
    {
     "name": "stdout",
     "output_type": "stream",
     "text": [
      "1\n"
     ]
    }
   ],
   "source": [
    "grades = ['A', 'C', 'B', 'C']\n",
    "print(grades.index('C'))"
   ]
  },
  {
   "cell_type": "code",
   "execution_count": 9,
   "id": "4a13c418",
   "metadata": {},
   "outputs": [
    {
     "name": "stdout",
     "output_type": "stream",
     "text": [
      "2\n"
     ]
    }
   ],
   "source": [
    "grades = ['A', 'C', 'B', 'C']\n",
    "print(grades.count('C'))"
   ]
  },
  {
   "cell_type": "code",
   "execution_count": 10,
   "id": "bdf86748",
   "metadata": {},
   "outputs": [
    {
     "name": "stdout",
     "output_type": "stream",
     "text": [
      "['A', 'B', 'C', 'C']\n"
     ]
    }
   ],
   "source": [
    "grades = ['A', 'C', 'B', 'C']\n",
    "grades.sort()\n",
    "print(grades)"
   ]
  },
  {
   "cell_type": "code",
   "execution_count": 11,
   "id": "928483b2",
   "metadata": {},
   "outputs": [
    {
     "name": "stdout",
     "output_type": "stream",
     "text": [
      "['C', 'B', 'A']\n"
     ]
    }
   ],
   "source": [
    "grades = ['A', 'B', 'C']\n",
    "grades.reverse()\n",
    "print(grades)"
   ]
  }
 ],
 "metadata": {
  "jupytext": {
   "formats": "md:myst",
   "text_representation": {
    "extension": ".md",
    "format_name": "myst"
   }
  },
  "kernelspec": {
   "display_name": "Python 3",
   "language": "python",
   "name": "python3"
  },
  "language_info": {
   "codemirror_mode": {
    "name": "ipython",
    "version": 3
   },
   "file_extension": ".py",
   "mimetype": "text/x-python",
   "name": "python",
   "nbconvert_exporter": "python",
   "pygments_lexer": "ipython3",
   "version": "3.10.9"
  },
  "source_map": [
   11,
   27,
   33,
   37,
   40,
   46,
   52,
   58,
   68,
   74,
   79,
   84,
   90
  ]
 },
 "nbformat": 4,
 "nbformat_minor": 5
}