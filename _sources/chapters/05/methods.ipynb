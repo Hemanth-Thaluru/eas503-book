{
 "cells": [
  {
   "cell_type": "markdown",
   "id": "7405ec23",
   "metadata": {},
   "source": [
    "# List methods (functions)\n",
    "Lists supports the following methods:\n",
    "- `append(value)` - add an element to end of list\n",
    "- `insert(index, value)` - insert an element to the list at the specified location\n",
    "- `remove(value)` - remove the first matching value from list \n",
    "- `pop()` - remove the last element in the list; also returns the value; you can save this to another variable\n",
    "- `pop(index)` - remove the element at specified index in the list; also returns the value; you can save this to another variable\n",
    "- `clear()` - empty the list\n",
    "- `index(element)` - return position of first matching element\n",
    "- `count(element)` - return the number of elements in the list that match `element`;\n",
    "- `sort()` - sort the list in place \n",
    "- `reverse()` - reverse the list in place"
   ]
  },
  {
   "cell_type": "code",
   "execution_count": 1,
   "id": "fc67ddbd",
   "metadata": {},
   "outputs": [
    {
     "name": "stdout",
     "output_type": "stream",
     "text": [
      "['A', 'B', 'C', 'D']\n"
     ]
    }
   ],
   "source": [
    "grades = ['A', 'B', 'C']\n",
    "grades.append('D')\n",
    "print(grades)"
   ]
  },
  {
   "cell_type": "code",
   "execution_count": 2,
   "id": "2c21494f",
   "metadata": {},
   "outputs": [
    {
     "name": "stdout",
     "output_type": "stream",
     "text": [
      "['A', 'B', 'C', 'F']\n"
     ]
    }
   ],
   "source": [
    "grades = ['A', 'B', 'C']\n",
    "grades.insert(3, 'F')\n",
    "print(grades)"
   ]
  },
  {
   "cell_type": "markdown",
   "id": "73694edd",
   "metadata": {},
   "source": [
    "- if the insert index is greater than the length of the list, the value will be added to the end of the list."
   ]
  },
  {
   "cell_type": "code",
   "execution_count": 3,
   "id": "02e851f8",
   "metadata": {},
   "outputs": [
    {
     "name": "stdout",
     "output_type": "stream",
     "text": [
      "['A', 'B', 'C', 'F']\n"
     ]
    }
   ],
   "source": [
    "grades = ['A', 'B', 'C']\n",
    "grades.insert(10, 'F')\n",
    "print(grades)"
   ]
  },
  {
   "cell_type": "code",
   "execution_count": 4,
   "id": "621c6e5c",
   "metadata": {},
   "outputs": [
    {
     "name": "stdout",
     "output_type": "stream",
     "text": [
      "['F', 'A', 'B', 'C']\n"
     ]
    }
   ],
   "source": [
    "grades = ['A', 'B', 'C']\n",
    "grades.insert(0, 'F') # insert at beginning\n",
    "print(grades)"
   ]
  },
  {
   "cell_type": "code",
   "execution_count": 5,
   "id": "f8494ed8",
   "metadata": {},
   "outputs": [
    {
     "name": "stdout",
     "output_type": "stream",
     "text": [
      "['B', 'A', 'C']\n"
     ]
    }
   ],
   "source": [
    "grades = ['A', 'B', 'A', 'C']\n",
    "grades.remove('A')\n",
    "print(grades)"
   ]
  },
  {
   "cell_type": "code",
   "execution_count": 6,
   "id": "a1fe3f9a",
   "metadata": {},
   "outputs": [
    {
     "name": "stdout",
     "output_type": "stream",
     "text": [
      "['A', 'B', 'C', 'D']\n",
      "['B', 'C', 'D']\n",
      "['B', 'C']\n"
     ]
    }
   ],
   "source": [
    "grades = ['A', 'B', 'C', 'D', 'F']\n",
    "grades.pop() # deletes the last element in list and returns it \n",
    "print(grades)\n",
    "grades.pop(0) # deletes the first element in list and returns it\n",
    "print(grades)\n",
    "grades.pop(2) # deletes the second element in list and returns it\n",
    "print(grades)"
   ]
  },
  {
   "cell_type": "code",
   "execution_count": 7,
   "id": "97ca9c3c",
   "metadata": {},
   "outputs": [
    {
     "name": "stdout",
     "output_type": "stream",
     "text": [
      "[]\n"
     ]
    }
   ],
   "source": [
    "grades = ['A', 'B', 'C']\n",
    "grades.clear()\n",
    "print(grades)"
   ]
  },
  {
   "cell_type": "code",
   "execution_count": 8,
   "id": "1b471791",
   "metadata": {},
   "outputs": [
    {
     "name": "stdout",
     "output_type": "stream",
     "text": [
      "1\n"
     ]
    }
   ],
   "source": [
    "grades = ['A', 'C', 'B', 'C']\n",
    "print(grades.index('C'))"
   ]
  },
  {
   "cell_type": "code",
   "execution_count": 9,
   "id": "b78052d7",
   "metadata": {},
   "outputs": [
    {
     "name": "stdout",
     "output_type": "stream",
     "text": [
      "2\n"
     ]
    }
   ],
   "source": [
    "grades = ['A', 'C', 'B', 'C']\n",
    "print(grades.count('C'))"
   ]
  },
  {
   "cell_type": "code",
   "execution_count": 10,
   "id": "f8c284bd",
   "metadata": {},
   "outputs": [
    {
     "name": "stdout",
     "output_type": "stream",
     "text": [
      "['A', 'B', 'C', 'C']\n"
     ]
    }
   ],
   "source": [
    "grades = ['A', 'C', 'B', 'C']\n",
    "grades.sort()\n",
    "print(grades)"
   ]
  },
  {
   "cell_type": "code",
   "execution_count": 11,
   "id": "da745eb9",
   "metadata": {},
   "outputs": [
    {
     "name": "stdout",
     "output_type": "stream",
     "text": [
      "['C', 'B', 'A']\n"
     ]
    }
   ],
   "source": [
    "grades = ['A', 'B', 'C']\n",
    "grades.reverse()\n",
    "print(grades)"
   ]
  }
 ],
 "metadata": {
  "jupytext": {
   "formats": "md:myst",
   "text_representation": {
    "extension": ".md",
    "format_name": "myst"
   }
  },
  "kernelspec": {
   "display_name": "Python 3",
   "language": "python",
   "name": "python3"
  },
  "language_info": {
   "codemirror_mode": {
    "name": "ipython",
    "version": 3
   },
   "file_extension": ".py",
   "mimetype": "text/x-python",
   "name": "python",
   "nbconvert_exporter": "python",
   "pygments_lexer": "ipython3",
   "version": "3.10.9"
  },
  "source_map": [
   11,
   27,
   33,
   37,
   40,
   46,
   52,
   58,
   68,
   74,
   79,
   84,
   90
  ]
 },
 "nbformat": 4,
 "nbformat_minor": 5
}