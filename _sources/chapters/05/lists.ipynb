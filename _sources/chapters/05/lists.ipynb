{
 "cells": [
  {
   "cell_type": "markdown",
   "id": "5a9570f3",
   "metadata": {},
   "source": [
    "- [Video Recording (24 minutes)](https://ub.hosted.panopto.com/Panopto/Pages/Viewer.aspx?id=e65a660b-816f-4485-b190-afa90059a1b1)\n",
    "- [Jupyter Notebook](https://github.com/mkzia/eas503-book-notes/blob/main/05/lists.ipynb)\n",
    "\n",
    "\n",
    "\n",
    "# Lists and Tuples\n",
    "- So far we have covered the following data types: `int`, `float`, `str`, `None` and `bool`. Now we will cover `list`, and `tuple` which are a sequence data types. \n",
    "- Data types in Python can be classified as `mutable` and `immutable`. \n",
    "    - Immutable data types are: `int`, `float`, `bool`, and `tuple`\n",
    "    - Mutable data types are: `list`, `dict`, and `set`\n",
    "    - NOTE: In other programming language, data types such as ints and floats are passed to a function using `pass-by-value` and\n",
    "    data types such as arrays are `pass-by-reference`. This means that changes made to ints and floats inside a function do not change the value outside of the function because they were passed a copy (independent copy). As for arrays, they are passed to a function as a reference, so changes made to the array persist outside the function. \n",
    "    - NOTE: In Python, however, everything is passed to a function using `pass-by-object-reference`.\n",
    "  \n",
    "    :::{warning}\n",
    "    Ref: Python for Programmers by Paul Deitel and Harvey Deitel\n",
    "\n",
    "    In many programming languages there are two ways to pass arguments--pass-by-value\n",
    "    and pass-by-reference (sometimes called call-by-value and call-by-reference, respectively):\n",
    "      - With pass-by-value, the called function receives a copy of the argument's value \n",
    "      and works exclusively with that copy. Changes to the function's copy do not affect the original\n",
    "      variable's value in the caller.\n",
    "      - With pass-by-reference, the called function can access the argument's value in the caller\n",
    "      directly and modify the value if it's mutable. \n",
    "\n",
    "    Python arguments are ALWAYS passed by reference. Some people call this pass-by-object-reference, \n",
    "    because \"everything in Python is an object.\" When a function call provides an argument, Python copies\n",
    "    the argument object's reference--not the object itself--into the corresponding parameter. This\n",
    "    is important for performance. Function often manipulate large objects--frequency copying them would\n",
    "    consume large amount of computer memory and significantly slow down program performance. \n",
    "    :::\n",
    "\n",
    "\n",
    "## List\n",
    "- `list` is a container for storing a sequence of values. The values can be of different type. When the values are all `int`, `float`, or `bool`, you can use special functions. \n",
    "\n",
    "### List Index\n",
    "An index is used to access a particular element in a list. All the elements in the list get a number or index. The element numbering starts at 0, which means that the first element is accessed using 0, the second element is accessed using 1, etc. Since the numbering starts at 0, Python indexing is called 0-indexed. The square brackets on a list with index number lets you access a particular element: my_list[0] will access the first element in the list.\n",
    "\n",
    "\n",
    "### Creating a list\n",
    "\n",
    "```python\n",
    "grades = ['A', 'B', 'C', 'D', 'F']\n",
    "days_in_months = [0, 31, 28, 31, 30, 31, 30, 31, 31, 30, 31, 30, 31]\n",
    "grades_count = [20, 40, 10, 2, 3]\n",
    "```\n",
    "\n",
    "### Accessing a list\n",
    "```python\n",
    "grades[0]\n",
    "grades[1]\n",
    "days_in_months[11]\n",
    "days_in_months[3]\n",
    "days_in_months[0]\n",
    "``` \n",
    "\n",
    "### Slicing a list\n",
    "- List slicing allows you to pick out specific elements from a list. In oder to understand the list slicing, you need to know five things:\n",
    "  1. Start index -- this is the index from which the slice of a list is taken. This index is included.\n",
    "  2. End Index -- this is the index to which the slice is taken up to but not including.\n",
    "  3. Step size -- you can specify a skip factor that allows you to skip certain number of values\n",
    "  4. the colon is used separate start and end index and the step size.\n",
    "  5. Start index, end index, and step size are all optional, but you need at least one\n",
    "- Here are some variations of slicing:\n",
    "  1. start index, but no end index -- my_list[3:] -- will take all elements from index 3 to the end of list, including the last value\n",
    "  2. end index, but no start index -- my_list[:10] -- will take all elements from start of the of the list to index 10, but not include value at index 10\n",
    "  3. both start and end index -- my_list[3:10] -- this will include all elements from index 3 all the way up to index 10, but not include index 10.\n",
    "  4. start and end index and step size -- my_list[3:10:2] -- same as #3 but take every other element.\n",
    "  5. no start index, end index, and step size -- my_list[:10:2] -- take all elements from start of list to index number 10, but not including index number 10; also take every other element.\n",
    "\n",
    "```python\n",
    "grades[2:4]\n",
    "grades[1::2]\n",
    "```\n",
    "\n",
    "### -1 Index\n",
    "- Index -1 means the last index in the list\n",
    "```python\n",
    "grades = ['A', 'B', 'C', 'D', 'F']\n",
    "grades[-1] # returns the last element in the list\n",
    "grades[::-1] # this is taking all the elements in the list but in reverse order; can be used to reverse a string\n",
    "```\n",
    "- `grades[::-1]` -- This starts at the end of the list and ends at position zero by stepping backward because of `-1` index.\n",
    "\n",
    "### Reassigning a list\n",
    "```python\n",
    "grades = ['A', 'B', 'C', 'D', 'F']\n",
    "grades[0] = 'a'\n",
    "grades[1:2] = 'a'\n",
    "grades[2:] = ['d', 'f']\n",
    "```\n",
    "\n",
    "### Deleting from a list\n",
    "- Two ways to delete\n",
    "```python\n",
    "grades = ['A', 'B', 'C', 'D', 'F']\n",
    "del grades[0]\n",
    "del grades[1:3]\n",
    "del grades\n",
    "```\n",
    "\n",
    "```python\n",
    "grades = ['A', 'B', 'C', 'D', 'F']\n",
    "grades.pop() # deletes the last element in list and returns it \n",
    "grades.pop(0) # deletes the first element in list and returns it\n",
    "grades.pop(3) # deletes the fourth element in list and returns it\n",
    "```\n",
    "\n",
    "### The Plus Operator\n",
    "- The `+` operator on a list combines two lists and **RETURNS** a new list\n",
    "```python\n",
    "grades1 = ['A', 'B', 'C']\n",
    "grades2 = ['D', 'F']\n",
    "grades = grades1 + grades2\n",
    "```\n",
    "\n",
    "### The Multiplication Operator \n",
    "- The `*` duplicates a list x number of times and RETURNS a concatenated list\n",
    "```python\n",
    "grades = ['A', 'B', 'C', 'D', 'F']\n",
    "grades *= 3\n",
    "```\n",
    "\n",
    "### Can store different data types\n",
    "- But you will lose some processing functionality, such as `max`, `min`, and `sum`.\n",
    "```python\n",
    "my_list = ['A', 1, 'Spam', True]\n",
    "my_list2 = [['John', [55, 65, 86]], ['Jane', [70, 80, 80]]]\n",
    "```\n",
    "\n",
    "### `in` Operator\n",
    "- The `in` operator returns `True` if an element exists in a list\n",
    "\n",
    "```python\n",
    "my_list = ['A', 1, 'Spam', True]\n",
    "'A' in my_list\n",
    "```\n",
    "\n",
    "\n",
    "### Built-in List Functions\n",
    "- `len()` calculate length of list\n",
    "- `max()` calculate max of list\n",
    "- `min()` calculate min of list\n",
    "- `sum()` calculate sum of list\n",
    "- `sorted()` return a sorted list\n",
    "- `list()` cast to type list -- convert tuple to list or a generator to list\n",
    "- `any()` return `True` if the truthiness of any value is `True` in the list\n",
    "- `all()` return `True` if the truthiness of all the values is `True` in the list"
   ]
  },
  {
   "cell_type": "code",
   "execution_count": 1,
   "id": "1117fc5f",
   "metadata": {},
   "outputs": [
    {
     "data": {
      "text/plain": [
       "13"
      ]
     },
     "execution_count": 1,
     "metadata": {},
     "output_type": "execute_result"
    }
   ],
   "source": [
    "numbers = [3, 4, 8, 9, 5, 6, 7, 0, 1, 2, 10, 11, 12]\n",
    "len(numbers)"
   ]
  },
  {
   "cell_type": "code",
   "execution_count": 2,
   "id": "344a1b7d",
   "metadata": {},
   "outputs": [
    {
     "data": {
      "text/plain": [
       "12"
      ]
     },
     "execution_count": 2,
     "metadata": {},
     "output_type": "execute_result"
    }
   ],
   "source": [
    "numbers = [3, 4, 8, 9, 5, 6, 7, 0, 1, 2, 10, 11, 12]\n",
    "max(numbers)"
   ]
  },
  {
   "cell_type": "code",
   "execution_count": 3,
   "id": "253705ab",
   "metadata": {},
   "outputs": [
    {
     "data": {
      "text/plain": [
       "0"
      ]
     },
     "execution_count": 3,
     "metadata": {},
     "output_type": "execute_result"
    }
   ],
   "source": [
    "numbers = [3, 4, 8, 9, 5, 6, 7, 0, 1, 2, 10, 11, 12]\n",
    "min(numbers)"
   ]
  },
  {
   "cell_type": "code",
   "execution_count": 4,
   "id": "db971c60",
   "metadata": {},
   "outputs": [
    {
     "data": {
      "text/plain": [
       "78"
      ]
     },
     "execution_count": 4,
     "metadata": {},
     "output_type": "execute_result"
    }
   ],
   "source": [
    "numbers = [3, 4, 8, 9, 5, 6, 7, 0, 1, 2, 10, 11, 12]\n",
    "sum(numbers)"
   ]
  },
  {
   "cell_type": "code",
   "execution_count": 5,
   "id": "d4c7b8b2",
   "metadata": {},
   "outputs": [
    {
     "data": {
      "text/plain": [
       "[0, 1, 2, 3, 4, 5, 6, 7, 8, 9, 10, 11, 12]"
      ]
     },
     "execution_count": 5,
     "metadata": {},
     "output_type": "execute_result"
    }
   ],
   "source": [
    "numbers = [3, 4, 8, 9, 5, 6, 7, 0, 1, 2, 10, 11, 12]\n",
    "sorted(numbers)"
   ]
  },
  {
   "cell_type": "code",
   "execution_count": 6,
   "id": "72ae1585",
   "metadata": {},
   "outputs": [
    {
     "data": {
      "text/plain": [
       "[3, 4, 8, 9, 5, 6, 7, 0, 1, 2, 10, 11, 12]"
      ]
     },
     "execution_count": 6,
     "metadata": {},
     "output_type": "execute_result"
    }
   ],
   "source": [
    "numbers = (3, 4, 8, 9, 5, 6, 7, 0, 1, 2, 10, 11, 12)\n",
    "list(numbers)"
   ]
  },
  {
   "cell_type": "code",
   "execution_count": 7,
   "id": "8ba1419c",
   "metadata": {},
   "outputs": [
    {
     "name": "stdout",
     "output_type": "stream",
     "text": [
      "True\n",
      "False\n"
     ]
    }
   ],
   "source": [
    "booleans = [True, False, True]\n",
    "print(any(booleans))\n",
    "print(all(booleans))"
   ]
  },
  {
   "cell_type": "code",
   "execution_count": 8,
   "id": "363ce46f",
   "metadata": {},
   "outputs": [
    {
     "name": "stdout",
     "output_type": "stream",
     "text": [
      "True\n",
      "True\n"
     ]
    }
   ],
   "source": [
    "booleans = [True, True, True]\n",
    "print(any(booleans))\n",
    "print(all(booleans))"
   ]
  },
  {
   "cell_type": "markdown",
   "id": "5464e820",
   "metadata": {},
   "source": [
    "### List unpacking \n",
    "```python\n",
    "a, b = [3,4]\n",
    "```"
   ]
  }
 ],
 "metadata": {
  "jupytext": {
   "formats": "md:myst",
   "text_representation": {
    "extension": ".md",
    "format_name": "myst"
   }
  },
  "kernelspec": {
   "display_name": "Python 3",
   "language": "python",
   "name": "python3"
  },
  "language_info": {
   "codemirror_mode": {
    "name": "ipython",
    "version": 3
   },
   "file_extension": ".py",
   "mimetype": "text/x-python",
   "name": "python",
   "nbconvert_exporter": "python",
   "pygments_lexer": "ipython3",
   "version": "3.10.9"
  },
  "source_map": [
   11,
   165,
   170,
   175,
   180,
   185,
   190,
   195,
   201,
   205
  ]
 },
 "nbformat": 4,
 "nbformat_minor": 5
}