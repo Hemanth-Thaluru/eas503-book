{
 "cells": [
  {
   "cell_type": "markdown",
   "id": "8d5c1a4c",
   "metadata": {},
   "source": [
    "# Tuples\n",
    "- Tuples just like lists except that they are immutable. Once you have created a tuple, you cannot modify it. \n",
    "- Why use them?\n",
    "  - Faster than lists\n",
    "  - Make code safer -- because you cannot change it\n",
    "  - Valid keys in a dictionary\n",
    "\n",
    "\n",
    "## Actually you can modify a tuple"
   ]
  },
  {
   "cell_type": "code",
   "execution_count": 1,
   "id": "635dafe2",
   "metadata": {},
   "outputs": [
    {
     "name": "stdout",
     "output_type": "stream",
     "text": [
      "(1, 2, 3, [4, 5, 6, 7])\n"
     ]
    }
   ],
   "source": [
    "my_tuple = (1, 2, 3, [4, 5, 6])\n",
    "my_tuple[3].append(7)\n",
    "print(my_tuple)"
   ]
  }
 ],
 "metadata": {
  "jupytext": {
   "formats": "md:myst",
   "text_representation": {
    "extension": ".md",
    "format_name": "myst"
   }
  },
  "kernelspec": {
   "display_name": "Python 3",
   "language": "python",
   "name": "python3"
  },
  "language_info": {
   "codemirror_mode": {
    "name": "ipython",
    "version": 3
   },
   "file_extension": ".py",
   "mimetype": "text/x-python",
   "name": "python",
   "nbconvert_exporter": "python",
   "pygments_lexer": "ipython3",
   "version": "3.10.9"
  },
  "source_map": [
   11,
   24
  ]
 },
 "nbformat": 4,
 "nbformat_minor": 5
}