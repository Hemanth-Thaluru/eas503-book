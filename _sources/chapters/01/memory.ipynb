{
 "cells": [
  {
   "cell_type": "markdown",
   "id": "437366e4",
   "metadata": {},
   "source": [
    " \n",
    "# Memory management in Python\n",
    "The memory model for understanding how variables are stored in Python is different from other programming languages. In most programming languages, variables can be thought of as a named storage location in computer memory, a box that we can put a value in. When the variable changes the old value is erased and a new one written in. \n",
    "\n",
    "![mem_model1](./mem_model1.png)\n",
    "\n",
    "In Python, values may end up anywhere in memory, and variables are used to refer to them. Assigning a variable is like putting one of those little yellow sticky notes on the value and saying, \"this is x.\" This memory model is called the sticky-note model. \n",
    "\n",
    "![mem_model2](./mem_model2.png)\n",
    "\n",
    "What happens when we execute the following statement?\n",
    "\n",
    "```\n",
    "<<variable>> = <<expression>>\n",
    "```\n",
    "\n",
    "This is executed as follows:\n",
    "1. Evaluate the expression on the right of the `=` sign to produce a value. This value has a memory address. We can call this an object: a value at a memory address with a type. \n",
    "2. Store the memory address of the value in the variable on the left of the `=`. Create a new variable if that name does not already exist; otherwise, just reuse the existing variable, replacing the memory address that it contains."
   ]
  },
  {
   "cell_type": "code",
   "execution_count": 1,
   "id": "c1c3e0d7",
   "metadata": {},
   "outputs": [
    {
     "name": "stdout",
     "output_type": "stream",
     "text": [
      "40\n",
      "40\n"
     ]
    }
   ],
   "source": [
    "difference = 20\n",
    "double = 2 * difference\n",
    "print(double)\n",
    "difference = 5\n",
    "print(double)"
   ]
  },
  {
   "cell_type": "code",
   "execution_count": 2,
   "id": "27bcadb2",
   "metadata": {},
   "outputs": [
    {
     "name": "stdout",
     "output_type": "stream",
     "text": [
      "3\n",
      "6\n"
     ]
    }
   ],
   "source": [
    "number = 3\n",
    "print(number)\n",
    "number = 2 * number\n",
    "print(number)\n",
    "number = number * number"
   ]
  },
  {
   "cell_type": "markdown",
   "id": "d313a8b2",
   "metadata": {},
   "source": [
    "You can use [Python Tutor](https://pythontutor.com/) to view how the sticky-notes change."
   ]
  }
 ],
 "metadata": {
  "jupytext": {
   "formats": "md:myst",
   "text_representation": {
    "extension": ".md",
    "format_name": "myst"
   }
  },
  "kernelspec": {
   "display_name": "Python 3",
   "language": "python",
   "name": "python3"
  },
  "language_info": {
   "codemirror_mode": {
    "name": "ipython",
    "version": 3
   },
   "file_extension": ".py",
   "mimetype": "text/x-python",
   "name": "python",
   "nbconvert_exporter": "python",
   "pygments_lexer": "ipython3",
   "version": "3.10.9"
  },
  "source_map": [
   11,
   32,
   40,
   46
  ]
 },
 "nbformat": 4,
 "nbformat_minor": 5
}