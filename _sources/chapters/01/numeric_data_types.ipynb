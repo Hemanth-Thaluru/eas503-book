{
 "cells": [
  {
   "cell_type": "markdown",
   "id": "3036e95d",
   "metadata": {},
   "source": [
    "# Numeric Data Types\n",
    "\n",
    "Python support many different data types. We will introduce them as we use them. It is important to know the data types because every value in Python has a data type and the data types of values determine how they behave when they are combined. \n",
    "\n",
    "To determine the data type of a value, you can use the `type()` function."
   ]
  },
  {
   "cell_type": "code",
   "execution_count": 1,
   "id": "a806caba",
   "metadata": {},
   "outputs": [
    {
     "data": {
      "text/plain": [
       "int"
      ]
     },
     "execution_count": 1,
     "metadata": {},
     "output_type": "execute_result"
    }
   ],
   "source": [
    "type(2)"
   ]
  },
  {
   "cell_type": "code",
   "execution_count": 2,
   "id": "ff52ce79",
   "metadata": {},
   "outputs": [
    {
     "data": {
      "text/plain": [
       "float"
      ]
     },
     "execution_count": 2,
     "metadata": {},
     "output_type": "execute_result"
    }
   ],
   "source": [
    "type(3.14)"
   ]
  },
  {
   "cell_type": "markdown",
   "id": "ac5e09dd",
   "metadata": {},
   "source": [
    "## Numeric Data Types\n",
    "Values such as `4` and `-7` have data type `int` (short for `integer`). Values such as `2.5` and `-17.0` have data type float (short for `floating point`). The value `7j` is an example of a `complex` data type. \n",
    "\n",
    "- `int` store whole number, positive or negative, unlimited\n",
    "- `float` store number with decimals, positive or negative\n",
    "\n",
    "With respect to numeric data types, you should know some rules:\n",
    "1. An expression involving two `int` operands produces an `int`:"
   ]
  },
  {
   "cell_type": "code",
   "execution_count": 3,
   "id": "9fc9ec27",
   "metadata": {},
   "outputs": [
    {
     "data": {
      "text/plain": [
       "3"
      ]
     },
     "execution_count": 3,
     "metadata": {},
     "output_type": "execute_result"
    }
   ],
   "source": [
    "1 + 2"
   ]
  },
  {
   "cell_type": "code",
   "execution_count": 4,
   "id": "86082614",
   "metadata": {},
   "outputs": [
    {
     "data": {
      "text/plain": [
       "int"
      ]
     },
     "execution_count": 4,
     "metadata": {},
     "output_type": "execute_result"
    }
   ],
   "source": [
    "type(1 + 2)"
   ]
  },
  {
   "cell_type": "markdown",
   "id": "93712ee9",
   "metadata": {},
   "source": [
    "2. An expression involving two `float` operands produces a `float`:"
   ]
  },
  {
   "cell_type": "code",
   "execution_count": 5,
   "id": "c25b7729",
   "metadata": {},
   "outputs": [
    {
     "data": {
      "text/plain": [
       "3.0"
      ]
     },
     "execution_count": 5,
     "metadata": {},
     "output_type": "execute_result"
    }
   ],
   "source": [
    "1.0 + 2.0"
   ]
  },
  {
   "cell_type": "code",
   "execution_count": 6,
   "id": "3f2b01b1",
   "metadata": {},
   "outputs": [
    {
     "data": {
      "text/plain": [
       "float"
      ]
     },
     "execution_count": 6,
     "metadata": {},
     "output_type": "execute_result"
    }
   ],
   "source": [
    "type(1.0 + 2.0)"
   ]
  },
  {
   "cell_type": "markdown",
   "id": "d5482d98",
   "metadata": {},
   "source": [
    "3. When an expression's operands are an `int` and a `float`, meaning mixed data type, Python automatically converts the `int` to a `float`. That is why the following two expressions return the same data type."
   ]
  },
  {
   "cell_type": "code",
   "execution_count": 7,
   "id": "3bbcea11",
   "metadata": {},
   "outputs": [
    {
     "data": {
      "text/plain": [
       "7.0"
      ]
     },
     "execution_count": 7,
     "metadata": {},
     "output_type": "execute_result"
    }
   ],
   "source": [
    "17.0 - 10"
   ]
  },
  {
   "cell_type": "code",
   "execution_count": 8,
   "id": "050e470d",
   "metadata": {},
   "outputs": [
    {
     "data": {
      "text/plain": [
       "float"
      ]
     },
     "execution_count": 8,
     "metadata": {},
     "output_type": "execute_result"
    }
   ],
   "source": [
    "type(17.0 - 10)"
   ]
  },
  {
   "cell_type": "code",
   "execution_count": 9,
   "id": "01939b71",
   "metadata": {},
   "outputs": [
    {
     "data": {
      "text/plain": [
       "7.0"
      ]
     },
     "execution_count": 9,
     "metadata": {},
     "output_type": "execute_result"
    }
   ],
   "source": [
    "17 - 10.0"
   ]
  },
  {
   "cell_type": "code",
   "execution_count": 10,
   "id": "4c2e90eb",
   "metadata": {},
   "outputs": [
    {
     "data": {
      "text/plain": [
       "float"
      ]
     },
     "execution_count": 10,
     "metadata": {},
     "output_type": "execute_result"
    }
   ],
   "source": [
    "type(17 - 10.0)"
   ]
  },
  {
   "cell_type": "markdown",
   "id": "d5f5d19d",
   "metadata": {},
   "source": [
    "You can leave out `0` after the decimal, e.g., `10.`, but this is considered bad style."
   ]
  },
  {
   "cell_type": "code",
   "execution_count": 11,
   "id": "b7fb0509",
   "metadata": {},
   "outputs": [
    {
     "data": {
      "text/plain": [
       "10.0"
      ]
     },
     "execution_count": 11,
     "metadata": {},
     "output_type": "execute_result"
    }
   ],
   "source": [
    "10."
   ]
  },
  {
   "cell_type": "markdown",
   "id": "ce5e2469",
   "metadata": {},
   "source": [
    "### Difference between `int` and `float`\n",
    "- They are stored differently \n",
    "  - `float` take up a fixed amount of space. `int` take up variable amount of space. \n",
    "  - `int` are stored as `bignum` data type behind the scenes. \n",
    "\n",
    "```python\n",
    "import sys\n",
    "sys.getsizeof(2.0)\n",
    "Out[3]: 24\n",
    "sys.getsizeof(2**30)\n",
    "Out[4]: 32\n",
    "sys.getsizeof(2**130)\n",
    "Out[6]: 44\n",
    "```\n",
    "- Both `int` and `float` can store positive and negative numbers\n",
    "- `type()` -- used to figure out which type of data type it is\n",
    "- `float` can only represent approximations to real numbers because computers have finite amount of memory.\n",
    "  - `2/3` vs `1/3`"
   ]
  },
  {
   "cell_type": "code",
   "execution_count": 12,
   "id": "ad4d59c5",
   "metadata": {},
   "outputs": [
    {
     "data": {
      "text/plain": [
       "0.6666666666666666"
      ]
     },
     "execution_count": 12,
     "metadata": {},
     "output_type": "execute_result"
    }
   ],
   "source": [
    "2 / 3"
   ]
  },
  {
   "cell_type": "code",
   "execution_count": 13,
   "id": "d710184f",
   "metadata": {},
   "outputs": [
    {
     "data": {
      "text/plain": [
       "1.6666666666666667"
      ]
     },
     "execution_count": 13,
     "metadata": {},
     "output_type": "execute_result"
    }
   ],
   "source": [
    "5 / 3"
   ]
  },
  {
   "cell_type": "markdown",
   "id": "2801e052",
   "metadata": {},
   "source": [
    "- If you do not need fraction values, use `int`."
   ]
  }
 ],
 "metadata": {
  "jupytext": {
   "formats": "md:myst",
   "text_representation": {
    "extension": ".md",
    "format_name": "myst"
   }
  },
  "kernelspec": {
   "display_name": "Python 3",
   "language": "python",
   "name": "python3"
  },
  "language_info": {
   "codemirror_mode": {
    "name": "ipython",
    "version": 3
   },
   "file_extension": ".py",
   "mimetype": "text/x-python",
   "name": "python",
   "nbconvert_exporter": "python",
   "pygments_lexer": "ipython3",
   "version": "3.10.9"
  },
  "source_map": [
   11,
   19,
   23,
   25,
   36,
   40,
   42,
   45,
   49,
   51,
   55,
   59,
   63,
   67,
   69,
   72,
   74,
   95,
   99,
   101
  ]
 },
 "nbformat": 4,
 "nbformat_minor": 5
}