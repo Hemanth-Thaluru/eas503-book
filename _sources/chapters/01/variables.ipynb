{
 "cells": [
  {
   "cell_type": "markdown",
   "id": "22ce2c10",
   "metadata": {},
   "source": [
    "# Variables\n",
    "Variables give names to values (number, string, None). They are an identifier that labels a value for future reference. The value of a variable can be changed through assignment. \n",
    "\n",
    "Variables must be assigned values before they can be used in expressions. \n",
    "\n",
    "Variables names **MUST** follow certain rules and it is **BEST** to follow Python guidelines for naming.\n",
    "\n",
    "## Restrictions for variable names:\n",
    "1. Start with a letter or underscore.\n",
    "2. The rest can have letters, underscore, and numbers.\n",
    "3. Symbols cannot be used in name `(@,+)`.\n",
    "4. Do not use Python keywords or reserved words such as `print`, `str`, `int`, `float`.\n",
    " - `int = 3` do `del int` to restore python keyword\n",
    " - `print = 'Yah'` do `del print` to restore Python keyword\n",
    "\n",
    "## Conventions for variable names:\n",
    "1. Use snake_case not camelCase for variable and function names.\n",
    "2. Variables should be lowercase.\n",
    "3. Upper case are used for constants `PI = 3.14`.\n",
    "4. UpperCamelCase for classes.\n",
    "5. `__private__`  double underscore is convention that means you are not supposed access this variable directly. They are by convention like private variables in other languages. \n",
    "\n",
    "Variable names are case sensitive, so `ph` and `pH` are two different names. \n",
    "\n",
    "## Variable Assignment\n",
    "Variables are created by executing assignment statements. \n",
    "\n",
    "```python\n",
    "degrees_celsius = 26.0\n",
    "```\n",
    "\n",
    "This is called an assignment statement; we say that `degrees_celsius` is assigned the value `26.0`. Whenever Python sees a variable in an expression, it substitutes the value to which the variables refers:"
   ]
  },
  {
   "cell_type": "code",
   "execution_count": 1,
   "id": "3e3acb30",
   "metadata": {},
   "outputs": [
    {
     "data": {
      "text/plain": [
       "78.80000000000001"
      ]
     },
     "execution_count": 1,
     "metadata": {},
     "output_type": "execute_result"
    }
   ],
   "source": [
    "degrees_celsius = 26.0\n",
    "9 / 5 * degrees_celsius + 32"
   ]
  },
  {
   "cell_type": "markdown",
   "id": "dba6a217",
   "metadata": {},
   "source": [
    "Variables are called variables because their value can vary as the program executes."
   ]
  },
  {
   "cell_type": "code",
   "execution_count": 2,
   "id": "907acee4",
   "metadata": {},
   "outputs": [
    {
     "data": {
      "text/plain": [
       "59.900000000000006"
      ]
     },
     "execution_count": 2,
     "metadata": {},
     "output_type": "execute_result"
    }
   ],
   "source": [
    "degrees_celsius = 15.5\n",
    "9 / 5 * degrees_celsius + 32"
   ]
  },
  {
   "cell_type": "markdown",
   "id": "89443b08",
   "metadata": {},
   "source": [
    "## Python Keywords\n",
    "\n",
    "```text\n",
    "False      await      else       import     pass\n",
    "None       break      except     in         raise\n",
    "True       class      finally    is         return\n",
    "and        continue   for        lambda     try\n",
    "as         def        from       nonlocal   while\n",
    "assert     del        global     not        with\n",
    "async      elif       if         or         yield\n",
    "```\n",
    "\n",
    "Variable names are case sensitive, so `ph` and `pH` are two different names."
   ]
  }
 ],
 "metadata": {
  "jupytext": {
   "formats": "md:myst",
   "text_representation": {
    "extension": ".md",
    "format_name": "myst"
   }
  },
  "kernelspec": {
   "display_name": "Python 3",
   "language": "python",
   "name": "python3"
  },
  "language_info": {
   "codemirror_mode": {
    "name": "ipython",
    "version": 3
   },
   "file_extension": ".py",
   "mimetype": "text/x-python",
   "name": "python",
   "nbconvert_exporter": "python",
   "pygments_lexer": "ipython3",
   "version": "3.10.9"
  },
  "source_map": [
   11,
   46,
   49,
   53,
   56
  ]
 },
 "nbformat": 4,
 "nbformat_minor": 5
}