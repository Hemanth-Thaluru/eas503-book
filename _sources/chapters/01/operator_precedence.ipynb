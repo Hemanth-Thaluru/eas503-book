{
 "cells": [
  {
   "cell_type": "markdown",
   "id": "b3957896",
   "metadata": {},
   "source": [
    "# Operator Precedence\n",
    "What is `8/2(2+2)`?\n",
    "\n",
    "**PEMDAS**: \"Please Excuse My Dear Aunt Sally\"\n",
    "\n",
    "Precedence:\n",
    "1. P – Parentheses  \n",
    "2. E – Exponents\n",
    "3. MD- Multiplication and Division (left to right); \n",
    "4. AS – Addition  and Subtraction (left to right) \n",
    "\n",
    "Precedence in Python\n",
    "1. Parentheses\n",
    "2. Exponents\n",
    "3. Unary plus, Unary minus\n",
    "4. Multiplication, Division, Integer division, Modulus (Remainder)\n",
    "5. Addition, Subtraction\n",
    "\n",
    "What is wrong with the following expression? `212 - 32 * 5 / 9` \n",
    "\n",
    "It is a good idea to parenthesize complicated expression even when you do not need to clarify your intent and make the code easier to read."
   ]
  }
 ],
 "metadata": {
  "jupytext": {
   "formats": "md:myst",
   "text_representation": {
    "extension": ".md",
    "format_name": "myst"
   }
  },
  "kernelspec": {
   "display_name": "Python 3",
   "language": "python",
   "name": "python3"
  },
  "language_info": {
   "codemirror_mode": {
    "name": "ipython",
    "version": 3
   },
   "file_extension": ".py",
   "mimetype": "text/x-python",
   "name": "python",
   "nbconvert_exporter": "python",
   "pygments_lexer": "ipython3",
   "version": "3.10.9"
  },
  "source_map": [
   11
  ]
 },
 "nbformat": 4,
 "nbformat_minor": 5
}