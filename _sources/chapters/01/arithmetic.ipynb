{
 "cells": [
  {
   "cell_type": "markdown",
   "id": "d0e044ea",
   "metadata": {},
   "source": [
    "# Arithmetic Operators\n",
    "\n",
    "{numref}`arithmetic-operators` lists the arithmetic operators. \n",
    "\n",
    "\n",
    "```{table} Arithmetic operators\n",
    ":name: arithmetic-operators\n",
    "| **Symbol** \t| **Operator**     \t| **Example** \t| **Result** \t|\n",
    "|------------\t|------------------\t|-------------\t|------------\t|\n",
    "| -          \t| Negation         \t| -5          \t| -5         \t|\n",
    "| +          \t| Addition         \t| 11 + 3.1    \t| 14.1       \t|\n",
    "| -          \t| Subtraction      \t| 5 - 19      \t| -14        \t|\n",
    "| *          \t| Multiplication   \t| 8.5 * 4     \t| 34.0       \t|\n",
    "| /          \t| Division         \t| 11 / 2      \t| 5.5        \t|\n",
    "| //         \t| Integer Division \t| 16 // 5     \t| 3          \t|\n",
    "| %          \t| Modulus/Remainder | 31 % 24   \t  | 7        \t  |\n",
    "| **         \t| Exponentiation   \t| 2 ** 5      \t| 32         \t|\n",
    "```\n",
    "\n",
    "\n",
    "Operators that have two operands are called **binary operators**. Negation is a **unary** operator because it applies to one operand. \n",
    "\n",
    "## Negation\n",
    "The negation operator simply negates the value."
   ]
  },
  {
   "cell_type": "code",
   "execution_count": 1,
   "id": "53010a21",
   "metadata": {},
   "outputs": [
    {
     "data": {
      "text/plain": [
       "-5"
      ]
     },
     "execution_count": 1,
     "metadata": {},
     "output_type": "execute_result"
    }
   ],
   "source": [
    "-5"
   ]
  },
  {
   "cell_type": "code",
   "execution_count": 2,
   "id": "0e72e889",
   "metadata": {},
   "outputs": [
    {
     "data": {
      "text/plain": [
       "5"
      ]
     },
     "execution_count": 2,
     "metadata": {},
     "output_type": "execute_result"
    }
   ],
   "source": [
    "--5"
   ]
  },
  {
   "cell_type": "code",
   "execution_count": null,
   "id": "cba55104",
   "metadata": {},
   "outputs": [],
   "source": []
  },
  {
   "cell_type": "markdown",
   "id": "1101a05f",
   "metadata": {},
   "source": [
    "## Addition, Subtraction, Multiplication, and Division\n",
    "- The addition, subtraction, multiplication, and division operators are the familiar mathematical operators. \n",
    "\n",
    ":::{warning}\n",
    "When the operands are of mixed data type, meaning `int` and `float`, the resulting value will be type `float`. \n",
    ":::\n",
    "\n",
    "## Integer Division, Modulo, and Exponentiation \n",
    "To know the integer part of a division result, use the integer division operator. For example, to know how many 24-hour days there are in 53 hours."
   ]
  },
  {
   "cell_type": "code",
   "execution_count": 3,
   "id": "fae14c98",
   "metadata": {},
   "outputs": [
    {
     "data": {
      "text/plain": [
       "2"
      ]
     },
     "execution_count": 3,
     "metadata": {},
     "output_type": "execute_result"
    }
   ],
   "source": [
    "53 // 24"
   ]
  },
  {
   "cell_type": "markdown",
   "id": "6e642676",
   "metadata": {},
   "source": [
    "To find out how many hours are left over, you can use the modulo operator, which gives the remainder of the division:"
   ]
  },
  {
   "cell_type": "code",
   "execution_count": 4,
   "id": "14d502ef",
   "metadata": {},
   "outputs": [
    {
     "data": {
      "text/plain": [
       "5"
      ]
     },
     "execution_count": 4,
     "metadata": {},
     "output_type": "execute_result"
    }
   ],
   "source": [
    "53 % 24 "
   ]
  },
  {
   "cell_type": "markdown",
   "id": "7b423366",
   "metadata": {},
   "source": [
    ":::{warning}\n",
    "Python integer division rounds towards negative infinity. This is different from truncation. Truncation would just drop the digits after the decimal. So, be careful with negative operands! \n",
    ":::"
   ]
  },
  {
   "cell_type": "code",
   "execution_count": 5,
   "id": "5bfbdee0",
   "metadata": {},
   "outputs": [
    {
     "data": {
      "text/plain": [
       "1"
      ]
     },
     "execution_count": 5,
     "metadata": {},
     "output_type": "execute_result"
    }
   ],
   "source": [
    "17 // 10"
   ]
  },
  {
   "cell_type": "code",
   "execution_count": 6,
   "id": "33170f80",
   "metadata": {},
   "outputs": [
    {
     "data": {
      "text/plain": [
       "-2"
      ]
     },
     "execution_count": 6,
     "metadata": {},
     "output_type": "execute_result"
    }
   ],
   "source": [
    "-17 // 10"
   ]
  },
  {
   "cell_type": "markdown",
   "id": "84e8afdc",
   "metadata": {},
   "source": [
    "`-1.7` rounded towards negative infinity is `-2`. \n",
    "\n",
    "For the modulo operator, the sign of the result matches the sign of the divisors (the second operand)"
   ]
  },
  {
   "cell_type": "code",
   "execution_count": 7,
   "id": "9c3f1cef",
   "metadata": {},
   "outputs": [
    {
     "data": {
      "text/plain": [
       "3"
      ]
     },
     "execution_count": 7,
     "metadata": {},
     "output_type": "execute_result"
    }
   ],
   "source": [
    "-17 % 10"
   ]
  },
  {
   "cell_type": "code",
   "execution_count": 8,
   "id": "5b4af836",
   "metadata": {},
   "outputs": [
    {
     "data": {
      "text/plain": [
       "7"
      ]
     },
     "execution_count": 8,
     "metadata": {},
     "output_type": "execute_result"
    }
   ],
   "source": [
    "17 % 10"
   ]
  },
  {
   "cell_type": "markdown",
   "id": "d7ce85b6",
   "metadata": {},
   "source": [
    "The following expression calculates 3 raised to the 6th power:"
   ]
  },
  {
   "cell_type": "code",
   "execution_count": 9,
   "id": "c75c40bb",
   "metadata": {},
   "outputs": [
    {
     "data": {
      "text/plain": [
       "729"
      ]
     },
     "execution_count": 9,
     "metadata": {},
     "output_type": "execute_result"
    }
   ],
   "source": [
    "3 ** 6"
   ]
  }
 ],
 "metadata": {
  "jupytext": {
   "formats": "md:myst",
   "text_representation": {
    "extension": ".md",
    "format_name": "myst"
   }
  },
  "kernelspec": {
   "display_name": "Python 3",
   "language": "python",
   "name": "python3"
  },
  "language_info": {
   "codemirror_mode": {
    "name": "ipython",
    "version": 3
   },
   "file_extension": ".py",
   "mimetype": "text/x-python",
   "name": "python",
   "nbconvert_exporter": "python",
   "pygments_lexer": "ipython3",
   "version": "3.10.9"
  },
  "source_map": [
   11,
   38,
   42,
   46,
   48,
   60,
   62,
   66,
   68,
   74,
   78,
   80,
   85,
   89,
   91,
   95
  ]
 },
 "nbformat": 4,
 "nbformat_minor": 5
}