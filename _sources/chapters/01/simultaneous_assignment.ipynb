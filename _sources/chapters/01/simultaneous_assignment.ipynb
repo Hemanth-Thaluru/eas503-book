{
 "cells": [
  {
   "cell_type": "markdown",
   "id": "58f33af6",
   "metadata": {},
   "source": [
    "# Simultaneous Assignment\n",
    "Simultaneous assignment is useful when you want to swap values. So instead of doing this:\n",
    "\n",
    "\n",
    "```Python\n",
    "  temp = x\n",
    "  x = y\n",
    "  y = temp\n",
    "```\n",
    "\n",
    "you can do this:\n",
    "\n",
    "```python\n",
    "x, y = y, x\n",
    "```"
   ]
  }
 ],
 "metadata": {
  "jupytext": {
   "formats": "md:myst",
   "text_representation": {
    "extension": ".md",
    "format_name": "myst"
   }
  },
  "kernelspec": {
   "display_name": "Python 3",
   "language": "python",
   "name": "python3"
  },
  "language_info": {
   "codemirror_mode": {
    "name": "ipython",
    "version": 3
   },
   "file_extension": ".py",
   "mimetype": "text/x-python",
   "name": "python",
   "nbconvert_exporter": "python",
   "pygments_lexer": "ipython3",
   "version": "3.10.9"
  },
  "source_map": [
   11
  ]
 },
 "nbformat": 4,
 "nbformat_minor": 5
}