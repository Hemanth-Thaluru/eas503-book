{
 "cells": [
  {
   "cell_type": "markdown",
   "id": "1f62d96e",
   "metadata": {},
   "source": [
    "# Numeric and None Data Types\n",
    "\n",
    "Python support many different data types. We will introduce them as we use them. It is important to know the data types because every value in Python has a particular data type and the data types of values determine how they behave when they are combined. \n",
    "\n",
    "To determine the data type of a value, you can use the `type()` function. \n",
    "\n",
    "## Numeric Data Types\n",
    "Values such as `4` and `-7` have data type `int` (short for `integer`). Values such as `2.5` and `-17.0` have data type float (short for `floating point`). The value `7j` is an example of a `complex` data type. \n",
    "\n",
    "- `int` store whole number, positive or negative, unlimited\n",
    "- `float` store number with decimals, positive or negative\n",
    "\n",
    "With respect to numeric data types, you should know some rules:\n",
    "- An expression involving two `int` operands produces an `int`:\n",
    "-"
   ]
  },
  {
   "cell_type": "code",
   "execution_count": 1,
   "id": "7777a716",
   "metadata": {},
   "outputs": [
    {
     "data": {
      "text/plain": [
       "3"
      ]
     },
     "execution_count": 1,
     "metadata": {},
     "output_type": "execute_result"
    }
   ],
   "source": [
    "1 + 2"
   ]
  },
  {
   "cell_type": "code",
   "execution_count": 2,
   "id": "f6ba9879",
   "metadata": {},
   "outputs": [
    {
     "data": {
      "text/plain": [
       "int"
      ]
     },
     "execution_count": 2,
     "metadata": {},
     "output_type": "execute_result"
    }
   ],
   "source": [
    "type(1 + 2)"
   ]
  },
  {
   "cell_type": "markdown",
   "id": "a033dae0",
   "metadata": {},
   "source": [
    "- An expression involving two `float` operands produces a `float`:"
   ]
  },
  {
   "cell_type": "code",
   "execution_count": 3,
   "id": "b50470a5",
   "metadata": {},
   "outputs": [
    {
     "data": {
      "text/plain": [
       "3.0"
      ]
     },
     "execution_count": 3,
     "metadata": {},
     "output_type": "execute_result"
    }
   ],
   "source": [
    "1.0 + 2.0"
   ]
  },
  {
   "cell_type": "code",
   "execution_count": 4,
   "id": "71ac284e",
   "metadata": {},
   "outputs": [
    {
     "data": {
      "text/plain": [
       "float"
      ]
     },
     "execution_count": 4,
     "metadata": {},
     "output_type": "execute_result"
    }
   ],
   "source": [
    "type(1.0 + 2.0)"
   ]
  },
  {
   "cell_type": "markdown",
   "id": "6da89c14",
   "metadata": {},
   "source": [
    "- When an expression's operands are an `int` and a `float`, meaning mixed data type, Python automatically converts the `int` to a `float`. That is why the following two expressions return the same data type."
   ]
  },
  {
   "cell_type": "code",
   "execution_count": 5,
   "id": "8b4b2399",
   "metadata": {},
   "outputs": [
    {
     "data": {
      "text/plain": [
       "7.0"
      ]
     },
     "execution_count": 5,
     "metadata": {},
     "output_type": "execute_result"
    }
   ],
   "source": [
    "17.0 - 10"
   ]
  },
  {
   "cell_type": "code",
   "execution_count": 6,
   "id": "5288f75a",
   "metadata": {},
   "outputs": [
    {
     "data": {
      "text/plain": [
       "float"
      ]
     },
     "execution_count": 6,
     "metadata": {},
     "output_type": "execute_result"
    }
   ],
   "source": [
    "type(17.0 - 10)"
   ]
  },
  {
   "cell_type": "code",
   "execution_count": 7,
   "id": "f3dd11be",
   "metadata": {},
   "outputs": [
    {
     "data": {
      "text/plain": [
       "7.0"
      ]
     },
     "execution_count": 7,
     "metadata": {},
     "output_type": "execute_result"
    }
   ],
   "source": [
    "17 - 10.0"
   ]
  },
  {
   "cell_type": "code",
   "execution_count": 8,
   "id": "c0c345d6",
   "metadata": {},
   "outputs": [
    {
     "data": {
      "text/plain": [
       "float"
      ]
     },
     "execution_count": 8,
     "metadata": {},
     "output_type": "execute_result"
    }
   ],
   "source": [
    "type(17 - 10.0)"
   ]
  },
  {
   "cell_type": "markdown",
   "id": "b1fa8bcd",
   "metadata": {},
   "source": [
    "You can leave out `0` after the decimal, e.g., `10.`, but this is considered bad style."
   ]
  },
  {
   "cell_type": "code",
   "execution_count": 9,
   "id": "f0b00af5",
   "metadata": {},
   "outputs": [
    {
     "data": {
      "text/plain": [
       "10.0"
      ]
     },
     "execution_count": 9,
     "metadata": {},
     "output_type": "execute_result"
    }
   ],
   "source": [
    "10."
   ]
  },
  {
   "cell_type": "markdown",
   "id": "064d15a3",
   "metadata": {},
   "source": [
    "## None Data Type\n",
    "- The numeric data types are: `int`, `float`, and `complex`."
   ]
  }
 ],
 "metadata": {
  "jupytext": {
   "formats": "md:myst",
   "text_representation": {
    "extension": ".md",
    "format_name": "myst"
   }
  },
  "kernelspec": {
   "display_name": "Python 3",
   "language": "python",
   "name": "python3"
  },
  "language_info": {
   "codemirror_mode": {
    "name": "ipython",
    "version": 3
   },
   "file_extension": ".py",
   "mimetype": "text/x-python",
   "name": "python",
   "nbconvert_exporter": "python",
   "pygments_lexer": "ipython3",
   "version": "3.10.9"
  },
  "source_map": [
   11,
   28,
   32,
   34,
   37,
   41,
   43,
   47,
   51,
   55,
   59,
   61,
   64,
   66
  ]
 },
 "nbformat": 4,
 "nbformat_minor": 5
}