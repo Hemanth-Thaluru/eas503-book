{
 "cells": [
  {
   "cell_type": "markdown",
   "id": "2302e554",
   "metadata": {},
   "source": [
    "# Working with Large Numbers\n",
    "\n",
    "What is the output of the following?"
   ]
  },
  {
   "cell_type": "code",
   "execution_count": 1,
   "id": "cc256dcd",
   "metadata": {},
   "outputs": [
    {
     "data": {
      "text/plain": [
       "10000000000.0"
      ]
     },
     "execution_count": 1,
     "metadata": {},
     "output_type": "execute_result"
    }
   ],
   "source": [
    "10000000000 + 0.00000000001"
   ]
  },
  {
   "cell_type": "markdown",
   "id": "9abcc725",
   "metadata": {},
   "source": [
    "The result should have been twenty zeros between the first and last significant digit, but that is too many for the computer to store, so the result is just 10000000000—it is as if the addition never took place. Adding lots of small numbers to a large one can therefore have no effect at all, which is not what a bank wants when it totals up the values of its customers’ savings accounts, for example.\n",
    "\n",
    "If you have to add up floating-point numbers, add them from smallest to largest in order to minimize the error.\n",
    "\n",
    "Better yet, use a specialized library:\n",
    "- [mpmath: a Python library for arbitrary-precision floating-point arithmetic](https://mpmath.org/)"
   ]
  }
 ],
 "metadata": {
  "jupytext": {
   "formats": "md:myst",
   "text_representation": {
    "extension": ".md",
    "format_name": "myst"
   }
  },
  "kernelspec": {
   "display_name": "Python 3",
   "language": "python",
   "name": "python3"
  },
  "language_info": {
   "codemirror_mode": {
    "name": "ipython",
    "version": 3
   },
   "file_extension": ".py",
   "mimetype": "text/x-python",
   "name": "python",
   "nbconvert_exporter": "python",
   "pygments_lexer": "ipython3",
   "version": "3.10.9"
  },
  "source_map": [
   11,
   17,
   19
  ]
 },
 "nbformat": 4,
 "nbformat_minor": 5
}