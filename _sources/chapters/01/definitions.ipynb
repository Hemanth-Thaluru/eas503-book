{
 "cells": [
  {
   "cell_type": "markdown",
   "id": "bada92be",
   "metadata": {},
   "source": [
    "# Definitions\n",
    "\n",
    "Objectives\n",
    "- To learn words that are used to understand programs\n",
    "\n",
    "\n",
    "## Previous Definitions\n",
    "- Hardware: The physical components of a computing system.\n",
    "- Computer: A machine that stores and manipulates information under the control of a changeable program.\n",
    "- Program: A detailed set of instructions for a computer to carry out.\n",
    "- Programming: The process of creating a computer program to solve some problem.\n",
    "- Programming Language: A notation for writing computer programs. Usually used to refer to high-level languages such as Python, Java, C++, etc.\n",
    "- High-level Language: A programming language that is human readable. \n",
    "- Low-level Language: A programming language that has less abstractions than a high-level language, meaning you have to write more explicit instructions. \n",
    "- Machine language: Actual CPU instructions for storing and accessing data from/into memory and executing computations. \n",
    "\n",
    "## New Definitions\n",
    "- Syntax: a set of rules that specify correct arrangement of operators and operands. \n",
    "- Operator: symbols that perform specific mathematical or logical manipulations. \n",
    "- Operand: the value that an operator acts on.\n",
    "- Expression: combination of operators and operands that return a value.\n",
    "- Statement: a single command in a programming language.\n",
    "\n",
    "The **syntax** of a computer language is a set of rules that tells you how you can combine **operators** and **operands** to write legal **expressions**.  \n",
    "\n",
    "## Example"
   ]
  },
  {
   "cell_type": "code",
   "execution_count": 1,
   "id": "53c8a325",
   "metadata": {},
   "outputs": [
    {
     "data": {
      "text/plain": [
       "7"
      ]
     },
     "execution_count": 1,
     "metadata": {},
     "output_type": "execute_result"
    }
   ],
   "source": [
    "3 + 4"
   ]
  },
  {
   "cell_type": "markdown",
   "id": "374bd340",
   "metadata": {},
   "source": [
    "In the above expression:\n",
    "- `3` is an operand.\n",
    "- `+` is an operator.\n",
    "- `4` is an operand.\n",
    "- The whole thing is called an expression. \n",
    "\n",
    "The expression `3 + 4` is **evaluated** to `7`. When an expression is evaluated, it produces a single value.\n",
    "\n",
    "The operand can be a value or another expression."
   ]
  },
  {
   "cell_type": "code",
   "execution_count": 2,
   "id": "08f74a35",
   "metadata": {},
   "outputs": [
    {
     "data": {
      "text/plain": [
       "1.4"
      ]
     },
     "execution_count": 2,
     "metadata": {},
     "output_type": "execute_result"
    }
   ],
   "source": [
    "2 - (3 / 5)"
   ]
  },
  {
   "cell_type": "markdown",
   "id": "20e3584d",
   "metadata": {},
   "source": [
    "In the above expression:\n",
    "- `3` is an operand.\n",
    "- `+` is an operator.\n",
    "- `(3 / 5)` is an operand which itself is an expression, a legal arrangement of operands and an operator.\n",
    "\n",
    "Expressions do not have to involve an operator."
   ]
  },
  {
   "cell_type": "code",
   "execution_count": 3,
   "id": "6d7ba305",
   "metadata": {},
   "outputs": [
    {
     "data": {
      "text/plain": [
       "212"
      ]
     },
     "execution_count": 3,
     "metadata": {},
     "output_type": "execute_result"
    }
   ],
   "source": [
    "212"
   ]
  },
  {
   "cell_type": "markdown",
   "id": "a39359e9",
   "metadata": {},
   "source": [
    "The above line is consider both an expression and a value."
   ]
  }
 ],
 "metadata": {
  "jupytext": {
   "formats": "md:myst",
   "text_representation": {
    "extension": ".md",
    "format_name": "myst"
   }
  },
  "kernelspec": {
   "display_name": "Python 3",
   "language": "python",
   "name": "python3"
  },
  "language_info": {
   "codemirror_mode": {
    "name": "ipython",
    "version": 3
   },
   "file_extension": ".py",
   "mimetype": "text/x-python",
   "name": "python",
   "nbconvert_exporter": "python",
   "pygments_lexer": "ipython3",
   "version": "3.10.9"
  },
  "source_map": [
   11,
   40,
   42,
   54,
   56,
   64,
   66
  ]
 },
 "nbformat": 4,
 "nbformat_minor": 5
}