{
 "cells": [
  {
   "cell_type": "markdown",
   "id": "dd5ad8cc",
   "metadata": {},
   "source": [
    "# Augmented Assignments\n",
    "\n",
    "An augmented assignment combines an assignment statement with an operator to make the statement more concise. An augmented statement is executed as follows:\n",
    "1. Evaluate the expression on the right of the `=` sign to produce a value. \n",
    "2. Apply the operator attached to the `=` sign to the variable on the left of the `=` and the value that was produced. This produces another value. Store the memory \n",
    "address of that value in the variable on the left of the `=`. \n",
    "\n",
    "Table {numref}`augmented` shows all the augmented assignments. \n",
    "\n",
    "```{table} Arithmetic operators\n",
    ":name: augmented\n",
    "| Symbol \t| Example       \t| Result          \t|\n",
    "|--------\t|---------------\t|-----------------\t|\n",
    "| +=     \t| x = 7 x += 2  \t| x refers to 9   \t|\n",
    "| -=     \t| x = 7 x -= 2  \t| x refers 5      \t|\n",
    "| *=     \t| x = 7 x *= 2  \t| x refers to 14  \t|\n",
    "| /=     \t| x = 7 x /= 2  \t| x refers to 3.5 \t|\n",
    "| //=    \t| x = 7 x //= 2 \t| x refers to 3   \t|\n",
    "| %=     \t| x = 7 x %= 2  \t| x refers to 1   \t|\n",
    "| **=    \t| x = 7 x **=2  \t| x refers to 49  \t|\n",
    "```"
   ]
  }
 ],
 "metadata": {
  "jupytext": {
   "formats": "md:myst",
   "text_representation": {
    "extension": ".md",
    "format_name": "myst"
   }
  },
  "kernelspec": {
   "display_name": "Python 3",
   "language": "python",
   "name": "python3"
  },
  "language_info": {
   "codemirror_mode": {
    "name": "ipython",
    "version": 3
   },
   "file_extension": ".py",
   "mimetype": "text/x-python",
   "name": "python",
   "nbconvert_exporter": "python",
   "pygments_lexer": "ipython3",
   "version": "3.10.9"
  },
  "source_map": [
   11
  ]
 },
 "nbformat": 4,
 "nbformat_minor": 5
}