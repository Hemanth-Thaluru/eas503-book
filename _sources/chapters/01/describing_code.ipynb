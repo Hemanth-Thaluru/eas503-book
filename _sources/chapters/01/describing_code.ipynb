{
 "cells": [
  {
   "cell_type": "markdown",
   "id": "e2f734ba",
   "metadata": {},
   "source": [
    "# Describing Code\n",
    "\n",
    "Sometimes it is helpful to write comments describing your code. Any time Python encounters the `#` character it ignores the rest of the line. \n",
    "\n",
    "```python\n",
    "x * (x + 1) # secret formula\n",
    "```\n",
    "\n",
    "You can have multiline comments by surrounding your comments using triple quotes, either single quotes (`'`) or double quotes (`\"`)\n",
    "```python\n",
    "\"\"\"\n",
    "This is a multiline comment. \n",
    "Test 1234\n",
    "\"\"\"\n",
    "x * (x + 1)\n",
    "```\n",
    "\n",
    "```python\n",
    "'''\n",
    "This is a multiline comment. \n",
    "Test 1234\n",
    "'''\n",
    "x * (x + 1)\n",
    "```"
   ]
  }
 ],
 "metadata": {
  "jupytext": {
   "formats": "md:myst",
   "text_representation": {
    "extension": ".md",
    "format_name": "myst"
   }
  },
  "kernelspec": {
   "display_name": "Python 3",
   "language": "python",
   "name": "python3"
  },
  "language_info": {
   "codemirror_mode": {
    "name": "ipython",
    "version": 3
   },
   "file_extension": ".py",
   "mimetype": "text/x-python",
   "name": "python",
   "nbconvert_exporter": "python",
   "pygments_lexer": "ipython3",
   "version": "3.10.9"
  },
  "source_map": [
   11
  ]
 },
 "nbformat": 4,
 "nbformat_minor": 5
}