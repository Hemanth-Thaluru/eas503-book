{
 "cells": [
  {
   "cell_type": "markdown",
   "id": "d5e7787b",
   "metadata": {},
   "source": [
    "# Formatting Code\n",
    "\n",
    "If a single statement becomes too big, you can have it span multiple lines by either surrounded the statement by parenthesis or using the line-continuation character, which is a \"\\\"."
   ]
  },
  {
   "cell_type": "code",
   "execution_count": 1,
   "id": "cac9e215",
   "metadata": {},
   "outputs": [
    {
     "data": {
      "text/plain": [
       "5"
      ]
     },
     "execution_count": 1,
     "metadata": {},
     "output_type": "execute_result"
    }
   ],
   "source": [
    "(2 +\n",
    "3)"
   ]
  },
  {
   "cell_type": "code",
   "execution_count": 2,
   "id": "455568ff",
   "metadata": {},
   "outputs": [
    {
     "data": {
      "text/plain": [
       "5"
      ]
     },
     "execution_count": 2,
     "metadata": {},
     "output_type": "execute_result"
    }
   ],
   "source": [
    "2 + \\\n",
    "3"
   ]
  }
 ],
 "metadata": {
  "jupytext": {
   "formats": "md:myst",
   "text_representation": {
    "extension": ".md",
    "format_name": "myst"
   }
  },
  "kernelspec": {
   "display_name": "Python 3",
   "language": "python",
   "name": "python3"
  },
  "language_info": {
   "codemirror_mode": {
    "name": "ipython",
    "version": 3
   },
   "file_extension": ".py",
   "mimetype": "text/x-python",
   "name": "python",
   "nbconvert_exporter": "python",
   "pygments_lexer": "ipython3",
   "version": "3.10.9"
  },
  "source_map": [
   11,
   17,
   22
  ]
 },
 "nbformat": 4,
 "nbformat_minor": 5
}